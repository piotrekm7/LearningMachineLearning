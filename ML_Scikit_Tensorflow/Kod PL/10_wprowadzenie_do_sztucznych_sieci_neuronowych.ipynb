{
 "cells": [
  {
   "cell_type": "markdown",
   "metadata": {},
   "source": [
    "**Rozdział 10. Wprowadzenie do sztucznych sieci neuronowych **"
   ]
  },
  {
   "cell_type": "markdown",
   "metadata": {},
   "source": [
    "_Notatnik ten zawiera przykładowy kod i rozwiązania ćwiczeń opisane w rozdziale 10._"
   ]
  },
  {
   "cell_type": "markdown",
   "metadata": {},
   "source": [
    "# Konfiguracja"
   ]
  },
  {
   "cell_type": "markdown",
   "metadata": {},
   "source": [
    "Upewnijmy się najpierw, że notatnik ten będzie działał w środowiskach Python 2 i 3, importujmy kilka powszechnie stosowanych modułów, upewnijmy się, że moduł MatplotLib będzie prawidłowo tworzył wykresy, a także przygotujmy funkcję zapisującą rysunki:"
   ]
  },
  {
   "cell_type": "code",
   "execution_count": 1,
   "metadata": {
    "collapsed": true
   },
   "outputs": [],
   "source": [
    "# Obsługa środowisk Python 2 i Python 3\n",
    "from __future__ import division, print_function, unicode_literals\n",
    "\n",
    "# Importowanie popularnych modułów\n",
    "import numpy as np\n",
    "import os\n",
    "\n",
    "# W celu zachowania powtarzalności wyników w kolejnych przebiegach\n",
    "def reset_graph(seed=42):\n",
    "    tf.reset_default_graph()\n",
    "    tf.set_random_seed(seed)\n",
    "    np.random.seed(seed)\n",
    "\n",
    "# Generowanie ładnych wykresów\n",
    "%matplotlib inline\n",
    "import matplotlib\n",
    "import matplotlib.pyplot as plt\n",
    "plt.rcParams['axes.labelsize'] = 14\n",
    "plt.rcParams['xtick.labelsize'] = 12\n",
    "plt.rcParams['ytick.labelsize'] = 12\n",
    "\n",
    "# Lokacja, w której będą zapisywane rysunki\n",
    "PROJECT_ROOT_DIR = \".\"\n",
    "CHAPTER_ID = \"ssn\"\n",
    "\n",
    "def save_fig(fig_id, tight_layout=True):\n",
    "    path = os.path.join(PROJECT_ROOT_DIR, \"rysunki\", CHAPTER_ID, fig_id + \".png\")\n",
    "    print(\"Zapisywanie rysunku\", fig_id)\n",
    "    if tight_layout:\n",
    "        plt.tight_layout()\n",
    "    plt.savefig(path, format='png', dpi=300)"
   ]
  },
  {
   "cell_type": "markdown",
   "metadata": {},
   "source": [
    "# Perceptrony"
   ]
  },
  {
   "cell_type": "code",
   "execution_count": 2,
   "metadata": {
    "collapsed": true
   },
   "outputs": [],
   "source": [
    "import numpy as np\n",
    "from sklearn.datasets import load_iris\n",
    "from sklearn.linear_model import Perceptron\n",
    "\n",
    "iris = load_iris()\n",
    "X = iris.data[:, (2, 3)]  # długość płatka, szerokość płatka\n",
    "y = (iris.target == 0).astype(np.int)\n",
    "\n",
    "per_clf = Perceptron(random_state=42)\n",
    "per_clf.fit(X, y)\n",
    "\n",
    "y_pred = per_clf.predict([[2, 0.5]])"
   ]
  },
  {
   "cell_type": "code",
   "execution_count": 3,
   "metadata": {
    "collapsed": false
   },
   "outputs": [
    {
     "data": {
      "text/plain": [
       "array([1])"
      ]
     },
     "execution_count": 3,
     "metadata": {},
     "output_type": "execute_result"
    }
   ],
   "source": [
    "y_pred"
   ]
  },
  {
   "cell_type": "code",
   "execution_count": 4,
   "metadata": {
    "collapsed": false
   },
   "outputs": [
    {
     "name": "stdout",
     "output_type": "stream",
     "text": [
      "Zapisywanie rysunku wykres_perceptronu_zestaw_iris\n"
     ]
    },
    {
     "data": {
      "image/png": "[encoded data removed]",
      "text/plain": [
       "<matplotlib.figure.Figure at 0x1bb84119080>"
      ]
     },
     "metadata": {},
     "output_type": "display_data"
    }
   ],
   "source": [
    "a = -per_clf.coef_[0][0] / per_clf.coef_[0][1]\n",
    "b = -per_clf.intercept_ / per_clf.coef_[0][1]\n",
    "\n",
    "axes = [0, 5, 0, 2]\n",
    "\n",
    "x0, x1 = np.meshgrid(\n",
    "        np.linspace(axes[0], axes[1], 500).reshape(-1, 1),\n",
    "        np.linspace(axes[2], axes[3], 200).reshape(-1, 1),\n",
    "    )\n",
    "X_new = np.c_[x0.ravel(), x1.ravel()]\n",
    "y_predict = per_clf.predict(X_new)\n",
    "zz = y_predict.reshape(x0.shape)\n",
    "\n",
    "plt.figure(figsize=(10, 4))\n",
    "plt.plot(X[y==0, 0], X[y==0, 1], \"bs\", label=\"Pozostałe\")\n",
    "plt.plot(X[y==1, 0], X[y==1, 1], \"yo\", label=\"Iris-Setosa\")\n",
    "\n",
    "plt.plot([axes[0], axes[1]], [a * axes[0] + b, a * axes[1] + b], \"k-\", linewidth=3)\n",
    "from matplotlib.colors import ListedColormap\n",
    "custom_cmap = ListedColormap(['#9898ff', '#fafab0'])\n",
    "\n",
    "plt.contourf(x0, x1, zz, cmap=custom_cmap, linewidth=5)\n",
    "plt.xlabel(\"Długość płatka\", fontsize=14)\n",
    "plt.ylabel(\"Szerokość płatka\", fontsize=14)\n",
    "plt.legend(loc=\"lower right\", fontsize=14)\n",
    "plt.axis(axes)\n",
    "\n",
    "save_fig(\"wykres_perceptronu_zestaw_iris\")\n",
    "plt.show()"
   ]
  },
  {
   "cell_type": "markdown",
   "metadata": {},
   "source": [
    "# Funkcje aktywacji"
   ]
  },
  {
   "cell_type": "code",
   "execution_count": 5,
   "metadata": {
    "collapsed": true
   },
   "outputs": [],
   "source": [
    "def logit(z):\n",
    "    return 1 / (1 + np.exp(-z))\n",
    "\n",
    "def relu(z):\n",
    "    return np.maximum(0, z)\n",
    "\n",
    "def derivative(f, z, eps=0.000001):\n",
    "    return (f(z + eps) - f(z - eps))/(2 * eps)"
   ]
  },
  {
   "cell_type": "code",
   "execution_count": 6,
   "metadata": {
    "collapsed": false
   },
   "outputs": [
    {
     "name": "stdout",
     "output_type": "stream",
     "text": [
      "Zapisywanie rysunku wykres_funkcji_aktywacji\n"
     ]
    },
    {
     "data": {
      "image/png": "[encoded data removed]",
      "text/plain": [
       "<matplotlib.figure.Figure at 0x1bb89044e48>"
      ]
     },
     "metadata": {},
     "output_type": "display_data"
    }
   ],
   "source": [
    "z = np.linspace(-5, 5, 200)\n",
    "\n",
    "plt.figure(figsize=(11,4))\n",
    "\n",
    "plt.subplot(121)\n",
    "plt.plot(z, np.sign(z), \"r-\", linewidth=2, label=\"Skokowa\")\n",
    "plt.plot(z, logit(z), \"g--\", linewidth=2, label=\"Logistyczna\")\n",
    "plt.plot(z, np.tanh(z), \"b-\", linewidth=2, label=\"Tanh\")\n",
    "plt.plot(z, relu(z), \"m-.\", linewidth=2, label=\"ReLU\")\n",
    "plt.grid(True)\n",
    "plt.legend(loc=\"center right\", fontsize=14)\n",
    "plt.title(\"Funkcje aktywacji\", fontsize=14)\n",
    "plt.axis([-5, 5, -1.2, 1.2])\n",
    "\n",
    "plt.subplot(122)\n",
    "plt.plot(z, derivative(np.sign, z), \"r-\", linewidth=2, label=\"Skokowa\")\n",
    "plt.plot(0, 0, \"ro\", markersize=5)\n",
    "plt.plot(0, 0, \"rx\", markersize=10)\n",
    "plt.plot(z, derivative(logit, z), \"g--\", linewidth=2, label=\"Logistyczna\")\n",
    "plt.plot(z, derivative(np.tanh, z), \"b-\", linewidth=2, label=\"Tanh\")\n",
    "plt.plot(z, derivative(relu, z), \"m-.\", linewidth=2, label=\"ReLU\")\n",
    "plt.grid(True)\n",
    "#plt.legend(loc=\"center right\", fontsize=14)\n",
    "plt.title(\"Pochodne\", fontsize=14)\n",
    "plt.axis([-5, 5, -0.2, 1.2])\n",
    "\n",
    "save_fig(\"wykres_funkcji_aktywacji\")\n",
    "plt.show()"
   ]
  },
  {
   "cell_type": "code",
   "execution_count": 7,
   "metadata": {
    "collapsed": true
   },
   "outputs": [],
   "source": [
    "def heaviside(z):\n",
    "    return (z >= 0).astype(z.dtype)\n",
    "\n",
    "def sigmoid(z):\n",
    "    return 1/(1+np.exp(-z))\n",
    "\n",
    "def mlp_xor(x1, x2, activation=heaviside):\n",
    "    return activation(-activation(x1 + x2 - 1.5) + activation(x1 + x2 - 0.5) - 0.5)"
   ]
  },
  {
   "cell_type": "code",
   "execution_count": 8,
   "metadata": {
    "collapsed": false
   },
   "outputs": [
    {
     "data": {
      "image/png": "[encoded data removed]",
      "text/plain": [
       "<matplotlib.figure.Figure at 0x1bb8834d630>"
      ]
     },
     "metadata": {},
     "output_type": "display_data"
    }
   ],
   "source": [
    "x1s = np.linspace(-0.2, 1.2, 100)\n",
    "x2s = np.linspace(-0.2, 1.2, 100)\n",
    "x1, x2 = np.meshgrid(x1s, x2s)\n",
    "\n",
    "z1 = mlp_xor(x1, x2, activation=heaviside)\n",
    "z2 = mlp_xor(x1, x2, activation=sigmoid)\n",
    "\n",
    "plt.figure(figsize=(10,4))\n",
    "\n",
    "plt.subplot(121)\n",
    "plt.contourf(x1, x2, z1)\n",
    "plt.plot([0, 1], [0, 1], \"gs\", markersize=20)\n",
    "plt.plot([0, 1], [1, 0], \"y^\", markersize=20)\n",
    "plt.title(\"Funkcja aktywacji: Heaviside`a\", fontsize=14)\n",
    "plt.grid(True)\n",
    "\n",
    "plt.subplot(122)\n",
    "plt.contourf(x1, x2, z2)\n",
    "plt.plot([0, 1], [0, 1], \"gs\", markersize=20)\n",
    "plt.plot([0, 1], [1, 0], \"y^\", markersize=20)\n",
    "plt.title(\"Funkcja aktywacji: sigmoidalna\", fontsize=14)\n",
    "plt.grid(True)"
   ]
  },
  {
   "cell_type": "markdown",
   "metadata": {},
   "source": [
    "# Jednokierunkowa sieć neuronowa i zestaw MNIST"
   ]
  },
  {
   "cell_type": "markdown",
   "metadata": {},
   "source": [
    "## Korzystanie z klasy tf.learn"
   ]
  },
  {
   "cell_type": "code",
   "execution_count": 9,
   "metadata": {
    "collapsed": false
   },
   "outputs": [
    {
     "name": "stdout",
     "output_type": "stream",
     "text": [
      "Successfully downloaded train-images-idx3-ubyte.gz 9912422 bytes.\n",
      "Extracting /tmp/dane/train-images-idx3-ubyte.gz\n",
      "Successfully downloaded train-labels-idx1-ubyte.gz 28881 bytes.\n",
      "Extracting /tmp/dane/train-labels-idx1-ubyte.gz\n",
      "Successfully downloaded t10k-images-idx3-ubyte.gz 1648877 bytes.\n",
      "Extracting /tmp/dane/t10k-images-idx3-ubyte.gz\n",
      "Successfully downloaded t10k-labels-idx1-ubyte.gz 4542 bytes.\n",
      "Extracting /tmp/dane/t10k-labels-idx1-ubyte.gz\n"
     ]
    }
   ],
   "source": [
    "from tensorflow.examples.tutorials.mnist import input_data\n",
    "\n",
    "mnist = input_data.read_data_sets(\"/tmp/dane/\")"
   ]
  },
  {
   "cell_type": "code",
   "execution_count": 10,
   "metadata": {
    "collapsed": true
   },
   "outputs": [],
   "source": [
    "X_train = mnist.train.images\n",
    "X_test = mnist.test.images\n",
    "y_train = mnist.train.labels.astype(\"int\")\n",
    "y_test = mnist.test.labels.astype(\"int\")"
   ]
  },
  {
   "cell_type": "code",
   "execution_count": 11,
   "metadata": {
    "collapsed": false
   },
   "outputs": [
    {
     "name": "stdout",
     "output_type": "stream",
     "text": [
      "WARNING:tensorflow:Using temporary folder as model directory: C:\\Users\\KRZYSZ~1\\AppData\\Local\\Temp\\tmpnvb46to8\n",
      "INFO:tensorflow:Using config: {'_task_type': None, '_task_id': 0, '_cluster_spec': <tensorflow.python.training.server_lib.ClusterSpec object at 0x000001BB8CD43FD0>, '_master': '', '_num_ps_replicas': 0, '_num_worker_replicas': 0, '_environment': 'local', '_is_chief': True, '_evaluation_master': '', '_tf_config': gpu_options {\n",
      "  per_process_gpu_memory_fraction: 1\n",
      "}\n",
      ", '_tf_random_seed': 42, '_save_summary_steps': 100, '_save_checkpoints_secs': 600, '_session_config': None, '_save_checkpoints_steps': None, '_keep_checkpoint_max': 5, '_keep_checkpoint_every_n_hours': 10000, '_model_dir': 'C:\\\\Users\\\\KRZYSZ~1\\\\AppData\\\\Local\\\\Temp\\\\tmpnvb46to8'}\n",
      "WARNING:tensorflow:From C:\\Users\\Krzysztof\\Anaconda3\\lib\\site-packages\\tensorflow\\contrib\\learn\\python\\learn\\estimators\\head.py:625: scalar_summary (from tensorflow.python.ops.logging_ops) is deprecated and will be removed after 2016-11-30.\n",
      "Instructions for updating:\n",
      "Please switch to tf.summary.scalar. Note that tf.summary.scalar uses the node name instead of the tag. This means that TensorFlow will automatically de-duplicate summary names based on the scope they are created in. Also, passing a tensor or list of tags to a scalar summary op is no longer supported.\n",
      "INFO:tensorflow:Create CheckpointSaverHook.\n",
      "INFO:tensorflow:Saving checkpoints for 1 into C:\\Users\\KRZYSZ~1\\AppData\\Local\\Temp\\tmpnvb46to8\\model.ckpt.\n",
      "INFO:tensorflow:loss = 2.36404, step = 1\n",
      "INFO:tensorflow:global_step/sec: 299.467\n",
      "INFO:tensorflow:loss = 0.311432, step = 101 (0.334 sec)\n",
      "INFO:tensorflow:global_step/sec: 304.079\n",
      "INFO:tensorflow:loss = 0.265409, step = 201 (0.329 sec)\n",
      "INFO:tensorflow:global_step/sec: 283.556\n",
      "INFO:tensorflow:loss = 0.408733, step = 301 (0.359 sec)\n",
      "INFO:tensorflow:global_step/sec: 279.93\n",
      "INFO:tensorflow:loss = 0.244357, step = 401 (0.357 sec)\n",
      "INFO:tensorflow:global_step/sec: 258.895\n",
      "INFO:tensorflow:loss = 0.238858, step = 501 (0.386 sec)\n",
      "INFO:tensorflow:global_step/sec: 275.637\n",
      "INFO:tensorflow:loss = 0.091827, step = 601 (0.362 sec)\n",
      "INFO:tensorflow:global_step/sec: 296.731\n",
      "INFO:tensorflow:loss = 0.123374, step = 701 (0.332 sec)\n",
      "INFO:tensorflow:global_step/sec: 259.003\n",
      "INFO:tensorflow:loss = 0.196473, step = 801 (0.392 sec)\n",
      "INFO:tensorflow:global_step/sec: 243.147\n",
      "INFO:tensorflow:loss = 0.0932024, step = 901 (0.411 sec)\n",
      "INFO:tensorflow:global_step/sec: 245.536\n",
      "INFO:tensorflow:loss = 0.196834, step = 1001 (0.406 sec)\n",
      "INFO:tensorflow:global_step/sec: 300.71\n",
      "INFO:tensorflow:loss = 0.194408, step = 1101 (0.328 sec)\n",
      "INFO:tensorflow:global_step/sec: 297.341\n",
      "INFO:tensorflow:loss = 0.152048, step = 1201 (0.339 sec)\n",
      "INFO:tensorflow:global_step/sec: 305.64\n",
      "INFO:tensorflow:loss = 0.149761, step = 1301 (0.327 sec)\n",
      "INFO:tensorflow:global_step/sec: 312.394\n",
      "INFO:tensorflow:loss = 0.0647763, step = 1401 (0.333 sec)\n",
      "INFO:tensorflow:global_step/sec: 287.907\n",
      "INFO:tensorflow:loss = 0.0727728, step = 1501 (0.349 sec)\n",
      "INFO:tensorflow:global_step/sec: 283.357\n",
      "INFO:tensorflow:loss = 0.120371, step = 1601 (0.336 sec)\n",
      "INFO:tensorflow:global_step/sec: 255.133\n",
      "INFO:tensorflow:loss = 0.0426907, step = 1701 (0.400 sec)\n",
      "INFO:tensorflow:global_step/sec: 269.894\n",
      "INFO:tensorflow:loss = 0.148324, step = 1801 (0.362 sec)\n",
      "INFO:tensorflow:global_step/sec: 299.831\n",
      "INFO:tensorflow:loss = 0.073107, step = 1901 (0.334 sec)\n",
      "INFO:tensorflow:global_step/sec: 288.299\n",
      "INFO:tensorflow:loss = 0.0638611, step = 2001 (0.352 sec)\n",
      "INFO:tensorflow:global_step/sec: 240.803\n",
      "INFO:tensorflow:loss = 0.0233887, step = 2101 (0.415 sec)\n",
      "INFO:tensorflow:global_step/sec: 258.814\n",
      "INFO:tensorflow:loss = 0.0329285, step = 2201 (0.381 sec)\n",
      "INFO:tensorflow:global_step/sec: 313.564\n",
      "INFO:tensorflow:loss = 0.0519914, step = 2301 (0.335 sec)\n",
      "INFO:tensorflow:global_step/sec: 297.957\n",
      "INFO:tensorflow:loss = 0.0577268, step = 2401 (0.320 sec)\n",
      "INFO:tensorflow:global_step/sec: 241.663\n",
      "INFO:tensorflow:loss = 0.084227, step = 2501 (0.420 sec)\n",
      "INFO:tensorflow:global_step/sec: 276.373\n",
      "INFO:tensorflow:loss = 0.0315869, step = 2601 (0.356 sec)\n",
      "INFO:tensorflow:global_step/sec: 307.86\n",
      "INFO:tensorflow:loss = 0.0121763, step = 2701 (0.325 sec)\n",
      "INFO:tensorflow:global_step/sec: 248.958\n",
      "INFO:tensorflow:loss = 0.0630663, step = 2801 (0.408 sec)\n",
      "INFO:tensorflow:global_step/sec: 263.535\n",
      "INFO:tensorflow:loss = 0.0913481, step = 2901 (0.378 sec)\n",
      "INFO:tensorflow:global_step/sec: 303.213\n",
      "INFO:tensorflow:loss = 0.0138151, step = 3001 (0.325 sec)\n",
      "INFO:tensorflow:global_step/sec: 243.565\n",
      "INFO:tensorflow:loss = 0.0337465, step = 3101 (0.419 sec)\n",
      "INFO:tensorflow:global_step/sec: 260.922\n",
      "INFO:tensorflow:loss = 0.0132512, step = 3201 (0.385 sec)\n",
      "INFO:tensorflow:global_step/sec: 239.648\n",
      "INFO:tensorflow:loss = 0.0321816, step = 3301 (0.413 sec)\n",
      "INFO:tensorflow:global_step/sec: 214.447\n",
      "INFO:tensorflow:loss = 0.143895, step = 3401 (0.467 sec)\n",
      "INFO:tensorflow:global_step/sec: 213.079\n",
      "INFO:tensorflow:loss = 0.0897496, step = 3501 (0.468 sec)\n",
      "INFO:tensorflow:global_step/sec: 249.833\n",
      "INFO:tensorflow:loss = 0.157295, step = 3601 (0.399 sec)\n",
      "INFO:tensorflow:global_step/sec: 249.21\n",
      "INFO:tensorflow:loss = 0.03669, step = 3701 (0.399 sec)\n",
      "INFO:tensorflow:global_step/sec: 287.631\n",
      "INFO:tensorflow:loss = 0.0122543, step = 3801 (0.345 sec)\n",
      "INFO:tensorflow:global_step/sec: 292.749\n",
      "INFO:tensorflow:loss = 0.152421, step = 3901 (0.342 sec)\n",
      "INFO:tensorflow:global_step/sec: 288.721\n",
      "INFO:tensorflow:loss = 0.107787, step = 4001 (0.346 sec)\n",
      "INFO:tensorflow:global_step/sec: 291.347\n",
      "INFO:tensorflow:loss = 0.0485792, step = 4101 (0.343 sec)\n",
      "INFO:tensorflow:global_step/sec: 281.689\n",
      "INFO:tensorflow:loss = 0.0590532, step = 4201 (0.355 sec)\n",
      "INFO:tensorflow:global_step/sec: 285.971\n",
      "INFO:tensorflow:loss = 0.158572, step = 4301 (0.355 sec)\n",
      "INFO:tensorflow:global_step/sec: 279.562\n",
      "INFO:tensorflow:loss = 0.114563, step = 4401 (0.353 sec)\n",
      "INFO:tensorflow:global_step/sec: 308.713\n",
      "INFO:tensorflow:loss = 0.0187132, step = 4501 (0.324 sec)\n",
      "INFO:tensorflow:global_step/sec: 299.418\n",
      "INFO:tensorflow:loss = 0.0182185, step = 4601 (0.340 sec)\n",
      "INFO:tensorflow:global_step/sec: 305.521\n",
      "INFO:tensorflow:loss = 0.00904818, step = 4701 (0.337 sec)\n",
      "INFO:tensorflow:global_step/sec: 301.625\n",
      "INFO:tensorflow:loss = 0.0186206, step = 4801 (0.332 sec)\n",
      "INFO:tensorflow:global_step/sec: 260.851\n",
      "INFO:tensorflow:loss = 0.0834735, step = 4901 (0.373 sec)\n",
      "INFO:tensorflow:global_step/sec: 245.536\n",
      "INFO:tensorflow:loss = 0.0451745, step = 5001 (0.408 sec)\n",
      "INFO:tensorflow:global_step/sec: 323.408\n",
      "INFO:tensorflow:loss = 0.00802126, step = 5101 (0.319 sec)\n",
      "INFO:tensorflow:global_step/sec: 302.794\n",
      "INFO:tensorflow:loss = 0.0236921, step = 5201 (0.315 sec)\n",
      "INFO:tensorflow:global_step/sec: 254.77\n",
      "INFO:tensorflow:loss = 0.040991, step = 5301 (0.399 sec)\n",
      "INFO:tensorflow:global_step/sec: 246.749\n",
      "INFO:tensorflow:loss = 0.0607277, step = 5401 (0.404 sec)\n",
      "INFO:tensorflow:global_step/sec: 305.204\n",
      "INFO:tensorflow:loss = 0.0441553, step = 5501 (0.323 sec)\n",
      "INFO:tensorflow:global_step/sec: 305.559\n",
      "INFO:tensorflow:loss = 0.0769239, step = 5601 (0.333 sec)\n",
      "INFO:tensorflow:global_step/sec: 241.969\n",
      "INFO:tensorflow:loss = 0.0198653, step = 5701 (0.412 sec)\n",
      "INFO:tensorflow:global_step/sec: 244.335\n",
      "INFO:tensorflow:loss = 0.00881232, step = 5801 (0.410 sec)\n",
      "INFO:tensorflow:global_step/sec: 302.318\n",
      "INFO:tensorflow:loss = 0.110585, step = 5901 (0.330 sec)\n",
      "INFO:tensorflow:global_step/sec: 296.603\n",
      "INFO:tensorflow:loss = 0.0857567, step = 6001 (0.334 sec)\n",
      "INFO:tensorflow:global_step/sec: 306.879\n",
      "INFO:tensorflow:loss = 0.0120617, step = 6101 (0.343 sec)\n",
      "INFO:tensorflow:global_step/sec: 246.186\n",
      "INFO:tensorflow:loss = 0.022921, step = 6201 (0.391 sec)\n",
      "INFO:tensorflow:global_step/sec: 305.381\n",
      "INFO:tensorflow:loss = 0.0707142, step = 6301 (0.323 sec)\n",
      "INFO:tensorflow:global_step/sec: 296.102\n",
      "INFO:tensorflow:loss = 0.0212568, step = 6401 (0.338 sec)\n",
      "INFO:tensorflow:global_step/sec: 279.686\n",
      "INFO:tensorflow:loss = 0.00796753, step = 6501 (0.363 sec)\n",
      "INFO:tensorflow:global_step/sec: 300.839\n",
      "INFO:tensorflow:loss = 0.0281497, step = 6601 (0.327 sec)\n",
      "INFO:tensorflow:global_step/sec: 313.243\n",
      "INFO:tensorflow:loss = 0.0216029, step = 6701 (0.335 sec)\n",
      "INFO:tensorflow:global_step/sec: 297.694\n",
      "INFO:tensorflow:loss = 0.0129809, step = 6801 (0.320 sec)\n",
      "INFO:tensorflow:global_step/sec: 294.873\n",
      "INFO:tensorflow:loss = 0.0126797, step = 6901 (0.340 sec)\n",
      "INFO:tensorflow:global_step/sec: 300.549\n",
      "INFO:tensorflow:loss = 0.0166421, step = 7001 (0.338 sec)\n",
      "INFO:tensorflow:global_step/sec: 315.836\n",
      "INFO:tensorflow:loss = 0.00448675, step = 7101 (0.326 sec)\n",
      "INFO:tensorflow:global_step/sec: 290.668\n",
      "INFO:tensorflow:loss = 0.0508161, step = 7201 (0.328 sec)\n",
      "INFO:tensorflow:global_step/sec: 257.292\n",
      "INFO:tensorflow:loss = 0.00550252, step = 7301 (0.398 sec)\n",
      "INFO:tensorflow:global_step/sec: 289.926\n",
      "INFO:tensorflow:loss = 0.0154965, step = 7401 (0.336 sec)\n",
      "INFO:tensorflow:global_step/sec: 289.143\n",
      "INFO:tensorflow:loss = 0.004822, step = 7501 (0.351 sec)\n",
      "INFO:tensorflow:global_step/sec: 313.358\n",
      "INFO:tensorflow:loss = 0.0131625, step = 7601 (0.330 sec)\n",
      "INFO:tensorflow:global_step/sec: 263.557\n",
      "INFO:tensorflow:loss = 0.00680886, step = 7701 (0.370 sec)\n",
      "INFO:tensorflow:global_step/sec: 287.368\n",
      "INFO:tensorflow:loss = 0.00376618, step = 7801 (0.358 sec)\n",
      "INFO:tensorflow:global_step/sec: 312.563\n",
      "INFO:tensorflow:loss = 0.0131479, step = 7901 (0.320 sec)\n",
      "INFO:tensorflow:global_step/sec: 278.81\n",
      "INFO:tensorflow:loss = 0.00631671, step = 8001 (0.349 sec)\n",
      "INFO:tensorflow:global_step/sec: 285.524\n",
      "INFO:tensorflow:loss = 0.0245089, step = 8101 (0.350 sec)\n",
      "INFO:tensorflow:global_step/sec: 280.711\n",
      "INFO:tensorflow:loss = 0.0208505, step = 8201 (0.355 sec)\n",
      "INFO:tensorflow:global_step/sec: 269.362\n",
      "INFO:tensorflow:loss = 0.04197, step = 8301 (0.372 sec)\n",
      "INFO:tensorflow:global_step/sec: 303.157\n",
      "INFO:tensorflow:loss = 0.0136715, step = 8401 (0.324 sec)\n",
      "INFO:tensorflow:global_step/sec: 279.827\n",
      "INFO:tensorflow:loss = 0.0110502, step = 8501 (0.357 sec)\n",
      "INFO:tensorflow:global_step/sec: 285.2\n",
      "INFO:tensorflow:loss = 0.00604934, step = 8601 (0.357 sec)\n",
      "INFO:tensorflow:global_step/sec: 278.611\n",
      "INFO:tensorflow:loss = 0.0065747, step = 8701 (0.369 sec)\n",
      "INFO:tensorflow:global_step/sec: 267.466\n",
      "INFO:tensorflow:loss = 0.00738027, step = 8801 (0.366 sec)\n",
      "INFO:tensorflow:global_step/sec: 256.898\n",
      "INFO:tensorflow:loss = 0.00280681, step = 8901 (0.386 sec)\n",
      "INFO:tensorflow:global_step/sec: 295.66\n",
      "INFO:tensorflow:loss = 0.015022, step = 9001 (0.338 sec)\n",
      "INFO:tensorflow:global_step/sec: 272.298\n",
      "INFO:tensorflow:loss = 0.00840854, step = 9101 (0.367 sec)\n",
      "INFO:tensorflow:global_step/sec: 249.209\n",
      "INFO:tensorflow:loss = 0.00372718, step = 9201 (0.401 sec)\n",
      "INFO:tensorflow:global_step/sec: 289.664\n",
      "INFO:tensorflow:loss = 0.0134235, step = 9301 (0.345 sec)\n",
      "INFO:tensorflow:global_step/sec: 296.538\n",
      "INFO:tensorflow:loss = 0.034022, step = 9401 (0.338 sec)\n",
      "INFO:tensorflow:global_step/sec: 293.059\n",
      "INFO:tensorflow:loss = 0.00841827, step = 9501 (0.340 sec)\n",
      "INFO:tensorflow:global_step/sec: 287.165\n",
      "INFO:tensorflow:loss = 0.015819, step = 9601 (0.348 sec)\n",
      "INFO:tensorflow:global_step/sec: 292.202\n",
      "INFO:tensorflow:loss = 0.0086599, step = 9701 (0.343 sec)\n",
      "INFO:tensorflow:global_step/sec: 265.78\n",
      "INFO:tensorflow:loss = 0.00439482, step = 9801 (0.375 sec)\n",
      "INFO:tensorflow:global_step/sec: 281.502\n",
      "INFO:tensorflow:loss = 0.0174038, step = 9901 (0.356 sec)\n",
      "INFO:tensorflow:global_step/sec: 282.297\n",
      "INFO:tensorflow:loss = 0.0208312, step = 10001 (0.354 sec)\n",
      "INFO:tensorflow:global_step/sec: 221.091\n",
      "INFO:tensorflow:loss = 0.00381713, step = 10101 (0.451 sec)\n",
      "INFO:tensorflow:global_step/sec: 234.585\n",
      "INFO:tensorflow:loss = 0.00676587, step = 10201 (0.426 sec)\n",
      "INFO:tensorflow:global_step/sec: 270.09\n",
      "INFO:tensorflow:loss = 0.00574352, step = 10301 (0.370 sec)\n",
      "INFO:tensorflow:global_step/sec: 270.822\n",
      "INFO:tensorflow:loss = 0.00939435, step = 10401 (0.369 sec)\n",
      "INFO:tensorflow:global_step/sec: 273.041\n",
      "INFO:tensorflow:loss = 0.00275532, step = 10501 (0.366 sec)\n",
      "INFO:tensorflow:global_step/sec: 280.711\n",
      "INFO:tensorflow:loss = 0.00952128, step = 10601 (0.356 sec)\n",
      "INFO:tensorflow:global_step/sec: 241.969\n",
      "INFO:tensorflow:loss = 0.0303758, step = 10701 (0.413 sec)\n",
      "INFO:tensorflow:global_step/sec: 244.336\n",
      "INFO:tensorflow:loss = 0.0115768, step = 10801 (0.409 sec)\n",
      "INFO:tensorflow:global_step/sec: 272.298\n",
      "INFO:tensorflow:loss = 0.00465772, step = 10901 (0.367 sec)\n",
      "INFO:tensorflow:global_step/sec: 253.637\n",
      "INFO:tensorflow:loss = 0.0293584, step = 11001 (0.394 sec)\n",
      "INFO:tensorflow:global_step/sec: 268.639\n",
      "INFO:tensorflow:loss = 0.00492727, step = 11101 (0.373 sec)\n",
      "INFO:tensorflow:global_step/sec: 267.201\n",
      "INFO:tensorflow:loss = 0.000853527, step = 11201 (0.374 sec)\n",
      "INFO:tensorflow:global_step/sec: 209.944\n",
      "INFO:tensorflow:loss = 0.0139262, step = 11301 (0.475 sec)\n",
      "INFO:tensorflow:global_step/sec: 265.075\n",
      "INFO:tensorflow:loss = 0.00881559, step = 11401 (0.378 sec)\n",
      "INFO:tensorflow:global_step/sec: 288.824\n",
      "INFO:tensorflow:loss = 0.0186049, step = 11501 (0.345 sec)\n",
      "INFO:tensorflow:global_step/sec: 262.983\n",
      "INFO:tensorflow:loss = 0.000492324, step = 11601 (0.381 sec)\n",
      "INFO:tensorflow:global_step/sec: 302.828\n",
      "INFO:tensorflow:loss = 0.00230341, step = 11701 (0.329 sec)\n",
      "INFO:tensorflow:global_step/sec: 315.246\n",
      "INFO:tensorflow:loss = 0.000418936, step = 11801 (0.317 sec)\n",
      "INFO:tensorflow:global_step/sec: 310.352\n",
      "INFO:tensorflow:loss = 0.00709947, step = 11901 (0.322 sec)\n",
      "INFO:tensorflow:global_step/sec: 318.259\n",
      "INFO:tensorflow:loss = 0.000176346, step = 12001 (0.314 sec)\n",
      "INFO:tensorflow:global_step/sec: 318.258\n",
      "INFO:tensorflow:loss = 0.00352114, step = 12101 (0.314 sec)\n",
      "INFO:tensorflow:global_step/sec: 278.366\n",
      "INFO:tensorflow:loss = 0.00409825, step = 12201 (0.359 sec)\n",
      "INFO:tensorflow:global_step/sec: 259.566\n",
      "INFO:tensorflow:loss = 0.00442711, step = 12301 (0.386 sec)\n",
      "INFO:tensorflow:global_step/sec: 306.544\n",
      "INFO:tensorflow:loss = 0.000686727, step = 12401 (0.325 sec)\n",
      "INFO:tensorflow:global_step/sec: 266.488\n",
      "INFO:tensorflow:loss = 0.00342111, step = 12501 (0.376 sec)\n",
      "INFO:tensorflow:global_step/sec: 247.36\n",
      "INFO:tensorflow:loss = 0.00143894, step = 12601 (0.404 sec)\n",
      "INFO:tensorflow:global_step/sec: 282.297\n",
      "INFO:tensorflow:loss = 0.00396524, step = 12701 (0.353 sec)\n",
      "INFO:tensorflow:global_step/sec: 311.319\n",
      "INFO:tensorflow:loss = 0.00715362, step = 12801 (0.321 sec)\n",
      "INFO:tensorflow:global_step/sec: 288.825\n",
      "INFO:tensorflow:loss = 0.00564594, step = 12901 (0.346 sec)\n",
      "INFO:tensorflow:global_step/sec: 296.538\n",
      "INFO:tensorflow:loss = 0.00317152, step = 13001 (0.337 sec)\n",
      "INFO:tensorflow:global_step/sec: 317.247\n",
      "INFO:tensorflow:loss = 0.00411803, step = 13101 (0.315 sec)\n",
      "INFO:tensorflow:global_step/sec: 319.277\n",
      "INFO:tensorflow:loss = 0.00683057, step = 13201 (0.313 sec)\n",
      "INFO:tensorflow:global_step/sec: 316.245\n",
      "INFO:tensorflow:loss = 0.00482892, step = 13301 (0.316 sec)\n",
      "INFO:tensorflow:global_step/sec: 321.328\n",
      "INFO:tensorflow:loss = 0.00194253, step = 13401 (0.311 sec)\n",
      "INFO:tensorflow:global_step/sec: 320.299\n",
      "INFO:tensorflow:loss = 0.00725991, step = 13501 (0.312 sec)\n",
      "INFO:tensorflow:global_step/sec: 317.248\n",
      "INFO:tensorflow:loss = 0.00496594, step = 13601 (0.316 sec)\n",
      "INFO:tensorflow:global_step/sec: 306.544\n",
      "INFO:tensorflow:loss = 0.00231069, step = 13701 (0.325 sec)\n",
      "INFO:tensorflow:global_step/sec: 267.917\n",
      "INFO:tensorflow:loss = 0.00758488, step = 13801 (0.374 sec)\n",
      "INFO:tensorflow:global_step/sec: 282.297\n",
      "INFO:tensorflow:loss = 0.00351695, step = 13901 (0.353 sec)\n",
      "INFO:tensorflow:global_step/sec: 316.244\n",
      "INFO:tensorflow:loss = 0.00250569, step = 14001 (0.317 sec)\n",
      "INFO:tensorflow:global_step/sec: 310.352\n",
      "INFO:tensorflow:loss = 0.00576778, step = 14101 (0.321 sec)\n",
      "INFO:tensorflow:global_step/sec: 267.917\n",
      "INFO:tensorflow:loss = 0.0106178, step = 14201 (0.374 sec)\n",
      "INFO:tensorflow:global_step/sec: 312.292\n",
      "INFO:tensorflow:loss = 0.00184563, step = 14301 (0.319 sec)\n",
      "INFO:tensorflow:global_step/sec: 320.298\n",
      "INFO:tensorflow:loss = 0.000657787, step = 14401 (0.312 sec)\n",
      "INFO:tensorflow:global_step/sec: 318.259\n",
      "INFO:tensorflow:loss = 0.000907568, step = 14501 (0.314 sec)\n",
      "INFO:tensorflow:global_step/sec: 317.248\n",
      "INFO:tensorflow:loss = 0.00308903, step = 14601 (0.315 sec)\n",
      "INFO:tensorflow:global_step/sec: 320.298\n",
      "INFO:tensorflow:loss = 0.000958802, step = 14701 (0.313 sec)\n",
      "INFO:tensorflow:global_step/sec: 321.328\n",
      "INFO:tensorflow:loss = 0.00119474, step = 14801 (0.311 sec)\n",
      "INFO:tensorflow:global_step/sec: 315.247\n",
      "INFO:tensorflow:loss = 0.00213329, step = 14901 (0.316 sec)\n",
      "INFO:tensorflow:global_step/sec: 319.276\n",
      "INFO:tensorflow:loss = 0.0011101, step = 15001 (0.314 sec)\n",
      "INFO:tensorflow:global_step/sec: 321.329\n",
      "INFO:tensorflow:loss = 0.00242632, step = 15101 (0.310 sec)\n",
      "INFO:tensorflow:global_step/sec: 316.244\n",
      "INFO:tensorflow:loss = 0.00159225, step = 15201 (0.317 sec)\n",
      "INFO:tensorflow:global_step/sec: 317.248\n",
      "INFO:tensorflow:loss = 0.0014488, step = 15301 (0.314 sec)\n",
      "INFO:tensorflow:global_step/sec: 320.298\n",
      "INFO:tensorflow:loss = 0.00376972, step = 15401 (0.312 sec)\n",
      "INFO:tensorflow:global_step/sec: 303.749\n",
      "INFO:tensorflow:loss = 0.00406733, step = 15501 (0.330 sec)\n",
      "INFO:tensorflow:global_step/sec: 290.504\n",
      "INFO:tensorflow:loss = 0.00472252, step = 15601 (0.343 sec)\n",
      "INFO:tensorflow:global_step/sec: 312.291\n",
      "INFO:tensorflow:loss = 0.0146699, step = 15701 (0.320 sec)\n",
      "INFO:tensorflow:global_step/sec: 279.925\n",
      "INFO:tensorflow:loss = 0.00153426, step = 15801 (0.358 sec)\n",
      "INFO:tensorflow:global_step/sec: 311.319\n",
      "INFO:tensorflow:loss = 0.000447847, step = 15901 (0.320 sec)\n",
      "INFO:tensorflow:global_step/sec: 292.202\n",
      "INFO:tensorflow:loss = 0.00656253, step = 16001 (0.342 sec)\n",
      "INFO:tensorflow:global_step/sec: 313.27\n",
      "INFO:tensorflow:loss = 0.0043496, step = 16101 (0.319 sec)\n",
      "INFO:tensorflow:global_step/sec: 301.913\n",
      "INFO:tensorflow:loss = 7.70298e-05, step = 16201 (0.331 sec)\n",
      "INFO:tensorflow:global_step/sec: 322.366\n",
      "INFO:tensorflow:loss = 0.00260926, step = 16301 (0.310 sec)\n",
      "INFO:tensorflow:global_step/sec: 316.244\n",
      "INFO:tensorflow:loss = 0.00155471, step = 16401 (0.316 sec)\n",
      "INFO:tensorflow:global_step/sec: 318.259\n",
      "INFO:tensorflow:loss = 0.0015937, step = 16501 (0.314 sec)\n",
      "INFO:tensorflow:global_step/sec: 319.275\n",
      "INFO:tensorflow:loss = 0.00472044, step = 16601 (0.313 sec)\n",
      "INFO:tensorflow:global_step/sec: 317.248\n",
      "INFO:tensorflow:loss = 0.00249327, step = 16701 (0.315 sec)\n",
      "INFO:tensorflow:global_step/sec: 319.276\n",
      "INFO:tensorflow:loss = 0.00237052, step = 16801 (0.313 sec)\n",
      "INFO:tensorflow:global_step/sec: 322.365\n",
      "INFO:tensorflow:loss = 0.00251921, step = 16901 (0.310 sec)\n",
      "INFO:tensorflow:global_step/sec: 319.275\n",
      "INFO:tensorflow:loss = 0.00285329, step = 17001 (0.314 sec)\n",
      "INFO:tensorflow:global_step/sec: 307.486\n",
      "INFO:tensorflow:loss = 0.000563493, step = 17101 (0.324 sec)\n",
      "INFO:tensorflow:global_step/sec: 308.436\n",
      "INFO:tensorflow:loss = 0.00264452, step = 17201 (0.324 sec)\n",
      "INFO:tensorflow:global_step/sec: 322.366\n",
      "INFO:tensorflow:loss = 0.000915113, step = 17301 (0.311 sec)\n",
      "INFO:tensorflow:global_step/sec: 310.352\n",
      "INFO:tensorflow:loss = 0.00186997, step = 17401 (0.321 sec)\n",
      "INFO:tensorflow:global_step/sec: 312.291\n",
      "INFO:tensorflow:loss = 0.00155757, step = 17501 (0.321 sec)\n",
      "INFO:tensorflow:global_step/sec: 304.674\n",
      "INFO:tensorflow:loss = 0.000356618, step = 17601 (0.327 sec)\n",
      "INFO:tensorflow:global_step/sec: 308.436\n",
      "INFO:tensorflow:loss = 0.000703532, step = 17701 (0.324 sec)\n",
      "INFO:tensorflow:global_step/sec: 304.674\n",
      "INFO:tensorflow:loss = 0.000502199, step = 17801 (0.328 sec)\n",
      "INFO:tensorflow:global_step/sec: 315.247\n",
      "INFO:tensorflow:loss = 0.00201421, step = 17901 (0.317 sec)\n",
      "INFO:tensorflow:global_step/sec: 310.351\n",
      "INFO:tensorflow:loss = 0.00172619, step = 18001 (0.322 sec)\n",
      "INFO:tensorflow:global_step/sec: 318.259\n",
      "INFO:tensorflow:loss = 0.000986052, step = 18101 (0.314 sec)\n",
      "INFO:tensorflow:global_step/sec: 322.366\n",
      "INFO:tensorflow:loss = 0.00447541, step = 18201 (0.310 sec)\n",
      "INFO:tensorflow:global_step/sec: 315.247\n",
      "INFO:tensorflow:loss = 0.0146146, step = 18301 (0.317 sec)\n",
      "INFO:tensorflow:global_step/sec: 321.328\n",
      "INFO:tensorflow:loss = 0.00289675, step = 18401 (0.312 sec)\n",
      "INFO:tensorflow:global_step/sec: 258.895\n",
      "INFO:tensorflow:loss = 0.0022742, step = 18501 (0.385 sec)\n",
      "INFO:tensorflow:global_step/sec: 276.058\n",
      "INFO:tensorflow:loss = 0.00423942, step = 18601 (0.362 sec)\n",
      "INFO:tensorflow:global_step/sec: 283.902\n",
      "INFO:tensorflow:loss = 0.000945454, step = 18701 (0.352 sec)\n",
      "INFO:tensorflow:global_step/sec: 298.308\n",
      "INFO:tensorflow:loss = 0.00149365, step = 18801 (0.335 sec)\n",
      "INFO:tensorflow:global_step/sec: 312.292\n",
      "INFO:tensorflow:loss = 0.00309862, step = 18901 (0.321 sec)\n",
      "INFO:tensorflow:global_step/sec: 314.255\n",
      "INFO:tensorflow:loss = 0.00134573, step = 19001 (0.317 sec)\n",
      "INFO:tensorflow:global_step/sec: 302.829\n",
      "INFO:tensorflow:loss = 0.000693691, step = 19101 (0.330 sec)\n",
      "INFO:tensorflow:global_step/sec: 287.164\n",
      "INFO:tensorflow:loss = 0.000465131, step = 19201 (0.349 sec)\n",
      "INFO:tensorflow:global_step/sec: 272.298\n",
      "INFO:tensorflow:loss = 0.00558755, step = 19301 (0.367 sec)\n",
      "INFO:tensorflow:global_step/sec: 290.503\n",
      "INFO:tensorflow:loss = 0.000528183, step = 19401 (0.343 sec)\n",
      "INFO:tensorflow:global_step/sec: 220.117\n",
      "INFO:tensorflow:loss = 0.00208042, step = 19501 (0.455 sec)\n",
      "INFO:tensorflow:global_step/sec: 258.895\n",
      "INFO:tensorflow:loss = 0.000694155, step = 19601 (0.386 sec)\n",
      "INFO:tensorflow:global_step/sec: 281.502\n",
      "INFO:tensorflow:loss = 0.000119371, step = 19701 (0.355 sec)\n",
      "INFO:tensorflow:global_step/sec: 288.825\n",
      "INFO:tensorflow:loss = 0.00051242, step = 19801 (0.345 sec)\n",
      "INFO:tensorflow:global_step/sec: 289.661\n",
      "INFO:tensorflow:loss = 0.00184305, step = 19901 (0.345 sec)\n",
      "INFO:tensorflow:global_step/sec: 283.097\n",
      "INFO:tensorflow:loss = 0.00206445, step = 20001 (0.354 sec)\n",
      "INFO:tensorflow:global_step/sec: 286.342\n",
      "INFO:tensorflow:loss = 0.0003063, step = 20101 (0.349 sec)\n",
      "INFO:tensorflow:global_step/sec: 284.711\n",
      "INFO:tensorflow:loss = 0.00195141, step = 20201 (0.351 sec)\n",
      "INFO:tensorflow:global_step/sec: 265.075\n",
      "INFO:tensorflow:loss = 0.000959544, step = 20301 (0.376 sec)\n",
      "INFO:tensorflow:global_step/sec: 282.295\n",
      "INFO:tensorflow:loss = 0.00013434, step = 20401 (0.355 sec)\n",
      "INFO:tensorflow:global_step/sec: 287.167\n",
      "INFO:tensorflow:loss = 0.0003517, step = 20501 (0.347 sec)\n",
      "INFO:tensorflow:global_step/sec: 254.283\n",
      "INFO:tensorflow:loss = 0.00149112, step = 20601 (0.396 sec)\n",
      "INFO:tensorflow:global_step/sec: 268.638\n",
      "INFO:tensorflow:loss = 0.00112818, step = 20701 (0.370 sec)\n",
      "INFO:tensorflow:global_step/sec: 258.894\n",
      "INFO:tensorflow:loss = 0.00154887, step = 20801 (0.386 sec)\n",
      "INFO:tensorflow:global_step/sec: 255.584\n",
      "INFO:tensorflow:loss = 0.00139391, step = 20901 (0.391 sec)\n",
      "INFO:tensorflow:global_step/sec: 287.165\n",
      "INFO:tensorflow:loss = 0.00281828, step = 21001 (0.347 sec)\n",
      "INFO:tensorflow:global_step/sec: 295.315\n",
      "INFO:tensorflow:loss = 0.00136329, step = 21101 (0.339 sec)\n",
      "INFO:tensorflow:global_step/sec: 309.133\n",
      "INFO:tensorflow:loss = 0.00240587, step = 21201 (0.318 sec)\n",
      "INFO:tensorflow:global_step/sec: 309.049\n",
      "INFO:tensorflow:loss = 0.00113844, step = 21301 (0.324 sec)\n",
      "INFO:tensorflow:global_step/sec: 312.594\n",
      "INFO:tensorflow:loss = 0.00262636, step = 21401 (0.337 sec)\n",
      "INFO:tensorflow:global_step/sec: 306.003\n",
      "INFO:tensorflow:loss = 0.000237559, step = 21501 (0.326 sec)\n",
      "INFO:tensorflow:global_step/sec: 295.32\n",
      "INFO:tensorflow:loss = 0.00151222, step = 21601 (0.339 sec)\n",
      "INFO:tensorflow:global_step/sec: 304.013\n",
      "INFO:tensorflow:loss = 0.000995086, step = 21701 (0.332 sec)\n",
      "INFO:tensorflow:global_step/sec: 293.652\n",
      "INFO:tensorflow:loss = 0.000349444, step = 21801 (0.322 sec)\n",
      "INFO:tensorflow:global_step/sec: 305.614\n",
      "INFO:tensorflow:loss = 0.000656097, step = 21901 (0.330 sec)\n",
      "INFO:tensorflow:global_step/sec: 300.029\n",
      "INFO:tensorflow:loss = 0.000148364, step = 22001 (0.346 sec)\n",
      "INFO:tensorflow:global_step/sec: 304.632\n",
      "INFO:tensorflow:loss = 0.000531831, step = 22101 (0.313 sec)\n",
      "INFO:tensorflow:global_step/sec: 302.601\n",
      "INFO:tensorflow:loss = 0.00140872, step = 22201 (0.335 sec)\n",
      "INFO:tensorflow:global_step/sec: 308.829\n",
      "INFO:tensorflow:loss = 0.00243447, step = 22301 (0.319 sec)\n",
      "INFO:tensorflow:global_step/sec: 302.774\n",
      "INFO:tensorflow:loss = 0.00220339, step = 22401 (0.330 sec)\n",
      "INFO:tensorflow:global_step/sec: 306.824\n",
      "INFO:tensorflow:loss = 0.00157356, step = 22501 (0.331 sec)\n",
      "INFO:tensorflow:global_step/sec: 306.238\n",
      "INFO:tensorflow:loss = 0.00364198, step = 22601 (0.322 sec)\n",
      "INFO:tensorflow:global_step/sec: 308.095\n",
      "INFO:tensorflow:loss = 0.000852597, step = 22701 (0.325 sec)\n",
      "INFO:tensorflow:global_step/sec: 314.71\n",
      "INFO:tensorflow:loss = 0.00109362, step = 22801 (0.318 sec)\n",
      "INFO:tensorflow:global_step/sec: 292.023\n",
      "INFO:tensorflow:loss = 0.00240539, step = 22901 (0.348 sec)\n",
      "INFO:tensorflow:global_step/sec: 309.41\n",
      "INFO:tensorflow:loss = 0.000654596, step = 23001 (0.317 sec)\n",
      "INFO:tensorflow:global_step/sec: 276.85\n",
      "INFO:tensorflow:loss = 0.00295467, step = 23101 (0.366 sec)\n",
      "INFO:tensorflow:global_step/sec: 301.692\n",
      "INFO:tensorflow:loss = 0.00217089, step = 23201 (0.332 sec)\n",
      "INFO:tensorflow:global_step/sec: 308.899\n",
      "INFO:tensorflow:loss = 0.00169613, step = 23301 (0.319 sec)\n",
      "INFO:tensorflow:global_step/sec: 315.416\n",
      "INFO:tensorflow:loss = 0.000720154, step = 23401 (0.333 sec)\n",
      "INFO:tensorflow:global_step/sec: 305.92\n",
      "INFO:tensorflow:loss = 0.000805685, step = 23501 (0.327 sec)\n",
      "INFO:tensorflow:global_step/sec: 294.012\n",
      "INFO:tensorflow:loss = 0.000631053, step = 23601 (0.324 sec)\n",
      "INFO:tensorflow:global_step/sec: 316.755\n",
      "INFO:tensorflow:loss = 0.000255326, step = 23701 (0.316 sec)\n",
      "INFO:tensorflow:global_step/sec: 301.136\n",
      "INFO:tensorflow:loss = 0.00180432, step = 23801 (0.332 sec)\n",
      "INFO:tensorflow:global_step/sec: 313.087\n",
      "INFO:tensorflow:loss = 0.000976085, step = 23901 (0.335 sec)\n",
      "INFO:tensorflow:global_step/sec: 301.344\n",
      "INFO:tensorflow:loss = 0.00113664, step = 24001 (0.316 sec)\n",
      "INFO:tensorflow:global_step/sec: 300.882\n",
      "INFO:tensorflow:loss = 0.000741892, step = 24101 (0.332 sec)\n",
      "INFO:tensorflow:global_step/sec: 300.545\n",
      "INFO:tensorflow:loss = 0.000928554, step = 24201 (0.333 sec)\n",
      "INFO:tensorflow:global_step/sec: 315.449\n",
      "INFO:tensorflow:loss = 0.000218442, step = 24301 (0.317 sec)\n",
      "INFO:tensorflow:global_step/sec: 304.815\n",
      "INFO:tensorflow:loss = 0.00173174, step = 24401 (0.344 sec)\n",
      "INFO:tensorflow:global_step/sec: 295.63\n",
      "INFO:tensorflow:loss = 0.000569286, step = 24501 (0.323 sec)\n",
      "INFO:tensorflow:global_step/sec: 298.096\n",
      "INFO:tensorflow:loss = 0.000322807, step = 24601 (0.340 sec)\n",
      "INFO:tensorflow:global_step/sec: 302.03\n",
      "INFO:tensorflow:loss = 0.00111121, step = 24701 (0.331 sec)\n",
      "INFO:tensorflow:global_step/sec: 299.778\n",
      "INFO:tensorflow:loss = 0.00132868, step = 24801 (0.329 sec)\n",
      "INFO:tensorflow:global_step/sec: 313.982\n",
      "INFO:tensorflow:loss = 0.00235335, step = 24901 (0.318 sec)\n",
      "INFO:tensorflow:global_step/sec: 296.787\n",
      "INFO:tensorflow:loss = 0.000118122, step = 25001 (0.338 sec)\n",
      "INFO:tensorflow:global_step/sec: 276.845\n",
      "INFO:tensorflow:loss = 0.00184492, step = 25101 (0.365 sec)\n",
      "INFO:tensorflow:global_step/sec: 286.342\n",
      "INFO:tensorflow:loss = 0.00320799, step = 25201 (0.352 sec)\n",
      "INFO:tensorflow:global_step/sec: 285.522\n",
      "INFO:tensorflow:loss = 0.000183373, step = 25301 (0.349 sec)\n",
      "INFO:tensorflow:global_step/sec: 314.565\n",
      "INFO:tensorflow:loss = 0.000734714, step = 25401 (0.311 sec)\n",
      "INFO:tensorflow:global_step/sec: 309.173\n",
      "INFO:tensorflow:loss = 0.00117328, step = 25501 (0.328 sec)\n",
      "INFO:tensorflow:global_step/sec: 292.202\n",
      "INFO:tensorflow:loss = 0.00101388, step = 25601 (0.342 sec)\n",
      "INFO:tensorflow:global_step/sec: 283.901\n",
      "INFO:tensorflow:loss = 0.000994076, step = 25701 (0.352 sec)\n",
      "INFO:tensorflow:global_step/sec: 314.027\n",
      "INFO:tensorflow:loss = 0.00148109, step = 25801 (0.313 sec)\n",
      "INFO:tensorflow:global_step/sec: 307.712\n",
      "INFO:tensorflow:loss = 0.00150336, step = 25901 (0.325 sec)\n",
      "INFO:tensorflow:global_step/sec: 310.365\n",
      "INFO:tensorflow:loss = 4.42679e-05, step = 26001 (0.338 sec)\n",
      "INFO:tensorflow:global_step/sec: 299.611\n",
      "INFO:tensorflow:loss = 0.000945769, step = 26101 (0.334 sec)\n",
      "INFO:tensorflow:global_step/sec: 300.389\n",
      "INFO:tensorflow:loss = 0.000692925, step = 26201 (0.333 sec)\n",
      "INFO:tensorflow:global_step/sec: 292.013\n",
      "INFO:tensorflow:loss = 0.000701611, step = 26301 (0.332 sec)\n",
      "INFO:tensorflow:global_step/sec: 297.421\n",
      "INFO:tensorflow:loss = 0.00164209, step = 26401 (0.337 sec)\n",
      "INFO:tensorflow:global_step/sec: 311.233\n",
      "INFO:tensorflow:loss = 0.000905918, step = 26501 (0.331 sec)\n",
      "INFO:tensorflow:global_step/sec: 299.816\n",
      "INFO:tensorflow:loss = 0.000519783, step = 26601 (0.334 sec)\n",
      "INFO:tensorflow:global_step/sec: 303.193\n",
      "INFO:tensorflow:loss = 1.40954e-05, step = 26701 (0.314 sec)\n",
      "INFO:tensorflow:global_step/sec: 307.098\n",
      "INFO:tensorflow:loss = 0.000842135, step = 26801 (0.341 sec)\n",
      "INFO:tensorflow:global_step/sec: 291.53\n",
      "INFO:tensorflow:loss = 0.000808341, step = 26901 (0.327 sec)\n",
      "INFO:tensorflow:global_step/sec: 310.859\n",
      "INFO:tensorflow:loss = 0.000642265, step = 27001 (0.322 sec)\n",
      "INFO:tensorflow:global_step/sec: 300.009\n",
      "INFO:tensorflow:loss = 0.000423766, step = 27101 (0.338 sec)\n",
      "INFO:tensorflow:global_step/sec: 319.871\n",
      "INFO:tensorflow:loss = 0.000671817, step = 27201 (0.323 sec)\n",
      "INFO:tensorflow:global_step/sec: 292.138\n",
      "INFO:tensorflow:loss = 0.00108788, step = 27301 (0.332 sec)\n",
      "INFO:tensorflow:global_step/sec: 302.896\n",
      "INFO:tensorflow:loss = 0.000168051, step = 27401 (0.325 sec)\n",
      "INFO:tensorflow:global_step/sec: 305.412\n",
      "INFO:tensorflow:loss = 0.00143462, step = 27501 (0.327 sec)\n",
      "INFO:tensorflow:global_step/sec: 284.077\n",
      "INFO:tensorflow:loss = 0.000935573, step = 27601 (0.357 sec)\n",
      "INFO:tensorflow:global_step/sec: 309.709\n",
      "INFO:tensorflow:loss = 0.000289417, step = 27701 (0.339 sec)\n",
      "INFO:tensorflow:global_step/sec: 278.958\n",
      "INFO:tensorflow:loss = 0.000623281, step = 27801 (0.344 sec)\n",
      "INFO:tensorflow:global_step/sec: 288.824\n",
      "INFO:tensorflow:loss = 0.000400492, step = 27901 (0.346 sec)\n",
      "INFO:tensorflow:global_step/sec: 296.803\n",
      "INFO:tensorflow:loss = 0.00141883, step = 28001 (0.337 sec)\n",
      "INFO:tensorflow:global_step/sec: 274.542\n",
      "INFO:tensorflow:loss = 0.000513484, step = 28101 (0.363 sec)\n",
      "INFO:tensorflow:global_step/sec: 276.824\n",
      "INFO:tensorflow:loss = 0.00133993, step = 28201 (0.361 sec)\n",
      "INFO:tensorflow:global_step/sec: 276.678\n",
      "INFO:tensorflow:loss = 0.000679669, step = 28301 (0.356 sec)\n",
      "INFO:tensorflow:global_step/sec: 313.07\n",
      "INFO:tensorflow:loss = 0.000811346, step = 28401 (0.319 sec)\n",
      "INFO:tensorflow:global_step/sec: 308.495\n",
      "INFO:tensorflow:loss = 0.00057602, step = 28501 (0.329 sec)\n",
      "INFO:tensorflow:global_step/sec: 285.523\n",
      "INFO:tensorflow:loss = 0.000366546, step = 28601 (0.350 sec)\n",
      "INFO:tensorflow:global_step/sec: 314.316\n",
      "INFO:tensorflow:loss = 0.00086157, step = 28701 (0.318 sec)\n",
      "INFO:tensorflow:global_step/sec: 315.812\n",
      "INFO:tensorflow:loss = 0.00103206, step = 28801 (0.317 sec)\n",
      "INFO:tensorflow:global_step/sec: 313.263\n",
      "INFO:tensorflow:loss = 0.000274243, step = 28901 (0.320 sec)\n",
      "INFO:tensorflow:global_step/sec: 272.298\n",
      "INFO:tensorflow:loss = 0.00182547, step = 29001 (0.366 sec)\n",
      "INFO:tensorflow:global_step/sec: 285.524\n",
      "INFO:tensorflow:loss = 0.00104729, step = 29101 (0.350 sec)\n",
      "INFO:tensorflow:global_step/sec: 263.676\n",
      "INFO:tensorflow:loss = 0.001766, step = 29201 (0.380 sec)\n",
      "INFO:tensorflow:global_step/sec: 289.381\n",
      "INFO:tensorflow:loss = 0.00105772, step = 29301 (0.345 sec)\n",
      "INFO:tensorflow:global_step/sec: 327.682\n",
      "INFO:tensorflow:loss = 0.000961037, step = 29401 (0.316 sec)\n",
      "INFO:tensorflow:global_step/sec: 318.097\n",
      "INFO:tensorflow:loss = 0.00102937, step = 29501 (0.315 sec)\n",
      "INFO:tensorflow:global_step/sec: 319.689\n",
      "INFO:tensorflow:loss = 0.000430005, step = 29601 (0.297 sec)\n",
      "INFO:tensorflow:global_step/sec: 319.556\n",
      "INFO:tensorflow:loss = 0.00025649, step = 29701 (0.318 sec)\n",
      "INFO:tensorflow:global_step/sec: 321.588\n",
      "INFO:tensorflow:loss = 0.000605404, step = 29801 (0.311 sec)\n",
      "INFO:tensorflow:global_step/sec: 331.845\n",
      "INFO:tensorflow:loss = 0.00077305, step = 29901 (0.296 sec)\n",
      "INFO:tensorflow:global_step/sec: 336.822\n",
      "INFO:tensorflow:loss = 0.000108064, step = 30001 (0.313 sec)\n",
      "INFO:tensorflow:global_step/sec: 313.86\n",
      "INFO:tensorflow:loss = 0.000590002, step = 30101 (0.311 sec)\n",
      "INFO:tensorflow:global_step/sec: 334.58\n",
      "INFO:tensorflow:loss = 0.000234104, step = 30201 (0.306 sec)\n",
      "INFO:tensorflow:global_step/sec: 277.658\n",
      "INFO:tensorflow:loss = 0.00065963, step = 30301 (0.350 sec)\n",
      "INFO:tensorflow:global_step/sec: 321.731\n",
      "INFO:tensorflow:loss = 0.00115885, step = 30401 (0.311 sec)\n",
      "INFO:tensorflow:global_step/sec: 319.001\n",
      "INFO:tensorflow:loss = 0.000882715, step = 30501 (0.323 sec)\n",
      "INFO:tensorflow:global_step/sec: 285.443\n",
      "INFO:tensorflow:loss = 0.00145138, step = 30601 (0.335 sec)\n",
      "INFO:tensorflow:global_step/sec: 332.537\n",
      "INFO:tensorflow:loss = 0.000891694, step = 30701 (0.320 sec)\n",
      "INFO:tensorflow:global_step/sec: 314.301\n",
      "INFO:tensorflow:loss = 0.00118, step = 30801 (0.315 sec)\n",
      "INFO:tensorflow:global_step/sec: 306.659\n",
      "INFO:tensorflow:loss = 0.00115266, step = 30901 (0.309 sec)\n",
      "INFO:tensorflow:global_step/sec: 318.278\n",
      "INFO:tensorflow:loss = 0.000961674, step = 31001 (0.319 sec)\n",
      "INFO:tensorflow:global_step/sec: 323.094\n",
      "INFO:tensorflow:loss = 0.00149113, step = 31101 (0.308 sec)\n",
      "INFO:tensorflow:global_step/sec: 333.412\n",
      "INFO:tensorflow:loss = 0.000568497, step = 31201 (0.297 sec)\n",
      "INFO:tensorflow:global_step/sec: 321.633\n",
      "INFO:tensorflow:loss = 0.000460989, step = 31301 (0.311 sec)\n",
      "INFO:tensorflow:global_step/sec: 318.014\n",
      "INFO:tensorflow:loss = 0.000649023, step = 31401 (0.320 sec)\n",
      "INFO:tensorflow:global_step/sec: 330.071\n",
      "INFO:tensorflow:loss = 0.000197947, step = 31501 (0.297 sec)\n",
      "INFO:tensorflow:global_step/sec: 319.449\n",
      "INFO:tensorflow:loss = 6.59552e-05, step = 31601 (0.313 sec)\n",
      "INFO:tensorflow:global_step/sec: 325.928\n",
      "INFO:tensorflow:loss = 0.000625275, step = 31701 (0.322 sec)\n",
      "INFO:tensorflow:global_step/sec: 320.763\n",
      "INFO:tensorflow:loss = 9.4202e-05, step = 31801 (0.312 sec)\n",
      "INFO:tensorflow:global_step/sec: 319.984\n",
      "INFO:tensorflow:loss = 0.000756386, step = 31901 (0.297 sec)\n",
      "INFO:tensorflow:global_step/sec: 306.17\n",
      "INFO:tensorflow:loss = 0.000197061, step = 32001 (0.327 sec)\n",
      "INFO:tensorflow:global_step/sec: 320.476\n",
      "INFO:tensorflow:loss = 0.000425281, step = 32101 (0.328 sec)\n",
      "INFO:tensorflow:global_step/sec: 298.567\n",
      "INFO:tensorflow:loss = 0.00102074, step = 32201 (0.335 sec)\n",
      "INFO:tensorflow:global_step/sec: 314.44\n",
      "INFO:tensorflow:loss = 0.00041044, step = 32301 (0.307 sec)\n",
      "INFO:tensorflow:global_step/sec: 314.301\n",
      "INFO:tensorflow:loss = 0.000104019, step = 32401 (0.313 sec)\n",
      "INFO:tensorflow:global_step/sec: 322.808\n",
      "INFO:tensorflow:loss = 0.000511087, step = 32501 (0.310 sec)\n",
      "INFO:tensorflow:global_step/sec: 323.014\n",
      "INFO:tensorflow:loss = 0.000111053, step = 32601 (0.315 sec)\n",
      "INFO:tensorflow:global_step/sec: 315.361\n",
      "INFO:tensorflow:loss = 0.00126878, step = 32701 (0.312 sec)\n",
      "INFO:tensorflow:global_step/sec: 335.465\n",
      "INFO:tensorflow:loss = 0.000895224, step = 32801 (0.314 sec)\n",
      "INFO:tensorflow:global_step/sec: 320.926\n",
      "INFO:tensorflow:loss = 0.000406547, step = 32901 (0.296 sec)\n",
      "INFO:tensorflow:global_step/sec: 315.086\n",
      "INFO:tensorflow:loss = 0.000497633, step = 33001 (0.322 sec)\n",
      "INFO:tensorflow:global_step/sec: 322.725\n",
      "INFO:tensorflow:loss = 0.00210473, step = 33101 (0.305 sec)\n",
      "INFO:tensorflow:global_step/sec: 329.207\n",
      "INFO:tensorflow:loss = 0.000945465, step = 33201 (0.309 sec)\n",
      "INFO:tensorflow:global_step/sec: 323.369\n",
      "INFO:tensorflow:loss = 0.000309007, step = 33301 (0.304 sec)\n",
      "INFO:tensorflow:global_step/sec: 326.895\n",
      "INFO:tensorflow:loss = 0.00123292, step = 33401 (0.306 sec)\n",
      "INFO:tensorflow:global_step/sec: 319.982\n",
      "INFO:tensorflow:loss = 0.000225348, step = 33501 (0.313 sec)\n",
      "INFO:tensorflow:global_step/sec: 320.112\n",
      "INFO:tensorflow:loss = 0.000940695, step = 33601 (0.312 sec)\n",
      "INFO:tensorflow:global_step/sec: 319.106\n",
      "INFO:tensorflow:loss = 0.000726792, step = 33701 (0.313 sec)\n",
      "INFO:tensorflow:global_step/sec: 318.601\n",
      "INFO:tensorflow:loss = 0.00123973, step = 33801 (0.329 sec)\n",
      "INFO:tensorflow:global_step/sec: 311.985\n",
      "INFO:tensorflow:loss = 0.00107691, step = 33901 (0.310 sec)\n",
      "INFO:tensorflow:global_step/sec: 308.434\n",
      "INFO:tensorflow:loss = 0.000640319, step = 34001 (0.319 sec)\n",
      "INFO:tensorflow:global_step/sec: 318.463\n",
      "INFO:tensorflow:loss = 0.000919945, step = 34101 (0.330 sec)\n",
      "INFO:tensorflow:global_step/sec: 316.734\n",
      "INFO:tensorflow:loss = 0.00121334, step = 34201 (0.305 sec)\n",
      "INFO:tensorflow:global_step/sec: 331.679\n",
      "INFO:tensorflow:loss = 0.000127433, step = 34301 (0.312 sec)\n",
      "INFO:tensorflow:global_step/sec: 304.745\n",
      "INFO:tensorflow:loss = 0.000417725, step = 34401 (0.313 sec)\n",
      "INFO:tensorflow:global_step/sec: 338.119\n",
      "INFO:tensorflow:loss = 0.000630038, step = 34501 (0.296 sec)\n",
      "INFO:tensorflow:global_step/sec: 318.637\n",
      "INFO:tensorflow:loss = 0.000360699, step = 34601 (0.314 sec)\n",
      "INFO:tensorflow:global_step/sec: 314.241\n",
      "INFO:tensorflow:loss = 0.00173927, step = 34701 (0.318 sec)\n",
      "INFO:tensorflow:global_step/sec: 316.282\n",
      "INFO:tensorflow:loss = 0.000371267, step = 34801 (0.322 sec)\n",
      "INFO:tensorflow:global_step/sec: 318.166\n",
      "INFO:tensorflow:loss = 0.000374646, step = 34901 (0.308 sec)\n",
      "INFO:tensorflow:global_step/sec: 330.755\n",
      "INFO:tensorflow:loss = 0.000305932, step = 35001 (0.302 sec)\n",
      "INFO:tensorflow:global_step/sec: 328.689\n",
      "INFO:tensorflow:loss = 0.00104693, step = 35101 (0.304 sec)\n",
      "INFO:tensorflow:global_step/sec: 324.972\n",
      "INFO:tensorflow:loss = 0.000340343, step = 35201 (0.323 sec)\n",
      "INFO:tensorflow:global_step/sec: 322.547\n",
      "INFO:tensorflow:loss = 0.000153641, step = 35301 (0.294 sec)\n",
      "INFO:tensorflow:global_step/sec: 319.983\n",
      "INFO:tensorflow:loss = 0.000996451, step = 35401 (0.328 sec)\n",
      "INFO:tensorflow:global_step/sec: 320.285\n",
      "INFO:tensorflow:loss = 0.000171532, step = 35501 (0.297 sec)\n",
      "INFO:tensorflow:global_step/sec: 312.301\n",
      "INFO:tensorflow:loss = 0.000374124, step = 35601 (0.325 sec)\n",
      "INFO:tensorflow:global_step/sec: 332.345\n",
      "INFO:tensorflow:loss = 0.000663798, step = 35701 (0.312 sec)\n",
      "INFO:tensorflow:global_step/sec: 317.671\n",
      "INFO:tensorflow:loss = 0.000831119, step = 35801 (0.299 sec)\n",
      "INFO:tensorflow:global_step/sec: 322.281\n",
      "INFO:tensorflow:loss = 0.000574592, step = 35901 (0.326 sec)\n",
      "INFO:tensorflow:global_step/sec: 315.047\n",
      "INFO:tensorflow:loss = 0.000313818, step = 36001 (0.302 sec)\n",
      "INFO:tensorflow:global_step/sec: 339.309\n",
      "INFO:tensorflow:loss = 0.00114753, step = 36101 (0.310 sec)\n",
      "INFO:tensorflow:global_step/sec: 304.888\n",
      "INFO:tensorflow:loss = 0.000859921, step = 36201 (0.318 sec)\n",
      "INFO:tensorflow:global_step/sec: 335.385\n",
      "INFO:tensorflow:loss = 9.09132e-05, step = 36301 (0.308 sec)\n",
      "INFO:tensorflow:global_step/sec: 325.264\n",
      "INFO:tensorflow:loss = 0.000575347, step = 36401 (0.292 sec)\n",
      "INFO:tensorflow:global_step/sec: 310.189\n",
      "INFO:tensorflow:loss = 0.000190056, step = 36501 (0.330 sec)\n",
      "INFO:tensorflow:global_step/sec: 324.952\n",
      "INFO:tensorflow:loss = 0.000239809, step = 36601 (0.300 sec)\n",
      "INFO:tensorflow:global_step/sec: 319.983\n",
      "INFO:tensorflow:loss = 0.00044674, step = 36701 (0.328 sec)\n",
      "INFO:tensorflow:global_step/sec: 312.894\n",
      "INFO:tensorflow:loss = 0.000904511, step = 36801 (0.308 sec)\n",
      "INFO:tensorflow:global_step/sec: 328.257\n",
      "INFO:tensorflow:loss = 0.000720104, step = 36901 (0.301 sec)\n",
      "INFO:tensorflow:global_step/sec: 319.235\n",
      "INFO:tensorflow:loss = 0.000412932, step = 37001 (0.313 sec)\n",
      "INFO:tensorflow:global_step/sec: 320.246\n",
      "INFO:tensorflow:loss = 0.000163695, step = 37101 (0.312 sec)\n",
      "INFO:tensorflow:global_step/sec: 304.975\n",
      "INFO:tensorflow:loss = 0.000264861, step = 37201 (0.330 sec)\n",
      "INFO:tensorflow:global_step/sec: 337.603\n",
      "INFO:tensorflow:loss = 0.000719457, step = 37301 (0.310 sec)\n",
      "INFO:tensorflow:global_step/sec: 321.175\n",
      "INFO:tensorflow:loss = 0.000339975, step = 37401 (0.296 sec)\n",
      "INFO:tensorflow:global_step/sec: 321.537\n",
      "INFO:tensorflow:loss = 0.000324403, step = 37501 (0.327 sec)\n",
      "INFO:tensorflow:global_step/sec: 315.836\n",
      "INFO:tensorflow:loss = 0.000306283, step = 37601 (0.301 sec)\n",
      "INFO:tensorflow:global_step/sec: 322.529\n",
      "INFO:tensorflow:loss = 0.000100169, step = 37701 (0.310 sec)\n",
      "INFO:tensorflow:global_step/sec: 300.386\n",
      "INFO:tensorflow:loss = 0.000432111, step = 37801 (0.339 sec)\n",
      "INFO:tensorflow:global_step/sec: 321.142\n",
      "INFO:tensorflow:loss = 0.00140533, step = 37901 (0.321 sec)\n",
      "INFO:tensorflow:global_step/sec: 308.22\n",
      "INFO:tensorflow:loss = 0.000294866, step = 38001 (0.314 sec)\n",
      "INFO:tensorflow:global_step/sec: 276.823\n",
      "INFO:tensorflow:loss = 0.00119604, step = 38101 (0.362 sec)\n",
      "INFO:tensorflow:global_step/sec: 288.825\n",
      "INFO:tensorflow:loss = 0.000891358, step = 38201 (0.345 sec)\n",
      "INFO:tensorflow:global_step/sec: 270.822\n",
      "INFO:tensorflow:loss = 0.000129545, step = 38301 (0.370 sec)\n",
      "INFO:tensorflow:global_step/sec: 311.602\n",
      "INFO:tensorflow:loss = 0.000193591, step = 38401 (0.320 sec)\n",
      "INFO:tensorflow:global_step/sec: 317.355\n",
      "INFO:tensorflow:loss = 0.00049303, step = 38501 (0.310 sec)\n",
      "INFO:tensorflow:global_step/sec: 311.844\n",
      "INFO:tensorflow:loss = 0.000675174, step = 38601 (0.327 sec)\n",
      "INFO:tensorflow:global_step/sec: 309.003\n",
      "INFO:tensorflow:loss = 0.000358051, step = 38701 (0.323 sec)\n",
      "INFO:tensorflow:global_step/sec: 312.559\n",
      "INFO:tensorflow:loss = 0.000242674, step = 38801 (0.317 sec)\n",
      "INFO:tensorflow:global_step/sec: 328.722\n",
      "INFO:tensorflow:loss = 0.00127899, step = 38901 (0.302 sec)\n",
      "INFO:tensorflow:global_step/sec: 334.274\n",
      "INFO:tensorflow:loss = 0.000262657, step = 39001 (0.315 sec)\n",
      "INFO:tensorflow:global_step/sec: 317.727\n",
      "INFO:tensorflow:loss = 0.000705544, step = 39101 (0.299 sec)\n",
      "INFO:tensorflow:global_step/sec: 336.824\n",
      "INFO:tensorflow:loss = 0.000659797, step = 39201 (0.297 sec)\n",
      "INFO:tensorflow:global_step/sec: 308.866\n",
      "INFO:tensorflow:loss = 0.000316944, step = 39301 (0.328 sec)\n",
      "INFO:tensorflow:global_step/sec: 318.407\n",
      "INFO:tensorflow:loss = 0.000639012, step = 39401 (0.310 sec)\n",
      "INFO:tensorflow:global_step/sec: 310.675\n",
      "INFO:tensorflow:loss = 0.000241011, step = 39501 (0.322 sec)\n",
      "INFO:tensorflow:global_step/sec: 340.568\n",
      "INFO:tensorflow:loss = 0.000744708, step = 39601 (0.309 sec)\n",
      "INFO:tensorflow:global_step/sec: 311.987\n",
      "INFO:tensorflow:loss = 0.000178735, step = 39701 (0.305 sec)\n",
      "INFO:tensorflow:global_step/sec: 331.003\n",
      "INFO:tensorflow:loss = 0.00115475, step = 39801 (0.302 sec)\n",
      "INFO:tensorflow:global_step/sec: 322.469\n",
      "INFO:tensorflow:loss = 0.00126455, step = 39901 (0.310 sec)\n",
      "INFO:tensorflow:Saving checkpoints for 40000 into C:\\Users\\KRZYSZ~1\\AppData\\Local\\Temp\\tmpnvb46to8\\model.ckpt.\n",
      "INFO:tensorflow:Loss for final step: 0.000402969.\n"
     ]
    },
    {
     "data": {
      "text/plain": [
       "SKCompat()"
      ]
     },
     "execution_count": 11,
     "metadata": {},
     "output_type": "execute_result"
    }
   ],
   "source": [
    "import tensorflow as tf\n",
    "\n",
    "config = tf.contrib.learn.RunConfig(tf_random_seed=42) # nieukazane w konfiguracji\n",
    "\n",
    "feature_cols = tf.contrib.learn.infer_real_valued_columns_from_input(X_train)\n",
    "dnn_clf = tf.contrib.learn.DNNClassifier(hidden_units=[300,100], n_classes=10,\n",
    "                                         feature_columns=feature_cols, config=config)\n",
    "dnn_clf = tf.contrib.learn.SKCompat(dnn_clf) # jeśli wersja modułu TensorFlow >= 1.1\n",
    "dnn_clf.fit(X_train, y_train, batch_size=50, steps=40000)"
   ]
  },
  {
   "cell_type": "code",
   "execution_count": 12,
   "metadata": {
    "collapsed": false
   },
   "outputs": [
    {
     "name": "stdout",
     "output_type": "stream",
     "text": [
      "INFO:tensorflow:Restoring parameters from C:\\Users\\KRZYSZ~1\\AppData\\Local\\Temp\\tmpnvb46to8\\model.ckpt-40000\n"
     ]
    },
    {
     "data": {
      "text/plain": [
       "0.98209999999999997"
      ]
     },
     "execution_count": 12,
     "metadata": {},
     "output_type": "execute_result"
    }
   ],
   "source": [
    "from sklearn.metrics import accuracy_score\n",
    "\n",
    "y_pred = dnn_clf.predict(X_test)\n",
    "accuracy_score(y_test, y_pred['classes'])"
   ]
  },
  {
   "cell_type": "code",
   "execution_count": 13,
   "metadata": {
    "collapsed": false
   },
   "outputs": [
    {
     "data": {
      "text/plain": [
       "0.071960262984114065"
      ]
     },
     "execution_count": 13,
     "metadata": {},
     "output_type": "execute_result"
    }
   ],
   "source": [
    "from sklearn.metrics import log_loss\n",
    "\n",
    "y_pred_proba = y_pred['probabilities']\n",
    "log_loss(y_test, y_pred_proba)"
   ]
  },
  {
   "cell_type": "markdown",
   "metadata": {
    "collapsed": true
   },
   "source": [
    "## Korzystanie z samego modułu TensorFlow"
   ]
  },
  {
   "cell_type": "code",
   "execution_count": 14,
   "metadata": {
    "collapsed": true
   },
   "outputs": [],
   "source": [
    "import tensorflow as tf\n",
    "\n",
    "n_inputs = 28*28  # Zestaw MNIST\n",
    "n_hidden1 = 300\n",
    "n_hidden2 = 100\n",
    "n_outputs = 10"
   ]
  },
  {
   "cell_type": "code",
   "execution_count": 15,
   "metadata": {
    "collapsed": true
   },
   "outputs": [],
   "source": [
    "reset_graph()\n",
    "\n",
    "X = tf.placeholder(tf.float32, shape=(None, n_inputs), name=\"X\")\n",
    "y = tf.placeholder(tf.int64, shape=(None), name=\"y\")"
   ]
  },
  {
   "cell_type": "code",
   "execution_count": 16,
   "metadata": {
    "collapsed": true
   },
   "outputs": [],
   "source": [
    "def neuron_layer(X, n_neurons, name, activation=None):\n",
    "    with tf.name_scope(name):\n",
    "        n_inputs = int(X.get_shape()[1])\n",
    "        stddev = 2 / np.sqrt(n_inputs)\n",
    "        init = tf.truncated_normal((n_inputs, n_neurons), stddev=stddev)\n",
    "        W = tf.Variable(init, name=\"jadro\")\n",
    "        b = tf.Variable(tf.zeros([n_neurons]), name=\"obciazenie\")\n",
    "        Z = tf.matmul(X, W) + b\n",
    "        if activation is not None:\n",
    "            return activation(Z)\n",
    "        else:\n",
    "            return Z"
   ]
  },
  {
   "cell_type": "code",
   "execution_count": 17,
   "metadata": {
    "collapsed": true
   },
   "outputs": [],
   "source": [
    "with tf.name_scope(\"gsn\"):\n",
    "    hidden1 = neuron_layer(X, n_hidden1, name=\"ukryta1\",\n",
    "                           activation=tf.nn.relu)\n",
    "    hidden2 = neuron_layer(hidden1, n_hidden2, name=\"ukryta2\",\n",
    "                           activation=tf.nn.relu)\n",
    "    logits = neuron_layer(hidden2, n_outputs, name=\"wyjscia\")"
   ]
  },
  {
   "cell_type": "code",
   "execution_count": 18,
   "metadata": {
    "collapsed": true
   },
   "outputs": [],
   "source": [
    "with tf.name_scope(\"strata\"):\n",
    "    xentropy = tf.nn.sparse_softmax_cross_entropy_with_logits(labels=y,\n",
    "                                                              logits=logits)\n",
    "    loss = tf.reduce_mean(xentropy, name=\"strata\")"
   ]
  },
  {
   "cell_type": "code",
   "execution_count": 19,
   "metadata": {
    "collapsed": true
   },
   "outputs": [],
   "source": [
    "learning_rate = 0.01\n",
    "\n",
    "with tf.name_scope(\"uczenie\"):\n",
    "    optimizer = tf.train.GradientDescentOptimizer(learning_rate)\n",
    "    training_op = optimizer.minimize(loss)"
   ]
  },
  {
   "cell_type": "code",
   "execution_count": 20,
   "metadata": {
    "collapsed": true
   },
   "outputs": [],
   "source": [
    "with tf.name_scope(\"ocena\"):\n",
    "    correct = tf.nn.in_top_k(logits, y, 1)\n",
    "    accuracy = tf.reduce_mean(tf.cast(correct, tf.float32))"
   ]
  },
  {
   "cell_type": "code",
   "execution_count": 21,
   "metadata": {
    "collapsed": true
   },
   "outputs": [],
   "source": [
    "init = tf.global_variables_initializer()\n",
    "saver = tf.train.Saver()"
   ]
  },
  {
   "cell_type": "code",
   "execution_count": 22,
   "metadata": {
    "collapsed": true
   },
   "outputs": [],
   "source": [
    "n_epochs = 40\n",
    "batch_size = 50"
   ]
  },
  {
   "cell_type": "code",
   "execution_count": 23,
   "metadata": {
    "collapsed": false
   },
   "outputs": [
    {
     "name": "stdout",
     "output_type": "stream",
     "text": [
      "0 Dokładność uczenia: 0.9 Dokładność walidacji: 0.9146\n",
      "1 Dokładność uczenia: 0.94 Dokładność walidacji: 0.9348\n",
      "2 Dokładność uczenia: 0.92 Dokładność walidacji: 0.9466\n",
      "3 Dokładność uczenia: 0.96 Dokładność walidacji: 0.9508\n",
      "4 Dokładność uczenia: 0.92 Dokładność walidacji: 0.9586\n",
      "5 Dokładność uczenia: 0.94 Dokładność walidacji: 0.9586\n",
      "6 Dokładność uczenia: 0.98 Dokładność walidacji: 0.961\n",
      "7 Dokładność uczenia: 0.96 Dokładność walidacji: 0.9636\n",
      "8 Dokładność uczenia: 0.92 Dokładność walidacji: 0.964\n",
      "9 Dokładność uczenia: 0.96 Dokładność walidacji: 0.965\n",
      "10 Dokładność uczenia: 0.98 Dokładność walidacji: 0.969\n",
      "11 Dokładność uczenia: 0.94 Dokładność walidacji: 0.9684\n",
      "12 Dokładność uczenia: 1.0 Dokładność walidacji: 0.9704\n",
      "13 Dokładność uczenia: 0.94 Dokładność walidacji: 0.9686\n",
      "14 Dokładność uczenia: 1.0 Dokładność walidacji: 0.9716\n",
      "15 Dokładność uczenia: 1.0 Dokładność walidacji: 0.9732\n",
      "16 Dokładność uczenia: 1.0 Dokładność walidacji: 0.9738\n",
      "17 Dokładność uczenia: 0.98 Dokładność walidacji: 0.9732\n",
      "18 Dokładność uczenia: 1.0 Dokładność walidacji: 0.9752\n",
      "19 Dokładność uczenia: 1.0 Dokładność walidacji: 0.9748\n",
      "20 Dokładność uczenia: 0.98 Dokładność walidacji: 0.9748\n",
      "21 Dokładność uczenia: 1.0 Dokładność walidacji: 0.975\n",
      "22 Dokładność uczenia: 1.0 Dokładność walidacji: 0.9756\n",
      "23 Dokładność uczenia: 1.0 Dokładność walidacji: 0.9772\n",
      "24 Dokładność uczenia: 1.0 Dokładność walidacji: 0.978\n",
      "25 Dokładność uczenia: 1.0 Dokładność walidacji: 0.9774\n",
      "26 Dokładność uczenia: 1.0 Dokładność walidacji: 0.9776\n",
      "27 Dokładność uczenia: 1.0 Dokładność walidacji: 0.9764\n",
      "28 Dokładność uczenia: 0.98 Dokładność walidacji: 0.9776\n",
      "29 Dokładność uczenia: 1.0 Dokładność walidacji: 0.9778\n",
      "30 Dokładność uczenia: 1.0 Dokładność walidacji: 0.977\n",
      "31 Dokładność uczenia: 1.0 Dokładność walidacji: 0.9786\n",
      "32 Dokładność uczenia: 0.98 Dokładność walidacji: 0.9774\n",
      "33 Dokładność uczenia: 0.98 Dokładność walidacji: 0.979\n",
      "34 Dokładność uczenia: 0.98 Dokładność walidacji: 0.9782\n",
      "35 Dokładność uczenia: 0.98 Dokładność walidacji: 0.9772\n",
      "36 Dokładność uczenia: 0.98 Dokładność walidacji: 0.9794\n",
      "37 Dokładność uczenia: 1.0 Dokładność walidacji: 0.9786\n",
      "38 Dokładność uczenia: 1.0 Dokładność walidacji: 0.9792\n",
      "39 Dokładność uczenia: 1.0 Dokładność walidacji: 0.9788\n"
     ]
    }
   ],
   "source": [
    "with tf.Session() as sess:\n",
    "    init.run()\n",
    "    for epoch in range(n_epochs):\n",
    "        for iteration in range(mnist.train.num_examples // batch_size):\n",
    "            X_batch, y_batch = mnist.train.next_batch(batch_size)\n",
    "            sess.run(training_op, feed_dict={X: X_batch, y: y_batch})\n",
    "        acc_train = accuracy.eval(feed_dict={X: X_batch, y: y_batch})\n",
    "        acc_val = accuracy.eval(feed_dict={X: mnist.validation.images,\n",
    "                                            y: mnist.validation.labels})\n",
    "        print(epoch, \"Dokładność uczenia:\", acc_train, \"Dokładność walidacji:\", acc_val)\n",
    "\n",
    "    save_path = saver.save(sess, \"./moj_model_ostateczny.ckpt\")"
   ]
  },
  {
   "cell_type": "code",
   "execution_count": 24,
   "metadata": {
    "collapsed": false
   },
   "outputs": [
    {
     "name": "stdout",
     "output_type": "stream",
     "text": [
      "INFO:tensorflow:Restoring parameters from ./moj_model_ostateczny.ckpt\n"
     ]
    }
   ],
   "source": [
    "with tf.Session() as sess:\n",
    "    saver.restore(sess, \"./moj_model_ostateczny.ckpt\") # albo, jeszcze lepiej, użyć obiektu save_path\n",
    "    X_new_scaled = mnist.test.images[:20]\n",
    "    Z = logits.eval(feed_dict={X: X_new_scaled})\n",
    "    y_pred = np.argmax(Z, axis=1)"
   ]
  },
  {
   "cell_type": "code",
   "execution_count": 25,
   "metadata": {
    "collapsed": false
   },
   "outputs": [
    {
     "name": "stdout",
     "output_type": "stream",
     "text": [
      "Prognozowane klasy: [7 2 1 0 4 1 4 9 6 9 0 6 9 0 1 5 9 7 3 4]\n",
      "Rzeczywiste klasy:    [7 2 1 0 4 1 4 9 5 9 0 6 9 0 1 5 9 7 3 4]\n"
     ]
    }
   ],
   "source": [
    "print(\"Prognozowane klasy:\", y_pred)\n",
    "print(\"Rzeczywiste klasy:   \", mnist.test.labels[:20])"
   ]
  },
  {
   "cell_type": "code",
   "execution_count": 26,
   "metadata": {
    "collapsed": true
   },
   "outputs": [],
   "source": [
    "from IPython.display import clear_output, Image, display, HTML\n",
    "\n",
    "def strip_consts(graph_def, max_const_size=32):\n",
    "    \"\"\"Wyciąga duże wartości stałych z obiektu graph_def.\"\"\"\n",
    "    strip_def = tf.GraphDef()\n",
    "    for n0 in graph_def.node:\n",
    "        n = strip_def.node.add() \n",
    "        n.MergeFrom(n0)\n",
    "        if n.op == 'Const':\n",
    "            tensor = n.attr['value'].tensor\n",
    "            size = len(tensor.tensor_content)\n",
    "            if size > max_const_size:\n",
    "                tensor.tensor_content = b\"<stripped %d bytes>\"%size\n",
    "    return strip_def\n",
    "\n",
    "def show_graph(graph_def, max_const_size=32):\n",
    "    \"\"\"Wizualizuje graf TensorFlow.\"\"\"\n",
    "    if hasattr(graph_def, 'as_graph_def'):\n",
    "        graph_def = graph_def.as_graph_def()\n",
    "    strip_def = strip_consts(graph_def, max_const_size=max_const_size)\n",
    "    code = \"\"\"\n",
    "        <script>\n",
    "          function load() {{\n",
    "            document.getElementById(\"{id}\").pbtxt = {data};\n",
    "          }}\n",
    "        </script>\n",
    "        <link rel=\"import\" href=\"https://tensorboard.appspot.com/tf-graph-basic.build.html\" onload=load()>\n",
    "        <div style=\"height:600px\">\n",
    "          <tf-graph-basic id=\"{id}\"></tf-graph-basic>\n",
    "        </div>\n",
    "    \"\"\".format(data=repr(str(strip_def)), id='graph'+str(np.random.rand()))\n",
    "\n",
    "    iframe = \"\"\"\n",
    "        <iframe seamless style=\"width:1200px;height:620px;border:0\" srcdoc=\"{}\"></iframe>\n",
    "    \"\"\".format(code.replace('\"', '&quot;'))\n",
    "    display(HTML(iframe))"
   ]
  },
  {
   "cell_type": "code",
   "execution_count": 27,
   "metadata": {
    "collapsed": false
   },
   "outputs": [
    {
     "data": {
      "text/html": [
       "\n",
       "        <iframe seamless style=\"width:1200px;height:620px;border:0\" srcdoc=\"\n",
       "        <script>\n",
       "          function load() {\n",
       "            document.getElementById(&quot;graph0.2851015593374667&quot;).pbtxt = 'node {\\n  name: &quot;X&quot;\\n  op: &quot;Placeholder&quot;\\n  attr {\\n    key: &quot;dtype&quot;\\n    value {\\n      type: DT_FLOAT\\n    }\\n  }\\n  attr {\\n    key: &quot;shape&quot;\\n    value {\\n      shape {\\n        dim {\\n          size: -1\\n        }\\n        dim {\\n          size: 784\\n        }\\n      }\\n    }\\n  }\\n}\\nnode {\\n  name: &quot;y&quot;\\n  op: &quot;Placeholder&quot;\\n  attr {\\n    key: &quot;dtype&quot;\\n    value {\\n      type: DT_INT64\\n    }\\n  }\\n  attr {\\n    key: &quot;shape&quot;\\n    value {\\n      shape {\\n        unknown_rank: true\\n      }\\n    }\\n  }\\n}\\nnode {\\n  name: &quot;gsn/ukryta1/truncated_normal/shape&quot;\\n  op: &quot;Const&quot;\\n  attr {\\n    key: &quot;dtype&quot;\\n    value {\\n      type: DT_INT32\\n    }\\n  }\\n  attr {\\n    key: &quot;value&quot;\\n    value {\\n      tensor {\\n        dtype: DT_INT32\\n        tensor_shape {\\n          dim {\\n            size: 2\\n          }\\n        }\\n        tensor_content: &quot;\\\\020\\\\003\\\\000\\\\000,\\\\001\\\\000\\\\000&quot;\\n      }\\n    }\\n  }\\n}\\nnode {\\n  name: &quot;gsn/ukryta1/truncated_normal/mean&quot;\\n  op: &quot;Const&quot;\\n  attr {\\n    key: &quot;dtype&quot;\\n    value {\\n      type: DT_FLOAT\\n    }\\n  }\\n  attr {\\n    key: &quot;value&quot;\\n    value {\\n      tensor {\\n        dtype: DT_FLOAT\\n        tensor_shape {\\n        }\\n        float_val: 0.0\\n      }\\n    }\\n  }\\n}\\nnode {\\n  name: &quot;gsn/ukryta1/truncated_normal/stddev&quot;\\n  op: &quot;Const&quot;\\n  attr {\\n    key: &quot;dtype&quot;\\n    value {\\n      type: DT_FLOAT\\n    }\\n  }\\n  attr {\\n    key: &quot;value&quot;\\n    value {\\n      tensor {\\n        dtype: DT_FLOAT\\n        tensor_shape {\\n        }\\n        float_val: 0.0714285746216774\\n      }\\n    }\\n  }\\n}\\nnode {\\n  name: &quot;gsn/ukryta1/truncated_normal/TruncatedNormal&quot;\\n  op: &quot;TruncatedNormal&quot;\\n  input: &quot;gsn/ukryta1/truncated_normal/shape&quot;\\n  attr {\\n    key: &quot;T&quot;\\n    value {\\n      type: DT_INT32\\n    }\\n  }\\n  attr {\\n    key: &quot;dtype&quot;\\n    value {\\n      type: DT_FLOAT\\n    }\\n  }\\n  attr {\\n    key: &quot;seed&quot;\\n    value {\\n      i: 42\\n    }\\n  }\\n  attr {\\n    key: &quot;seed2&quot;\\n    value {\\n      i: 5\\n    }\\n  }\\n}\\nnode {\\n  name: &quot;gsn/ukryta1/truncated_normal/mul&quot;\\n  op: &quot;Mul&quot;\\n  input: &quot;gsn/ukryta1/truncated_normal/TruncatedNormal&quot;\\n  input: &quot;gsn/ukryta1/truncated_normal/stddev&quot;\\n  attr {\\n    key: &quot;T&quot;\\n    value {\\n      type: DT_FLOAT\\n    }\\n  }\\n}\\nnode {\\n  name: &quot;gsn/ukryta1/truncated_normal&quot;\\n  op: &quot;Add&quot;\\n  input: &quot;gsn/ukryta1/truncated_normal/mul&quot;\\n  input: &quot;gsn/ukryta1/truncated_normal/mean&quot;\\n  attr {\\n    key: &quot;T&quot;\\n    value {\\n      type: DT_FLOAT\\n    }\\n  }\\n}\\nnode {\\n  name: &quot;gsn/ukryta1/jadro&quot;\\n  op: &quot;VariableV2&quot;\\n  attr {\\n    key: &quot;container&quot;\\n    value {\\n      s: &quot;&quot;\\n    }\\n  }\\n  attr {\\n    key: &quot;dtype&quot;\\n    value {\\n      type: DT_FLOAT\\n    }\\n  }\\n  attr {\\n    key: &quot;shape&quot;\\n    value {\\n      shape {\\n        dim {\\n          size: 784\\n        }\\n        dim {\\n          size: 300\\n        }\\n      }\\n    }\\n  }\\n  attr {\\n    key: &quot;shared_name&quot;\\n    value {\\n      s: &quot;&quot;\\n    }\\n  }\\n}\\nnode {\\n  name: &quot;gsn/ukryta1/jadro/Assign&quot;\\n  op: &quot;Assign&quot;\\n  input: &quot;gsn/ukryta1/jadro&quot;\\n  input: &quot;gsn/ukryta1/truncated_normal&quot;\\n  attr {\\n    key: &quot;T&quot;\\n    value {\\n      type: DT_FLOAT\\n    }\\n  }\\n  attr {\\n    key: &quot;_class&quot;\\n    value {\\n      list {\\n        s: &quot;loc:@gsn/ukryta1/jadro&quot;\\n      }\\n    }\\n  }\\n  attr {\\n    key: &quot;use_locking&quot;\\n    value {\\n      b: true\\n    }\\n  }\\n  attr {\\n    key: &quot;validate_shape&quot;\\n    value {\\n      b: true\\n    }\\n  }\\n}\\nnode {\\n  name: &quot;gsn/ukryta1/jadro/read&quot;\\n  op: &quot;Identity&quot;\\n  input: &quot;gsn/ukryta1/jadro&quot;\\n  attr {\\n    key: &quot;T&quot;\\n    value {\\n      type: DT_FLOAT\\n    }\\n  }\\n  attr {\\n    key: &quot;_class&quot;\\n    value {\\n      list {\\n        s: &quot;loc:@gsn/ukryta1/jadro&quot;\\n      }\\n    }\\n  }\\n}\\nnode {\\n  name: &quot;gsn/ukryta1/zeros&quot;\\n  op: &quot;Const&quot;\\n  attr {\\n    key: &quot;dtype&quot;\\n    value {\\n      type: DT_FLOAT\\n    }\\n  }\\n  attr {\\n    key: &quot;value&quot;\\n    value {\\n      tensor {\\n        dtype: DT_FLOAT\\n        tensor_shape {\\n          dim {\\n            size: 300\\n          }\\n        }\\n        float_val: 0.0\\n      }\\n    }\\n  }\\n}\\nnode {\\n  name: &quot;gsn/ukryta1/obciazenie&quot;\\n  op: &quot;VariableV2&quot;\\n  attr {\\n    key: &quot;container&quot;\\n    value {\\n      s: &quot;&quot;\\n    }\\n  }\\n  attr {\\n    key: &quot;dtype&quot;\\n    value {\\n      type: DT_FLOAT\\n    }\\n  }\\n  attr {\\n    key: &quot;shape&quot;\\n    value {\\n      shape {\\n        dim {\\n          size: 300\\n        }\\n      }\\n    }\\n  }\\n  attr {\\n    key: &quot;shared_name&quot;\\n    value {\\n      s: &quot;&quot;\\n    }\\n  }\\n}\\nnode {\\n  name: &quot;gsn/ukryta1/obciazenie/Assign&quot;\\n  op: &quot;Assign&quot;\\n  input: &quot;gsn/ukryta1/obciazenie&quot;\\n  input: &quot;gsn/ukryta1/zeros&quot;\\n  attr {\\n    key: &quot;T&quot;\\n    value {\\n      type: DT_FLOAT\\n    }\\n  }\\n  attr {\\n    key: &quot;_class&quot;\\n    value {\\n      list {\\n        s: &quot;loc:@gsn/ukryta1/obciazenie&quot;\\n      }\\n    }\\n  }\\n  attr {\\n    key: &quot;use_locking&quot;\\n    value {\\n      b: true\\n    }\\n  }\\n  attr {\\n    key: &quot;validate_shape&quot;\\n    value {\\n      b: true\\n    }\\n  }\\n}\\nnode {\\n  name: &quot;gsn/ukryta1/obciazenie/read&quot;\\n  op: &quot;Identity&quot;\\n  input: &quot;gsn/ukryta1/obciazenie&quot;\\n  attr {\\n    key: &quot;T&quot;\\n    value {\\n      type: DT_FLOAT\\n    }\\n  }\\n  attr {\\n    key: &quot;_class&quot;\\n    value {\\n      list {\\n        s: &quot;loc:@gsn/ukryta1/obciazenie&quot;\\n      }\\n    }\\n  }\\n}\\nnode {\\n  name: &quot;gsn/ukryta1/MatMul&quot;\\n  op: &quot;MatMul&quot;\\n  input: &quot;X&quot;\\n  input: &quot;gsn/ukryta1/jadro/read&quot;\\n  attr {\\n    key: &quot;T&quot;\\n    value {\\n      type: DT_FLOAT\\n    }\\n  }\\n  attr {\\n    key: &quot;transpose_a&quot;\\n    value {\\n      b: false\\n    }\\n  }\\n  attr {\\n    key: &quot;transpose_b&quot;\\n    value {\\n      b: false\\n    }\\n  }\\n}\\nnode {\\n  name: &quot;gsn/ukryta1/add&quot;\\n  op: &quot;Add&quot;\\n  input: &quot;gsn/ukryta1/MatMul&quot;\\n  input: &quot;gsn/ukryta1/obciazenie/read&quot;\\n  attr {\\n    key: &quot;T&quot;\\n    value {\\n      type: DT_FLOAT\\n    }\\n  }\\n}\\nnode {\\n  name: &quot;gsn/ukryta1/Relu&quot;\\n  op: &quot;Relu&quot;\\n  input: &quot;gsn/ukryta1/add&quot;\\n  attr {\\n    key: &quot;T&quot;\\n    value {\\n      type: DT_FLOAT\\n    }\\n  }\\n}\\nnode {\\n  name: &quot;gsn/ukryta2/truncated_normal/shape&quot;\\n  op: &quot;Const&quot;\\n  attr {\\n    key: &quot;dtype&quot;\\n    value {\\n      type: DT_INT32\\n    }\\n  }\\n  attr {\\n    key: &quot;value&quot;\\n    value {\\n      tensor {\\n        dtype: DT_INT32\\n        tensor_shape {\\n          dim {\\n            size: 2\\n          }\\n        }\\n        tensor_content: &quot;,\\\\001\\\\000\\\\000d\\\\000\\\\000\\\\000&quot;\\n      }\\n    }\\n  }\\n}\\nnode {\\n  name: &quot;gsn/ukryta2/truncated_normal/mean&quot;\\n  op: &quot;Const&quot;\\n  attr {\\n    key: &quot;dtype&quot;\\n    value {\\n      type: DT_FLOAT\\n    }\\n  }\\n  attr {\\n    key: &quot;value&quot;\\n    value {\\n      tensor {\\n        dtype: DT_FLOAT\\n        tensor_shape {\\n        }\\n        float_val: 0.0\\n      }\\n    }\\n  }\\n}\\nnode {\\n  name: &quot;gsn/ukryta2/truncated_normal/stddev&quot;\\n  op: &quot;Const&quot;\\n  attr {\\n    key: &quot;dtype&quot;\\n    value {\\n      type: DT_FLOAT\\n    }\\n  }\\n  attr {\\n    key: &quot;value&quot;\\n    value {\\n      tensor {\\n        dtype: DT_FLOAT\\n        tensor_shape {\\n        }\\n        float_val: 0.1154700517654419\\n      }\\n    }\\n  }\\n}\\nnode {\\n  name: &quot;gsn/ukryta2/truncated_normal/TruncatedNormal&quot;\\n  op: &quot;TruncatedNormal&quot;\\n  input: &quot;gsn/ukryta2/truncated_normal/shape&quot;\\n  attr {\\n    key: &quot;T&quot;\\n    value {\\n      type: DT_INT32\\n    }\\n  }\\n  attr {\\n    key: &quot;dtype&quot;\\n    value {\\n      type: DT_FLOAT\\n    }\\n  }\\n  attr {\\n    key: &quot;seed&quot;\\n    value {\\n      i: 42\\n    }\\n  }\\n  attr {\\n    key: &quot;seed2&quot;\\n    value {\\n      i: 21\\n    }\\n  }\\n}\\nnode {\\n  name: &quot;gsn/ukryta2/truncated_normal/mul&quot;\\n  op: &quot;Mul&quot;\\n  input: &quot;gsn/ukryta2/truncated_normal/TruncatedNormal&quot;\\n  input: &quot;gsn/ukryta2/truncated_normal/stddev&quot;\\n  attr {\\n    key: &quot;T&quot;\\n    value {\\n      type: DT_FLOAT\\n    }\\n  }\\n}\\nnode {\\n  name: &quot;gsn/ukryta2/truncated_normal&quot;\\n  op: &quot;Add&quot;\\n  input: &quot;gsn/ukryta2/truncated_normal/mul&quot;\\n  input: &quot;gsn/ukryta2/truncated_normal/mean&quot;\\n  attr {\\n    key: &quot;T&quot;\\n    value {\\n      type: DT_FLOAT\\n    }\\n  }\\n}\\nnode {\\n  name: &quot;gsn/ukryta2/jadro&quot;\\n  op: &quot;VariableV2&quot;\\n  attr {\\n    key: &quot;container&quot;\\n    value {\\n      s: &quot;&quot;\\n    }\\n  }\\n  attr {\\n    key: &quot;dtype&quot;\\n    value {\\n      type: DT_FLOAT\\n    }\\n  }\\n  attr {\\n    key: &quot;shape&quot;\\n    value {\\n      shape {\\n        dim {\\n          size: 300\\n        }\\n        dim {\\n          size: 100\\n        }\\n      }\\n    }\\n  }\\n  attr {\\n    key: &quot;shared_name&quot;\\n    value {\\n      s: &quot;&quot;\\n    }\\n  }\\n}\\nnode {\\n  name: &quot;gsn/ukryta2/jadro/Assign&quot;\\n  op: &quot;Assign&quot;\\n  input: &quot;gsn/ukryta2/jadro&quot;\\n  input: &quot;gsn/ukryta2/truncated_normal&quot;\\n  attr {\\n    key: &quot;T&quot;\\n    value {\\n      type: DT_FLOAT\\n    }\\n  }\\n  attr {\\n    key: &quot;_class&quot;\\n    value {\\n      list {\\n        s: &quot;loc:@gsn/ukryta2/jadro&quot;\\n      }\\n    }\\n  }\\n  attr {\\n    key: &quot;use_locking&quot;\\n    value {\\n      b: true\\n    }\\n  }\\n  attr {\\n    key: &quot;validate_shape&quot;\\n    value {\\n      b: true\\n    }\\n  }\\n}\\nnode {\\n  name: &quot;gsn/ukryta2/jadro/read&quot;\\n  op: &quot;Identity&quot;\\n  input: &quot;gsn/ukryta2/jadro&quot;\\n  attr {\\n    key: &quot;T&quot;\\n    value {\\n      type: DT_FLOAT\\n    }\\n  }\\n  attr {\\n    key: &quot;_class&quot;\\n    value {\\n      list {\\n        s: &quot;loc:@gsn/ukryta2/jadro&quot;\\n      }\\n    }\\n  }\\n}\\nnode {\\n  name: &quot;gsn/ukryta2/zeros&quot;\\n  op: &quot;Const&quot;\\n  attr {\\n    key: &quot;dtype&quot;\\n    value {\\n      type: DT_FLOAT\\n    }\\n  }\\n  attr {\\n    key: &quot;value&quot;\\n    value {\\n      tensor {\\n        dtype: DT_FLOAT\\n        tensor_shape {\\n          dim {\\n            size: 100\\n          }\\n        }\\n        float_val: 0.0\\n      }\\n    }\\n  }\\n}\\nnode {\\n  name: &quot;gsn/ukryta2/obciazenie&quot;\\n  op: &quot;VariableV2&quot;\\n  attr {\\n    key: &quot;container&quot;\\n    value {\\n      s: &quot;&quot;\\n    }\\n  }\\n  attr {\\n    key: &quot;dtype&quot;\\n    value {\\n      type: DT_FLOAT\\n    }\\n  }\\n  attr {\\n    key: &quot;shape&quot;\\n    value {\\n      shape {\\n        dim {\\n          size: 100\\n        }\\n      }\\n    }\\n  }\\n  attr {\\n    key: &quot;shared_name&quot;\\n    value {\\n      s: &quot;&quot;\\n    }\\n  }\\n}\\nnode {\\n  name: &quot;gsn/ukryta2/obciazenie/Assign&quot;\\n  op: &quot;Assign&quot;\\n  input: &quot;gsn/ukryta2/obciazenie&quot;\\n  input: &quot;gsn/ukryta2/zeros&quot;\\n  attr {\\n    key: &quot;T&quot;\\n    value {\\n      type: DT_FLOAT\\n    }\\n  }\\n  attr {\\n    key: &quot;_class&quot;\\n    value {\\n      list {\\n        s: &quot;loc:@gsn/ukryta2/obciazenie&quot;\\n      }\\n    }\\n  }\\n  attr {\\n    key: &quot;use_locking&quot;\\n    value {\\n      b: true\\n    }\\n  }\\n  attr {\\n    key: &quot;validate_shape&quot;\\n    value {\\n      b: true\\n    }\\n  }\\n}\\nnode {\\n  name: &quot;gsn/ukryta2/obciazenie/read&quot;\\n  op: &quot;Identity&quot;\\n  input: &quot;gsn/ukryta2/obciazenie&quot;\\n  attr {\\n    key: &quot;T&quot;\\n    value {\\n      type: DT_FLOAT\\n    }\\n  }\\n  attr {\\n    key: &quot;_class&quot;\\n    value {\\n      list {\\n        s: &quot;loc:@gsn/ukryta2/obciazenie&quot;\\n      }\\n    }\\n  }\\n}\\nnode {\\n  name: &quot;gsn/ukryta2/MatMul&quot;\\n  op: &quot;MatMul&quot;\\n  input: &quot;gsn/ukryta1/Relu&quot;\\n  input: &quot;gsn/ukryta2/jadro/read&quot;\\n  attr {\\n    key: &quot;T&quot;\\n    value {\\n      type: DT_FLOAT\\n    }\\n  }\\n  attr {\\n    key: &quot;transpose_a&quot;\\n    value {\\n      b: false\\n    }\\n  }\\n  attr {\\n    key: &quot;transpose_b&quot;\\n    value {\\n      b: false\\n    }\\n  }\\n}\\nnode {\\n  name: &quot;gsn/ukryta2/add&quot;\\n  op: &quot;Add&quot;\\n  input: &quot;gsn/ukryta2/MatMul&quot;\\n  input: &quot;gsn/ukryta2/obciazenie/read&quot;\\n  attr {\\n    key: &quot;T&quot;\\n    value {\\n      type: DT_FLOAT\\n    }\\n  }\\n}\\nnode {\\n  name: &quot;gsn/ukryta2/Relu&quot;\\n  op: &quot;Relu&quot;\\n  input: &quot;gsn/ukryta2/add&quot;\\n  attr {\\n    key: &quot;T&quot;\\n    value {\\n      type: DT_FLOAT\\n    }\\n  }\\n}\\nnode {\\n  name: &quot;gsn/wyjscia/truncated_normal/shape&quot;\\n  op: &quot;Const&quot;\\n  attr {\\n    key: &quot;dtype&quot;\\n    value {\\n      type: DT_INT32\\n    }\\n  }\\n  attr {\\n    key: &quot;value&quot;\\n    value {\\n      tensor {\\n        dtype: DT_INT32\\n        tensor_shape {\\n          dim {\\n            size: 2\\n          }\\n        }\\n        tensor_content: &quot;d\\\\000\\\\000\\\\000\\\\n\\\\000\\\\000\\\\000&quot;\\n      }\\n    }\\n  }\\n}\\nnode {\\n  name: &quot;gsn/wyjscia/truncated_normal/mean&quot;\\n  op: &quot;Const&quot;\\n  attr {\\n    key: &quot;dtype&quot;\\n    value {\\n      type: DT_FLOAT\\n    }\\n  }\\n  attr {\\n    key: &quot;value&quot;\\n    value {\\n      tensor {\\n        dtype: DT_FLOAT\\n        tensor_shape {\\n        }\\n        float_val: 0.0\\n      }\\n    }\\n  }\\n}\\nnode {\\n  name: &quot;gsn/wyjscia/truncated_normal/stddev&quot;\\n  op: &quot;Const&quot;\\n  attr {\\n    key: &quot;dtype&quot;\\n    value {\\n      type: DT_FLOAT\\n    }\\n  }\\n  attr {\\n    key: &quot;value&quot;\\n    value {\\n      tensor {\\n        dtype: DT_FLOAT\\n        tensor_shape {\\n        }\\n        float_val: 0.20000000298023224\\n      }\\n    }\\n  }\\n}\\nnode {\\n  name: &quot;gsn/wyjscia/truncated_normal/TruncatedNormal&quot;\\n  op: &quot;TruncatedNormal&quot;\\n  input: &quot;gsn/wyjscia/truncated_normal/shape&quot;\\n  attr {\\n    key: &quot;T&quot;\\n    value {\\n      type: DT_INT32\\n    }\\n  }\\n  attr {\\n    key: &quot;dtype&quot;\\n    value {\\n      type: DT_FLOAT\\n    }\\n  }\\n  attr {\\n    key: &quot;seed&quot;\\n    value {\\n      i: 42\\n    }\\n  }\\n  attr {\\n    key: &quot;seed2&quot;\\n    value {\\n      i: 37\\n    }\\n  }\\n}\\nnode {\\n  name: &quot;gsn/wyjscia/truncated_normal/mul&quot;\\n  op: &quot;Mul&quot;\\n  input: &quot;gsn/wyjscia/truncated_normal/TruncatedNormal&quot;\\n  input: &quot;gsn/wyjscia/truncated_normal/stddev&quot;\\n  attr {\\n    key: &quot;T&quot;\\n    value {\\n      type: DT_FLOAT\\n    }\\n  }\\n}\\nnode {\\n  name: &quot;gsn/wyjscia/truncated_normal&quot;\\n  op: &quot;Add&quot;\\n  input: &quot;gsn/wyjscia/truncated_normal/mul&quot;\\n  input: &quot;gsn/wyjscia/truncated_normal/mean&quot;\\n  attr {\\n    key: &quot;T&quot;\\n    value {\\n      type: DT_FLOAT\\n    }\\n  }\\n}\\nnode {\\n  name: &quot;gsn/wyjscia/jadro&quot;\\n  op: &quot;VariableV2&quot;\\n  attr {\\n    key: &quot;container&quot;\\n    value {\\n      s: &quot;&quot;\\n    }\\n  }\\n  attr {\\n    key: &quot;dtype&quot;\\n    value {\\n      type: DT_FLOAT\\n    }\\n  }\\n  attr {\\n    key: &quot;shape&quot;\\n    value {\\n      shape {\\n        dim {\\n          size: 100\\n        }\\n        dim {\\n          size: 10\\n        }\\n      }\\n    }\\n  }\\n  attr {\\n    key: &quot;shared_name&quot;\\n    value {\\n      s: &quot;&quot;\\n    }\\n  }\\n}\\nnode {\\n  name: &quot;gsn/wyjscia/jadro/Assign&quot;\\n  op: &quot;Assign&quot;\\n  input: &quot;gsn/wyjscia/jadro&quot;\\n  input: &quot;gsn/wyjscia/truncated_normal&quot;\\n  attr {\\n    key: &quot;T&quot;\\n    value {\\n      type: DT_FLOAT\\n    }\\n  }\\n  attr {\\n    key: &quot;_class&quot;\\n    value {\\n      list {\\n        s: &quot;loc:@gsn/wyjscia/jadro&quot;\\n      }\\n    }\\n  }\\n  attr {\\n    key: &quot;use_locking&quot;\\n    value {\\n      b: true\\n    }\\n  }\\n  attr {\\n    key: &quot;validate_shape&quot;\\n    value {\\n      b: true\\n    }\\n  }\\n}\\nnode {\\n  name: &quot;gsn/wyjscia/jadro/read&quot;\\n  op: &quot;Identity&quot;\\n  input: &quot;gsn/wyjscia/jadro&quot;\\n  attr {\\n    key: &quot;T&quot;\\n    value {\\n      type: DT_FLOAT\\n    }\\n  }\\n  attr {\\n    key: &quot;_class&quot;\\n    value {\\n      list {\\n        s: &quot;loc:@gsn/wyjscia/jadro&quot;\\n      }\\n    }\\n  }\\n}\\nnode {\\n  name: &quot;gsn/wyjscia/zeros&quot;\\n  op: &quot;Const&quot;\\n  attr {\\n    key: &quot;dtype&quot;\\n    value {\\n      type: DT_FLOAT\\n    }\\n  }\\n  attr {\\n    key: &quot;value&quot;\\n    value {\\n      tensor {\\n        dtype: DT_FLOAT\\n        tensor_shape {\\n          dim {\\n            size: 10\\n          }\\n        }\\n        float_val: 0.0\\n      }\\n    }\\n  }\\n}\\nnode {\\n  name: &quot;gsn/wyjscia/obciazenie&quot;\\n  op: &quot;VariableV2&quot;\\n  attr {\\n    key: &quot;container&quot;\\n    value {\\n      s: &quot;&quot;\\n    }\\n  }\\n  attr {\\n    key: &quot;dtype&quot;\\n    value {\\n      type: DT_FLOAT\\n    }\\n  }\\n  attr {\\n    key: &quot;shape&quot;\\n    value {\\n      shape {\\n        dim {\\n          size: 10\\n        }\\n      }\\n    }\\n  }\\n  attr {\\n    key: &quot;shared_name&quot;\\n    value {\\n      s: &quot;&quot;\\n    }\\n  }\\n}\\nnode {\\n  name: &quot;gsn/wyjscia/obciazenie/Assign&quot;\\n  op: &quot;Assign&quot;\\n  input: &quot;gsn/wyjscia/obciazenie&quot;\\n  input: &quot;gsn/wyjscia/zeros&quot;\\n  attr {\\n    key: &quot;T&quot;\\n    value {\\n      type: DT_FLOAT\\n    }\\n  }\\n  attr {\\n    key: &quot;_class&quot;\\n    value {\\n      list {\\n        s: &quot;loc:@gsn/wyjscia/obciazenie&quot;\\n      }\\n    }\\n  }\\n  attr {\\n    key: &quot;use_locking&quot;\\n    value {\\n      b: true\\n    }\\n  }\\n  attr {\\n    key: &quot;validate_shape&quot;\\n    value {\\n      b: true\\n    }\\n  }\\n}\\nnode {\\n  name: &quot;gsn/wyjscia/obciazenie/read&quot;\\n  op: &quot;Identity&quot;\\n  input: &quot;gsn/wyjscia/obciazenie&quot;\\n  attr {\\n    key: &quot;T&quot;\\n    value {\\n      type: DT_FLOAT\\n    }\\n  }\\n  attr {\\n    key: &quot;_class&quot;\\n    value {\\n      list {\\n        s: &quot;loc:@gsn/wyjscia/obciazenie&quot;\\n      }\\n    }\\n  }\\n}\\nnode {\\n  name: &quot;gsn/wyjscia/MatMul&quot;\\n  op: &quot;MatMul&quot;\\n  input: &quot;gsn/ukryta2/Relu&quot;\\n  input: &quot;gsn/wyjscia/jadro/read&quot;\\n  attr {\\n    key: &quot;T&quot;\\n    value {\\n      type: DT_FLOAT\\n    }\\n  }\\n  attr {\\n    key: &quot;transpose_a&quot;\\n    value {\\n      b: false\\n    }\\n  }\\n  attr {\\n    key: &quot;transpose_b&quot;\\n    value {\\n      b: false\\n    }\\n  }\\n}\\nnode {\\n  name: &quot;gsn/wyjscia/add&quot;\\n  op: &quot;Add&quot;\\n  input: &quot;gsn/wyjscia/MatMul&quot;\\n  input: &quot;gsn/wyjscia/obciazenie/read&quot;\\n  attr {\\n    key: &quot;T&quot;\\n    value {\\n      type: DT_FLOAT\\n    }\\n  }\\n}\\nnode {\\n  name: &quot;strata/SparseSoftmaxCrossEntropyWithLogits/Shape&quot;\\n  op: &quot;Shape&quot;\\n  input: &quot;y&quot;\\n  attr {\\n    key: &quot;T&quot;\\n    value {\\n      type: DT_INT64\\n    }\\n  }\\n  attr {\\n    key: &quot;out_type&quot;\\n    value {\\n      type: DT_INT32\\n    }\\n  }\\n}\\nnode {\\n  name: &quot;strata/SparseSoftmaxCrossEntropyWithLogits/SparseSoftmaxCrossEntropyWithLogits&quot;\\n  op: &quot;SparseSoftmaxCrossEntropyWithLogits&quot;\\n  input: &quot;gsn/wyjscia/add&quot;\\n  input: &quot;y&quot;\\n  attr {\\n    key: &quot;T&quot;\\n    value {\\n      type: DT_FLOAT\\n    }\\n  }\\n  attr {\\n    key: &quot;Tlabels&quot;\\n    value {\\n      type: DT_INT64\\n    }\\n  }\\n}\\nnode {\\n  name: &quot;strata/Const&quot;\\n  op: &quot;Const&quot;\\n  attr {\\n    key: &quot;dtype&quot;\\n    value {\\n      type: DT_INT32\\n    }\\n  }\\n  attr {\\n    key: &quot;value&quot;\\n    value {\\n      tensor {\\n        dtype: DT_INT32\\n        tensor_shape {\\n          dim {\\n            size: 1\\n          }\\n        }\\n        int_val: 0\\n      }\\n    }\\n  }\\n}\\nnode {\\n  name: &quot;strata/strata&quot;\\n  op: &quot;Mean&quot;\\n  input: &quot;strata/SparseSoftmaxCrossEntropyWithLogits/SparseSoftmaxCrossEntropyWithLogits&quot;\\n  input: &quot;strata/Const&quot;\\n  attr {\\n    key: &quot;T&quot;\\n    value {\\n      type: DT_FLOAT\\n    }\\n  }\\n  attr {\\n    key: &quot;Tidx&quot;\\n    value {\\n      type: DT_INT32\\n    }\\n  }\\n  attr {\\n    key: &quot;keep_dims&quot;\\n    value {\\n      b: false\\n    }\\n  }\\n}\\nnode {\\n  name: &quot;uczenie/gradients/Shape&quot;\\n  op: &quot;Const&quot;\\n  attr {\\n    key: &quot;dtype&quot;\\n    value {\\n      type: DT_INT32\\n    }\\n  }\\n  attr {\\n    key: &quot;value&quot;\\n    value {\\n      tensor {\\n        dtype: DT_INT32\\n        tensor_shape {\\n          dim {\\n          }\\n        }\\n      }\\n    }\\n  }\\n}\\nnode {\\n  name: &quot;uczenie/gradients/Const&quot;\\n  op: &quot;Const&quot;\\n  attr {\\n    key: &quot;dtype&quot;\\n    value {\\n      type: DT_FLOAT\\n    }\\n  }\\n  attr {\\n    key: &quot;value&quot;\\n    value {\\n      tensor {\\n        dtype: DT_FLOAT\\n        tensor_shape {\\n        }\\n        float_val: 1.0\\n      }\\n    }\\n  }\\n}\\nnode {\\n  name: &quot;uczenie/gradients/Fill&quot;\\n  op: &quot;Fill&quot;\\n  input: &quot;uczenie/gradients/Shape&quot;\\n  input: &quot;uczenie/gradients/Const&quot;\\n  attr {\\n    key: &quot;T&quot;\\n    value {\\n      type: DT_FLOAT\\n    }\\n  }\\n}\\nnode {\\n  name: &quot;uczenie/gradients/strata/strata_grad/Reshape/shape&quot;\\n  op: &quot;Const&quot;\\n  attr {\\n    key: &quot;dtype&quot;\\n    value {\\n      type: DT_INT32\\n    }\\n  }\\n  attr {\\n    key: &quot;value&quot;\\n    value {\\n      tensor {\\n        dtype: DT_INT32\\n        tensor_shape {\\n          dim {\\n            size: 1\\n          }\\n        }\\n        int_val: 1\\n      }\\n    }\\n  }\\n}\\nnode {\\n  name: &quot;uczenie/gradients/strata/strata_grad/Reshape&quot;\\n  op: &quot;Reshape&quot;\\n  input: &quot;uczenie/gradients/Fill&quot;\\n  input: &quot;uczenie/gradients/strata/strata_grad/Reshape/shape&quot;\\n  attr {\\n    key: &quot;T&quot;\\n    value {\\n      type: DT_FLOAT\\n    }\\n  }\\n  attr {\\n    key: &quot;Tshape&quot;\\n    value {\\n      type: DT_INT32\\n    }\\n  }\\n}\\nnode {\\n  name: &quot;uczenie/gradients/strata/strata_grad/Shape&quot;\\n  op: &quot;Shape&quot;\\n  input: &quot;strata/SparseSoftmaxCrossEntropyWithLogits/SparseSoftmaxCrossEntropyWithLogits&quot;\\n  attr {\\n    key: &quot;T&quot;\\n    value {\\n      type: DT_FLOAT\\n    }\\n  }\\n  attr {\\n    key: &quot;out_type&quot;\\n    value {\\n      type: DT_INT32\\n    }\\n  }\\n}\\nnode {\\n  name: &quot;uczenie/gradients/strata/strata_grad/Tile&quot;\\n  op: &quot;Tile&quot;\\n  input: &quot;uczenie/gradients/strata/strata_grad/Reshape&quot;\\n  input: &quot;uczenie/gradients/strata/strata_grad/Shape&quot;\\n  attr {\\n    key: &quot;T&quot;\\n    value {\\n      type: DT_FLOAT\\n    }\\n  }\\n  attr {\\n    key: &quot;Tmultiples&quot;\\n    value {\\n      type: DT_INT32\\n    }\\n  }\\n}\\nnode {\\n  name: &quot;uczenie/gradients/strata/strata_grad/Shape_1&quot;\\n  op: &quot;Shape&quot;\\n  input: &quot;strata/SparseSoftmaxCrossEntropyWithLogits/SparseSoftmaxCrossEntropyWithLogits&quot;\\n  attr {\\n    key: &quot;T&quot;\\n    value {\\n      type: DT_FLOAT\\n    }\\n  }\\n  attr {\\n    key: &quot;out_type&quot;\\n    value {\\n      type: DT_INT32\\n    }\\n  }\\n}\\nnode {\\n  name: &quot;uczenie/gradients/strata/strata_grad/Shape_2&quot;\\n  op: &quot;Const&quot;\\n  attr {\\n    key: &quot;dtype&quot;\\n    value {\\n      type: DT_INT32\\n    }\\n  }\\n  attr {\\n    key: &quot;value&quot;\\n    value {\\n      tensor {\\n        dtype: DT_INT32\\n        tensor_shape {\\n          dim {\\n          }\\n        }\\n      }\\n    }\\n  }\\n}\\nnode {\\n  name: &quot;uczenie/gradients/strata/strata_grad/Const&quot;\\n  op: &quot;Const&quot;\\n  attr {\\n    key: &quot;dtype&quot;\\n    value {\\n      type: DT_INT32\\n    }\\n  }\\n  attr {\\n    key: &quot;value&quot;\\n    value {\\n      tensor {\\n        dtype: DT_INT32\\n        tensor_shape {\\n          dim {\\n            size: 1\\n          }\\n        }\\n        int_val: 0\\n      }\\n    }\\n  }\\n}\\nnode {\\n  name: &quot;uczenie/gradients/strata/strata_grad/Prod&quot;\\n  op: &quot;Prod&quot;\\n  input: &quot;uczenie/gradients/strata/strata_grad/Shape_1&quot;\\n  input: &quot;uczenie/gradients/strata/strata_grad/Const&quot;\\n  attr {\\n    key: &quot;T&quot;\\n    value {\\n      type: DT_INT32\\n    }\\n  }\\n  attr {\\n    key: &quot;Tidx&quot;\\n    value {\\n      type: DT_INT32\\n    }\\n  }\\n  attr {\\n    key: &quot;keep_dims&quot;\\n    value {\\n      b: false\\n    }\\n  }\\n}\\nnode {\\n  name: &quot;uczenie/gradients/strata/strata_grad/Const_1&quot;\\n  op: &quot;Const&quot;\\n  attr {\\n    key: &quot;dtype&quot;\\n    value {\\n      type: DT_INT32\\n    }\\n  }\\n  attr {\\n    key: &quot;value&quot;\\n    value {\\n      tensor {\\n        dtype: DT_INT32\\n        tensor_shape {\\n          dim {\\n            size: 1\\n          }\\n        }\\n        int_val: 0\\n      }\\n    }\\n  }\\n}\\nnode {\\n  name: &quot;uczenie/gradients/strata/strata_grad/Prod_1&quot;\\n  op: &quot;Prod&quot;\\n  input: &quot;uczenie/gradients/strata/strata_grad/Shape_2&quot;\\n  input: &quot;uczenie/gradients/strata/strata_grad/Const_1&quot;\\n  attr {\\n    key: &quot;T&quot;\\n    value {\\n      type: DT_INT32\\n    }\\n  }\\n  attr {\\n    key: &quot;Tidx&quot;\\n    value {\\n      type: DT_INT32\\n    }\\n  }\\n  attr {\\n    key: &quot;keep_dims&quot;\\n    value {\\n      b: false\\n    }\\n  }\\n}\\nnode {\\n  name: &quot;uczenie/gradients/strata/strata_grad/Maximum/y&quot;\\n  op: &quot;Const&quot;\\n  attr {\\n    key: &quot;dtype&quot;\\n    value {\\n      type: DT_INT32\\n    }\\n  }\\n  attr {\\n    key: &quot;value&quot;\\n    value {\\n      tensor {\\n        dtype: DT_INT32\\n        tensor_shape {\\n        }\\n        int_val: 1\\n      }\\n    }\\n  }\\n}\\nnode {\\n  name: &quot;uczenie/gradients/strata/strata_grad/Maximum&quot;\\n  op: &quot;Maximum&quot;\\n  input: &quot;uczenie/gradients/strata/strata_grad/Prod_1&quot;\\n  input: &quot;uczenie/gradients/strata/strata_grad/Maximum/y&quot;\\n  attr {\\n    key: &quot;T&quot;\\n    value {\\n      type: DT_INT32\\n    }\\n  }\\n}\\nnode {\\n  name: &quot;uczenie/gradients/strata/strata_grad/floordiv&quot;\\n  op: &quot;FloorDiv&quot;\\n  input: &quot;uczenie/gradients/strata/strata_grad/Prod&quot;\\n  input: &quot;uczenie/gradients/strata/strata_grad/Maximum&quot;\\n  attr {\\n    key: &quot;T&quot;\\n    value {\\n      type: DT_INT32\\n    }\\n  }\\n}\\nnode {\\n  name: &quot;uczenie/gradients/strata/strata_grad/Cast&quot;\\n  op: &quot;Cast&quot;\\n  input: &quot;uczenie/gradients/strata/strata_grad/floordiv&quot;\\n  attr {\\n    key: &quot;DstT&quot;\\n    value {\\n      type: DT_FLOAT\\n    }\\n  }\\n  attr {\\n    key: &quot;SrcT&quot;\\n    value {\\n      type: DT_INT32\\n    }\\n  }\\n}\\nnode {\\n  name: &quot;uczenie/gradients/strata/strata_grad/truediv&quot;\\n  op: &quot;RealDiv&quot;\\n  input: &quot;uczenie/gradients/strata/strata_grad/Tile&quot;\\n  input: &quot;uczenie/gradients/strata/strata_grad/Cast&quot;\\n  attr {\\n    key: &quot;T&quot;\\n    value {\\n      type: DT_FLOAT\\n    }\\n  }\\n}\\nnode {\\n  name: &quot;uczenie/gradients/zeros_like&quot;\\n  op: &quot;ZerosLike&quot;\\n  input: &quot;strata/SparseSoftmaxCrossEntropyWithLogits/SparseSoftmaxCrossEntropyWithLogits:1&quot;\\n  attr {\\n    key: &quot;T&quot;\\n    value {\\n      type: DT_FLOAT\\n    }\\n  }\\n}\\nnode {\\n  name: &quot;uczenie/gradients/strata/SparseSoftmaxCrossEntropyWithLogits/SparseSoftmaxCrossEntropyWithLogits_grad/PreventGradient&quot;\\n  op: &quot;PreventGradient&quot;\\n  input: &quot;strata/SparseSoftmaxCrossEntropyWithLogits/SparseSoftmaxCrossEntropyWithLogits:1&quot;\\n  attr {\\n    key: &quot;T&quot;\\n    value {\\n      type: DT_FLOAT\\n    }\\n  }\\n  attr {\\n    key: &quot;message&quot;\\n    value {\\n      s: &quot;Currently there is no way to take the second derivative of sparse_softmax_cross_entropy_with_logits due to the fused implementation\\\\\\'s interaction with tf.gradients()&quot;\\n    }\\n  }\\n}\\nnode {\\n  name: &quot;uczenie/gradients/strata/SparseSoftmaxCrossEntropyWithLogits/SparseSoftmaxCrossEntropyWithLogits_grad/ExpandDims/dim&quot;\\n  op: &quot;Const&quot;\\n  attr {\\n    key: &quot;dtype&quot;\\n    value {\\n      type: DT_INT32\\n    }\\n  }\\n  attr {\\n    key: &quot;value&quot;\\n    value {\\n      tensor {\\n        dtype: DT_INT32\\n        tensor_shape {\\n        }\\n        int_val: -1\\n      }\\n    }\\n  }\\n}\\nnode {\\n  name: &quot;uczenie/gradients/strata/SparseSoftmaxCrossEntropyWithLogits/SparseSoftmaxCrossEntropyWithLogits_grad/ExpandDims&quot;\\n  op: &quot;ExpandDims&quot;\\n  input: &quot;uczenie/gradients/strata/strata_grad/truediv&quot;\\n  input: &quot;uczenie/gradients/strata/SparseSoftmaxCrossEntropyWithLogits/SparseSoftmaxCrossEntropyWithLogits_grad/ExpandDims/dim&quot;\\n  attr {\\n    key: &quot;T&quot;\\n    value {\\n      type: DT_FLOAT\\n    }\\n  }\\n  attr {\\n    key: &quot;Tdim&quot;\\n    value {\\n      type: DT_INT32\\n    }\\n  }\\n}\\nnode {\\n  name: &quot;uczenie/gradients/strata/SparseSoftmaxCrossEntropyWithLogits/SparseSoftmaxCrossEntropyWithLogits_grad/mul&quot;\\n  op: &quot;Mul&quot;\\n  input: &quot;uczenie/gradients/strata/SparseSoftmaxCrossEntropyWithLogits/SparseSoftmaxCrossEntropyWithLogits_grad/ExpandDims&quot;\\n  input: &quot;uczenie/gradients/strata/SparseSoftmaxCrossEntropyWithLogits/SparseSoftmaxCrossEntropyWithLogits_grad/PreventGradient&quot;\\n  attr {\\n    key: &quot;T&quot;\\n    value {\\n      type: DT_FLOAT\\n    }\\n  }\\n}\\nnode {\\n  name: &quot;uczenie/gradients/gsn/wyjscia/add_grad/Shape&quot;\\n  op: &quot;Shape&quot;\\n  input: &quot;gsn/wyjscia/MatMul&quot;\\n  attr {\\n    key: &quot;T&quot;\\n    value {\\n      type: DT_FLOAT\\n    }\\n  }\\n  attr {\\n    key: &quot;out_type&quot;\\n    value {\\n      type: DT_INT32\\n    }\\n  }\\n}\\nnode {\\n  name: &quot;uczenie/gradients/gsn/wyjscia/add_grad/Shape_1&quot;\\n  op: &quot;Const&quot;\\n  attr {\\n    key: &quot;dtype&quot;\\n    value {\\n      type: DT_INT32\\n    }\\n  }\\n  attr {\\n    key: &quot;value&quot;\\n    value {\\n      tensor {\\n        dtype: DT_INT32\\n        tensor_shape {\\n          dim {\\n            size: 1\\n          }\\n        }\\n        int_val: 10\\n      }\\n    }\\n  }\\n}\\nnode {\\n  name: &quot;uczenie/gradients/gsn/wyjscia/add_grad/BroadcastGradientArgs&quot;\\n  op: &quot;BroadcastGradientArgs&quot;\\n  input: &quot;uczenie/gradients/gsn/wyjscia/add_grad/Shape&quot;\\n  input: &quot;uczenie/gradients/gsn/wyjscia/add_grad/Shape_1&quot;\\n  attr {\\n    key: &quot;T&quot;\\n    value {\\n      type: DT_INT32\\n    }\\n  }\\n}\\nnode {\\n  name: &quot;uczenie/gradients/gsn/wyjscia/add_grad/Sum&quot;\\n  op: &quot;Sum&quot;\\n  input: &quot;uczenie/gradients/strata/SparseSoftmaxCrossEntropyWithLogits/SparseSoftmaxCrossEntropyWithLogits_grad/mul&quot;\\n  input: &quot;uczenie/gradients/gsn/wyjscia/add_grad/BroadcastGradientArgs&quot;\\n  attr {\\n    key: &quot;T&quot;\\n    value {\\n      type: DT_FLOAT\\n    }\\n  }\\n  attr {\\n    key: &quot;Tidx&quot;\\n    value {\\n      type: DT_INT32\\n    }\\n  }\\n  attr {\\n    key: &quot;keep_dims&quot;\\n    value {\\n      b: false\\n    }\\n  }\\n}\\nnode {\\n  name: &quot;uczenie/gradients/gsn/wyjscia/add_grad/Reshape&quot;\\n  op: &quot;Reshape&quot;\\n  input: &quot;uczenie/gradients/gsn/wyjscia/add_grad/Sum&quot;\\n  input: &quot;uczenie/gradients/gsn/wyjscia/add_grad/Shape&quot;\\n  attr {\\n    key: &quot;T&quot;\\n    value {\\n      type: DT_FLOAT\\n    }\\n  }\\n  attr {\\n    key: &quot;Tshape&quot;\\n    value {\\n      type: DT_INT32\\n    }\\n  }\\n}\\nnode {\\n  name: &quot;uczenie/gradients/gsn/wyjscia/add_grad/Sum_1&quot;\\n  op: &quot;Sum&quot;\\n  input: &quot;uczenie/gradients/strata/SparseSoftmaxCrossEntropyWithLogits/SparseSoftmaxCrossEntropyWithLogits_grad/mul&quot;\\n  input: &quot;uczenie/gradients/gsn/wyjscia/add_grad/BroadcastGradientArgs:1&quot;\\n  attr {\\n    key: &quot;T&quot;\\n    value {\\n      type: DT_FLOAT\\n    }\\n  }\\n  attr {\\n    key: &quot;Tidx&quot;\\n    value {\\n      type: DT_INT32\\n    }\\n  }\\n  attr {\\n    key: &quot;keep_dims&quot;\\n    value {\\n      b: false\\n    }\\n  }\\n}\\nnode {\\n  name: &quot;uczenie/gradients/gsn/wyjscia/add_grad/Reshape_1&quot;\\n  op: &quot;Reshape&quot;\\n  input: &quot;uczenie/gradients/gsn/wyjscia/add_grad/Sum_1&quot;\\n  input: &quot;uczenie/gradients/gsn/wyjscia/add_grad/Shape_1&quot;\\n  attr {\\n    key: &quot;T&quot;\\n    value {\\n      type: DT_FLOAT\\n    }\\n  }\\n  attr {\\n    key: &quot;Tshape&quot;\\n    value {\\n      type: DT_INT32\\n    }\\n  }\\n}\\nnode {\\n  name: &quot;uczenie/gradients/gsn/wyjscia/add_grad/tuple/group_deps&quot;\\n  op: &quot;NoOp&quot;\\n  input: &quot;^uczenie/gradients/gsn/wyjscia/add_grad/Reshape&quot;\\n  input: &quot;^uczenie/gradients/gsn/wyjscia/add_grad/Reshape_1&quot;\\n}\\nnode {\\n  name: &quot;uczenie/gradients/gsn/wyjscia/add_grad/tuple/control_dependency&quot;\\n  op: &quot;Identity&quot;\\n  input: &quot;uczenie/gradients/gsn/wyjscia/add_grad/Reshape&quot;\\n  input: &quot;^uczenie/gradients/gsn/wyjscia/add_grad/tuple/group_deps&quot;\\n  attr {\\n    key: &quot;T&quot;\\n    value {\\n      type: DT_FLOAT\\n    }\\n  }\\n  attr {\\n    key: &quot;_class&quot;\\n    value {\\n      list {\\n        s: &quot;loc:@uczenie/gradients/gsn/wyjscia/add_grad/Reshape&quot;\\n      }\\n    }\\n  }\\n}\\nnode {\\n  name: &quot;uczenie/gradients/gsn/wyjscia/add_grad/tuple/control_dependency_1&quot;\\n  op: &quot;Identity&quot;\\n  input: &quot;uczenie/gradients/gsn/wyjscia/add_grad/Reshape_1&quot;\\n  input: &quot;^uczenie/gradients/gsn/wyjscia/add_grad/tuple/group_deps&quot;\\n  attr {\\n    key: &quot;T&quot;\\n    value {\\n      type: DT_FLOAT\\n    }\\n  }\\n  attr {\\n    key: &quot;_class&quot;\\n    value {\\n      list {\\n        s: &quot;loc:@uczenie/gradients/gsn/wyjscia/add_grad/Reshape_1&quot;\\n      }\\n    }\\n  }\\n}\\nnode {\\n  name: &quot;uczenie/gradients/gsn/wyjscia/MatMul_grad/MatMul&quot;\\n  op: &quot;MatMul&quot;\\n  input: &quot;uczenie/gradients/gsn/wyjscia/add_grad/tuple/control_dependency&quot;\\n  input: &quot;gsn/wyjscia/jadro/read&quot;\\n  attr {\\n    key: &quot;T&quot;\\n    value {\\n      type: DT_FLOAT\\n    }\\n  }\\n  attr {\\n    key: &quot;transpose_a&quot;\\n    value {\\n      b: false\\n    }\\n  }\\n  attr {\\n    key: &quot;transpose_b&quot;\\n    value {\\n      b: true\\n    }\\n  }\\n}\\nnode {\\n  name: &quot;uczenie/gradients/gsn/wyjscia/MatMul_grad/MatMul_1&quot;\\n  op: &quot;MatMul&quot;\\n  input: &quot;gsn/ukryta2/Relu&quot;\\n  input: &quot;uczenie/gradients/gsn/wyjscia/add_grad/tuple/control_dependency&quot;\\n  attr {\\n    key: &quot;T&quot;\\n    value {\\n      type: DT_FLOAT\\n    }\\n  }\\n  attr {\\n    key: &quot;transpose_a&quot;\\n    value {\\n      b: true\\n    }\\n  }\\n  attr {\\n    key: &quot;transpose_b&quot;\\n    value {\\n      b: false\\n    }\\n  }\\n}\\nnode {\\n  name: &quot;uczenie/gradients/gsn/wyjscia/MatMul_grad/tuple/group_deps&quot;\\n  op: &quot;NoOp&quot;\\n  input: &quot;^uczenie/gradients/gsn/wyjscia/MatMul_grad/MatMul&quot;\\n  input: &quot;^uczenie/gradients/gsn/wyjscia/MatMul_grad/MatMul_1&quot;\\n}\\nnode {\\n  name: &quot;uczenie/gradients/gsn/wyjscia/MatMul_grad/tuple/control_dependency&quot;\\n  op: &quot;Identity&quot;\\n  input: &quot;uczenie/gradients/gsn/wyjscia/MatMul_grad/MatMul&quot;\\n  input: &quot;^uczenie/gradients/gsn/wyjscia/MatMul_grad/tuple/group_deps&quot;\\n  attr {\\n    key: &quot;T&quot;\\n    value {\\n      type: DT_FLOAT\\n    }\\n  }\\n  attr {\\n    key: &quot;_class&quot;\\n    value {\\n      list {\\n        s: &quot;loc:@uczenie/gradients/gsn/wyjscia/MatMul_grad/MatMul&quot;\\n      }\\n    }\\n  }\\n}\\nnode {\\n  name: &quot;uczenie/gradients/gsn/wyjscia/MatMul_grad/tuple/control_dependency_1&quot;\\n  op: &quot;Identity&quot;\\n  input: &quot;uczenie/gradients/gsn/wyjscia/MatMul_grad/MatMul_1&quot;\\n  input: &quot;^uczenie/gradients/gsn/wyjscia/MatMul_grad/tuple/group_deps&quot;\\n  attr {\\n    key: &quot;T&quot;\\n    value {\\n      type: DT_FLOAT\\n    }\\n  }\\n  attr {\\n    key: &quot;_class&quot;\\n    value {\\n      list {\\n        s: &quot;loc:@uczenie/gradients/gsn/wyjscia/MatMul_grad/MatMul_1&quot;\\n      }\\n    }\\n  }\\n}\\nnode {\\n  name: &quot;uczenie/gradients/gsn/ukryta2/Relu_grad/ReluGrad&quot;\\n  op: &quot;ReluGrad&quot;\\n  input: &quot;uczenie/gradients/gsn/wyjscia/MatMul_grad/tuple/control_dependency&quot;\\n  input: &quot;gsn/ukryta2/Relu&quot;\\n  attr {\\n    key: &quot;T&quot;\\n    value {\\n      type: DT_FLOAT\\n    }\\n  }\\n}\\nnode {\\n  name: &quot;uczenie/gradients/gsn/ukryta2/add_grad/Shape&quot;\\n  op: &quot;Shape&quot;\\n  input: &quot;gsn/ukryta2/MatMul&quot;\\n  attr {\\n    key: &quot;T&quot;\\n    value {\\n      type: DT_FLOAT\\n    }\\n  }\\n  attr {\\n    key: &quot;out_type&quot;\\n    value {\\n      type: DT_INT32\\n    }\\n  }\\n}\\nnode {\\n  name: &quot;uczenie/gradients/gsn/ukryta2/add_grad/Shape_1&quot;\\n  op: &quot;Const&quot;\\n  attr {\\n    key: &quot;dtype&quot;\\n    value {\\n      type: DT_INT32\\n    }\\n  }\\n  attr {\\n    key: &quot;value&quot;\\n    value {\\n      tensor {\\n        dtype: DT_INT32\\n        tensor_shape {\\n          dim {\\n            size: 1\\n          }\\n        }\\n        int_val: 100\\n      }\\n    }\\n  }\\n}\\nnode {\\n  name: &quot;uczenie/gradients/gsn/ukryta2/add_grad/BroadcastGradientArgs&quot;\\n  op: &quot;BroadcastGradientArgs&quot;\\n  input: &quot;uczenie/gradients/gsn/ukryta2/add_grad/Shape&quot;\\n  input: &quot;uczenie/gradients/gsn/ukryta2/add_grad/Shape_1&quot;\\n  attr {\\n    key: &quot;T&quot;\\n    value {\\n      type: DT_INT32\\n    }\\n  }\\n}\\nnode {\\n  name: &quot;uczenie/gradients/gsn/ukryta2/add_grad/Sum&quot;\\n  op: &quot;Sum&quot;\\n  input: &quot;uczenie/gradients/gsn/ukryta2/Relu_grad/ReluGrad&quot;\\n  input: &quot;uczenie/gradients/gsn/ukryta2/add_grad/BroadcastGradientArgs&quot;\\n  attr {\\n    key: &quot;T&quot;\\n    value {\\n      type: DT_FLOAT\\n    }\\n  }\\n  attr {\\n    key: &quot;Tidx&quot;\\n    value {\\n      type: DT_INT32\\n    }\\n  }\\n  attr {\\n    key: &quot;keep_dims&quot;\\n    value {\\n      b: false\\n    }\\n  }\\n}\\nnode {\\n  name: &quot;uczenie/gradients/gsn/ukryta2/add_grad/Reshape&quot;\\n  op: &quot;Reshape&quot;\\n  input: &quot;uczenie/gradients/gsn/ukryta2/add_grad/Sum&quot;\\n  input: &quot;uczenie/gradients/gsn/ukryta2/add_grad/Shape&quot;\\n  attr {\\n    key: &quot;T&quot;\\n    value {\\n      type: DT_FLOAT\\n    }\\n  }\\n  attr {\\n    key: &quot;Tshape&quot;\\n    value {\\n      type: DT_INT32\\n    }\\n  }\\n}\\nnode {\\n  name: &quot;uczenie/gradients/gsn/ukryta2/add_grad/Sum_1&quot;\\n  op: &quot;Sum&quot;\\n  input: &quot;uczenie/gradients/gsn/ukryta2/Relu_grad/ReluGrad&quot;\\n  input: &quot;uczenie/gradients/gsn/ukryta2/add_grad/BroadcastGradientArgs:1&quot;\\n  attr {\\n    key: &quot;T&quot;\\n    value {\\n      type: DT_FLOAT\\n    }\\n  }\\n  attr {\\n    key: &quot;Tidx&quot;\\n    value {\\n      type: DT_INT32\\n    }\\n  }\\n  attr {\\n    key: &quot;keep_dims&quot;\\n    value {\\n      b: false\\n    }\\n  }\\n}\\nnode {\\n  name: &quot;uczenie/gradients/gsn/ukryta2/add_grad/Reshape_1&quot;\\n  op: &quot;Reshape&quot;\\n  input: &quot;uczenie/gradients/gsn/ukryta2/add_grad/Sum_1&quot;\\n  input: &quot;uczenie/gradients/gsn/ukryta2/add_grad/Shape_1&quot;\\n  attr {\\n    key: &quot;T&quot;\\n    value {\\n      type: DT_FLOAT\\n    }\\n  }\\n  attr {\\n    key: &quot;Tshape&quot;\\n    value {\\n      type: DT_INT32\\n    }\\n  }\\n}\\nnode {\\n  name: &quot;uczenie/gradients/gsn/ukryta2/add_grad/tuple/group_deps&quot;\\n  op: &quot;NoOp&quot;\\n  input: &quot;^uczenie/gradients/gsn/ukryta2/add_grad/Reshape&quot;\\n  input: &quot;^uczenie/gradients/gsn/ukryta2/add_grad/Reshape_1&quot;\\n}\\nnode {\\n  name: &quot;uczenie/gradients/gsn/ukryta2/add_grad/tuple/control_dependency&quot;\\n  op: &quot;Identity&quot;\\n  input: &quot;uczenie/gradients/gsn/ukryta2/add_grad/Reshape&quot;\\n  input: &quot;^uczenie/gradients/gsn/ukryta2/add_grad/tuple/group_deps&quot;\\n  attr {\\n    key: &quot;T&quot;\\n    value {\\n      type: DT_FLOAT\\n    }\\n  }\\n  attr {\\n    key: &quot;_class&quot;\\n    value {\\n      list {\\n        s: &quot;loc:@uczenie/gradients/gsn/ukryta2/add_grad/Reshape&quot;\\n      }\\n    }\\n  }\\n}\\nnode {\\n  name: &quot;uczenie/gradients/gsn/ukryta2/add_grad/tuple/control_dependency_1&quot;\\n  op: &quot;Identity&quot;\\n  input: &quot;uczenie/gradients/gsn/ukryta2/add_grad/Reshape_1&quot;\\n  input: &quot;^uczenie/gradients/gsn/ukryta2/add_grad/tuple/group_deps&quot;\\n  attr {\\n    key: &quot;T&quot;\\n    value {\\n      type: DT_FLOAT\\n    }\\n  }\\n  attr {\\n    key: &quot;_class&quot;\\n    value {\\n      list {\\n        s: &quot;loc:@uczenie/gradients/gsn/ukryta2/add_grad/Reshape_1&quot;\\n      }\\n    }\\n  }\\n}\\nnode {\\n  name: &quot;uczenie/gradients/gsn/ukryta2/MatMul_grad/MatMul&quot;\\n  op: &quot;MatMul&quot;\\n  input: &quot;uczenie/gradients/gsn/ukryta2/add_grad/tuple/control_dependency&quot;\\n  input: &quot;gsn/ukryta2/jadro/read&quot;\\n  attr {\\n    key: &quot;T&quot;\\n    value {\\n      type: DT_FLOAT\\n    }\\n  }\\n  attr {\\n    key: &quot;transpose_a&quot;\\n    value {\\n      b: false\\n    }\\n  }\\n  attr {\\n    key: &quot;transpose_b&quot;\\n    value {\\n      b: true\\n    }\\n  }\\n}\\nnode {\\n  name: &quot;uczenie/gradients/gsn/ukryta2/MatMul_grad/MatMul_1&quot;\\n  op: &quot;MatMul&quot;\\n  input: &quot;gsn/ukryta1/Relu&quot;\\n  input: &quot;uczenie/gradients/gsn/ukryta2/add_grad/tuple/control_dependency&quot;\\n  attr {\\n    key: &quot;T&quot;\\n    value {\\n      type: DT_FLOAT\\n    }\\n  }\\n  attr {\\n    key: &quot;transpose_a&quot;\\n    value {\\n      b: true\\n    }\\n  }\\n  attr {\\n    key: &quot;transpose_b&quot;\\n    value {\\n      b: false\\n    }\\n  }\\n}\\nnode {\\n  name: &quot;uczenie/gradients/gsn/ukryta2/MatMul_grad/tuple/group_deps&quot;\\n  op: &quot;NoOp&quot;\\n  input: &quot;^uczenie/gradients/gsn/ukryta2/MatMul_grad/MatMul&quot;\\n  input: &quot;^uczenie/gradients/gsn/ukryta2/MatMul_grad/MatMul_1&quot;\\n}\\nnode {\\n  name: &quot;uczenie/gradients/gsn/ukryta2/MatMul_grad/tuple/control_dependency&quot;\\n  op: &quot;Identity&quot;\\n  input: &quot;uczenie/gradients/gsn/ukryta2/MatMul_grad/MatMul&quot;\\n  input: &quot;^uczenie/gradients/gsn/ukryta2/MatMul_grad/tuple/group_deps&quot;\\n  attr {\\n    key: &quot;T&quot;\\n    value {\\n      type: DT_FLOAT\\n    }\\n  }\\n  attr {\\n    key: &quot;_class&quot;\\n    value {\\n      list {\\n        s: &quot;loc:@uczenie/gradients/gsn/ukryta2/MatMul_grad/MatMul&quot;\\n      }\\n    }\\n  }\\n}\\nnode {\\n  name: &quot;uczenie/gradients/gsn/ukryta2/MatMul_grad/tuple/control_dependency_1&quot;\\n  op: &quot;Identity&quot;\\n  input: &quot;uczenie/gradients/gsn/ukryta2/MatMul_grad/MatMul_1&quot;\\n  input: &quot;^uczenie/gradients/gsn/ukryta2/MatMul_grad/tuple/group_deps&quot;\\n  attr {\\n    key: &quot;T&quot;\\n    value {\\n      type: DT_FLOAT\\n    }\\n  }\\n  attr {\\n    key: &quot;_class&quot;\\n    value {\\n      list {\\n        s: &quot;loc:@uczenie/gradients/gsn/ukryta2/MatMul_grad/MatMul_1&quot;\\n      }\\n    }\\n  }\\n}\\nnode {\\n  name: &quot;uczenie/gradients/gsn/ukryta1/Relu_grad/ReluGrad&quot;\\n  op: &quot;ReluGrad&quot;\\n  input: &quot;uczenie/gradients/gsn/ukryta2/MatMul_grad/tuple/control_dependency&quot;\\n  input: &quot;gsn/ukryta1/Relu&quot;\\n  attr {\\n    key: &quot;T&quot;\\n    value {\\n      type: DT_FLOAT\\n    }\\n  }\\n}\\nnode {\\n  name: &quot;uczenie/gradients/gsn/ukryta1/add_grad/Shape&quot;\\n  op: &quot;Shape&quot;\\n  input: &quot;gsn/ukryta1/MatMul&quot;\\n  attr {\\n    key: &quot;T&quot;\\n    value {\\n      type: DT_FLOAT\\n    }\\n  }\\n  attr {\\n    key: &quot;out_type&quot;\\n    value {\\n      type: DT_INT32\\n    }\\n  }\\n}\\nnode {\\n  name: &quot;uczenie/gradients/gsn/ukryta1/add_grad/Shape_1&quot;\\n  op: &quot;Const&quot;\\n  attr {\\n    key: &quot;dtype&quot;\\n    value {\\n      type: DT_INT32\\n    }\\n  }\\n  attr {\\n    key: &quot;value&quot;\\n    value {\\n      tensor {\\n        dtype: DT_INT32\\n        tensor_shape {\\n          dim {\\n            size: 1\\n          }\\n        }\\n        int_val: 300\\n      }\\n    }\\n  }\\n}\\nnode {\\n  name: &quot;uczenie/gradients/gsn/ukryta1/add_grad/BroadcastGradientArgs&quot;\\n  op: &quot;BroadcastGradientArgs&quot;\\n  input: &quot;uczenie/gradients/gsn/ukryta1/add_grad/Shape&quot;\\n  input: &quot;uczenie/gradients/gsn/ukryta1/add_grad/Shape_1&quot;\\n  attr {\\n    key: &quot;T&quot;\\n    value {\\n      type: DT_INT32\\n    }\\n  }\\n}\\nnode {\\n  name: &quot;uczenie/gradients/gsn/ukryta1/add_grad/Sum&quot;\\n  op: &quot;Sum&quot;\\n  input: &quot;uczenie/gradients/gsn/ukryta1/Relu_grad/ReluGrad&quot;\\n  input: &quot;uczenie/gradients/gsn/ukryta1/add_grad/BroadcastGradientArgs&quot;\\n  attr {\\n    key: &quot;T&quot;\\n    value {\\n      type: DT_FLOAT\\n    }\\n  }\\n  attr {\\n    key: &quot;Tidx&quot;\\n    value {\\n      type: DT_INT32\\n    }\\n  }\\n  attr {\\n    key: &quot;keep_dims&quot;\\n    value {\\n      b: false\\n    }\\n  }\\n}\\nnode {\\n  name: &quot;uczenie/gradients/gsn/ukryta1/add_grad/Reshape&quot;\\n  op: &quot;Reshape&quot;\\n  input: &quot;uczenie/gradients/gsn/ukryta1/add_grad/Sum&quot;\\n  input: &quot;uczenie/gradients/gsn/ukryta1/add_grad/Shape&quot;\\n  attr {\\n    key: &quot;T&quot;\\n    value {\\n      type: DT_FLOAT\\n    }\\n  }\\n  attr {\\n    key: &quot;Tshape&quot;\\n    value {\\n      type: DT_INT32\\n    }\\n  }\\n}\\nnode {\\n  name: &quot;uczenie/gradients/gsn/ukryta1/add_grad/Sum_1&quot;\\n  op: &quot;Sum&quot;\\n  input: &quot;uczenie/gradients/gsn/ukryta1/Relu_grad/ReluGrad&quot;\\n  input: &quot;uczenie/gradients/gsn/ukryta1/add_grad/BroadcastGradientArgs:1&quot;\\n  attr {\\n    key: &quot;T&quot;\\n    value {\\n      type: DT_FLOAT\\n    }\\n  }\\n  attr {\\n    key: &quot;Tidx&quot;\\n    value {\\n      type: DT_INT32\\n    }\\n  }\\n  attr {\\n    key: &quot;keep_dims&quot;\\n    value {\\n      b: false\\n    }\\n  }\\n}\\nnode {\\n  name: &quot;uczenie/gradients/gsn/ukryta1/add_grad/Reshape_1&quot;\\n  op: &quot;Reshape&quot;\\n  input: &quot;uczenie/gradients/gsn/ukryta1/add_grad/Sum_1&quot;\\n  input: &quot;uczenie/gradients/gsn/ukryta1/add_grad/Shape_1&quot;\\n  attr {\\n    key: &quot;T&quot;\\n    value {\\n      type: DT_FLOAT\\n    }\\n  }\\n  attr {\\n    key: &quot;Tshape&quot;\\n    value {\\n      type: DT_INT32\\n    }\\n  }\\n}\\nnode {\\n  name: &quot;uczenie/gradients/gsn/ukryta1/add_grad/tuple/group_deps&quot;\\n  op: &quot;NoOp&quot;\\n  input: &quot;^uczenie/gradients/gsn/ukryta1/add_grad/Reshape&quot;\\n  input: &quot;^uczenie/gradients/gsn/ukryta1/add_grad/Reshape_1&quot;\\n}\\nnode {\\n  name: &quot;uczenie/gradients/gsn/ukryta1/add_grad/tuple/control_dependency&quot;\\n  op: &quot;Identity&quot;\\n  input: &quot;uczenie/gradients/gsn/ukryta1/add_grad/Reshape&quot;\\n  input: &quot;^uczenie/gradients/gsn/ukryta1/add_grad/tuple/group_deps&quot;\\n  attr {\\n    key: &quot;T&quot;\\n    value {\\n      type: DT_FLOAT\\n    }\\n  }\\n  attr {\\n    key: &quot;_class&quot;\\n    value {\\n      list {\\n        s: &quot;loc:@uczenie/gradients/gsn/ukryta1/add_grad/Reshape&quot;\\n      }\\n    }\\n  }\\n}\\nnode {\\n  name: &quot;uczenie/gradients/gsn/ukryta1/add_grad/tuple/control_dependency_1&quot;\\n  op: &quot;Identity&quot;\\n  input: &quot;uczenie/gradients/gsn/ukryta1/add_grad/Reshape_1&quot;\\n  input: &quot;^uczenie/gradients/gsn/ukryta1/add_grad/tuple/group_deps&quot;\\n  attr {\\n    key: &quot;T&quot;\\n    value {\\n      type: DT_FLOAT\\n    }\\n  }\\n  attr {\\n    key: &quot;_class&quot;\\n    value {\\n      list {\\n        s: &quot;loc:@uczenie/gradients/gsn/ukryta1/add_grad/Reshape_1&quot;\\n      }\\n    }\\n  }\\n}\\nnode {\\n  name: &quot;uczenie/gradients/gsn/ukryta1/MatMul_grad/MatMul&quot;\\n  op: &quot;MatMul&quot;\\n  input: &quot;uczenie/gradients/gsn/ukryta1/add_grad/tuple/control_dependency&quot;\\n  input: &quot;gsn/ukryta1/jadro/read&quot;\\n  attr {\\n    key: &quot;T&quot;\\n    value {\\n      type: DT_FLOAT\\n    }\\n  }\\n  attr {\\n    key: &quot;transpose_a&quot;\\n    value {\\n      b: false\\n    }\\n  }\\n  attr {\\n    key: &quot;transpose_b&quot;\\n    value {\\n      b: true\\n    }\\n  }\\n}\\nnode {\\n  name: &quot;uczenie/gradients/gsn/ukryta1/MatMul_grad/MatMul_1&quot;\\n  op: &quot;MatMul&quot;\\n  input: &quot;X&quot;\\n  input: &quot;uczenie/gradients/gsn/ukryta1/add_grad/tuple/control_dependency&quot;\\n  attr {\\n    key: &quot;T&quot;\\n    value {\\n      type: DT_FLOAT\\n    }\\n  }\\n  attr {\\n    key: &quot;transpose_a&quot;\\n    value {\\n      b: true\\n    }\\n  }\\n  attr {\\n    key: &quot;transpose_b&quot;\\n    value {\\n      b: false\\n    }\\n  }\\n}\\nnode {\\n  name: &quot;uczenie/gradients/gsn/ukryta1/MatMul_grad/tuple/group_deps&quot;\\n  op: &quot;NoOp&quot;\\n  input: &quot;^uczenie/gradients/gsn/ukryta1/MatMul_grad/MatMul&quot;\\n  input: &quot;^uczenie/gradients/gsn/ukryta1/MatMul_grad/MatMul_1&quot;\\n}\\nnode {\\n  name: &quot;uczenie/gradients/gsn/ukryta1/MatMul_grad/tuple/control_dependency&quot;\\n  op: &quot;Identity&quot;\\n  input: &quot;uczenie/gradients/gsn/ukryta1/MatMul_grad/MatMul&quot;\\n  input: &quot;^uczenie/gradients/gsn/ukryta1/MatMul_grad/tuple/group_deps&quot;\\n  attr {\\n    key: &quot;T&quot;\\n    value {\\n      type: DT_FLOAT\\n    }\\n  }\\n  attr {\\n    key: &quot;_class&quot;\\n    value {\\n      list {\\n        s: &quot;loc:@uczenie/gradients/gsn/ukryta1/MatMul_grad/MatMul&quot;\\n      }\\n    }\\n  }\\n}\\nnode {\\n  name: &quot;uczenie/gradients/gsn/ukryta1/MatMul_grad/tuple/control_dependency_1&quot;\\n  op: &quot;Identity&quot;\\n  input: &quot;uczenie/gradients/gsn/ukryta1/MatMul_grad/MatMul_1&quot;\\n  input: &quot;^uczenie/gradients/gsn/ukryta1/MatMul_grad/tuple/group_deps&quot;\\n  attr {\\n    key: &quot;T&quot;\\n    value {\\n      type: DT_FLOAT\\n    }\\n  }\\n  attr {\\n    key: &quot;_class&quot;\\n    value {\\n      list {\\n        s: &quot;loc:@uczenie/gradients/gsn/ukryta1/MatMul_grad/MatMul_1&quot;\\n      }\\n    }\\n  }\\n}\\nnode {\\n  name: &quot;uczenie/GradientDescent/learning_rate&quot;\\n  op: &quot;Const&quot;\\n  attr {\\n    key: &quot;dtype&quot;\\n    value {\\n      type: DT_FLOAT\\n    }\\n  }\\n  attr {\\n    key: &quot;value&quot;\\n    value {\\n      tensor {\\n        dtype: DT_FLOAT\\n        tensor_shape {\\n        }\\n        float_val: 0.009999999776482582\\n      }\\n    }\\n  }\\n}\\nnode {\\n  name: &quot;uczenie/GradientDescent/update_gsn/ukryta1/jadro/ApplyGradientDescent&quot;\\n  op: &quot;ApplyGradientDescent&quot;\\n  input: &quot;gsn/ukryta1/jadro&quot;\\n  input: &quot;uczenie/GradientDescent/learning_rate&quot;\\n  input: &quot;uczenie/gradients/gsn/ukryta1/MatMul_grad/tuple/control_dependency_1&quot;\\n  attr {\\n    key: &quot;T&quot;\\n    value {\\n      type: DT_FLOAT\\n    }\\n  }\\n  attr {\\n    key: &quot;_class&quot;\\n    value {\\n      list {\\n        s: &quot;loc:@gsn/ukryta1/jadro&quot;\\n      }\\n    }\\n  }\\n  attr {\\n    key: &quot;use_locking&quot;\\n    value {\\n      b: false\\n    }\\n  }\\n}\\nnode {\\n  name: &quot;uczenie/GradientDescent/update_gsn/ukryta1/obciazenie/ApplyGradientDescent&quot;\\n  op: &quot;ApplyGradientDescent&quot;\\n  input: &quot;gsn/ukryta1/obciazenie&quot;\\n  input: &quot;uczenie/GradientDescent/learning_rate&quot;\\n  input: &quot;uczenie/gradients/gsn/ukryta1/add_grad/tuple/control_dependency_1&quot;\\n  attr {\\n    key: &quot;T&quot;\\n    value {\\n      type: DT_FLOAT\\n    }\\n  }\\n  attr {\\n    key: &quot;_class&quot;\\n    value {\\n      list {\\n        s: &quot;loc:@gsn/ukryta1/obciazenie&quot;\\n      }\\n    }\\n  }\\n  attr {\\n    key: &quot;use_locking&quot;\\n    value {\\n      b: false\\n    }\\n  }\\n}\\nnode {\\n  name: &quot;uczenie/GradientDescent/update_gsn/ukryta2/jadro/ApplyGradientDescent&quot;\\n  op: &quot;ApplyGradientDescent&quot;\\n  input: &quot;gsn/ukryta2/jadro&quot;\\n  input: &quot;uczenie/GradientDescent/learning_rate&quot;\\n  input: &quot;uczenie/gradients/gsn/ukryta2/MatMul_grad/tuple/control_dependency_1&quot;\\n  attr {\\n    key: &quot;T&quot;\\n    value {\\n      type: DT_FLOAT\\n    }\\n  }\\n  attr {\\n    key: &quot;_class&quot;\\n    value {\\n      list {\\n        s: &quot;loc:@gsn/ukryta2/jadro&quot;\\n      }\\n    }\\n  }\\n  attr {\\n    key: &quot;use_locking&quot;\\n    value {\\n      b: false\\n    }\\n  }\\n}\\nnode {\\n  name: &quot;uczenie/GradientDescent/update_gsn/ukryta2/obciazenie/ApplyGradientDescent&quot;\\n  op: &quot;ApplyGradientDescent&quot;\\n  input: &quot;gsn/ukryta2/obciazenie&quot;\\n  input: &quot;uczenie/GradientDescent/learning_rate&quot;\\n  input: &quot;uczenie/gradients/gsn/ukryta2/add_grad/tuple/control_dependency_1&quot;\\n  attr {\\n    key: &quot;T&quot;\\n    value {\\n      type: DT_FLOAT\\n    }\\n  }\\n  attr {\\n    key: &quot;_class&quot;\\n    value {\\n      list {\\n        s: &quot;loc:@gsn/ukryta2/obciazenie&quot;\\n      }\\n    }\\n  }\\n  attr {\\n    key: &quot;use_locking&quot;\\n    value {\\n      b: false\\n    }\\n  }\\n}\\nnode {\\n  name: &quot;uczenie/GradientDescent/update_gsn/wyjscia/jadro/ApplyGradientDescent&quot;\\n  op: &quot;ApplyGradientDescent&quot;\\n  input: &quot;gsn/wyjscia/jadro&quot;\\n  input: &quot;uczenie/GradientDescent/learning_rate&quot;\\n  input: &quot;uczenie/gradients/gsn/wyjscia/MatMul_grad/tuple/control_dependency_1&quot;\\n  attr {\\n    key: &quot;T&quot;\\n    value {\\n      type: DT_FLOAT\\n    }\\n  }\\n  attr {\\n    key: &quot;_class&quot;\\n    value {\\n      list {\\n        s: &quot;loc:@gsn/wyjscia/jadro&quot;\\n      }\\n    }\\n  }\\n  attr {\\n    key: &quot;use_locking&quot;\\n    value {\\n      b: false\\n    }\\n  }\\n}\\nnode {\\n  name: &quot;uczenie/GradientDescent/update_gsn/wyjscia/obciazenie/ApplyGradientDescent&quot;\\n  op: &quot;ApplyGradientDescent&quot;\\n  input: &quot;gsn/wyjscia/obciazenie&quot;\\n  input: &quot;uczenie/GradientDescent/learning_rate&quot;\\n  input: &quot;uczenie/gradients/gsn/wyjscia/add_grad/tuple/control_dependency_1&quot;\\n  attr {\\n    key: &quot;T&quot;\\n    value {\\n      type: DT_FLOAT\\n    }\\n  }\\n  attr {\\n    key: &quot;_class&quot;\\n    value {\\n      list {\\n        s: &quot;loc:@gsn/wyjscia/obciazenie&quot;\\n      }\\n    }\\n  }\\n  attr {\\n    key: &quot;use_locking&quot;\\n    value {\\n      b: false\\n    }\\n  }\\n}\\nnode {\\n  name: &quot;uczenie/GradientDescent&quot;\\n  op: &quot;NoOp&quot;\\n  input: &quot;^uczenie/GradientDescent/update_gsn/ukryta1/jadro/ApplyGradientDescent&quot;\\n  input: &quot;^uczenie/GradientDescent/update_gsn/ukryta1/obciazenie/ApplyGradientDescent&quot;\\n  input: &quot;^uczenie/GradientDescent/update_gsn/ukryta2/jadro/ApplyGradientDescent&quot;\\n  input: &quot;^uczenie/GradientDescent/update_gsn/ukryta2/obciazenie/ApplyGradientDescent&quot;\\n  input: &quot;^uczenie/GradientDescent/update_gsn/wyjscia/jadro/ApplyGradientDescent&quot;\\n  input: &quot;^uczenie/GradientDescent/update_gsn/wyjscia/obciazenie/ApplyGradientDescent&quot;\\n}\\nnode {\\n  name: &quot;ocena/InTopK&quot;\\n  op: &quot;InTopK&quot;\\n  input: &quot;gsn/wyjscia/add&quot;\\n  input: &quot;y&quot;\\n  attr {\\n    key: &quot;T&quot;\\n    value {\\n      type: DT_INT64\\n    }\\n  }\\n  attr {\\n    key: &quot;k&quot;\\n    value {\\n      i: 1\\n    }\\n  }\\n}\\nnode {\\n  name: &quot;ocena/Cast&quot;\\n  op: &quot;Cast&quot;\\n  input: &quot;ocena/InTopK&quot;\\n  attr {\\n    key: &quot;DstT&quot;\\n    value {\\n      type: DT_FLOAT\\n    }\\n  }\\n  attr {\\n    key: &quot;SrcT&quot;\\n    value {\\n      type: DT_BOOL\\n    }\\n  }\\n}\\nnode {\\n  name: &quot;ocena/Const&quot;\\n  op: &quot;Const&quot;\\n  attr {\\n    key: &quot;dtype&quot;\\n    value {\\n      type: DT_INT32\\n    }\\n  }\\n  attr {\\n    key: &quot;value&quot;\\n    value {\\n      tensor {\\n        dtype: DT_INT32\\n        tensor_shape {\\n          dim {\\n            size: 1\\n          }\\n        }\\n        int_val: 0\\n      }\\n    }\\n  }\\n}\\nnode {\\n  name: &quot;ocena/Mean&quot;\\n  op: &quot;Mean&quot;\\n  input: &quot;ocena/Cast&quot;\\n  input: &quot;ocena/Const&quot;\\n  attr {\\n    key: &quot;T&quot;\\n    value {\\n      type: DT_FLOAT\\n    }\\n  }\\n  attr {\\n    key: &quot;Tidx&quot;\\n    value {\\n      type: DT_INT32\\n    }\\n  }\\n  attr {\\n    key: &quot;keep_dims&quot;\\n    value {\\n      b: false\\n    }\\n  }\\n}\\nnode {\\n  name: &quot;init&quot;\\n  op: &quot;NoOp&quot;\\n  input: &quot;^gsn/ukryta1/jadro/Assign&quot;\\n  input: &quot;^gsn/ukryta1/obciazenie/Assign&quot;\\n  input: &quot;^gsn/ukryta2/jadro/Assign&quot;\\n  input: &quot;^gsn/ukryta2/obciazenie/Assign&quot;\\n  input: &quot;^gsn/wyjscia/jadro/Assign&quot;\\n  input: &quot;^gsn/wyjscia/obciazenie/Assign&quot;\\n}\\nnode {\\n  name: &quot;save/Const&quot;\\n  op: &quot;Const&quot;\\n  attr {\\n    key: &quot;dtype&quot;\\n    value {\\n      type: DT_STRING\\n    }\\n  }\\n  attr {\\n    key: &quot;value&quot;\\n    value {\\n      tensor {\\n        dtype: DT_STRING\\n        tensor_shape {\\n        }\\n        string_val: &quot;model&quot;\\n      }\\n    }\\n  }\\n}\\nnode {\\n  name: &quot;save/SaveV2/tensor_names&quot;\\n  op: &quot;Const&quot;\\n  attr {\\n    key: &quot;dtype&quot;\\n    value {\\n      type: DT_STRING\\n    }\\n  }\\n  attr {\\n    key: &quot;value&quot;\\n    value {\\n      tensor {\\n        dtype: DT_STRING\\n        tensor_shape {\\n          dim {\\n            size: 6\\n          }\\n        }\\n        string_val: &quot;gsn/ukryta1/jadro&quot;\\n        string_val: &quot;gsn/ukryta1/obciazenie&quot;\\n        string_val: &quot;gsn/ukryta2/jadro&quot;\\n        string_val: &quot;gsn/ukryta2/obciazenie&quot;\\n        string_val: &quot;gsn/wyjscia/jadro&quot;\\n        string_val: &quot;gsn/wyjscia/obciazenie&quot;\\n      }\\n    }\\n  }\\n}\\nnode {\\n  name: &quot;save/SaveV2/shape_and_slices&quot;\\n  op: &quot;Const&quot;\\n  attr {\\n    key: &quot;dtype&quot;\\n    value {\\n      type: DT_STRING\\n    }\\n  }\\n  attr {\\n    key: &quot;value&quot;\\n    value {\\n      tensor {\\n        dtype: DT_STRING\\n        tensor_shape {\\n          dim {\\n            size: 6\\n          }\\n        }\\n        string_val: &quot;&quot;\\n        string_val: &quot;&quot;\\n        string_val: &quot;&quot;\\n        string_val: &quot;&quot;\\n        string_val: &quot;&quot;\\n        string_val: &quot;&quot;\\n      }\\n    }\\n  }\\n}\\nnode {\\n  name: &quot;save/SaveV2&quot;\\n  op: &quot;SaveV2&quot;\\n  input: &quot;save/Const&quot;\\n  input: &quot;save/SaveV2/tensor_names&quot;\\n  input: &quot;save/SaveV2/shape_and_slices&quot;\\n  input: &quot;gsn/ukryta1/jadro&quot;\\n  input: &quot;gsn/ukryta1/obciazenie&quot;\\n  input: &quot;gsn/ukryta2/jadro&quot;\\n  input: &quot;gsn/ukryta2/obciazenie&quot;\\n  input: &quot;gsn/wyjscia/jadro&quot;\\n  input: &quot;gsn/wyjscia/obciazenie&quot;\\n  attr {\\n    key: &quot;dtypes&quot;\\n    value {\\n      list {\\n        type: DT_FLOAT\\n        type: DT_FLOAT\\n        type: DT_FLOAT\\n        type: DT_FLOAT\\n        type: DT_FLOAT\\n        type: DT_FLOAT\\n      }\\n    }\\n  }\\n}\\nnode {\\n  name: &quot;save/control_dependency&quot;\\n  op: &quot;Identity&quot;\\n  input: &quot;save/Const&quot;\\n  input: &quot;^save/SaveV2&quot;\\n  attr {\\n    key: &quot;T&quot;\\n    value {\\n      type: DT_STRING\\n    }\\n  }\\n  attr {\\n    key: &quot;_class&quot;\\n    value {\\n      list {\\n        s: &quot;loc:@save/Const&quot;\\n      }\\n    }\\n  }\\n}\\nnode {\\n  name: &quot;save/RestoreV2/tensor_names&quot;\\n  op: &quot;Const&quot;\\n  attr {\\n    key: &quot;dtype&quot;\\n    value {\\n      type: DT_STRING\\n    }\\n  }\\n  attr {\\n    key: &quot;value&quot;\\n    value {\\n      tensor {\\n        dtype: DT_STRING\\n        tensor_shape {\\n          dim {\\n            size: 1\\n          }\\n        }\\n        string_val: &quot;gsn/ukryta1/jadro&quot;\\n      }\\n    }\\n  }\\n}\\nnode {\\n  name: &quot;save/RestoreV2/shape_and_slices&quot;\\n  op: &quot;Const&quot;\\n  attr {\\n    key: &quot;dtype&quot;\\n    value {\\n      type: DT_STRING\\n    }\\n  }\\n  attr {\\n    key: &quot;value&quot;\\n    value {\\n      tensor {\\n        dtype: DT_STRING\\n        tensor_shape {\\n          dim {\\n            size: 1\\n          }\\n        }\\n        string_val: &quot;&quot;\\n      }\\n    }\\n  }\\n}\\nnode {\\n  name: &quot;save/RestoreV2&quot;\\n  op: &quot;RestoreV2&quot;\\n  input: &quot;save/Const&quot;\\n  input: &quot;save/RestoreV2/tensor_names&quot;\\n  input: &quot;save/RestoreV2/shape_and_slices&quot;\\n  attr {\\n    key: &quot;dtypes&quot;\\n    value {\\n      list {\\n        type: DT_FLOAT\\n      }\\n    }\\n  }\\n}\\nnode {\\n  name: &quot;save/Assign&quot;\\n  op: &quot;Assign&quot;\\n  input: &quot;gsn/ukryta1/jadro&quot;\\n  input: &quot;save/RestoreV2&quot;\\n  attr {\\n    key: &quot;T&quot;\\n    value {\\n      type: DT_FLOAT\\n    }\\n  }\\n  attr {\\n    key: &quot;_class&quot;\\n    value {\\n      list {\\n        s: &quot;loc:@gsn/ukryta1/jadro&quot;\\n      }\\n    }\\n  }\\n  attr {\\n    key: &quot;use_locking&quot;\\n    value {\\n      b: true\\n    }\\n  }\\n  attr {\\n    key: &quot;validate_shape&quot;\\n    value {\\n      b: true\\n    }\\n  }\\n}\\nnode {\\n  name: &quot;save/RestoreV2_1/tensor_names&quot;\\n  op: &quot;Const&quot;\\n  attr {\\n    key: &quot;dtype&quot;\\n    value {\\n      type: DT_STRING\\n    }\\n  }\\n  attr {\\n    key: &quot;value&quot;\\n    value {\\n      tensor {\\n        dtype: DT_STRING\\n        tensor_shape {\\n          dim {\\n            size: 1\\n          }\\n        }\\n        string_val: &quot;gsn/ukryta1/obciazenie&quot;\\n      }\\n    }\\n  }\\n}\\nnode {\\n  name: &quot;save/RestoreV2_1/shape_and_slices&quot;\\n  op: &quot;Const&quot;\\n  attr {\\n    key: &quot;dtype&quot;\\n    value {\\n      type: DT_STRING\\n    }\\n  }\\n  attr {\\n    key: &quot;value&quot;\\n    value {\\n      tensor {\\n        dtype: DT_STRING\\n        tensor_shape {\\n          dim {\\n            size: 1\\n          }\\n        }\\n        string_val: &quot;&quot;\\n      }\\n    }\\n  }\\n}\\nnode {\\n  name: &quot;save/RestoreV2_1&quot;\\n  op: &quot;RestoreV2&quot;\\n  input: &quot;save/Const&quot;\\n  input: &quot;save/RestoreV2_1/tensor_names&quot;\\n  input: &quot;save/RestoreV2_1/shape_and_slices&quot;\\n  attr {\\n    key: &quot;dtypes&quot;\\n    value {\\n      list {\\n        type: DT_FLOAT\\n      }\\n    }\\n  }\\n}\\nnode {\\n  name: &quot;save/Assign_1&quot;\\n  op: &quot;Assign&quot;\\n  input: &quot;gsn/ukryta1/obciazenie&quot;\\n  input: &quot;save/RestoreV2_1&quot;\\n  attr {\\n    key: &quot;T&quot;\\n    value {\\n      type: DT_FLOAT\\n    }\\n  }\\n  attr {\\n    key: &quot;_class&quot;\\n    value {\\n      list {\\n        s: &quot;loc:@gsn/ukryta1/obciazenie&quot;\\n      }\\n    }\\n  }\\n  attr {\\n    key: &quot;use_locking&quot;\\n    value {\\n      b: true\\n    }\\n  }\\n  attr {\\n    key: &quot;validate_shape&quot;\\n    value {\\n      b: true\\n    }\\n  }\\n}\\nnode {\\n  name: &quot;save/RestoreV2_2/tensor_names&quot;\\n  op: &quot;Const&quot;\\n  attr {\\n    key: &quot;dtype&quot;\\n    value {\\n      type: DT_STRING\\n    }\\n  }\\n  attr {\\n    key: &quot;value&quot;\\n    value {\\n      tensor {\\n        dtype: DT_STRING\\n        tensor_shape {\\n          dim {\\n            size: 1\\n          }\\n        }\\n        string_val: &quot;gsn/ukryta2/jadro&quot;\\n      }\\n    }\\n  }\\n}\\nnode {\\n  name: &quot;save/RestoreV2_2/shape_and_slices&quot;\\n  op: &quot;Const&quot;\\n  attr {\\n    key: &quot;dtype&quot;\\n    value {\\n      type: DT_STRING\\n    }\\n  }\\n  attr {\\n    key: &quot;value&quot;\\n    value {\\n      tensor {\\n        dtype: DT_STRING\\n        tensor_shape {\\n          dim {\\n            size: 1\\n          }\\n        }\\n        string_val: &quot;&quot;\\n      }\\n    }\\n  }\\n}\\nnode {\\n  name: &quot;save/RestoreV2_2&quot;\\n  op: &quot;RestoreV2&quot;\\n  input: &quot;save/Const&quot;\\n  input: &quot;save/RestoreV2_2/tensor_names&quot;\\n  input: &quot;save/RestoreV2_2/shape_and_slices&quot;\\n  attr {\\n    key: &quot;dtypes&quot;\\n    value {\\n      list {\\n        type: DT_FLOAT\\n      }\\n    }\\n  }\\n}\\nnode {\\n  name: &quot;save/Assign_2&quot;\\n  op: &quot;Assign&quot;\\n  input: &quot;gsn/ukryta2/jadro&quot;\\n  input: &quot;save/RestoreV2_2&quot;\\n  attr {\\n    key: &quot;T&quot;\\n    value {\\n      type: DT_FLOAT\\n    }\\n  }\\n  attr {\\n    key: &quot;_class&quot;\\n    value {\\n      list {\\n        s: &quot;loc:@gsn/ukryta2/jadro&quot;\\n      }\\n    }\\n  }\\n  attr {\\n    key: &quot;use_locking&quot;\\n    value {\\n      b: true\\n    }\\n  }\\n  attr {\\n    key: &quot;validate_shape&quot;\\n    value {\\n      b: true\\n    }\\n  }\\n}\\nnode {\\n  name: &quot;save/RestoreV2_3/tensor_names&quot;\\n  op: &quot;Const&quot;\\n  attr {\\n    key: &quot;dtype&quot;\\n    value {\\n      type: DT_STRING\\n    }\\n  }\\n  attr {\\n    key: &quot;value&quot;\\n    value {\\n      tensor {\\n        dtype: DT_STRING\\n        tensor_shape {\\n          dim {\\n            size: 1\\n          }\\n        }\\n        string_val: &quot;gsn/ukryta2/obciazenie&quot;\\n      }\\n    }\\n  }\\n}\\nnode {\\n  name: &quot;save/RestoreV2_3/shape_and_slices&quot;\\n  op: &quot;Const&quot;\\n  attr {\\n    key: &quot;dtype&quot;\\n    value {\\n      type: DT_STRING\\n    }\\n  }\\n  attr {\\n    key: &quot;value&quot;\\n    value {\\n      tensor {\\n        dtype: DT_STRING\\n        tensor_shape {\\n          dim {\\n            size: 1\\n          }\\n        }\\n        string_val: &quot;&quot;\\n      }\\n    }\\n  }\\n}\\nnode {\\n  name: &quot;save/RestoreV2_3&quot;\\n  op: &quot;RestoreV2&quot;\\n  input: &quot;save/Const&quot;\\n  input: &quot;save/RestoreV2_3/tensor_names&quot;\\n  input: &quot;save/RestoreV2_3/shape_and_slices&quot;\\n  attr {\\n    key: &quot;dtypes&quot;\\n    value {\\n      list {\\n        type: DT_FLOAT\\n      }\\n    }\\n  }\\n}\\nnode {\\n  name: &quot;save/Assign_3&quot;\\n  op: &quot;Assign&quot;\\n  input: &quot;gsn/ukryta2/obciazenie&quot;\\n  input: &quot;save/RestoreV2_3&quot;\\n  attr {\\n    key: &quot;T&quot;\\n    value {\\n      type: DT_FLOAT\\n    }\\n  }\\n  attr {\\n    key: &quot;_class&quot;\\n    value {\\n      list {\\n        s: &quot;loc:@gsn/ukryta2/obciazenie&quot;\\n      }\\n    }\\n  }\\n  attr {\\n    key: &quot;use_locking&quot;\\n    value {\\n      b: true\\n    }\\n  }\\n  attr {\\n    key: &quot;validate_shape&quot;\\n    value {\\n      b: true\\n    }\\n  }\\n}\\nnode {\\n  name: &quot;save/RestoreV2_4/tensor_names&quot;\\n  op: &quot;Const&quot;\\n  attr {\\n    key: &quot;dtype&quot;\\n    value {\\n      type: DT_STRING\\n    }\\n  }\\n  attr {\\n    key: &quot;value&quot;\\n    value {\\n      tensor {\\n        dtype: DT_STRING\\n        tensor_shape {\\n          dim {\\n            size: 1\\n          }\\n        }\\n        string_val: &quot;gsn/wyjscia/jadro&quot;\\n      }\\n    }\\n  }\\n}\\nnode {\\n  name: &quot;save/RestoreV2_4/shape_and_slices&quot;\\n  op: &quot;Const&quot;\\n  attr {\\n    key: &quot;dtype&quot;\\n    value {\\n      type: DT_STRING\\n    }\\n  }\\n  attr {\\n    key: &quot;value&quot;\\n    value {\\n      tensor {\\n        dtype: DT_STRING\\n        tensor_shape {\\n          dim {\\n            size: 1\\n          }\\n        }\\n        string_val: &quot;&quot;\\n      }\\n    }\\n  }\\n}\\nnode {\\n  name: &quot;save/RestoreV2_4&quot;\\n  op: &quot;RestoreV2&quot;\\n  input: &quot;save/Const&quot;\\n  input: &quot;save/RestoreV2_4/tensor_names&quot;\\n  input: &quot;save/RestoreV2_4/shape_and_slices&quot;\\n  attr {\\n    key: &quot;dtypes&quot;\\n    value {\\n      list {\\n        type: DT_FLOAT\\n      }\\n    }\\n  }\\n}\\nnode {\\n  name: &quot;save/Assign_4&quot;\\n  op: &quot;Assign&quot;\\n  input: &quot;gsn/wyjscia/jadro&quot;\\n  input: &quot;save/RestoreV2_4&quot;\\n  attr {\\n    key: &quot;T&quot;\\n    value {\\n      type: DT_FLOAT\\n    }\\n  }\\n  attr {\\n    key: &quot;_class&quot;\\n    value {\\n      list {\\n        s: &quot;loc:@gsn/wyjscia/jadro&quot;\\n      }\\n    }\\n  }\\n  attr {\\n    key: &quot;use_locking&quot;\\n    value {\\n      b: true\\n    }\\n  }\\n  attr {\\n    key: &quot;validate_shape&quot;\\n    value {\\n      b: true\\n    }\\n  }\\n}\\nnode {\\n  name: &quot;save/RestoreV2_5/tensor_names&quot;\\n  op: &quot;Const&quot;\\n  attr {\\n    key: &quot;dtype&quot;\\n    value {\\n      type: DT_STRING\\n    }\\n  }\\n  attr {\\n    key: &quot;value&quot;\\n    value {\\n      tensor {\\n        dtype: DT_STRING\\n        tensor_shape {\\n          dim {\\n            size: 1\\n          }\\n        }\\n        string_val: &quot;gsn/wyjscia/obciazenie&quot;\\n      }\\n    }\\n  }\\n}\\nnode {\\n  name: &quot;save/RestoreV2_5/shape_and_slices&quot;\\n  op: &quot;Const&quot;\\n  attr {\\n    key: &quot;dtype&quot;\\n    value {\\n      type: DT_STRING\\n    }\\n  }\\n  attr {\\n    key: &quot;value&quot;\\n    value {\\n      tensor {\\n        dtype: DT_STRING\\n        tensor_shape {\\n          dim {\\n            size: 1\\n          }\\n        }\\n        string_val: &quot;&quot;\\n      }\\n    }\\n  }\\n}\\nnode {\\n  name: &quot;save/RestoreV2_5&quot;\\n  op: &quot;RestoreV2&quot;\\n  input: &quot;save/Const&quot;\\n  input: &quot;save/RestoreV2_5/tensor_names&quot;\\n  input: &quot;save/RestoreV2_5/shape_and_slices&quot;\\n  attr {\\n    key: &quot;dtypes&quot;\\n    value {\\n      list {\\n        type: DT_FLOAT\\n      }\\n    }\\n  }\\n}\\nnode {\\n  name: &quot;save/Assign_5&quot;\\n  op: &quot;Assign&quot;\\n  input: &quot;gsn/wyjscia/obciazenie&quot;\\n  input: &quot;save/RestoreV2_5&quot;\\n  attr {\\n    key: &quot;T&quot;\\n    value {\\n      type: DT_FLOAT\\n    }\\n  }\\n  attr {\\n    key: &quot;_class&quot;\\n    value {\\n      list {\\n        s: &quot;loc:@gsn/wyjscia/obciazenie&quot;\\n      }\\n    }\\n  }\\n  attr {\\n    key: &quot;use_locking&quot;\\n    value {\\n      b: true\\n    }\\n  }\\n  attr {\\n    key: &quot;validate_shape&quot;\\n    value {\\n      b: true\\n    }\\n  }\\n}\\nnode {\\n  name: &quot;save/restore_all&quot;\\n  op: &quot;NoOp&quot;\\n  input: &quot;^save/Assign&quot;\\n  input: &quot;^save/Assign_1&quot;\\n  input: &quot;^save/Assign_2&quot;\\n  input: &quot;^save/Assign_3&quot;\\n  input: &quot;^save/Assign_4&quot;\\n  input: &quot;^save/Assign_5&quot;\\n}\\n';\n",
       "          }\n",
       "        </script>\n",
       "        <link rel=&quot;import&quot; href=&quot;https://tensorboard.appspot.com/tf-graph-basic.build.html&quot; onload=load()>\n",
       "        <div style=&quot;height:600px&quot;>\n",
       "          <tf-graph-basic id=&quot;graph0.2851015593374667&quot;></tf-graph-basic>\n",
       "        </div>\n",
       "    \"></iframe>\n",
       "    "
      ],
      "text/plain": [
       "<IPython.core.display.HTML object>"
      ]
     },
     "metadata": {},
     "output_type": "display_data"
    }
   ],
   "source": [
    "show_graph(tf.get_default_graph())"
   ]
  },
  {
   "cell_type": "markdown",
   "metadata": {},
   "source": [
    "## Zastępowanie funkcji `neuron_layer()` funkcją `dense()`"
   ]
  },
  {
   "cell_type": "markdown",
   "metadata": {},
   "source": [
    "Uwaga: w książce wykorzystywana jest funkcja `tensorflow.contrib.layers.fully_connected()` zamiast funkcji `tf.layers.dense()` (która jeszcze nie istniała w czasie pisania rozdziału). Obecnie zalecane jest używanie funkcji `tf.layers.dense()`, ponieważ wszelkie elementy modułu `contrib` mogą być modyfikowane lub usuwane bez zapowiedzi. Funkcja `dense()` jest niemal identyczna jak funkcja `fully_connected()`, cechuje je jednak kilka pomniejszych różnic:\n",
    "* zmianie uległy nazwy kilku parametrów: `scope` został zmieniony na `name`, `activation_fn` staje się `activation` (w analogiczny sposób został usunięty przyrostek `_fn` z innych parametrów, takich jak `normalizer_fn`), `weights_initializer` jest przemianowany na `kernel_initializer` itd.\n",
    "* domyślną wartością parametru `activation` jest teraz `None`, a nie `tf.nn.relu`.\n",
    "* kilka innych różnic zostało opisanych w rozdziale 11."
   ]
  },
  {
   "cell_type": "code",
   "execution_count": 28,
   "metadata": {
    "collapsed": true
   },
   "outputs": [],
   "source": [
    "n_inputs = 28*28  # zestaw MNIST\n",
    "n_hidden1 = 300\n",
    "n_hidden2 = 100\n",
    "n_outputs = 10"
   ]
  },
  {
   "cell_type": "code",
   "execution_count": 30,
   "metadata": {
    "collapsed": true
   },
   "outputs": [],
   "source": [
    "reset_graph()\n",
    "\n",
    "X = tf.placeholder(tf.float32, shape=(None, n_inputs), name=\"X\")\n",
    "y = tf.placeholder(tf.int64, shape=(None), name=\"y\") "
   ]
  },
  {
   "cell_type": "code",
   "execution_count": 31,
   "metadata": {
    "collapsed": true
   },
   "outputs": [],
   "source": [
    "with tf.name_scope(\"gsn\"):\n",
    "    hidden1 = tf.layers.dense(X, n_hidden1, name=\"ukryta1\",\n",
    "                              activation=tf.nn.relu)\n",
    "    hidden2 = tf.layers.dense(hidden1, n_hidden2, name=\"ukryta2\",\n",
    "                              activation=tf.nn.relu)\n",
    "    logits = tf.layers.dense(hidden2, n_outputs, name=\"wyjscia\")"
   ]
  },
  {
   "cell_type": "code",
   "execution_count": 32,
   "metadata": {
    "collapsed": true
   },
   "outputs": [],
   "source": [
    "with tf.name_scope(\"strata\"):\n",
    "    xentropy = tf.nn.sparse_softmax_cross_entropy_with_logits(labels=y, logits=logits)\n",
    "    loss = tf.reduce_mean(xentropy, name=\"strata\")"
   ]
  },
  {
   "cell_type": "code",
   "execution_count": 33,
   "metadata": {
    "collapsed": true
   },
   "outputs": [],
   "source": [
    "learning_rate = 0.01\n",
    "\n",
    "with tf.name_scope(\"uczenie\"):\n",
    "    optimizer = tf.train.GradientDescentOptimizer(learning_rate)\n",
    "    training_op = optimizer.minimize(loss)"
   ]
  },
  {
   "cell_type": "code",
   "execution_count": 34,
   "metadata": {
    "collapsed": true
   },
   "outputs": [],
   "source": [
    "with tf.name_scope(\"ocena\"):\n",
    "    correct = tf.nn.in_top_k(logits, y, 1)\n",
    "    accuracy = tf.reduce_mean(tf.cast(correct, tf.float32))"
   ]
  },
  {
   "cell_type": "code",
   "execution_count": 35,
   "metadata": {
    "collapsed": true
   },
   "outputs": [],
   "source": [
    "init = tf.global_variables_initializer()\n",
    "saver = tf.train.Saver()"
   ]
  },
  {
   "cell_type": "code",
   "execution_count": 36,
   "metadata": {
    "collapsed": false
   },
   "outputs": [
    {
     "name": "stdout",
     "output_type": "stream",
     "text": [
      "0 Dokładność uczenia: 0.9 Dokładność wobec zestawu testowego: 0.9053\n",
      "1 Dokładność uczenia: 0.88 Dokładność wobec zestawu testowego: 0.9207\n",
      "2 Dokładność uczenia: 0.94 Dokładność wobec zestawu testowego: 0.9299\n",
      "3 Dokładność uczenia: 0.94 Dokładność wobec zestawu testowego: 0.9399\n",
      "4 Dokładność uczenia: 0.92 Dokładność wobec zestawu testowego: 0.9452\n",
      "5 Dokładność uczenia: 0.94 Dokładność wobec zestawu testowego: 0.9475\n",
      "6 Dokładność uczenia: 0.92 Dokładność wobec zestawu testowego: 0.9516\n",
      "7 Dokładność uczenia: 0.98 Dokładność wobec zestawu testowego: 0.9547\n",
      "8 Dokładność uczenia: 0.96 Dokładność wobec zestawu testowego: 0.9569\n",
      "9 Dokładność uczenia: 0.94 Dokładność wobec zestawu testowego: 0.9605\n",
      "10 Dokładność uczenia: 0.92 Dokładność wobec zestawu testowego: 0.9619\n",
      "11 Dokładność uczenia: 0.96 Dokładność wobec zestawu testowego: 0.9631\n",
      "12 Dokładność uczenia: 1.0 Dokładność wobec zestawu testowego: 0.9659\n",
      "13 Dokładność uczenia: 0.94 Dokładność wobec zestawu testowego: 0.9657\n",
      "14 Dokładność uczenia: 1.0 Dokładność wobec zestawu testowego: 0.9669\n",
      "15 Dokładność uczenia: 0.94 Dokładność wobec zestawu testowego: 0.9682\n",
      "16 Dokładność uczenia: 0.96 Dokładność wobec zestawu testowego: 0.9701\n",
      "17 Dokładność uczenia: 0.98 Dokładność wobec zestawu testowego: 0.9696\n",
      "18 Dokładność uczenia: 1.0 Dokładność wobec zestawu testowego: 0.9699\n",
      "19 Dokładność uczenia: 1.0 Dokładność wobec zestawu testowego: 0.9709\n"
     ]
    }
   ],
   "source": [
    "n_epochs = 20\n",
    "n_batches = 50\n",
    "\n",
    "with tf.Session() as sess:\n",
    "    init.run()\n",
    "    for epoch in range(n_epochs):\n",
    "        for iteration in range(mnist.train.num_examples // batch_size):\n",
    "            X_batch, y_batch = mnist.train.next_batch(batch_size)\n",
    "            sess.run(training_op, feed_dict={X: X_batch, y: y_batch})\n",
    "        acc_train = accuracy.eval(feed_dict={X: X_batch, y: y_batch})\n",
    "        acc_test = accuracy.eval(feed_dict={X: mnist.test.images, y: mnist.test.labels})\n",
    "        print(epoch, \"Dokładność uczenia:\", acc_train, \"Dokładność wobec zestawu testowego:\", acc_test)\n",
    "\n",
    "    save_path = saver.save(sess, \"./moj_model_ostateczny.ckpt\")"
   ]
  },
  {
   "cell_type": "code",
   "execution_count": 37,
   "metadata": {
    "collapsed": false
   },
   "outputs": [
    {
     "data": {
      "text/html": [
       "\n",
       "        <iframe seamless style=\"width:1200px;height:620px;border:0\" srcdoc=\"\n",
       "        <script>\n",
       "          function load() {\n",
       "            document.getElementById(&quot;graph0.7224827313584268&quot;).pbtxt = 'node {\\n  name: &quot;X&quot;\\n  op: &quot;Placeholder&quot;\\n  attr {\\n    key: &quot;dtype&quot;\\n    value {\\n      type: DT_FLOAT\\n    }\\n  }\\n  attr {\\n    key: &quot;shape&quot;\\n    value {\\n      shape {\\n        dim {\\n          size: -1\\n        }\\n        dim {\\n          size: 784\\n        }\\n      }\\n    }\\n  }\\n}\\nnode {\\n  name: &quot;y&quot;\\n  op: &quot;Placeholder&quot;\\n  attr {\\n    key: &quot;dtype&quot;\\n    value {\\n      type: DT_INT64\\n    }\\n  }\\n  attr {\\n    key: &quot;shape&quot;\\n    value {\\n      shape {\\n        unknown_rank: true\\n      }\\n    }\\n  }\\n}\\nnode {\\n  name: &quot;ukryta1/kernel/Initializer/random_uniform/shape&quot;\\n  op: &quot;Const&quot;\\n  attr {\\n    key: &quot;_class&quot;\\n    value {\\n      list {\\n        s: &quot;loc:@ukryta1/kernel&quot;\\n      }\\n    }\\n  }\\n  attr {\\n    key: &quot;dtype&quot;\\n    value {\\n      type: DT_INT32\\n    }\\n  }\\n  attr {\\n    key: &quot;value&quot;\\n    value {\\n      tensor {\\n        dtype: DT_INT32\\n        tensor_shape {\\n          dim {\\n            size: 2\\n          }\\n        }\\n        tensor_content: &quot;\\\\020\\\\003\\\\000\\\\000,\\\\001\\\\000\\\\000&quot;\\n      }\\n    }\\n  }\\n}\\nnode {\\n  name: &quot;ukryta1/kernel/Initializer/random_uniform/min&quot;\\n  op: &quot;Const&quot;\\n  attr {\\n    key: &quot;_class&quot;\\n    value {\\n      list {\\n        s: &quot;loc:@ukryta1/kernel&quot;\\n      }\\n    }\\n  }\\n  attr {\\n    key: &quot;dtype&quot;\\n    value {\\n      type: DT_FLOAT\\n    }\\n  }\\n  attr {\\n    key: &quot;value&quot;\\n    value {\\n      tensor {\\n        dtype: DT_FLOAT\\n        tensor_shape {\\n        }\\n        float_val: -0.07439795136451721\\n      }\\n    }\\n  }\\n}\\nnode {\\n  name: &quot;ukryta1/kernel/Initializer/random_uniform/max&quot;\\n  op: &quot;Const&quot;\\n  attr {\\n    key: &quot;_class&quot;\\n    value {\\n      list {\\n        s: &quot;loc:@ukryta1/kernel&quot;\\n      }\\n    }\\n  }\\n  attr {\\n    key: &quot;dtype&quot;\\n    value {\\n      type: DT_FLOAT\\n    }\\n  }\\n  attr {\\n    key: &quot;value&quot;\\n    value {\\n      tensor {\\n        dtype: DT_FLOAT\\n        tensor_shape {\\n        }\\n        float_val: 0.07439795136451721\\n      }\\n    }\\n  }\\n}\\nnode {\\n  name: &quot;ukryta1/kernel/Initializer/random_uniform/RandomUniform&quot;\\n  op: &quot;RandomUniform&quot;\\n  input: &quot;ukryta1/kernel/Initializer/random_uniform/shape&quot;\\n  attr {\\n    key: &quot;T&quot;\\n    value {\\n      type: DT_INT32\\n    }\\n  }\\n  attr {\\n    key: &quot;_class&quot;\\n    value {\\n      list {\\n        s: &quot;loc:@ukryta1/kernel&quot;\\n      }\\n    }\\n  }\\n  attr {\\n    key: &quot;dtype&quot;\\n    value {\\n      type: DT_FLOAT\\n    }\\n  }\\n  attr {\\n    key: &quot;seed&quot;\\n    value {\\n      i: 42\\n    }\\n  }\\n  attr {\\n    key: &quot;seed2&quot;\\n    value {\\n      i: 5\\n    }\\n  }\\n}\\nnode {\\n  name: &quot;ukryta1/kernel/Initializer/random_uniform/sub&quot;\\n  op: &quot;Sub&quot;\\n  input: &quot;ukryta1/kernel/Initializer/random_uniform/max&quot;\\n  input: &quot;ukryta1/kernel/Initializer/random_uniform/min&quot;\\n  attr {\\n    key: &quot;T&quot;\\n    value {\\n      type: DT_FLOAT\\n    }\\n  }\\n  attr {\\n    key: &quot;_class&quot;\\n    value {\\n      list {\\n        s: &quot;loc:@ukryta1/kernel&quot;\\n      }\\n    }\\n  }\\n}\\nnode {\\n  name: &quot;ukryta1/kernel/Initializer/random_uniform/mul&quot;\\n  op: &quot;Mul&quot;\\n  input: &quot;ukryta1/kernel/Initializer/random_uniform/RandomUniform&quot;\\n  input: &quot;ukryta1/kernel/Initializer/random_uniform/sub&quot;\\n  attr {\\n    key: &quot;T&quot;\\n    value {\\n      type: DT_FLOAT\\n    }\\n  }\\n  attr {\\n    key: &quot;_class&quot;\\n    value {\\n      list {\\n        s: &quot;loc:@ukryta1/kernel&quot;\\n      }\\n    }\\n  }\\n}\\nnode {\\n  name: &quot;ukryta1/kernel/Initializer/random_uniform&quot;\\n  op: &quot;Add&quot;\\n  input: &quot;ukryta1/kernel/Initializer/random_uniform/mul&quot;\\n  input: &quot;ukryta1/kernel/Initializer/random_uniform/min&quot;\\n  attr {\\n    key: &quot;T&quot;\\n    value {\\n      type: DT_FLOAT\\n    }\\n  }\\n  attr {\\n    key: &quot;_class&quot;\\n    value {\\n      list {\\n        s: &quot;loc:@ukryta1/kernel&quot;\\n      }\\n    }\\n  }\\n}\\nnode {\\n  name: &quot;ukryta1/kernel&quot;\\n  op: &quot;VariableV2&quot;\\n  attr {\\n    key: &quot;_class&quot;\\n    value {\\n      list {\\n        s: &quot;loc:@ukryta1/kernel&quot;\\n      }\\n    }\\n  }\\n  attr {\\n    key: &quot;container&quot;\\n    value {\\n      s: &quot;&quot;\\n    }\\n  }\\n  attr {\\n    key: &quot;dtype&quot;\\n    value {\\n      type: DT_FLOAT\\n    }\\n  }\\n  attr {\\n    key: &quot;shape&quot;\\n    value {\\n      shape {\\n        dim {\\n          size: 784\\n        }\\n        dim {\\n          size: 300\\n        }\\n      }\\n    }\\n  }\\n  attr {\\n    key: &quot;shared_name&quot;\\n    value {\\n      s: &quot;&quot;\\n    }\\n  }\\n}\\nnode {\\n  name: &quot;ukryta1/kernel/Assign&quot;\\n  op: &quot;Assign&quot;\\n  input: &quot;ukryta1/kernel&quot;\\n  input: &quot;ukryta1/kernel/Initializer/random_uniform&quot;\\n  attr {\\n    key: &quot;T&quot;\\n    value {\\n      type: DT_FLOAT\\n    }\\n  }\\n  attr {\\n    key: &quot;_class&quot;\\n    value {\\n      list {\\n        s: &quot;loc:@ukryta1/kernel&quot;\\n      }\\n    }\\n  }\\n  attr {\\n    key: &quot;use_locking&quot;\\n    value {\\n      b: true\\n    }\\n  }\\n  attr {\\n    key: &quot;validate_shape&quot;\\n    value {\\n      b: true\\n    }\\n  }\\n}\\nnode {\\n  name: &quot;ukryta1/kernel/read&quot;\\n  op: &quot;Identity&quot;\\n  input: &quot;ukryta1/kernel&quot;\\n  attr {\\n    key: &quot;T&quot;\\n    value {\\n      type: DT_FLOAT\\n    }\\n  }\\n  attr {\\n    key: &quot;_class&quot;\\n    value {\\n      list {\\n        s: &quot;loc:@ukryta1/kernel&quot;\\n      }\\n    }\\n  }\\n}\\nnode {\\n  name: &quot;ukryta1/bias/Initializer/zeros&quot;\\n  op: &quot;Const&quot;\\n  attr {\\n    key: &quot;_class&quot;\\n    value {\\n      list {\\n        s: &quot;loc:@ukryta1/bias&quot;\\n      }\\n    }\\n  }\\n  attr {\\n    key: &quot;dtype&quot;\\n    value {\\n      type: DT_FLOAT\\n    }\\n  }\\n  attr {\\n    key: &quot;value&quot;\\n    value {\\n      tensor {\\n        dtype: DT_FLOAT\\n        tensor_shape {\\n          dim {\\n            size: 300\\n          }\\n        }\\n        float_val: 0.0\\n      }\\n    }\\n  }\\n}\\nnode {\\n  name: &quot;ukryta1/bias&quot;\\n  op: &quot;VariableV2&quot;\\n  attr {\\n    key: &quot;_class&quot;\\n    value {\\n      list {\\n        s: &quot;loc:@ukryta1/bias&quot;\\n      }\\n    }\\n  }\\n  attr {\\n    key: &quot;container&quot;\\n    value {\\n      s: &quot;&quot;\\n    }\\n  }\\n  attr {\\n    key: &quot;dtype&quot;\\n    value {\\n      type: DT_FLOAT\\n    }\\n  }\\n  attr {\\n    key: &quot;shape&quot;\\n    value {\\n      shape {\\n        dim {\\n          size: 300\\n        }\\n      }\\n    }\\n  }\\n  attr {\\n    key: &quot;shared_name&quot;\\n    value {\\n      s: &quot;&quot;\\n    }\\n  }\\n}\\nnode {\\n  name: &quot;ukryta1/bias/Assign&quot;\\n  op: &quot;Assign&quot;\\n  input: &quot;ukryta1/bias&quot;\\n  input: &quot;ukryta1/bias/Initializer/zeros&quot;\\n  attr {\\n    key: &quot;T&quot;\\n    value {\\n      type: DT_FLOAT\\n    }\\n  }\\n  attr {\\n    key: &quot;_class&quot;\\n    value {\\n      list {\\n        s: &quot;loc:@ukryta1/bias&quot;\\n      }\\n    }\\n  }\\n  attr {\\n    key: &quot;use_locking&quot;\\n    value {\\n      b: true\\n    }\\n  }\\n  attr {\\n    key: &quot;validate_shape&quot;\\n    value {\\n      b: true\\n    }\\n  }\\n}\\nnode {\\n  name: &quot;ukryta1/bias/read&quot;\\n  op: &quot;Identity&quot;\\n  input: &quot;ukryta1/bias&quot;\\n  attr {\\n    key: &quot;T&quot;\\n    value {\\n      type: DT_FLOAT\\n    }\\n  }\\n  attr {\\n    key: &quot;_class&quot;\\n    value {\\n      list {\\n        s: &quot;loc:@ukryta1/bias&quot;\\n      }\\n    }\\n  }\\n}\\nnode {\\n  name: &quot;gsn/ukryta1/MatMul&quot;\\n  op: &quot;MatMul&quot;\\n  input: &quot;X&quot;\\n  input: &quot;ukryta1/kernel/read&quot;\\n  attr {\\n    key: &quot;T&quot;\\n    value {\\n      type: DT_FLOAT\\n    }\\n  }\\n  attr {\\n    key: &quot;transpose_a&quot;\\n    value {\\n      b: false\\n    }\\n  }\\n  attr {\\n    key: &quot;transpose_b&quot;\\n    value {\\n      b: false\\n    }\\n  }\\n}\\nnode {\\n  name: &quot;gsn/ukryta1/BiasAdd&quot;\\n  op: &quot;BiasAdd&quot;\\n  input: &quot;gsn/ukryta1/MatMul&quot;\\n  input: &quot;ukryta1/bias/read&quot;\\n  attr {\\n    key: &quot;T&quot;\\n    value {\\n      type: DT_FLOAT\\n    }\\n  }\\n  attr {\\n    key: &quot;data_format&quot;\\n    value {\\n      s: &quot;NHWC&quot;\\n    }\\n  }\\n}\\nnode {\\n  name: &quot;gsn/ukryta1/Relu&quot;\\n  op: &quot;Relu&quot;\\n  input: &quot;gsn/ukryta1/BiasAdd&quot;\\n  attr {\\n    key: &quot;T&quot;\\n    value {\\n      type: DT_FLOAT\\n    }\\n  }\\n}\\nnode {\\n  name: &quot;ukryta2/kernel/Initializer/random_uniform/shape&quot;\\n  op: &quot;Const&quot;\\n  attr {\\n    key: &quot;_class&quot;\\n    value {\\n      list {\\n        s: &quot;loc:@ukryta2/kernel&quot;\\n      }\\n    }\\n  }\\n  attr {\\n    key: &quot;dtype&quot;\\n    value {\\n      type: DT_INT32\\n    }\\n  }\\n  attr {\\n    key: &quot;value&quot;\\n    value {\\n      tensor {\\n        dtype: DT_INT32\\n        tensor_shape {\\n          dim {\\n            size: 2\\n          }\\n        }\\n        tensor_content: &quot;,\\\\001\\\\000\\\\000d\\\\000\\\\000\\\\000&quot;\\n      }\\n    }\\n  }\\n}\\nnode {\\n  name: &quot;ukryta2/kernel/Initializer/random_uniform/min&quot;\\n  op: &quot;Const&quot;\\n  attr {\\n    key: &quot;_class&quot;\\n    value {\\n      list {\\n        s: &quot;loc:@ukryta2/kernel&quot;\\n      }\\n    }\\n  }\\n  attr {\\n    key: &quot;dtype&quot;\\n    value {\\n      type: DT_FLOAT\\n    }\\n  }\\n  attr {\\n    key: &quot;value&quot;\\n    value {\\n      tensor {\\n        dtype: DT_FLOAT\\n        tensor_shape {\\n        }\\n        float_val: -0.12247448414564133\\n      }\\n    }\\n  }\\n}\\nnode {\\n  name: &quot;ukryta2/kernel/Initializer/random_uniform/max&quot;\\n  op: &quot;Const&quot;\\n  attr {\\n    key: &quot;_class&quot;\\n    value {\\n      list {\\n        s: &quot;loc:@ukryta2/kernel&quot;\\n      }\\n    }\\n  }\\n  attr {\\n    key: &quot;dtype&quot;\\n    value {\\n      type: DT_FLOAT\\n    }\\n  }\\n  attr {\\n    key: &quot;value&quot;\\n    value {\\n      tensor {\\n        dtype: DT_FLOAT\\n        tensor_shape {\\n        }\\n        float_val: 0.12247448414564133\\n      }\\n    }\\n  }\\n}\\nnode {\\n  name: &quot;ukryta2/kernel/Initializer/random_uniform/RandomUniform&quot;\\n  op: &quot;RandomUniform&quot;\\n  input: &quot;ukryta2/kernel/Initializer/random_uniform/shape&quot;\\n  attr {\\n    key: &quot;T&quot;\\n    value {\\n      type: DT_INT32\\n    }\\n  }\\n  attr {\\n    key: &quot;_class&quot;\\n    value {\\n      list {\\n        s: &quot;loc:@ukryta2/kernel&quot;\\n      }\\n    }\\n  }\\n  attr {\\n    key: &quot;dtype&quot;\\n    value {\\n      type: DT_FLOAT\\n    }\\n  }\\n  attr {\\n    key: &quot;seed&quot;\\n    value {\\n      i: 42\\n    }\\n  }\\n  attr {\\n    key: &quot;seed2&quot;\\n    value {\\n      i: 22\\n    }\\n  }\\n}\\nnode {\\n  name: &quot;ukryta2/kernel/Initializer/random_uniform/sub&quot;\\n  op: &quot;Sub&quot;\\n  input: &quot;ukryta2/kernel/Initializer/random_uniform/max&quot;\\n  input: &quot;ukryta2/kernel/Initializer/random_uniform/min&quot;\\n  attr {\\n    key: &quot;T&quot;\\n    value {\\n      type: DT_FLOAT\\n    }\\n  }\\n  attr {\\n    key: &quot;_class&quot;\\n    value {\\n      list {\\n        s: &quot;loc:@ukryta2/kernel&quot;\\n      }\\n    }\\n  }\\n}\\nnode {\\n  name: &quot;ukryta2/kernel/Initializer/random_uniform/mul&quot;\\n  op: &quot;Mul&quot;\\n  input: &quot;ukryta2/kernel/Initializer/random_uniform/RandomUniform&quot;\\n  input: &quot;ukryta2/kernel/Initializer/random_uniform/sub&quot;\\n  attr {\\n    key: &quot;T&quot;\\n    value {\\n      type: DT_FLOAT\\n    }\\n  }\\n  attr {\\n    key: &quot;_class&quot;\\n    value {\\n      list {\\n        s: &quot;loc:@ukryta2/kernel&quot;\\n      }\\n    }\\n  }\\n}\\nnode {\\n  name: &quot;ukryta2/kernel/Initializer/random_uniform&quot;\\n  op: &quot;Add&quot;\\n  input: &quot;ukryta2/kernel/Initializer/random_uniform/mul&quot;\\n  input: &quot;ukryta2/kernel/Initializer/random_uniform/min&quot;\\n  attr {\\n    key: &quot;T&quot;\\n    value {\\n      type: DT_FLOAT\\n    }\\n  }\\n  attr {\\n    key: &quot;_class&quot;\\n    value {\\n      list {\\n        s: &quot;loc:@ukryta2/kernel&quot;\\n      }\\n    }\\n  }\\n}\\nnode {\\n  name: &quot;ukryta2/kernel&quot;\\n  op: &quot;VariableV2&quot;\\n  attr {\\n    key: &quot;_class&quot;\\n    value {\\n      list {\\n        s: &quot;loc:@ukryta2/kernel&quot;\\n      }\\n    }\\n  }\\n  attr {\\n    key: &quot;container&quot;\\n    value {\\n      s: &quot;&quot;\\n    }\\n  }\\n  attr {\\n    key: &quot;dtype&quot;\\n    value {\\n      type: DT_FLOAT\\n    }\\n  }\\n  attr {\\n    key: &quot;shape&quot;\\n    value {\\n      shape {\\n        dim {\\n          size: 300\\n        }\\n        dim {\\n          size: 100\\n        }\\n      }\\n    }\\n  }\\n  attr {\\n    key: &quot;shared_name&quot;\\n    value {\\n      s: &quot;&quot;\\n    }\\n  }\\n}\\nnode {\\n  name: &quot;ukryta2/kernel/Assign&quot;\\n  op: &quot;Assign&quot;\\n  input: &quot;ukryta2/kernel&quot;\\n  input: &quot;ukryta2/kernel/Initializer/random_uniform&quot;\\n  attr {\\n    key: &quot;T&quot;\\n    value {\\n      type: DT_FLOAT\\n    }\\n  }\\n  attr {\\n    key: &quot;_class&quot;\\n    value {\\n      list {\\n        s: &quot;loc:@ukryta2/kernel&quot;\\n      }\\n    }\\n  }\\n  attr {\\n    key: &quot;use_locking&quot;\\n    value {\\n      b: true\\n    }\\n  }\\n  attr {\\n    key: &quot;validate_shape&quot;\\n    value {\\n      b: true\\n    }\\n  }\\n}\\nnode {\\n  name: &quot;ukryta2/kernel/read&quot;\\n  op: &quot;Identity&quot;\\n  input: &quot;ukryta2/kernel&quot;\\n  attr {\\n    key: &quot;T&quot;\\n    value {\\n      type: DT_FLOAT\\n    }\\n  }\\n  attr {\\n    key: &quot;_class&quot;\\n    value {\\n      list {\\n        s: &quot;loc:@ukryta2/kernel&quot;\\n      }\\n    }\\n  }\\n}\\nnode {\\n  name: &quot;ukryta2/bias/Initializer/zeros&quot;\\n  op: &quot;Const&quot;\\n  attr {\\n    key: &quot;_class&quot;\\n    value {\\n      list {\\n        s: &quot;loc:@ukryta2/bias&quot;\\n      }\\n    }\\n  }\\n  attr {\\n    key: &quot;dtype&quot;\\n    value {\\n      type: DT_FLOAT\\n    }\\n  }\\n  attr {\\n    key: &quot;value&quot;\\n    value {\\n      tensor {\\n        dtype: DT_FLOAT\\n        tensor_shape {\\n          dim {\\n            size: 100\\n          }\\n        }\\n        float_val: 0.0\\n      }\\n    }\\n  }\\n}\\nnode {\\n  name: &quot;ukryta2/bias&quot;\\n  op: &quot;VariableV2&quot;\\n  attr {\\n    key: &quot;_class&quot;\\n    value {\\n      list {\\n        s: &quot;loc:@ukryta2/bias&quot;\\n      }\\n    }\\n  }\\n  attr {\\n    key: &quot;container&quot;\\n    value {\\n      s: &quot;&quot;\\n    }\\n  }\\n  attr {\\n    key: &quot;dtype&quot;\\n    value {\\n      type: DT_FLOAT\\n    }\\n  }\\n  attr {\\n    key: &quot;shape&quot;\\n    value {\\n      shape {\\n        dim {\\n          size: 100\\n        }\\n      }\\n    }\\n  }\\n  attr {\\n    key: &quot;shared_name&quot;\\n    value {\\n      s: &quot;&quot;\\n    }\\n  }\\n}\\nnode {\\n  name: &quot;ukryta2/bias/Assign&quot;\\n  op: &quot;Assign&quot;\\n  input: &quot;ukryta2/bias&quot;\\n  input: &quot;ukryta2/bias/Initializer/zeros&quot;\\n  attr {\\n    key: &quot;T&quot;\\n    value {\\n      type: DT_FLOAT\\n    }\\n  }\\n  attr {\\n    key: &quot;_class&quot;\\n    value {\\n      list {\\n        s: &quot;loc:@ukryta2/bias&quot;\\n      }\\n    }\\n  }\\n  attr {\\n    key: &quot;use_locking&quot;\\n    value {\\n      b: true\\n    }\\n  }\\n  attr {\\n    key: &quot;validate_shape&quot;\\n    value {\\n      b: true\\n    }\\n  }\\n}\\nnode {\\n  name: &quot;ukryta2/bias/read&quot;\\n  op: &quot;Identity&quot;\\n  input: &quot;ukryta2/bias&quot;\\n  attr {\\n    key: &quot;T&quot;\\n    value {\\n      type: DT_FLOAT\\n    }\\n  }\\n  attr {\\n    key: &quot;_class&quot;\\n    value {\\n      list {\\n        s: &quot;loc:@ukryta2/bias&quot;\\n      }\\n    }\\n  }\\n}\\nnode {\\n  name: &quot;gsn/ukryta2/MatMul&quot;\\n  op: &quot;MatMul&quot;\\n  input: &quot;gsn/ukryta1/Relu&quot;\\n  input: &quot;ukryta2/kernel/read&quot;\\n  attr {\\n    key: &quot;T&quot;\\n    value {\\n      type: DT_FLOAT\\n    }\\n  }\\n  attr {\\n    key: &quot;transpose_a&quot;\\n    value {\\n      b: false\\n    }\\n  }\\n  attr {\\n    key: &quot;transpose_b&quot;\\n    value {\\n      b: false\\n    }\\n  }\\n}\\nnode {\\n  name: &quot;gsn/ukryta2/BiasAdd&quot;\\n  op: &quot;BiasAdd&quot;\\n  input: &quot;gsn/ukryta2/MatMul&quot;\\n  input: &quot;ukryta2/bias/read&quot;\\n  attr {\\n    key: &quot;T&quot;\\n    value {\\n      type: DT_FLOAT\\n    }\\n  }\\n  attr {\\n    key: &quot;data_format&quot;\\n    value {\\n      s: &quot;NHWC&quot;\\n    }\\n  }\\n}\\nnode {\\n  name: &quot;gsn/ukryta2/Relu&quot;\\n  op: &quot;Relu&quot;\\n  input: &quot;gsn/ukryta2/BiasAdd&quot;\\n  attr {\\n    key: &quot;T&quot;\\n    value {\\n      type: DT_FLOAT\\n    }\\n  }\\n}\\nnode {\\n  name: &quot;wyjscia/kernel/Initializer/random_uniform/shape&quot;\\n  op: &quot;Const&quot;\\n  attr {\\n    key: &quot;_class&quot;\\n    value {\\n      list {\\n        s: &quot;loc:@wyjscia/kernel&quot;\\n      }\\n    }\\n  }\\n  attr {\\n    key: &quot;dtype&quot;\\n    value {\\n      type: DT_INT32\\n    }\\n  }\\n  attr {\\n    key: &quot;value&quot;\\n    value {\\n      tensor {\\n        dtype: DT_INT32\\n        tensor_shape {\\n          dim {\\n            size: 2\\n          }\\n        }\\n        tensor_content: &quot;d\\\\000\\\\000\\\\000\\\\n\\\\000\\\\000\\\\000&quot;\\n      }\\n    }\\n  }\\n}\\nnode {\\n  name: &quot;wyjscia/kernel/Initializer/random_uniform/min&quot;\\n  op: &quot;Const&quot;\\n  attr {\\n    key: &quot;_class&quot;\\n    value {\\n      list {\\n        s: &quot;loc:@wyjscia/kernel&quot;\\n      }\\n    }\\n  }\\n  attr {\\n    key: &quot;dtype&quot;\\n    value {\\n      type: DT_FLOAT\\n    }\\n  }\\n  attr {\\n    key: &quot;value&quot;\\n    value {\\n      tensor {\\n        dtype: DT_FLOAT\\n        tensor_shape {\\n        }\\n        float_val: -0.23354968428611755\\n      }\\n    }\\n  }\\n}\\nnode {\\n  name: &quot;wyjscia/kernel/Initializer/random_uniform/max&quot;\\n  op: &quot;Const&quot;\\n  attr {\\n    key: &quot;_class&quot;\\n    value {\\n      list {\\n        s: &quot;loc:@wyjscia/kernel&quot;\\n      }\\n    }\\n  }\\n  attr {\\n    key: &quot;dtype&quot;\\n    value {\\n      type: DT_FLOAT\\n    }\\n  }\\n  attr {\\n    key: &quot;value&quot;\\n    value {\\n      tensor {\\n        dtype: DT_FLOAT\\n        tensor_shape {\\n        }\\n        float_val: 0.23354968428611755\\n      }\\n    }\\n  }\\n}\\nnode {\\n  name: &quot;wyjscia/kernel/Initializer/random_uniform/RandomUniform&quot;\\n  op: &quot;RandomUniform&quot;\\n  input: &quot;wyjscia/kernel/Initializer/random_uniform/shape&quot;\\n  attr {\\n    key: &quot;T&quot;\\n    value {\\n      type: DT_INT32\\n    }\\n  }\\n  attr {\\n    key: &quot;_class&quot;\\n    value {\\n      list {\\n        s: &quot;loc:@wyjscia/kernel&quot;\\n      }\\n    }\\n  }\\n  attr {\\n    key: &quot;dtype&quot;\\n    value {\\n      type: DT_FLOAT\\n    }\\n  }\\n  attr {\\n    key: &quot;seed&quot;\\n    value {\\n      i: 42\\n    }\\n  }\\n  attr {\\n    key: &quot;seed2&quot;\\n    value {\\n      i: 39\\n    }\\n  }\\n}\\nnode {\\n  name: &quot;wyjscia/kernel/Initializer/random_uniform/sub&quot;\\n  op: &quot;Sub&quot;\\n  input: &quot;wyjscia/kernel/Initializer/random_uniform/max&quot;\\n  input: &quot;wyjscia/kernel/Initializer/random_uniform/min&quot;\\n  attr {\\n    key: &quot;T&quot;\\n    value {\\n      type: DT_FLOAT\\n    }\\n  }\\n  attr {\\n    key: &quot;_class&quot;\\n    value {\\n      list {\\n        s: &quot;loc:@wyjscia/kernel&quot;\\n      }\\n    }\\n  }\\n}\\nnode {\\n  name: &quot;wyjscia/kernel/Initializer/random_uniform/mul&quot;\\n  op: &quot;Mul&quot;\\n  input: &quot;wyjscia/kernel/Initializer/random_uniform/RandomUniform&quot;\\n  input: &quot;wyjscia/kernel/Initializer/random_uniform/sub&quot;\\n  attr {\\n    key: &quot;T&quot;\\n    value {\\n      type: DT_FLOAT\\n    }\\n  }\\n  attr {\\n    key: &quot;_class&quot;\\n    value {\\n      list {\\n        s: &quot;loc:@wyjscia/kernel&quot;\\n      }\\n    }\\n  }\\n}\\nnode {\\n  name: &quot;wyjscia/kernel/Initializer/random_uniform&quot;\\n  op: &quot;Add&quot;\\n  input: &quot;wyjscia/kernel/Initializer/random_uniform/mul&quot;\\n  input: &quot;wyjscia/kernel/Initializer/random_uniform/min&quot;\\n  attr {\\n    key: &quot;T&quot;\\n    value {\\n      type: DT_FLOAT\\n    }\\n  }\\n  attr {\\n    key: &quot;_class&quot;\\n    value {\\n      list {\\n        s: &quot;loc:@wyjscia/kernel&quot;\\n      }\\n    }\\n  }\\n}\\nnode {\\n  name: &quot;wyjscia/kernel&quot;\\n  op: &quot;VariableV2&quot;\\n  attr {\\n    key: &quot;_class&quot;\\n    value {\\n      list {\\n        s: &quot;loc:@wyjscia/kernel&quot;\\n      }\\n    }\\n  }\\n  attr {\\n    key: &quot;container&quot;\\n    value {\\n      s: &quot;&quot;\\n    }\\n  }\\n  attr {\\n    key: &quot;dtype&quot;\\n    value {\\n      type: DT_FLOAT\\n    }\\n  }\\n  attr {\\n    key: &quot;shape&quot;\\n    value {\\n      shape {\\n        dim {\\n          size: 100\\n        }\\n        dim {\\n          size: 10\\n        }\\n      }\\n    }\\n  }\\n  attr {\\n    key: &quot;shared_name&quot;\\n    value {\\n      s: &quot;&quot;\\n    }\\n  }\\n}\\nnode {\\n  name: &quot;wyjscia/kernel/Assign&quot;\\n  op: &quot;Assign&quot;\\n  input: &quot;wyjscia/kernel&quot;\\n  input: &quot;wyjscia/kernel/Initializer/random_uniform&quot;\\n  attr {\\n    key: &quot;T&quot;\\n    value {\\n      type: DT_FLOAT\\n    }\\n  }\\n  attr {\\n    key: &quot;_class&quot;\\n    value {\\n      list {\\n        s: &quot;loc:@wyjscia/kernel&quot;\\n      }\\n    }\\n  }\\n  attr {\\n    key: &quot;use_locking&quot;\\n    value {\\n      b: true\\n    }\\n  }\\n  attr {\\n    key: &quot;validate_shape&quot;\\n    value {\\n      b: true\\n    }\\n  }\\n}\\nnode {\\n  name: &quot;wyjscia/kernel/read&quot;\\n  op: &quot;Identity&quot;\\n  input: &quot;wyjscia/kernel&quot;\\n  attr {\\n    key: &quot;T&quot;\\n    value {\\n      type: DT_FLOAT\\n    }\\n  }\\n  attr {\\n    key: &quot;_class&quot;\\n    value {\\n      list {\\n        s: &quot;loc:@wyjscia/kernel&quot;\\n      }\\n    }\\n  }\\n}\\nnode {\\n  name: &quot;wyjscia/bias/Initializer/zeros&quot;\\n  op: &quot;Const&quot;\\n  attr {\\n    key: &quot;_class&quot;\\n    value {\\n      list {\\n        s: &quot;loc:@wyjscia/bias&quot;\\n      }\\n    }\\n  }\\n  attr {\\n    key: &quot;dtype&quot;\\n    value {\\n      type: DT_FLOAT\\n    }\\n  }\\n  attr {\\n    key: &quot;value&quot;\\n    value {\\n      tensor {\\n        dtype: DT_FLOAT\\n        tensor_shape {\\n          dim {\\n            size: 10\\n          }\\n        }\\n        float_val: 0.0\\n      }\\n    }\\n  }\\n}\\nnode {\\n  name: &quot;wyjscia/bias&quot;\\n  op: &quot;VariableV2&quot;\\n  attr {\\n    key: &quot;_class&quot;\\n    value {\\n      list {\\n        s: &quot;loc:@wyjscia/bias&quot;\\n      }\\n    }\\n  }\\n  attr {\\n    key: &quot;container&quot;\\n    value {\\n      s: &quot;&quot;\\n    }\\n  }\\n  attr {\\n    key: &quot;dtype&quot;\\n    value {\\n      type: DT_FLOAT\\n    }\\n  }\\n  attr {\\n    key: &quot;shape&quot;\\n    value {\\n      shape {\\n        dim {\\n          size: 10\\n        }\\n      }\\n    }\\n  }\\n  attr {\\n    key: &quot;shared_name&quot;\\n    value {\\n      s: &quot;&quot;\\n    }\\n  }\\n}\\nnode {\\n  name: &quot;wyjscia/bias/Assign&quot;\\n  op: &quot;Assign&quot;\\n  input: &quot;wyjscia/bias&quot;\\n  input: &quot;wyjscia/bias/Initializer/zeros&quot;\\n  attr {\\n    key: &quot;T&quot;\\n    value {\\n      type: DT_FLOAT\\n    }\\n  }\\n  attr {\\n    key: &quot;_class&quot;\\n    value {\\n      list {\\n        s: &quot;loc:@wyjscia/bias&quot;\\n      }\\n    }\\n  }\\n  attr {\\n    key: &quot;use_locking&quot;\\n    value {\\n      b: true\\n    }\\n  }\\n  attr {\\n    key: &quot;validate_shape&quot;\\n    value {\\n      b: true\\n    }\\n  }\\n}\\nnode {\\n  name: &quot;wyjscia/bias/read&quot;\\n  op: &quot;Identity&quot;\\n  input: &quot;wyjscia/bias&quot;\\n  attr {\\n    key: &quot;T&quot;\\n    value {\\n      type: DT_FLOAT\\n    }\\n  }\\n  attr {\\n    key: &quot;_class&quot;\\n    value {\\n      list {\\n        s: &quot;loc:@wyjscia/bias&quot;\\n      }\\n    }\\n  }\\n}\\nnode {\\n  name: &quot;gsn/wyjscia/MatMul&quot;\\n  op: &quot;MatMul&quot;\\n  input: &quot;gsn/ukryta2/Relu&quot;\\n  input: &quot;wyjscia/kernel/read&quot;\\n  attr {\\n    key: &quot;T&quot;\\n    value {\\n      type: DT_FLOAT\\n    }\\n  }\\n  attr {\\n    key: &quot;transpose_a&quot;\\n    value {\\n      b: false\\n    }\\n  }\\n  attr {\\n    key: &quot;transpose_b&quot;\\n    value {\\n      b: false\\n    }\\n  }\\n}\\nnode {\\n  name: &quot;gsn/wyjscia/BiasAdd&quot;\\n  op: &quot;BiasAdd&quot;\\n  input: &quot;gsn/wyjscia/MatMul&quot;\\n  input: &quot;wyjscia/bias/read&quot;\\n  attr {\\n    key: &quot;T&quot;\\n    value {\\n      type: DT_FLOAT\\n    }\\n  }\\n  attr {\\n    key: &quot;data_format&quot;\\n    value {\\n      s: &quot;NHWC&quot;\\n    }\\n  }\\n}\\nnode {\\n  name: &quot;strata/SparseSoftmaxCrossEntropyWithLogits/Shape&quot;\\n  op: &quot;Shape&quot;\\n  input: &quot;y&quot;\\n  attr {\\n    key: &quot;T&quot;\\n    value {\\n      type: DT_INT64\\n    }\\n  }\\n  attr {\\n    key: &quot;out_type&quot;\\n    value {\\n      type: DT_INT32\\n    }\\n  }\\n}\\nnode {\\n  name: &quot;strata/SparseSoftmaxCrossEntropyWithLogits/SparseSoftmaxCrossEntropyWithLogits&quot;\\n  op: &quot;SparseSoftmaxCrossEntropyWithLogits&quot;\\n  input: &quot;gsn/wyjscia/BiasAdd&quot;\\n  input: &quot;y&quot;\\n  attr {\\n    key: &quot;T&quot;\\n    value {\\n      type: DT_FLOAT\\n    }\\n  }\\n  attr {\\n    key: &quot;Tlabels&quot;\\n    value {\\n      type: DT_INT64\\n    }\\n  }\\n}\\nnode {\\n  name: &quot;strata/Const&quot;\\n  op: &quot;Const&quot;\\n  attr {\\n    key: &quot;dtype&quot;\\n    value {\\n      type: DT_INT32\\n    }\\n  }\\n  attr {\\n    key: &quot;value&quot;\\n    value {\\n      tensor {\\n        dtype: DT_INT32\\n        tensor_shape {\\n          dim {\\n            size: 1\\n          }\\n        }\\n        int_val: 0\\n      }\\n    }\\n  }\\n}\\nnode {\\n  name: &quot;strata/strata&quot;\\n  op: &quot;Mean&quot;\\n  input: &quot;strata/SparseSoftmaxCrossEntropyWithLogits/SparseSoftmaxCrossEntropyWithLogits&quot;\\n  input: &quot;strata/Const&quot;\\n  attr {\\n    key: &quot;T&quot;\\n    value {\\n      type: DT_FLOAT\\n    }\\n  }\\n  attr {\\n    key: &quot;Tidx&quot;\\n    value {\\n      type: DT_INT32\\n    }\\n  }\\n  attr {\\n    key: &quot;keep_dims&quot;\\n    value {\\n      b: false\\n    }\\n  }\\n}\\nnode {\\n  name: &quot;uczenie/gradients/Shape&quot;\\n  op: &quot;Const&quot;\\n  attr {\\n    key: &quot;dtype&quot;\\n    value {\\n      type: DT_INT32\\n    }\\n  }\\n  attr {\\n    key: &quot;value&quot;\\n    value {\\n      tensor {\\n        dtype: DT_INT32\\n        tensor_shape {\\n          dim {\\n          }\\n        }\\n      }\\n    }\\n  }\\n}\\nnode {\\n  name: &quot;uczenie/gradients/Const&quot;\\n  op: &quot;Const&quot;\\n  attr {\\n    key: &quot;dtype&quot;\\n    value {\\n      type: DT_FLOAT\\n    }\\n  }\\n  attr {\\n    key: &quot;value&quot;\\n    value {\\n      tensor {\\n        dtype: DT_FLOAT\\n        tensor_shape {\\n        }\\n        float_val: 1.0\\n      }\\n    }\\n  }\\n}\\nnode {\\n  name: &quot;uczenie/gradients/Fill&quot;\\n  op: &quot;Fill&quot;\\n  input: &quot;uczenie/gradients/Shape&quot;\\n  input: &quot;uczenie/gradients/Const&quot;\\n  attr {\\n    key: &quot;T&quot;\\n    value {\\n      type: DT_FLOAT\\n    }\\n  }\\n}\\nnode {\\n  name: &quot;uczenie/gradients/strata/strata_grad/Reshape/shape&quot;\\n  op: &quot;Const&quot;\\n  attr {\\n    key: &quot;dtype&quot;\\n    value {\\n      type: DT_INT32\\n    }\\n  }\\n  attr {\\n    key: &quot;value&quot;\\n    value {\\n      tensor {\\n        dtype: DT_INT32\\n        tensor_shape {\\n          dim {\\n            size: 1\\n          }\\n        }\\n        int_val: 1\\n      }\\n    }\\n  }\\n}\\nnode {\\n  name: &quot;uczenie/gradients/strata/strata_grad/Reshape&quot;\\n  op: &quot;Reshape&quot;\\n  input: &quot;uczenie/gradients/Fill&quot;\\n  input: &quot;uczenie/gradients/strata/strata_grad/Reshape/shape&quot;\\n  attr {\\n    key: &quot;T&quot;\\n    value {\\n      type: DT_FLOAT\\n    }\\n  }\\n  attr {\\n    key: &quot;Tshape&quot;\\n    value {\\n      type: DT_INT32\\n    }\\n  }\\n}\\nnode {\\n  name: &quot;uczenie/gradients/strata/strata_grad/Shape&quot;\\n  op: &quot;Shape&quot;\\n  input: &quot;strata/SparseSoftmaxCrossEntropyWithLogits/SparseSoftmaxCrossEntropyWithLogits&quot;\\n  attr {\\n    key: &quot;T&quot;\\n    value {\\n      type: DT_FLOAT\\n    }\\n  }\\n  attr {\\n    key: &quot;out_type&quot;\\n    value {\\n      type: DT_INT32\\n    }\\n  }\\n}\\nnode {\\n  name: &quot;uczenie/gradients/strata/strata_grad/Tile&quot;\\n  op: &quot;Tile&quot;\\n  input: &quot;uczenie/gradients/strata/strata_grad/Reshape&quot;\\n  input: &quot;uczenie/gradients/strata/strata_grad/Shape&quot;\\n  attr {\\n    key: &quot;T&quot;\\n    value {\\n      type: DT_FLOAT\\n    }\\n  }\\n  attr {\\n    key: &quot;Tmultiples&quot;\\n    value {\\n      type: DT_INT32\\n    }\\n  }\\n}\\nnode {\\n  name: &quot;uczenie/gradients/strata/strata_grad/Shape_1&quot;\\n  op: &quot;Shape&quot;\\n  input: &quot;strata/SparseSoftmaxCrossEntropyWithLogits/SparseSoftmaxCrossEntropyWithLogits&quot;\\n  attr {\\n    key: &quot;T&quot;\\n    value {\\n      type: DT_FLOAT\\n    }\\n  }\\n  attr {\\n    key: &quot;out_type&quot;\\n    value {\\n      type: DT_INT32\\n    }\\n  }\\n}\\nnode {\\n  name: &quot;uczenie/gradients/strata/strata_grad/Shape_2&quot;\\n  op: &quot;Const&quot;\\n  attr {\\n    key: &quot;dtype&quot;\\n    value {\\n      type: DT_INT32\\n    }\\n  }\\n  attr {\\n    key: &quot;value&quot;\\n    value {\\n      tensor {\\n        dtype: DT_INT32\\n        tensor_shape {\\n          dim {\\n          }\\n        }\\n      }\\n    }\\n  }\\n}\\nnode {\\n  name: &quot;uczenie/gradients/strata/strata_grad/Const&quot;\\n  op: &quot;Const&quot;\\n  attr {\\n    key: &quot;dtype&quot;\\n    value {\\n      type: DT_INT32\\n    }\\n  }\\n  attr {\\n    key: &quot;value&quot;\\n    value {\\n      tensor {\\n        dtype: DT_INT32\\n        tensor_shape {\\n          dim {\\n            size: 1\\n          }\\n        }\\n        int_val: 0\\n      }\\n    }\\n  }\\n}\\nnode {\\n  name: &quot;uczenie/gradients/strata/strata_grad/Prod&quot;\\n  op: &quot;Prod&quot;\\n  input: &quot;uczenie/gradients/strata/strata_grad/Shape_1&quot;\\n  input: &quot;uczenie/gradients/strata/strata_grad/Const&quot;\\n  attr {\\n    key: &quot;T&quot;\\n    value {\\n      type: DT_INT32\\n    }\\n  }\\n  attr {\\n    key: &quot;Tidx&quot;\\n    value {\\n      type: DT_INT32\\n    }\\n  }\\n  attr {\\n    key: &quot;keep_dims&quot;\\n    value {\\n      b: false\\n    }\\n  }\\n}\\nnode {\\n  name: &quot;uczenie/gradients/strata/strata_grad/Const_1&quot;\\n  op: &quot;Const&quot;\\n  attr {\\n    key: &quot;dtype&quot;\\n    value {\\n      type: DT_INT32\\n    }\\n  }\\n  attr {\\n    key: &quot;value&quot;\\n    value {\\n      tensor {\\n        dtype: DT_INT32\\n        tensor_shape {\\n          dim {\\n            size: 1\\n          }\\n        }\\n        int_val: 0\\n      }\\n    }\\n  }\\n}\\nnode {\\n  name: &quot;uczenie/gradients/strata/strata_grad/Prod_1&quot;\\n  op: &quot;Prod&quot;\\n  input: &quot;uczenie/gradients/strata/strata_grad/Shape_2&quot;\\n  input: &quot;uczenie/gradients/strata/strata_grad/Const_1&quot;\\n  attr {\\n    key: &quot;T&quot;\\n    value {\\n      type: DT_INT32\\n    }\\n  }\\n  attr {\\n    key: &quot;Tidx&quot;\\n    value {\\n      type: DT_INT32\\n    }\\n  }\\n  attr {\\n    key: &quot;keep_dims&quot;\\n    value {\\n      b: false\\n    }\\n  }\\n}\\nnode {\\n  name: &quot;uczenie/gradients/strata/strata_grad/Maximum/y&quot;\\n  op: &quot;Const&quot;\\n  attr {\\n    key: &quot;dtype&quot;\\n    value {\\n      type: DT_INT32\\n    }\\n  }\\n  attr {\\n    key: &quot;value&quot;\\n    value {\\n      tensor {\\n        dtype: DT_INT32\\n        tensor_shape {\\n        }\\n        int_val: 1\\n      }\\n    }\\n  }\\n}\\nnode {\\n  name: &quot;uczenie/gradients/strata/strata_grad/Maximum&quot;\\n  op: &quot;Maximum&quot;\\n  input: &quot;uczenie/gradients/strata/strata_grad/Prod_1&quot;\\n  input: &quot;uczenie/gradients/strata/strata_grad/Maximum/y&quot;\\n  attr {\\n    key: &quot;T&quot;\\n    value {\\n      type: DT_INT32\\n    }\\n  }\\n}\\nnode {\\n  name: &quot;uczenie/gradients/strata/strata_grad/floordiv&quot;\\n  op: &quot;FloorDiv&quot;\\n  input: &quot;uczenie/gradients/strata/strata_grad/Prod&quot;\\n  input: &quot;uczenie/gradients/strata/strata_grad/Maximum&quot;\\n  attr {\\n    key: &quot;T&quot;\\n    value {\\n      type: DT_INT32\\n    }\\n  }\\n}\\nnode {\\n  name: &quot;uczenie/gradients/strata/strata_grad/Cast&quot;\\n  op: &quot;Cast&quot;\\n  input: &quot;uczenie/gradients/strata/strata_grad/floordiv&quot;\\n  attr {\\n    key: &quot;DstT&quot;\\n    value {\\n      type: DT_FLOAT\\n    }\\n  }\\n  attr {\\n    key: &quot;SrcT&quot;\\n    value {\\n      type: DT_INT32\\n    }\\n  }\\n}\\nnode {\\n  name: &quot;uczenie/gradients/strata/strata_grad/truediv&quot;\\n  op: &quot;RealDiv&quot;\\n  input: &quot;uczenie/gradients/strata/strata_grad/Tile&quot;\\n  input: &quot;uczenie/gradients/strata/strata_grad/Cast&quot;\\n  attr {\\n    key: &quot;T&quot;\\n    value {\\n      type: DT_FLOAT\\n    }\\n  }\\n}\\nnode {\\n  name: &quot;uczenie/gradients/zeros_like&quot;\\n  op: &quot;ZerosLike&quot;\\n  input: &quot;strata/SparseSoftmaxCrossEntropyWithLogits/SparseSoftmaxCrossEntropyWithLogits:1&quot;\\n  attr {\\n    key: &quot;T&quot;\\n    value {\\n      type: DT_FLOAT\\n    }\\n  }\\n}\\nnode {\\n  name: &quot;uczenie/gradients/strata/SparseSoftmaxCrossEntropyWithLogits/SparseSoftmaxCrossEntropyWithLogits_grad/PreventGradient&quot;\\n  op: &quot;PreventGradient&quot;\\n  input: &quot;strata/SparseSoftmaxCrossEntropyWithLogits/SparseSoftmaxCrossEntropyWithLogits:1&quot;\\n  attr {\\n    key: &quot;T&quot;\\n    value {\\n      type: DT_FLOAT\\n    }\\n  }\\n  attr {\\n    key: &quot;message&quot;\\n    value {\\n      s: &quot;Currently there is no way to take the second derivative of sparse_softmax_cross_entropy_with_logits due to the fused implementation\\\\\\'s interaction with tf.gradients()&quot;\\n    }\\n  }\\n}\\nnode {\\n  name: &quot;uczenie/gradients/strata/SparseSoftmaxCrossEntropyWithLogits/SparseSoftmaxCrossEntropyWithLogits_grad/ExpandDims/dim&quot;\\n  op: &quot;Const&quot;\\n  attr {\\n    key: &quot;dtype&quot;\\n    value {\\n      type: DT_INT32\\n    }\\n  }\\n  attr {\\n    key: &quot;value&quot;\\n    value {\\n      tensor {\\n        dtype: DT_INT32\\n        tensor_shape {\\n        }\\n        int_val: -1\\n      }\\n    }\\n  }\\n}\\nnode {\\n  name: &quot;uczenie/gradients/strata/SparseSoftmaxCrossEntropyWithLogits/SparseSoftmaxCrossEntropyWithLogits_grad/ExpandDims&quot;\\n  op: &quot;ExpandDims&quot;\\n  input: &quot;uczenie/gradients/strata/strata_grad/truediv&quot;\\n  input: &quot;uczenie/gradients/strata/SparseSoftmaxCrossEntropyWithLogits/SparseSoftmaxCrossEntropyWithLogits_grad/ExpandDims/dim&quot;\\n  attr {\\n    key: &quot;T&quot;\\n    value {\\n      type: DT_FLOAT\\n    }\\n  }\\n  attr {\\n    key: &quot;Tdim&quot;\\n    value {\\n      type: DT_INT32\\n    }\\n  }\\n}\\nnode {\\n  name: &quot;uczenie/gradients/strata/SparseSoftmaxCrossEntropyWithLogits/SparseSoftmaxCrossEntropyWithLogits_grad/mul&quot;\\n  op: &quot;Mul&quot;\\n  input: &quot;uczenie/gradients/strata/SparseSoftmaxCrossEntropyWithLogits/SparseSoftmaxCrossEntropyWithLogits_grad/ExpandDims&quot;\\n  input: &quot;uczenie/gradients/strata/SparseSoftmaxCrossEntropyWithLogits/SparseSoftmaxCrossEntropyWithLogits_grad/PreventGradient&quot;\\n  attr {\\n    key: &quot;T&quot;\\n    value {\\n      type: DT_FLOAT\\n    }\\n  }\\n}\\nnode {\\n  name: &quot;uczenie/gradients/gsn/wyjscia/BiasAdd_grad/BiasAddGrad&quot;\\n  op: &quot;BiasAddGrad&quot;\\n  input: &quot;uczenie/gradients/strata/SparseSoftmaxCrossEntropyWithLogits/SparseSoftmaxCrossEntropyWithLogits_grad/mul&quot;\\n  attr {\\n    key: &quot;T&quot;\\n    value {\\n      type: DT_FLOAT\\n    }\\n  }\\n  attr {\\n    key: &quot;data_format&quot;\\n    value {\\n      s: &quot;NHWC&quot;\\n    }\\n  }\\n}\\nnode {\\n  name: &quot;uczenie/gradients/gsn/wyjscia/BiasAdd_grad/tuple/group_deps&quot;\\n  op: &quot;NoOp&quot;\\n  input: &quot;^uczenie/gradients/strata/SparseSoftmaxCrossEntropyWithLogits/SparseSoftmaxCrossEntropyWithLogits_grad/mul&quot;\\n  input: &quot;^uczenie/gradients/gsn/wyjscia/BiasAdd_grad/BiasAddGrad&quot;\\n}\\nnode {\\n  name: &quot;uczenie/gradients/gsn/wyjscia/BiasAdd_grad/tuple/control_dependency&quot;\\n  op: &quot;Identity&quot;\\n  input: &quot;uczenie/gradients/strata/SparseSoftmaxCrossEntropyWithLogits/SparseSoftmaxCrossEntropyWithLogits_grad/mul&quot;\\n  input: &quot;^uczenie/gradients/gsn/wyjscia/BiasAdd_grad/tuple/group_deps&quot;\\n  attr {\\n    key: &quot;T&quot;\\n    value {\\n      type: DT_FLOAT\\n    }\\n  }\\n  attr {\\n    key: &quot;_class&quot;\\n    value {\\n      list {\\n        s: &quot;loc:@uczenie/gradients/strata/SparseSoftmaxCrossEntropyWithLogits/SparseSoftmaxCrossEntropyWithLogits_grad/mul&quot;\\n      }\\n    }\\n  }\\n}\\nnode {\\n  name: &quot;uczenie/gradients/gsn/wyjscia/BiasAdd_grad/tuple/control_dependency_1&quot;\\n  op: &quot;Identity&quot;\\n  input: &quot;uczenie/gradients/gsn/wyjscia/BiasAdd_grad/BiasAddGrad&quot;\\n  input: &quot;^uczenie/gradients/gsn/wyjscia/BiasAdd_grad/tuple/group_deps&quot;\\n  attr {\\n    key: &quot;T&quot;\\n    value {\\n      type: DT_FLOAT\\n    }\\n  }\\n  attr {\\n    key: &quot;_class&quot;\\n    value {\\n      list {\\n        s: &quot;loc:@uczenie/gradients/gsn/wyjscia/BiasAdd_grad/BiasAddGrad&quot;\\n      }\\n    }\\n  }\\n}\\nnode {\\n  name: &quot;uczenie/gradients/gsn/wyjscia/MatMul_grad/MatMul&quot;\\n  op: &quot;MatMul&quot;\\n  input: &quot;uczenie/gradients/gsn/wyjscia/BiasAdd_grad/tuple/control_dependency&quot;\\n  input: &quot;wyjscia/kernel/read&quot;\\n  attr {\\n    key: &quot;T&quot;\\n    value {\\n      type: DT_FLOAT\\n    }\\n  }\\n  attr {\\n    key: &quot;transpose_a&quot;\\n    value {\\n      b: false\\n    }\\n  }\\n  attr {\\n    key: &quot;transpose_b&quot;\\n    value {\\n      b: true\\n    }\\n  }\\n}\\nnode {\\n  name: &quot;uczenie/gradients/gsn/wyjscia/MatMul_grad/MatMul_1&quot;\\n  op: &quot;MatMul&quot;\\n  input: &quot;gsn/ukryta2/Relu&quot;\\n  input: &quot;uczenie/gradients/gsn/wyjscia/BiasAdd_grad/tuple/control_dependency&quot;\\n  attr {\\n    key: &quot;T&quot;\\n    value {\\n      type: DT_FLOAT\\n    }\\n  }\\n  attr {\\n    key: &quot;transpose_a&quot;\\n    value {\\n      b: true\\n    }\\n  }\\n  attr {\\n    key: &quot;transpose_b&quot;\\n    value {\\n      b: false\\n    }\\n  }\\n}\\nnode {\\n  name: &quot;uczenie/gradients/gsn/wyjscia/MatMul_grad/tuple/group_deps&quot;\\n  op: &quot;NoOp&quot;\\n  input: &quot;^uczenie/gradients/gsn/wyjscia/MatMul_grad/MatMul&quot;\\n  input: &quot;^uczenie/gradients/gsn/wyjscia/MatMul_grad/MatMul_1&quot;\\n}\\nnode {\\n  name: &quot;uczenie/gradients/gsn/wyjscia/MatMul_grad/tuple/control_dependency&quot;\\n  op: &quot;Identity&quot;\\n  input: &quot;uczenie/gradients/gsn/wyjscia/MatMul_grad/MatMul&quot;\\n  input: &quot;^uczenie/gradients/gsn/wyjscia/MatMul_grad/tuple/group_deps&quot;\\n  attr {\\n    key: &quot;T&quot;\\n    value {\\n      type: DT_FLOAT\\n    }\\n  }\\n  attr {\\n    key: &quot;_class&quot;\\n    value {\\n      list {\\n        s: &quot;loc:@uczenie/gradients/gsn/wyjscia/MatMul_grad/MatMul&quot;\\n      }\\n    }\\n  }\\n}\\nnode {\\n  name: &quot;uczenie/gradients/gsn/wyjscia/MatMul_grad/tuple/control_dependency_1&quot;\\n  op: &quot;Identity&quot;\\n  input: &quot;uczenie/gradients/gsn/wyjscia/MatMul_grad/MatMul_1&quot;\\n  input: &quot;^uczenie/gradients/gsn/wyjscia/MatMul_grad/tuple/group_deps&quot;\\n  attr {\\n    key: &quot;T&quot;\\n    value {\\n      type: DT_FLOAT\\n    }\\n  }\\n  attr {\\n    key: &quot;_class&quot;\\n    value {\\n      list {\\n        s: &quot;loc:@uczenie/gradients/gsn/wyjscia/MatMul_grad/MatMul_1&quot;\\n      }\\n    }\\n  }\\n}\\nnode {\\n  name: &quot;uczenie/gradients/gsn/ukryta2/Relu_grad/ReluGrad&quot;\\n  op: &quot;ReluGrad&quot;\\n  input: &quot;uczenie/gradients/gsn/wyjscia/MatMul_grad/tuple/control_dependency&quot;\\n  input: &quot;gsn/ukryta2/Relu&quot;\\n  attr {\\n    key: &quot;T&quot;\\n    value {\\n      type: DT_FLOAT\\n    }\\n  }\\n}\\nnode {\\n  name: &quot;uczenie/gradients/gsn/ukryta2/BiasAdd_grad/BiasAddGrad&quot;\\n  op: &quot;BiasAddGrad&quot;\\n  input: &quot;uczenie/gradients/gsn/ukryta2/Relu_grad/ReluGrad&quot;\\n  attr {\\n    key: &quot;T&quot;\\n    value {\\n      type: DT_FLOAT\\n    }\\n  }\\n  attr {\\n    key: &quot;data_format&quot;\\n    value {\\n      s: &quot;NHWC&quot;\\n    }\\n  }\\n}\\nnode {\\n  name: &quot;uczenie/gradients/gsn/ukryta2/BiasAdd_grad/tuple/group_deps&quot;\\n  op: &quot;NoOp&quot;\\n  input: &quot;^uczenie/gradients/gsn/ukryta2/Relu_grad/ReluGrad&quot;\\n  input: &quot;^uczenie/gradients/gsn/ukryta2/BiasAdd_grad/BiasAddGrad&quot;\\n}\\nnode {\\n  name: &quot;uczenie/gradients/gsn/ukryta2/BiasAdd_grad/tuple/control_dependency&quot;\\n  op: &quot;Identity&quot;\\n  input: &quot;uczenie/gradients/gsn/ukryta2/Relu_grad/ReluGrad&quot;\\n  input: &quot;^uczenie/gradients/gsn/ukryta2/BiasAdd_grad/tuple/group_deps&quot;\\n  attr {\\n    key: &quot;T&quot;\\n    value {\\n      type: DT_FLOAT\\n    }\\n  }\\n  attr {\\n    key: &quot;_class&quot;\\n    value {\\n      list {\\n        s: &quot;loc:@uczenie/gradients/gsn/ukryta2/Relu_grad/ReluGrad&quot;\\n      }\\n    }\\n  }\\n}\\nnode {\\n  name: &quot;uczenie/gradients/gsn/ukryta2/BiasAdd_grad/tuple/control_dependency_1&quot;\\n  op: &quot;Identity&quot;\\n  input: &quot;uczenie/gradients/gsn/ukryta2/BiasAdd_grad/BiasAddGrad&quot;\\n  input: &quot;^uczenie/gradients/gsn/ukryta2/BiasAdd_grad/tuple/group_deps&quot;\\n  attr {\\n    key: &quot;T&quot;\\n    value {\\n      type: DT_FLOAT\\n    }\\n  }\\n  attr {\\n    key: &quot;_class&quot;\\n    value {\\n      list {\\n        s: &quot;loc:@uczenie/gradients/gsn/ukryta2/BiasAdd_grad/BiasAddGrad&quot;\\n      }\\n    }\\n  }\\n}\\nnode {\\n  name: &quot;uczenie/gradients/gsn/ukryta2/MatMul_grad/MatMul&quot;\\n  op: &quot;MatMul&quot;\\n  input: &quot;uczenie/gradients/gsn/ukryta2/BiasAdd_grad/tuple/control_dependency&quot;\\n  input: &quot;ukryta2/kernel/read&quot;\\n  attr {\\n    key: &quot;T&quot;\\n    value {\\n      type: DT_FLOAT\\n    }\\n  }\\n  attr {\\n    key: &quot;transpose_a&quot;\\n    value {\\n      b: false\\n    }\\n  }\\n  attr {\\n    key: &quot;transpose_b&quot;\\n    value {\\n      b: true\\n    }\\n  }\\n}\\nnode {\\n  name: &quot;uczenie/gradients/gsn/ukryta2/MatMul_grad/MatMul_1&quot;\\n  op: &quot;MatMul&quot;\\n  input: &quot;gsn/ukryta1/Relu&quot;\\n  input: &quot;uczenie/gradients/gsn/ukryta2/BiasAdd_grad/tuple/control_dependency&quot;\\n  attr {\\n    key: &quot;T&quot;\\n    value {\\n      type: DT_FLOAT\\n    }\\n  }\\n  attr {\\n    key: &quot;transpose_a&quot;\\n    value {\\n      b: true\\n    }\\n  }\\n  attr {\\n    key: &quot;transpose_b&quot;\\n    value {\\n      b: false\\n    }\\n  }\\n}\\nnode {\\n  name: &quot;uczenie/gradients/gsn/ukryta2/MatMul_grad/tuple/group_deps&quot;\\n  op: &quot;NoOp&quot;\\n  input: &quot;^uczenie/gradients/gsn/ukryta2/MatMul_grad/MatMul&quot;\\n  input: &quot;^uczenie/gradients/gsn/ukryta2/MatMul_grad/MatMul_1&quot;\\n}\\nnode {\\n  name: &quot;uczenie/gradients/gsn/ukryta2/MatMul_grad/tuple/control_dependency&quot;\\n  op: &quot;Identity&quot;\\n  input: &quot;uczenie/gradients/gsn/ukryta2/MatMul_grad/MatMul&quot;\\n  input: &quot;^uczenie/gradients/gsn/ukryta2/MatMul_grad/tuple/group_deps&quot;\\n  attr {\\n    key: &quot;T&quot;\\n    value {\\n      type: DT_FLOAT\\n    }\\n  }\\n  attr {\\n    key: &quot;_class&quot;\\n    value {\\n      list {\\n        s: &quot;loc:@uczenie/gradients/gsn/ukryta2/MatMul_grad/MatMul&quot;\\n      }\\n    }\\n  }\\n}\\nnode {\\n  name: &quot;uczenie/gradients/gsn/ukryta2/MatMul_grad/tuple/control_dependency_1&quot;\\n  op: &quot;Identity&quot;\\n  input: &quot;uczenie/gradients/gsn/ukryta2/MatMul_grad/MatMul_1&quot;\\n  input: &quot;^uczenie/gradients/gsn/ukryta2/MatMul_grad/tuple/group_deps&quot;\\n  attr {\\n    key: &quot;T&quot;\\n    value {\\n      type: DT_FLOAT\\n    }\\n  }\\n  attr {\\n    key: &quot;_class&quot;\\n    value {\\n      list {\\n        s: &quot;loc:@uczenie/gradients/gsn/ukryta2/MatMul_grad/MatMul_1&quot;\\n      }\\n    }\\n  }\\n}\\nnode {\\n  name: &quot;uczenie/gradients/gsn/ukryta1/Relu_grad/ReluGrad&quot;\\n  op: &quot;ReluGrad&quot;\\n  input: &quot;uczenie/gradients/gsn/ukryta2/MatMul_grad/tuple/control_dependency&quot;\\n  input: &quot;gsn/ukryta1/Relu&quot;\\n  attr {\\n    key: &quot;T&quot;\\n    value {\\n      type: DT_FLOAT\\n    }\\n  }\\n}\\nnode {\\n  name: &quot;uczenie/gradients/gsn/ukryta1/BiasAdd_grad/BiasAddGrad&quot;\\n  op: &quot;BiasAddGrad&quot;\\n  input: &quot;uczenie/gradients/gsn/ukryta1/Relu_grad/ReluGrad&quot;\\n  attr {\\n    key: &quot;T&quot;\\n    value {\\n      type: DT_FLOAT\\n    }\\n  }\\n  attr {\\n    key: &quot;data_format&quot;\\n    value {\\n      s: &quot;NHWC&quot;\\n    }\\n  }\\n}\\nnode {\\n  name: &quot;uczenie/gradients/gsn/ukryta1/BiasAdd_grad/tuple/group_deps&quot;\\n  op: &quot;NoOp&quot;\\n  input: &quot;^uczenie/gradients/gsn/ukryta1/Relu_grad/ReluGrad&quot;\\n  input: &quot;^uczenie/gradients/gsn/ukryta1/BiasAdd_grad/BiasAddGrad&quot;\\n}\\nnode {\\n  name: &quot;uczenie/gradients/gsn/ukryta1/BiasAdd_grad/tuple/control_dependency&quot;\\n  op: &quot;Identity&quot;\\n  input: &quot;uczenie/gradients/gsn/ukryta1/Relu_grad/ReluGrad&quot;\\n  input: &quot;^uczenie/gradients/gsn/ukryta1/BiasAdd_grad/tuple/group_deps&quot;\\n  attr {\\n    key: &quot;T&quot;\\n    value {\\n      type: DT_FLOAT\\n    }\\n  }\\n  attr {\\n    key: &quot;_class&quot;\\n    value {\\n      list {\\n        s: &quot;loc:@uczenie/gradients/gsn/ukryta1/Relu_grad/ReluGrad&quot;\\n      }\\n    }\\n  }\\n}\\nnode {\\n  name: &quot;uczenie/gradients/gsn/ukryta1/BiasAdd_grad/tuple/control_dependency_1&quot;\\n  op: &quot;Identity&quot;\\n  input: &quot;uczenie/gradients/gsn/ukryta1/BiasAdd_grad/BiasAddGrad&quot;\\n  input: &quot;^uczenie/gradients/gsn/ukryta1/BiasAdd_grad/tuple/group_deps&quot;\\n  attr {\\n    key: &quot;T&quot;\\n    value {\\n      type: DT_FLOAT\\n    }\\n  }\\n  attr {\\n    key: &quot;_class&quot;\\n    value {\\n      list {\\n        s: &quot;loc:@uczenie/gradients/gsn/ukryta1/BiasAdd_grad/BiasAddGrad&quot;\\n      }\\n    }\\n  }\\n}\\nnode {\\n  name: &quot;uczenie/gradients/gsn/ukryta1/MatMul_grad/MatMul&quot;\\n  op: &quot;MatMul&quot;\\n  input: &quot;uczenie/gradients/gsn/ukryta1/BiasAdd_grad/tuple/control_dependency&quot;\\n  input: &quot;ukryta1/kernel/read&quot;\\n  attr {\\n    key: &quot;T&quot;\\n    value {\\n      type: DT_FLOAT\\n    }\\n  }\\n  attr {\\n    key: &quot;transpose_a&quot;\\n    value {\\n      b: false\\n    }\\n  }\\n  attr {\\n    key: &quot;transpose_b&quot;\\n    value {\\n      b: true\\n    }\\n  }\\n}\\nnode {\\n  name: &quot;uczenie/gradients/gsn/ukryta1/MatMul_grad/MatMul_1&quot;\\n  op: &quot;MatMul&quot;\\n  input: &quot;X&quot;\\n  input: &quot;uczenie/gradients/gsn/ukryta1/BiasAdd_grad/tuple/control_dependency&quot;\\n  attr {\\n    key: &quot;T&quot;\\n    value {\\n      type: DT_FLOAT\\n    }\\n  }\\n  attr {\\n    key: &quot;transpose_a&quot;\\n    value {\\n      b: true\\n    }\\n  }\\n  attr {\\n    key: &quot;transpose_b&quot;\\n    value {\\n      b: false\\n    }\\n  }\\n}\\nnode {\\n  name: &quot;uczenie/gradients/gsn/ukryta1/MatMul_grad/tuple/group_deps&quot;\\n  op: &quot;NoOp&quot;\\n  input: &quot;^uczenie/gradients/gsn/ukryta1/MatMul_grad/MatMul&quot;\\n  input: &quot;^uczenie/gradients/gsn/ukryta1/MatMul_grad/MatMul_1&quot;\\n}\\nnode {\\n  name: &quot;uczenie/gradients/gsn/ukryta1/MatMul_grad/tuple/control_dependency&quot;\\n  op: &quot;Identity&quot;\\n  input: &quot;uczenie/gradients/gsn/ukryta1/MatMul_grad/MatMul&quot;\\n  input: &quot;^uczenie/gradients/gsn/ukryta1/MatMul_grad/tuple/group_deps&quot;\\n  attr {\\n    key: &quot;T&quot;\\n    value {\\n      type: DT_FLOAT\\n    }\\n  }\\n  attr {\\n    key: &quot;_class&quot;\\n    value {\\n      list {\\n        s: &quot;loc:@uczenie/gradients/gsn/ukryta1/MatMul_grad/MatMul&quot;\\n      }\\n    }\\n  }\\n}\\nnode {\\n  name: &quot;uczenie/gradients/gsn/ukryta1/MatMul_grad/tuple/control_dependency_1&quot;\\n  op: &quot;Identity&quot;\\n  input: &quot;uczenie/gradients/gsn/ukryta1/MatMul_grad/MatMul_1&quot;\\n  input: &quot;^uczenie/gradients/gsn/ukryta1/MatMul_grad/tuple/group_deps&quot;\\n  attr {\\n    key: &quot;T&quot;\\n    value {\\n      type: DT_FLOAT\\n    }\\n  }\\n  attr {\\n    key: &quot;_class&quot;\\n    value {\\n      list {\\n        s: &quot;loc:@uczenie/gradients/gsn/ukryta1/MatMul_grad/MatMul_1&quot;\\n      }\\n    }\\n  }\\n}\\nnode {\\n  name: &quot;uczenie/GradientDescent/learning_rate&quot;\\n  op: &quot;Const&quot;\\n  attr {\\n    key: &quot;dtype&quot;\\n    value {\\n      type: DT_FLOAT\\n    }\\n  }\\n  attr {\\n    key: &quot;value&quot;\\n    value {\\n      tensor {\\n        dtype: DT_FLOAT\\n        tensor_shape {\\n        }\\n        float_val: 0.009999999776482582\\n      }\\n    }\\n  }\\n}\\nnode {\\n  name: &quot;uczenie/GradientDescent/update_ukryta1/kernel/ApplyGradientDescent&quot;\\n  op: &quot;ApplyGradientDescent&quot;\\n  input: &quot;ukryta1/kernel&quot;\\n  input: &quot;uczenie/GradientDescent/learning_rate&quot;\\n  input: &quot;uczenie/gradients/gsn/ukryta1/MatMul_grad/tuple/control_dependency_1&quot;\\n  attr {\\n    key: &quot;T&quot;\\n    value {\\n      type: DT_FLOAT\\n    }\\n  }\\n  attr {\\n    key: &quot;_class&quot;\\n    value {\\n      list {\\n        s: &quot;loc:@ukryta1/kernel&quot;\\n      }\\n    }\\n  }\\n  attr {\\n    key: &quot;use_locking&quot;\\n    value {\\n      b: false\\n    }\\n  }\\n}\\nnode {\\n  name: &quot;uczenie/GradientDescent/update_ukryta1/bias/ApplyGradientDescent&quot;\\n  op: &quot;ApplyGradientDescent&quot;\\n  input: &quot;ukryta1/bias&quot;\\n  input: &quot;uczenie/GradientDescent/learning_rate&quot;\\n  input: &quot;uczenie/gradients/gsn/ukryta1/BiasAdd_grad/tuple/control_dependency_1&quot;\\n  attr {\\n    key: &quot;T&quot;\\n    value {\\n      type: DT_FLOAT\\n    }\\n  }\\n  attr {\\n    key: &quot;_class&quot;\\n    value {\\n      list {\\n        s: &quot;loc:@ukryta1/bias&quot;\\n      }\\n    }\\n  }\\n  attr {\\n    key: &quot;use_locking&quot;\\n    value {\\n      b: false\\n    }\\n  }\\n}\\nnode {\\n  name: &quot;uczenie/GradientDescent/update_ukryta2/kernel/ApplyGradientDescent&quot;\\n  op: &quot;ApplyGradientDescent&quot;\\n  input: &quot;ukryta2/kernel&quot;\\n  input: &quot;uczenie/GradientDescent/learning_rate&quot;\\n  input: &quot;uczenie/gradients/gsn/ukryta2/MatMul_grad/tuple/control_dependency_1&quot;\\n  attr {\\n    key: &quot;T&quot;\\n    value {\\n      type: DT_FLOAT\\n    }\\n  }\\n  attr {\\n    key: &quot;_class&quot;\\n    value {\\n      list {\\n        s: &quot;loc:@ukryta2/kernel&quot;\\n      }\\n    }\\n  }\\n  attr {\\n    key: &quot;use_locking&quot;\\n    value {\\n      b: false\\n    }\\n  }\\n}\\nnode {\\n  name: &quot;uczenie/GradientDescent/update_ukryta2/bias/ApplyGradientDescent&quot;\\n  op: &quot;ApplyGradientDescent&quot;\\n  input: &quot;ukryta2/bias&quot;\\n  input: &quot;uczenie/GradientDescent/learning_rate&quot;\\n  input: &quot;uczenie/gradients/gsn/ukryta2/BiasAdd_grad/tuple/control_dependency_1&quot;\\n  attr {\\n    key: &quot;T&quot;\\n    value {\\n      type: DT_FLOAT\\n    }\\n  }\\n  attr {\\n    key: &quot;_class&quot;\\n    value {\\n      list {\\n        s: &quot;loc:@ukryta2/bias&quot;\\n      }\\n    }\\n  }\\n  attr {\\n    key: &quot;use_locking&quot;\\n    value {\\n      b: false\\n    }\\n  }\\n}\\nnode {\\n  name: &quot;uczenie/GradientDescent/update_wyjscia/kernel/ApplyGradientDescent&quot;\\n  op: &quot;ApplyGradientDescent&quot;\\n  input: &quot;wyjscia/kernel&quot;\\n  input: &quot;uczenie/GradientDescent/learning_rate&quot;\\n  input: &quot;uczenie/gradients/gsn/wyjscia/MatMul_grad/tuple/control_dependency_1&quot;\\n  attr {\\n    key: &quot;T&quot;\\n    value {\\n      type: DT_FLOAT\\n    }\\n  }\\n  attr {\\n    key: &quot;_class&quot;\\n    value {\\n      list {\\n        s: &quot;loc:@wyjscia/kernel&quot;\\n      }\\n    }\\n  }\\n  attr {\\n    key: &quot;use_locking&quot;\\n    value {\\n      b: false\\n    }\\n  }\\n}\\nnode {\\n  name: &quot;uczenie/GradientDescent/update_wyjscia/bias/ApplyGradientDescent&quot;\\n  op: &quot;ApplyGradientDescent&quot;\\n  input: &quot;wyjscia/bias&quot;\\n  input: &quot;uczenie/GradientDescent/learning_rate&quot;\\n  input: &quot;uczenie/gradients/gsn/wyjscia/BiasAdd_grad/tuple/control_dependency_1&quot;\\n  attr {\\n    key: &quot;T&quot;\\n    value {\\n      type: DT_FLOAT\\n    }\\n  }\\n  attr {\\n    key: &quot;_class&quot;\\n    value {\\n      list {\\n        s: &quot;loc:@wyjscia/bias&quot;\\n      }\\n    }\\n  }\\n  attr {\\n    key: &quot;use_locking&quot;\\n    value {\\n      b: false\\n    }\\n  }\\n}\\nnode {\\n  name: &quot;uczenie/GradientDescent&quot;\\n  op: &quot;NoOp&quot;\\n  input: &quot;^uczenie/GradientDescent/update_ukryta1/kernel/ApplyGradientDescent&quot;\\n  input: &quot;^uczenie/GradientDescent/update_ukryta1/bias/ApplyGradientDescent&quot;\\n  input: &quot;^uczenie/GradientDescent/update_ukryta2/kernel/ApplyGradientDescent&quot;\\n  input: &quot;^uczenie/GradientDescent/update_ukryta2/bias/ApplyGradientDescent&quot;\\n  input: &quot;^uczenie/GradientDescent/update_wyjscia/kernel/ApplyGradientDescent&quot;\\n  input: &quot;^uczenie/GradientDescent/update_wyjscia/bias/ApplyGradientDescent&quot;\\n}\\nnode {\\n  name: &quot;ocena/InTopK&quot;\\n  op: &quot;InTopK&quot;\\n  input: &quot;gsn/wyjscia/BiasAdd&quot;\\n  input: &quot;y&quot;\\n  attr {\\n    key: &quot;T&quot;\\n    value {\\n      type: DT_INT64\\n    }\\n  }\\n  attr {\\n    key: &quot;k&quot;\\n    value {\\n      i: 1\\n    }\\n  }\\n}\\nnode {\\n  name: &quot;ocena/Cast&quot;\\n  op: &quot;Cast&quot;\\n  input: &quot;ocena/InTopK&quot;\\n  attr {\\n    key: &quot;DstT&quot;\\n    value {\\n      type: DT_FLOAT\\n    }\\n  }\\n  attr {\\n    key: &quot;SrcT&quot;\\n    value {\\n      type: DT_BOOL\\n    }\\n  }\\n}\\nnode {\\n  name: &quot;ocena/Const&quot;\\n  op: &quot;Const&quot;\\n  attr {\\n    key: &quot;dtype&quot;\\n    value {\\n      type: DT_INT32\\n    }\\n  }\\n  attr {\\n    key: &quot;value&quot;\\n    value {\\n      tensor {\\n        dtype: DT_INT32\\n        tensor_shape {\\n          dim {\\n            size: 1\\n          }\\n        }\\n        int_val: 0\\n      }\\n    }\\n  }\\n}\\nnode {\\n  name: &quot;ocena/Mean&quot;\\n  op: &quot;Mean&quot;\\n  input: &quot;ocena/Cast&quot;\\n  input: &quot;ocena/Const&quot;\\n  attr {\\n    key: &quot;T&quot;\\n    value {\\n      type: DT_FLOAT\\n    }\\n  }\\n  attr {\\n    key: &quot;Tidx&quot;\\n    value {\\n      type: DT_INT32\\n    }\\n  }\\n  attr {\\n    key: &quot;keep_dims&quot;\\n    value {\\n      b: false\\n    }\\n  }\\n}\\nnode {\\n  name: &quot;init&quot;\\n  op: &quot;NoOp&quot;\\n  input: &quot;^ukryta1/kernel/Assign&quot;\\n  input: &quot;^ukryta1/bias/Assign&quot;\\n  input: &quot;^ukryta2/kernel/Assign&quot;\\n  input: &quot;^ukryta2/bias/Assign&quot;\\n  input: &quot;^wyjscia/kernel/Assign&quot;\\n  input: &quot;^wyjscia/bias/Assign&quot;\\n}\\nnode {\\n  name: &quot;save/Const&quot;\\n  op: &quot;Const&quot;\\n  attr {\\n    key: &quot;dtype&quot;\\n    value {\\n      type: DT_STRING\\n    }\\n  }\\n  attr {\\n    key: &quot;value&quot;\\n    value {\\n      tensor {\\n        dtype: DT_STRING\\n        tensor_shape {\\n        }\\n        string_val: &quot;model&quot;\\n      }\\n    }\\n  }\\n}\\nnode {\\n  name: &quot;save/SaveV2/tensor_names&quot;\\n  op: &quot;Const&quot;\\n  attr {\\n    key: &quot;dtype&quot;\\n    value {\\n      type: DT_STRING\\n    }\\n  }\\n  attr {\\n    key: &quot;value&quot;\\n    value {\\n      tensor {\\n        dtype: DT_STRING\\n        tensor_shape {\\n          dim {\\n            size: 6\\n          }\\n        }\\n        string_val: &quot;ukryta1/bias&quot;\\n        string_val: &quot;ukryta1/kernel&quot;\\n        string_val: &quot;ukryta2/bias&quot;\\n        string_val: &quot;ukryta2/kernel&quot;\\n        string_val: &quot;wyjscia/bias&quot;\\n        string_val: &quot;wyjscia/kernel&quot;\\n      }\\n    }\\n  }\\n}\\nnode {\\n  name: &quot;save/SaveV2/shape_and_slices&quot;\\n  op: &quot;Const&quot;\\n  attr {\\n    key: &quot;dtype&quot;\\n    value {\\n      type: DT_STRING\\n    }\\n  }\\n  attr {\\n    key: &quot;value&quot;\\n    value {\\n      tensor {\\n        dtype: DT_STRING\\n        tensor_shape {\\n          dim {\\n            size: 6\\n          }\\n        }\\n        string_val: &quot;&quot;\\n        string_val: &quot;&quot;\\n        string_val: &quot;&quot;\\n        string_val: &quot;&quot;\\n        string_val: &quot;&quot;\\n        string_val: &quot;&quot;\\n      }\\n    }\\n  }\\n}\\nnode {\\n  name: &quot;save/SaveV2&quot;\\n  op: &quot;SaveV2&quot;\\n  input: &quot;save/Const&quot;\\n  input: &quot;save/SaveV2/tensor_names&quot;\\n  input: &quot;save/SaveV2/shape_and_slices&quot;\\n  input: &quot;ukryta1/bias&quot;\\n  input: &quot;ukryta1/kernel&quot;\\n  input: &quot;ukryta2/bias&quot;\\n  input: &quot;ukryta2/kernel&quot;\\n  input: &quot;wyjscia/bias&quot;\\n  input: &quot;wyjscia/kernel&quot;\\n  attr {\\n    key: &quot;dtypes&quot;\\n    value {\\n      list {\\n        type: DT_FLOAT\\n        type: DT_FLOAT\\n        type: DT_FLOAT\\n        type: DT_FLOAT\\n        type: DT_FLOAT\\n        type: DT_FLOAT\\n      }\\n    }\\n  }\\n}\\nnode {\\n  name: &quot;save/control_dependency&quot;\\n  op: &quot;Identity&quot;\\n  input: &quot;save/Const&quot;\\n  input: &quot;^save/SaveV2&quot;\\n  attr {\\n    key: &quot;T&quot;\\n    value {\\n      type: DT_STRING\\n    }\\n  }\\n  attr {\\n    key: &quot;_class&quot;\\n    value {\\n      list {\\n        s: &quot;loc:@save/Const&quot;\\n      }\\n    }\\n  }\\n}\\nnode {\\n  name: &quot;save/RestoreV2/tensor_names&quot;\\n  op: &quot;Const&quot;\\n  attr {\\n    key: &quot;dtype&quot;\\n    value {\\n      type: DT_STRING\\n    }\\n  }\\n  attr {\\n    key: &quot;value&quot;\\n    value {\\n      tensor {\\n        dtype: DT_STRING\\n        tensor_shape {\\n          dim {\\n            size: 1\\n          }\\n        }\\n        string_val: &quot;ukryta1/bias&quot;\\n      }\\n    }\\n  }\\n}\\nnode {\\n  name: &quot;save/RestoreV2/shape_and_slices&quot;\\n  op: &quot;Const&quot;\\n  attr {\\n    key: &quot;dtype&quot;\\n    value {\\n      type: DT_STRING\\n    }\\n  }\\n  attr {\\n    key: &quot;value&quot;\\n    value {\\n      tensor {\\n        dtype: DT_STRING\\n        tensor_shape {\\n          dim {\\n            size: 1\\n          }\\n        }\\n        string_val: &quot;&quot;\\n      }\\n    }\\n  }\\n}\\nnode {\\n  name: &quot;save/RestoreV2&quot;\\n  op: &quot;RestoreV2&quot;\\n  input: &quot;save/Const&quot;\\n  input: &quot;save/RestoreV2/tensor_names&quot;\\n  input: &quot;save/RestoreV2/shape_and_slices&quot;\\n  attr {\\n    key: &quot;dtypes&quot;\\n    value {\\n      list {\\n        type: DT_FLOAT\\n      }\\n    }\\n  }\\n}\\nnode {\\n  name: &quot;save/Assign&quot;\\n  op: &quot;Assign&quot;\\n  input: &quot;ukryta1/bias&quot;\\n  input: &quot;save/RestoreV2&quot;\\n  attr {\\n    key: &quot;T&quot;\\n    value {\\n      type: DT_FLOAT\\n    }\\n  }\\n  attr {\\n    key: &quot;_class&quot;\\n    value {\\n      list {\\n        s: &quot;loc:@ukryta1/bias&quot;\\n      }\\n    }\\n  }\\n  attr {\\n    key: &quot;use_locking&quot;\\n    value {\\n      b: true\\n    }\\n  }\\n  attr {\\n    key: &quot;validate_shape&quot;\\n    value {\\n      b: true\\n    }\\n  }\\n}\\nnode {\\n  name: &quot;save/RestoreV2_1/tensor_names&quot;\\n  op: &quot;Const&quot;\\n  attr {\\n    key: &quot;dtype&quot;\\n    value {\\n      type: DT_STRING\\n    }\\n  }\\n  attr {\\n    key: &quot;value&quot;\\n    value {\\n      tensor {\\n        dtype: DT_STRING\\n        tensor_shape {\\n          dim {\\n            size: 1\\n          }\\n        }\\n        string_val: &quot;ukryta1/kernel&quot;\\n      }\\n    }\\n  }\\n}\\nnode {\\n  name: &quot;save/RestoreV2_1/shape_and_slices&quot;\\n  op: &quot;Const&quot;\\n  attr {\\n    key: &quot;dtype&quot;\\n    value {\\n      type: DT_STRING\\n    }\\n  }\\n  attr {\\n    key: &quot;value&quot;\\n    value {\\n      tensor {\\n        dtype: DT_STRING\\n        tensor_shape {\\n          dim {\\n            size: 1\\n          }\\n        }\\n        string_val: &quot;&quot;\\n      }\\n    }\\n  }\\n}\\nnode {\\n  name: &quot;save/RestoreV2_1&quot;\\n  op: &quot;RestoreV2&quot;\\n  input: &quot;save/Const&quot;\\n  input: &quot;save/RestoreV2_1/tensor_names&quot;\\n  input: &quot;save/RestoreV2_1/shape_and_slices&quot;\\n  attr {\\n    key: &quot;dtypes&quot;\\n    value {\\n      list {\\n        type: DT_FLOAT\\n      }\\n    }\\n  }\\n}\\nnode {\\n  name: &quot;save/Assign_1&quot;\\n  op: &quot;Assign&quot;\\n  input: &quot;ukryta1/kernel&quot;\\n  input: &quot;save/RestoreV2_1&quot;\\n  attr {\\n    key: &quot;T&quot;\\n    value {\\n      type: DT_FLOAT\\n    }\\n  }\\n  attr {\\n    key: &quot;_class&quot;\\n    value {\\n      list {\\n        s: &quot;loc:@ukryta1/kernel&quot;\\n      }\\n    }\\n  }\\n  attr {\\n    key: &quot;use_locking&quot;\\n    value {\\n      b: true\\n    }\\n  }\\n  attr {\\n    key: &quot;validate_shape&quot;\\n    value {\\n      b: true\\n    }\\n  }\\n}\\nnode {\\n  name: &quot;save/RestoreV2_2/tensor_names&quot;\\n  op: &quot;Const&quot;\\n  attr {\\n    key: &quot;dtype&quot;\\n    value {\\n      type: DT_STRING\\n    }\\n  }\\n  attr {\\n    key: &quot;value&quot;\\n    value {\\n      tensor {\\n        dtype: DT_STRING\\n        tensor_shape {\\n          dim {\\n            size: 1\\n          }\\n        }\\n        string_val: &quot;ukryta2/bias&quot;\\n      }\\n    }\\n  }\\n}\\nnode {\\n  name: &quot;save/RestoreV2_2/shape_and_slices&quot;\\n  op: &quot;Const&quot;\\n  attr {\\n    key: &quot;dtype&quot;\\n    value {\\n      type: DT_STRING\\n    }\\n  }\\n  attr {\\n    key: &quot;value&quot;\\n    value {\\n      tensor {\\n        dtype: DT_STRING\\n        tensor_shape {\\n          dim {\\n            size: 1\\n          }\\n        }\\n        string_val: &quot;&quot;\\n      }\\n    }\\n  }\\n}\\nnode {\\n  name: &quot;save/RestoreV2_2&quot;\\n  op: &quot;RestoreV2&quot;\\n  input: &quot;save/Const&quot;\\n  input: &quot;save/RestoreV2_2/tensor_names&quot;\\n  input: &quot;save/RestoreV2_2/shape_and_slices&quot;\\n  attr {\\n    key: &quot;dtypes&quot;\\n    value {\\n      list {\\n        type: DT_FLOAT\\n      }\\n    }\\n  }\\n}\\nnode {\\n  name: &quot;save/Assign_2&quot;\\n  op: &quot;Assign&quot;\\n  input: &quot;ukryta2/bias&quot;\\n  input: &quot;save/RestoreV2_2&quot;\\n  attr {\\n    key: &quot;T&quot;\\n    value {\\n      type: DT_FLOAT\\n    }\\n  }\\n  attr {\\n    key: &quot;_class&quot;\\n    value {\\n      list {\\n        s: &quot;loc:@ukryta2/bias&quot;\\n      }\\n    }\\n  }\\n  attr {\\n    key: &quot;use_locking&quot;\\n    value {\\n      b: true\\n    }\\n  }\\n  attr {\\n    key: &quot;validate_shape&quot;\\n    value {\\n      b: true\\n    }\\n  }\\n}\\nnode {\\n  name: &quot;save/RestoreV2_3/tensor_names&quot;\\n  op: &quot;Const&quot;\\n  attr {\\n    key: &quot;dtype&quot;\\n    value {\\n      type: DT_STRING\\n    }\\n  }\\n  attr {\\n    key: &quot;value&quot;\\n    value {\\n      tensor {\\n        dtype: DT_STRING\\n        tensor_shape {\\n          dim {\\n            size: 1\\n          }\\n        }\\n        string_val: &quot;ukryta2/kernel&quot;\\n      }\\n    }\\n  }\\n}\\nnode {\\n  name: &quot;save/RestoreV2_3/shape_and_slices&quot;\\n  op: &quot;Const&quot;\\n  attr {\\n    key: &quot;dtype&quot;\\n    value {\\n      type: DT_STRING\\n    }\\n  }\\n  attr {\\n    key: &quot;value&quot;\\n    value {\\n      tensor {\\n        dtype: DT_STRING\\n        tensor_shape {\\n          dim {\\n            size: 1\\n          }\\n        }\\n        string_val: &quot;&quot;\\n      }\\n    }\\n  }\\n}\\nnode {\\n  name: &quot;save/RestoreV2_3&quot;\\n  op: &quot;RestoreV2&quot;\\n  input: &quot;save/Const&quot;\\n  input: &quot;save/RestoreV2_3/tensor_names&quot;\\n  input: &quot;save/RestoreV2_3/shape_and_slices&quot;\\n  attr {\\n    key: &quot;dtypes&quot;\\n    value {\\n      list {\\n        type: DT_FLOAT\\n      }\\n    }\\n  }\\n}\\nnode {\\n  name: &quot;save/Assign_3&quot;\\n  op: &quot;Assign&quot;\\n  input: &quot;ukryta2/kernel&quot;\\n  input: &quot;save/RestoreV2_3&quot;\\n  attr {\\n    key: &quot;T&quot;\\n    value {\\n      type: DT_FLOAT\\n    }\\n  }\\n  attr {\\n    key: &quot;_class&quot;\\n    value {\\n      list {\\n        s: &quot;loc:@ukryta2/kernel&quot;\\n      }\\n    }\\n  }\\n  attr {\\n    key: &quot;use_locking&quot;\\n    value {\\n      b: true\\n    }\\n  }\\n  attr {\\n    key: &quot;validate_shape&quot;\\n    value {\\n      b: true\\n    }\\n  }\\n}\\nnode {\\n  name: &quot;save/RestoreV2_4/tensor_names&quot;\\n  op: &quot;Const&quot;\\n  attr {\\n    key: &quot;dtype&quot;\\n    value {\\n      type: DT_STRING\\n    }\\n  }\\n  attr {\\n    key: &quot;value&quot;\\n    value {\\n      tensor {\\n        dtype: DT_STRING\\n        tensor_shape {\\n          dim {\\n            size: 1\\n          }\\n        }\\n        string_val: &quot;wyjscia/bias&quot;\\n      }\\n    }\\n  }\\n}\\nnode {\\n  name: &quot;save/RestoreV2_4/shape_and_slices&quot;\\n  op: &quot;Const&quot;\\n  attr {\\n    key: &quot;dtype&quot;\\n    value {\\n      type: DT_STRING\\n    }\\n  }\\n  attr {\\n    key: &quot;value&quot;\\n    value {\\n      tensor {\\n        dtype: DT_STRING\\n        tensor_shape {\\n          dim {\\n            size: 1\\n          }\\n        }\\n        string_val: &quot;&quot;\\n      }\\n    }\\n  }\\n}\\nnode {\\n  name: &quot;save/RestoreV2_4&quot;\\n  op: &quot;RestoreV2&quot;\\n  input: &quot;save/Const&quot;\\n  input: &quot;save/RestoreV2_4/tensor_names&quot;\\n  input: &quot;save/RestoreV2_4/shape_and_slices&quot;\\n  attr {\\n    key: &quot;dtypes&quot;\\n    value {\\n      list {\\n        type: DT_FLOAT\\n      }\\n    }\\n  }\\n}\\nnode {\\n  name: &quot;save/Assign_4&quot;\\n  op: &quot;Assign&quot;\\n  input: &quot;wyjscia/bias&quot;\\n  input: &quot;save/RestoreV2_4&quot;\\n  attr {\\n    key: &quot;T&quot;\\n    value {\\n      type: DT_FLOAT\\n    }\\n  }\\n  attr {\\n    key: &quot;_class&quot;\\n    value {\\n      list {\\n        s: &quot;loc:@wyjscia/bias&quot;\\n      }\\n    }\\n  }\\n  attr {\\n    key: &quot;use_locking&quot;\\n    value {\\n      b: true\\n    }\\n  }\\n  attr {\\n    key: &quot;validate_shape&quot;\\n    value {\\n      b: true\\n    }\\n  }\\n}\\nnode {\\n  name: &quot;save/RestoreV2_5/tensor_names&quot;\\n  op: &quot;Const&quot;\\n  attr {\\n    key: &quot;dtype&quot;\\n    value {\\n      type: DT_STRING\\n    }\\n  }\\n  attr {\\n    key: &quot;value&quot;\\n    value {\\n      tensor {\\n        dtype: DT_STRING\\n        tensor_shape {\\n          dim {\\n            size: 1\\n          }\\n        }\\n        string_val: &quot;wyjscia/kernel&quot;\\n      }\\n    }\\n  }\\n}\\nnode {\\n  name: &quot;save/RestoreV2_5/shape_and_slices&quot;\\n  op: &quot;Const&quot;\\n  attr {\\n    key: &quot;dtype&quot;\\n    value {\\n      type: DT_STRING\\n    }\\n  }\\n  attr {\\n    key: &quot;value&quot;\\n    value {\\n      tensor {\\n        dtype: DT_STRING\\n        tensor_shape {\\n          dim {\\n            size: 1\\n          }\\n        }\\n        string_val: &quot;&quot;\\n      }\\n    }\\n  }\\n}\\nnode {\\n  name: &quot;save/RestoreV2_5&quot;\\n  op: &quot;RestoreV2&quot;\\n  input: &quot;save/Const&quot;\\n  input: &quot;save/RestoreV2_5/tensor_names&quot;\\n  input: &quot;save/RestoreV2_5/shape_and_slices&quot;\\n  attr {\\n    key: &quot;dtypes&quot;\\n    value {\\n      list {\\n        type: DT_FLOAT\\n      }\\n    }\\n  }\\n}\\nnode {\\n  name: &quot;save/Assign_5&quot;\\n  op: &quot;Assign&quot;\\n  input: &quot;wyjscia/kernel&quot;\\n  input: &quot;save/RestoreV2_5&quot;\\n  attr {\\n    key: &quot;T&quot;\\n    value {\\n      type: DT_FLOAT\\n    }\\n  }\\n  attr {\\n    key: &quot;_class&quot;\\n    value {\\n      list {\\n        s: &quot;loc:@wyjscia/kernel&quot;\\n      }\\n    }\\n  }\\n  attr {\\n    key: &quot;use_locking&quot;\\n    value {\\n      b: true\\n    }\\n  }\\n  attr {\\n    key: &quot;validate_shape&quot;\\n    value {\\n      b: true\\n    }\\n  }\\n}\\nnode {\\n  name: &quot;save/restore_all&quot;\\n  op: &quot;NoOp&quot;\\n  input: &quot;^save/Assign&quot;\\n  input: &quot;^save/Assign_1&quot;\\n  input: &quot;^save/Assign_2&quot;\\n  input: &quot;^save/Assign_3&quot;\\n  input: &quot;^save/Assign_4&quot;\\n  input: &quot;^save/Assign_5&quot;\\n}\\n';\n",
       "          }\n",
       "        </script>\n",
       "        <link rel=&quot;import&quot; href=&quot;https://tensorboard.appspot.com/tf-graph-basic.build.html&quot; onload=load()>\n",
       "        <div style=&quot;height:600px&quot;>\n",
       "          <tf-graph-basic id=&quot;graph0.7224827313584268&quot;></tf-graph-basic>\n",
       "        </div>\n",
       "    \"></iframe>\n",
       "    "
      ],
      "text/plain": [
       "<IPython.core.display.HTML object>"
      ]
     },
     "metadata": {},
     "output_type": "display_data"
    }
   ],
   "source": [
    "show_graph(tf.get_default_graph())"
   ]
  },
  {
   "cell_type": "markdown",
   "metadata": {
    "collapsed": true
   },
   "source": [
    "# Rozwiązania ćwiczeń"
   ]
  },
  {
   "cell_type": "markdown",
   "metadata": {},
   "source": [
    "## 1. do 8."
   ]
  },
  {
   "cell_type": "markdown",
   "metadata": {
    "collapsed": true
   },
   "source": [
    "Patrz dodatek A."
   ]
  },
  {
   "cell_type": "markdown",
   "metadata": {},
   "source": [
    "## 9."
   ]
  },
  {
   "cell_type": "markdown",
   "metadata": {},
   "source": [
    "_Wyucz głęboką sieć MLP wobec zbioru danych MNIST i sprawdź, czy jesteś w stanie uzyskać dokładność przekraczającą 98%. Podobnie jak w ostatnim ćwiczeniu z rozdziału 9 spróbuj wstawić dodatkowe funkcje (np. zapis punktów kontrolnych, wczytywanie zapisanego stanu w przypadku przerwania nauki, dodaj podsumowania, narysuj wykres krzywych uczących za pomocą programu TensorBoard itd.)_"
   ]
  },
  {
   "cell_type": "markdown",
   "metadata": {},
   "source": [
    "Najpierw stwózmy sieć głęboką. Proces ten wygląda tak samo, jak zaprezentowano wcześniej, wprowadzamy jeden pewien dodatek: dodajemy funkcję `tf.summary.scalar()` śledzącą w trakcie uczenia funkcję straty i dokładność, dzięki czemu będziemy mogli oglądać ładne krzywe uczenia w programie TensorBoard."
   ]
  },
  {
   "cell_type": "code",
   "execution_count": 38,
   "metadata": {
    "collapsed": true
   },
   "outputs": [],
   "source": [
    "n_inputs = 28*28  # zestaw MNIST\n",
    "n_hidden1 = 300\n",
    "n_hidden2 = 100\n",
    "n_outputs = 10"
   ]
  },
  {
   "cell_type": "code",
   "execution_count": 39,
   "metadata": {
    "collapsed": true
   },
   "outputs": [],
   "source": [
    "reset_graph()\n",
    "\n",
    "X = tf.placeholder(tf.float32, shape=(None, n_inputs), name=\"X\")\n",
    "y = tf.placeholder(tf.int64, shape=(None), name=\"y\") "
   ]
  },
  {
   "cell_type": "code",
   "execution_count": 40,
   "metadata": {
    "collapsed": true
   },
   "outputs": [],
   "source": [
    "with tf.name_scope(\"gsn\"):\n",
    "    hidden1 = tf.layers.dense(X, n_hidden1, name=\"ukryta1\",\n",
    "                              activation=tf.nn.relu)\n",
    "    hidden2 = tf.layers.dense(hidden1, n_hidden2, name=\"ukryta2\",\n",
    "                              activation=tf.nn.relu)\n",
    "    logits = tf.layers.dense(hidden2, n_outputs, name=\"wyjscia\")"
   ]
  },
  {
   "cell_type": "code",
   "execution_count": 41,
   "metadata": {
    "collapsed": true
   },
   "outputs": [],
   "source": [
    "with tf.name_scope(\"strata\"):\n",
    "    xentropy = tf.nn.sparse_softmax_cross_entropy_with_logits(labels=y, logits=logits)\n",
    "    loss = tf.reduce_mean(xentropy, name=\"strata\")\n",
    "    loss_summary = tf.summary.scalar('log_straty', loss)"
   ]
  },
  {
   "cell_type": "code",
   "execution_count": 42,
   "metadata": {
    "collapsed": true
   },
   "outputs": [],
   "source": [
    "learning_rate = 0.01\n",
    "\n",
    "with tf.name_scope(\"uczenie\"):\n",
    "    optimizer = tf.train.GradientDescentOptimizer(learning_rate)\n",
    "    training_op = optimizer.minimize(loss)"
   ]
  },
  {
   "cell_type": "code",
   "execution_count": 43,
   "metadata": {
    "collapsed": true
   },
   "outputs": [],
   "source": [
    "with tf.name_scope(\"ocena\"):\n",
    "    correct = tf.nn.in_top_k(logits, y, 1)\n",
    "    accuracy = tf.reduce_mean(tf.cast(correct, tf.float32))\n",
    "    accuracy_summary = tf.summary.scalar('dokladnosc', accuracy)"
   ]
  },
  {
   "cell_type": "code",
   "execution_count": 44,
   "metadata": {
    "collapsed": true
   },
   "outputs": [],
   "source": [
    "init = tf.global_variables_initializer()\n",
    "saver = tf.train.Saver()"
   ]
  },
  {
   "cell_type": "markdown",
   "metadata": {},
   "source": [
    "Teraz musimy zdefiniować katalog, w którym będą zapisywane dzienniki TensorBoard:"
   ]
  },
  {
   "cell_type": "code",
   "execution_count": 45,
   "metadata": {
    "collapsed": true
   },
   "outputs": [],
   "source": [
    "from datetime import datetime\n",
    "\n",
    "def log_dir(prefix=\"\"):\n",
    "    now = datetime.utcnow().strftime(\"%Y%m%d%H%M%S\")\n",
    "    root_logdir = \"tf_dzienniki\"\n",
    "    if prefix:\n",
    "        prefix += \"-\"\n",
    "    name = prefix + \"przebieg-\" + now\n",
    "    return \"{}/{}/\".format(root_logdir, name)"
   ]
  },
  {
   "cell_type": "code",
   "execution_count": 46,
   "metadata": {
    "collapsed": true
   },
   "outputs": [],
   "source": [
    "logdir = log_dir(\"mnist_gsn\")"
   ]
  },
  {
   "cell_type": "markdown",
   "metadata": {},
   "source": [
    "Teraz tworzymy obiekt `FileWriter` służący do zapisywania dzienników TensorBoard:"
   ]
  },
  {
   "cell_type": "code",
   "execution_count": 47,
   "metadata": {
    "collapsed": true
   },
   "outputs": [],
   "source": [
    "file_writer = tf.summary.FileWriter(logdir, tf.get_default_graph())"
   ]
  },
  {
   "cell_type": "markdown",
   "metadata": {},
   "source": [
    "Hej! A może zaimplementujemy wczesne zatrzymywanie? W tym celu będzie nam potrzebny zestaw walidacyjny. Na szczęście zbiór danych zwrócony przez funkcję `input_data()` (patrz wyżej) został już rozdzielony na podzbiór uczący (60 000 przetasowanych próbek), walidacyjny (5 000 próbek) i testowy (5 000 próbek). W ten sposób możemy z łatwością zdefiniować `X_valid` i `y_valid`:"
   ]
  },
  {
   "cell_type": "code",
   "execution_count": 48,
   "metadata": {
    "collapsed": true
   },
   "outputs": [],
   "source": [
    "X_valid = mnist.validation.images\n",
    "y_valid = mnist.validation.labels"
   ]
  },
  {
   "cell_type": "code",
   "execution_count": 49,
   "metadata": {
    "collapsed": true
   },
   "outputs": [],
   "source": [
    "m, n = X_train.shape"
   ]
  },
  {
   "cell_type": "code",
   "execution_count": 50,
   "metadata": {
    "collapsed": false
   },
   "outputs": [
    {
     "name": "stdout",
     "output_type": "stream",
     "text": [
      "Epoka: 0 \tDokładność walidacji: 90.440% \tFunkcja straty: 0.35228\n",
      "Epoka: 5 \tDokładność walidacji: 95.060% \tFunkcja straty: 0.17543\n",
      "Epoka: 10 \tDokładność walidacji: 96.660% \tFunkcja straty: 0.12545\n",
      "Epoka: 15 \tDokładność walidacji: 97.240% \tFunkcja straty: 0.10428\n",
      "Epoka: 20 \tDokładność walidacji: 97.580% \tFunkcja straty: 0.08914\n",
      "Epoka: 25 \tDokładność walidacji: 97.720% \tFunkcja straty: 0.08118\n",
      "Epoka: 30 \tDokładność walidacji: 97.780% \tFunkcja straty: 0.07794\n",
      "Epoka: 35 \tDokładność walidacji: 97.920% \tFunkcja straty: 0.07091\n",
      "Epoka: 40 \tDokładność walidacji: 97.920% \tFunkcja straty: 0.06981\n",
      "Epoka: 45 \tDokładność walidacji: 97.860% \tFunkcja straty: 0.06782\n",
      "Epoka: 50 \tDokładność walidacji: 98.060% \tFunkcja straty: 0.06648\n",
      "Epoka: 55 \tDokładność walidacji: 98.100% \tFunkcja straty: 0.06650\n",
      "Epoka: 60 \tDokładność walidacji: 98.200% \tFunkcja straty: 0.06508\n",
      "Epoka: 65 \tDokładność walidacji: 98.100% \tFunkcja straty: 0.06590\n",
      "Epoka: 70 \tDokładność walidacji: 98.120% \tFunkcja straty: 0.06754\n",
      "Epoka: 75 \tDokładność walidacji: 98.160% \tFunkcja straty: 0.06702\n",
      "Epoka: 80 \tDokładność walidacji: 98.140% \tFunkcja straty: 0.06701\n",
      "Epoka: 85 \tDokładność walidacji: 98.180% \tFunkcja straty: 0.06711\n",
      "Epoka: 90 \tDokładność walidacji: 98.180% \tFunkcja straty: 0.06702\n",
      "Epoka: 95 \tDokładność walidacji: 98.160% \tFunkcja straty: 0.06894\n",
      "Epoka: 100 \tDokładność walidacji: 98.260% \tFunkcja straty: 0.06842\n",
      "Epoka: 105 \tDokładność walidacji: 98.100% \tFunkcja straty: 0.06896\n",
      "Epoka: 110 \tDokładność walidacji: 98.180% \tFunkcja straty: 0.06993\n",
      "Wczesne zatrzymywanie\n"
     ]
    }
   ],
   "source": [
    "n_epochs = 10001\n",
    "batch_size = 50\n",
    "n_batches = int(np.ceil(m / batch_size))\n",
    "\n",
    "checkpoint_path = \"/tmp/moj_gleboki_model_mnist.ckpt\"\n",
    "checkpoint_epoch_path = checkpoint_path + \".epoch\"\n",
    "final_model_path = \"./moj_gleboki_model_mnist\"\n",
    "\n",
    "best_loss = np.infty\n",
    "epochs_without_progress = 0\n",
    "max_epochs_without_progress = 50\n",
    "\n",
    "with tf.Session() as sess:\n",
    "    if os.path.isfile(checkpoint_epoch_path):\n",
    "        # jeśli istnieje plik punktu kontrolnego, to odtwarza go i wczytuje numer epoki\n",
    "        with open(checkpoint_epoch_path, \"rb\") as f:\n",
    "            start_epoch = int(f.read())\n",
    "        print(\"Uczenie zostało przerwane. Wznawiam od epoki\", start_epoch)\n",
    "        saver.restore(sess, checkpoint_path)\n",
    "    else:\n",
    "        start_epoch = 0\n",
    "        sess.run(init)\n",
    "\n",
    "    for epoch in range(start_epoch, n_epochs):\n",
    "        for iteration in range(mnist.train.num_examples // batch_size):\n",
    "            X_batch, y_batch = mnist.train.next_batch(batch_size)\n",
    "            sess.run(training_op, feed_dict={X: X_batch, y: y_batch})\n",
    "        accuracy_val, loss_val, accuracy_summary_str, loss_summary_str = sess.run([accuracy, loss, accuracy_summary, loss_summary], feed_dict={X: X_valid, y: y_valid})\n",
    "        file_writer.add_summary(accuracy_summary_str, epoch)\n",
    "        file_writer.add_summary(loss_summary_str, epoch)\n",
    "        if epoch % 5 == 0:\n",
    "            print(\"Epoka:\", epoch,\n",
    "                  \"\\tDokładność walidacji: {:.3f}%\".format(accuracy_val * 100),\n",
    "                  \"\\tFunkcja straty: {:.5f}\".format(loss_val))\n",
    "            saver.save(sess, checkpoint_path)\n",
    "            with open(checkpoint_epoch_path, \"wb\") as f:\n",
    "                f.write(b\"%d\" % (epoch + 1))\n",
    "            if loss_val < best_loss:\n",
    "                saver.save(sess, final_model_path)\n",
    "                best_loss = loss_val\n",
    "            else:\n",
    "                epochs_without_progress += 5\n",
    "                if epochs_without_progress > max_epochs_without_progress:\n",
    "                    print(\"Wczesne zatrzymywanie\")\n",
    "                    break"
   ]
  },
  {
   "cell_type": "code",
   "execution_count": 51,
   "metadata": {
    "collapsed": true
   },
   "outputs": [],
   "source": [
    "os.remove(checkpoint_epoch_path)"
   ]
  },
  {
   "cell_type": "code",
   "execution_count": 52,
   "metadata": {
    "collapsed": false
   },
   "outputs": [
    {
     "name": "stdout",
     "output_type": "stream",
     "text": [
      "INFO:tensorflow:Restoring parameters from ./moj_gleboki_model_mnist\n"
     ]
    }
   ],
   "source": [
    "with tf.Session() as sess:\n",
    "    saver.restore(sess, final_model_path)\n",
    "    accuracy_val = accuracy.eval(feed_dict={X: X_test, y: y_test})"
   ]
  },
  {
   "cell_type": "code",
   "execution_count": 53,
   "metadata": {
    "collapsed": false
   },
   "outputs": [
    {
     "data": {
      "text/plain": [
       "0.97829998"
      ]
     },
     "execution_count": 53,
     "metadata": {},
     "output_type": "execute_result"
    }
   ],
   "source": [
    "accuracy_val"
   ]
  },
  {
   "cell_type": "code",
   "execution_count": null,
   "metadata": {
    "collapsed": true
   },
   "outputs": [],
   "source": []
  }
 ],
 "metadata": {
  "kernelspec": {
   "display_name": "Python 3",
   "language": "python",
   "name": "python3"
  },
  "language_info": {
   "codemirror_mode": {
    "name": "ipython",
    "version": 3
   },
   "file_extension": ".py",
   "mimetype": "text/x-python",
   "name": "python",
   "nbconvert_exporter": "python",
   "pygments_lexer": "ipython3",
   "version": "3.6.0"
  },
  "nav_menu": {
   "height": "264px",
   "width": "369px"
  },
  "toc": {
   "navigate_menu": true,
   "number_sections": true,
   "sideBar": true,
   "threshold": 6,
   "toc_cell": false,
   "toc_section_display": "block",
   "toc_window_display": false
  }
 },
 "nbformat": 4,
 "nbformat_minor": 1
}
