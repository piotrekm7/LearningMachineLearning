{
 "cells": [
  {
   "cell_type": "markdown",
   "metadata": {},
   "source": [
    "**Rozdział 15. Autokodery**"
   ]
  },
  {
   "cell_type": "markdown",
   "metadata": {},
   "source": [
    "_Notatnik ten zawiera przykładowy kod i rozwiązania ćwiczeń opisane w rozdziale 15._"
   ]
  },
  {
   "cell_type": "markdown",
   "metadata": {},
   "source": [
    "# Konfiguracja"
   ]
  },
  {
   "cell_type": "markdown",
   "metadata": {},
   "source": [
    "Upewnijmy się najpierw, że notatnik ten będzie działał w środowiskach Python 2 i 3, importujmy kilka powszechnie stosowanych modułów, upewnijmy się, że moduł MatplotLib będzie prawidłowo tworzył wykresy, a także przygotujmy funkcję zapisującą rysunki:"
   ]
  },
  {
   "cell_type": "code",
   "execution_count": 1,
   "metadata": {
    "collapsed": true
   },
   "outputs": [],
   "source": [
    "# Obsługa środowisk Python 2 i Python 3\n",
    "from __future__ import division, print_function, unicode_literals\n",
    "\n",
    "# Importowanie popularnych modułów\n",
    "import numpy as np\n",
    "import os\n",
    "import sys\n",
    "\n",
    "# W celu zachowania powtarzalności wyników w kolejnych przebiegach\n",
    "def reset_graph(seed=42):\n",
    "    tf.reset_default_graph()\n",
    "    tf.set_random_seed(seed)\n",
    "    np.random.seed(seed)\n",
    "\n",
    "# Generowanie ładnych wykresów\n",
    "%matplotlib inline\n",
    "import matplotlib\n",
    "import matplotlib.pyplot as plt\n",
    "plt.rcParams['axes.labelsize'] = 14\n",
    "plt.rcParams['xtick.labelsize'] = 12\n",
    "plt.rcParams['ytick.labelsize'] = 12\n",
    "\n",
    "# Lokacja, w której będą zapisywane rysunki\n",
    "PROJECT_ROOT_DIR = \".\"\n",
    "CHAPTER_ID = \"autokodery\"\n",
    "\n",
    "def save_fig(fig_id, tight_layout=True):\n",
    "    path = os.path.join(PROJECT_ROOT_DIR, \"rysunki\", CHAPTER_ID, fig_id + \".png\")\n",
    "    print(\"Zapisywanie rysunku\", fig_id)\n",
    "    if tight_layout:\n",
    "        plt.tight_layout()\n",
    "    plt.savefig(path, format='png', dpi=300)"
   ]
  },
  {
   "cell_type": "markdown",
   "metadata": {},
   "source": [
    "Dwie funkcje pozwalające na rysowanie wykresów obrazów o rozmiarze 28x28 pikseli i w odcieniach szarości:"
   ]
  },
  {
   "cell_type": "code",
   "execution_count": 2,
   "metadata": {
    "collapsed": true
   },
   "outputs": [],
   "source": [
    "def plot_image(image, shape=[28, 28]):\n",
    "    plt.imshow(image.reshape(shape), cmap=\"Greys\", interpolation=\"nearest\")\n",
    "    plt.axis(\"off\")"
   ]
  },
  {
   "cell_type": "code",
   "execution_count": 3,
   "metadata": {
    "collapsed": true
   },
   "outputs": [],
   "source": [
    "def plot_multiple_images(images, n_rows, n_cols, pad=2):\n",
    "    images = images - images.min()  # jeśli minimum == 0, to uzupełnianie zerami przyjmuje biały kolor\n",
    "    w,h = images.shape[1:]\n",
    "    image = np.zeros(((w+pad)*n_rows+pad, (h+pad)*n_cols+pad))\n",
    "    for y in range(n_rows):\n",
    "        for x in range(n_cols):\n",
    "            image[(y*(h+pad)+pad):(y*(h+pad)+pad+h),(x*(w+pad)+pad):(x*(w+pad)+pad+w)] = images[y*n_cols+x]\n",
    "    plt.imshow(image, cmap=\"Greys\", interpolation=\"nearest\")\n",
    "    plt.axis(\"off\")"
   ]
  },
  {
   "cell_type": "markdown",
   "metadata": {},
   "source": [
    "# Analiza PCA wraz z autokoderem liniowym"
   ]
  },
  {
   "cell_type": "markdown",
   "metadata": {},
   "source": [
    "Tworzymy zbiór trójwymiarowych danych:"
   ]
  },
  {
   "cell_type": "code",
   "execution_count": 4,
   "metadata": {
    "collapsed": true
   },
   "outputs": [],
   "source": [
    "import numpy.random as rnd\n",
    "\n",
    "rnd.seed(4)\n",
    "m = 200\n",
    "w1, w2 = 0.1, 0.3\n",
    "noise = 0.1\n",
    "\n",
    "angles = rnd.rand(m) * 3 * np.pi / 2 - 0.5\n",
    "data = np.empty((m, 3))\n",
    "data[:, 0] = np.cos(angles) + np.sin(angles)/2 + noise * rnd.randn(m) / 2\n",
    "data[:, 1] = np.sin(angles) * 0.7 + noise * rnd.randn(m) / 2\n",
    "data[:, 2] = data[:, 0] * w1 + data[:, 1] * w2 + noise * rnd.randn(m)"
   ]
  },
  {
   "cell_type": "markdown",
   "metadata": {},
   "source": [
    "Normalizujemy dane:"
   ]
  },
  {
   "cell_type": "code",
   "execution_count": 5,
   "metadata": {
    "collapsed": true
   },
   "outputs": [],
   "source": [
    "from sklearn.preprocessing import StandardScaler\n",
    "scaler = StandardScaler()\n",
    "X_train = scaler.fit_transform(data[:100])\n",
    "X_test = scaler.transform(data[100:])"
   ]
  },
  {
   "cell_type": "markdown",
   "metadata": {},
   "source": [
    "Teraz zbudujmy autokoder..."
   ]
  },
  {
   "cell_type": "markdown",
   "metadata": {},
   "source": [
    "Uwaga: w książce wykorzystywana jest funkcja `fully_connected()` znajdująca się module `tensorflow.contrib.layers` zamiast funkcji `dense()` stanowiącej część modułu `tf.layers`, który nie istniał w trakcie pisania rozdziału. Zalecamy stosowanie nowej funkcji, ponieważ wszelkie elementy modułu `contrib` mogą być modyfikowane lub usuwane bez uprzedzenia, natomiast moduł `tf.layers` jest częścią oficjalnego interfejsu API. Jak się niebawem przekonamy, stosowany przez nas kod pozostaje w większości niezmieniony.\n",
    "\n",
    "Głównymi różnicami istotnymi z perspektywy tego rozdziału są:\n",
    "* parametr `scope` został przemianowany na `name`, natomiast ze wszystkich parametrów mających przyrostek `_fn` został on usunięty (np. parametr `activation_fn` nosi teraz nazwę `activation`),\n",
    "* parametr `weights` nosi teraz nazwę `kernel` (a zmienna wag została przemianowana na `\"kernel\"` z nazwy `\"weights\"`),\n",
    "* zmienna obciążenia nosi teraz nazwę `\"bias\"` zamiast `\"biases\"`,\n",
    "* domyślna wartość aktywacji to `None`, a nie `tf.nn.relu`."
   ]
  },
  {
   "cell_type": "code",
   "execution_count": 6,
   "metadata": {
    "collapsed": true
   },
   "outputs": [],
   "source": [
    "import tensorflow as tf\n",
    "\n",
    "reset_graph()\n",
    "\n",
    "n_inputs = 3\n",
    "n_hidden = 2  # kodowania\n",
    "n_outputs = n_inputs\n",
    "\n",
    "learning_rate = 0.01\n",
    "\n",
    "X = tf.placeholder(tf.float32, shape=[None, n_inputs])\n",
    "hidden = tf.layers.dense(X, n_hidden)\n",
    "outputs = tf.layers.dense(hidden, n_outputs)\n",
    "\n",
    "reconstruction_loss = tf.reduce_mean(tf.square(outputs - X))\n",
    "\n",
    "optimizer = tf.train.AdamOptimizer(learning_rate)\n",
    "training_op = optimizer.minimize(reconstruction_loss)\n",
    "\n",
    "init = tf.global_variables_initializer()"
   ]
  },
  {
   "cell_type": "code",
   "execution_count": 7,
   "metadata": {
    "collapsed": true
   },
   "outputs": [],
   "source": [
    "n_iterations = 1000\n",
    "codings = hidden\n",
    "\n",
    "with tf.Session() as sess:\n",
    "    init.run()\n",
    "    for iteration in range(n_iterations):\n",
    "        training_op.run(feed_dict={X: X_train})\n",
    "    codings_val = codings.eval(feed_dict={X: X_test})"
   ]
  },
  {
   "cell_type": "code",
   "execution_count": 8,
   "metadata": {
    "collapsed": false
   },
   "outputs": [
    {
     "name": "stdout",
     "output_type": "stream",
     "text": [
      "Zapisywanie rysunku wykres_analizy_pca_z_autokodere_liniowym\n"
     ]
    },
    {
     "data": {
      "image/png": "[encoded data removed]",
      "text/plain": [
       "<matplotlib.figure.Figure at 0x25a2578b048>"
      ]
     },
     "metadata": {},
     "output_type": "display_data"
    }
   ],
   "source": [
    "fig = plt.figure(figsize=(4,3))\n",
    "plt.plot(codings_val[:,0], codings_val[:, 1], \"b.\")\n",
    "plt.xlabel(\"$z_1$\", fontsize=18)\n",
    "plt.ylabel(\"$z_2$\", fontsize=18, rotation=0)\n",
    "save_fig(\"wykres_analizy_pca_z_autokodere_liniowym\")\n",
    "plt.show()"
   ]
  },
  {
   "cell_type": "markdown",
   "metadata": {},
   "source": [
    "# Autokodery stosowe"
   ]
  },
  {
   "cell_type": "markdown",
   "metadata": {},
   "source": [
    "Wykorzystajmy zbiór danych MNIST:"
   ]
  },
  {
   "cell_type": "code",
   "execution_count": 9,
   "metadata": {
    "collapsed": false
   },
   "outputs": [
    {
     "name": "stdout",
     "output_type": "stream",
     "text": [
      "Extracting /tmp/dane/train-images-idx3-ubyte.gz\n",
      "Extracting /tmp/dane/train-labels-idx1-ubyte.gz\n",
      "Extracting /tmp/dane/t10k-images-idx3-ubyte.gz\n",
      "Extracting /tmp/dane/t10k-labels-idx1-ubyte.gz\n"
     ]
    }
   ],
   "source": [
    "from tensorflow.examples.tutorials.mnist import input_data\n",
    "mnist = input_data.read_data_sets(\"/tmp/dane/\")"
   ]
  },
  {
   "cell_type": "markdown",
   "metadata": {},
   "source": [
    "## Jednoczesne uczenie wszystkich warstw"
   ]
  },
  {
   "cell_type": "markdown",
   "metadata": {},
   "source": [
    "Zbudujmy autokoder stosowy zawierający trzy warstwy ukryte i jedną wyjściową (tj. dwa autokodery stosowe). Skorzystamy z funkcji aktywacji ELU, inicjacji He'ego i regularyzacji L2."
   ]
  },
  {
   "cell_type": "markdown",
   "metadata": {},
   "source": [
    "Uwaga: funkcja `tf.layers.dense()` jest niekompatybilna z używaną w książce funkcją `tf.contrib.layers.arg_scope()`, dlatego zastępujemy ją tutaj funkcją `functools.partial()`. Dzięki temu znacznie łatwiej będzie nam stworzyć funkcję `my_dense_layer()` mającą za zadanie jedynie wywoływanie funkcji `tf.layers.dense()` z określonymi, automatycznie wyznaczonymi parametrami (chyba,  że zostaną one przesłonięte podczas wywoływania funkcji `my_dense_layer()`)."
   ]
  },
  {
   "cell_type": "code",
   "execution_count": 10,
   "metadata": {
    "collapsed": true
   },
   "outputs": [],
   "source": [
    "reset_graph()\n",
    "\n",
    "from functools import partial\n",
    "\n",
    "n_inputs = 28 * 28\n",
    "n_hidden1 = 300\n",
    "n_hidden2 = 150  # kodwania\n",
    "n_hidden3 = n_hidden1\n",
    "n_outputs = n_inputs\n",
    "\n",
    "learning_rate = 0.01\n",
    "l2_reg = 0.0001\n",
    "\n",
    "X = tf.placeholder(tf.float32, shape=[None, n_inputs])\n",
    "\n",
    "he_init = tf.contrib.layers.variance_scaling_initializer() # Inicjacja He`ego\n",
    "#Równoznaczne wierszowi:\n",
    "#he_init = lambda shape, dtype=tf.float32: tf.truncated_normal(shape, 0., stddev=np.sqrt(2/shape[0]))\n",
    "l2_regularizer = tf.contrib.layers.l2_regularizer(l2_reg)\n",
    "my_dense_layer = partial(tf.layers.dense,\n",
    "                         activation=tf.nn.elu,\n",
    "                         kernel_initializer=he_init,\n",
    "                         kernel_regularizer=l2_regularizer)\n",
    "\n",
    "hidden1 = my_dense_layer(X, n_hidden1)\n",
    "hidden2 = my_dense_layer(hidden1, n_hidden2)\n",
    "hidden3 = my_dense_layer(hidden2, n_hidden3)\n",
    "outputs = my_dense_layer(hidden3, n_outputs, activation=None)\n",
    "\n",
    "reconstruction_loss = tf.reduce_mean(tf.square(outputs - X))\n",
    "\n",
    "reg_losses = tf.get_collection(tf.GraphKeys.REGULARIZATION_LOSSES)\n",
    "loss = tf.add_n([reconstruction_loss] + reg_losses)\n",
    "\n",
    "optimizer = tf.train.AdamOptimizer(learning_rate)\n",
    "training_op = optimizer.minimize(loss)\n",
    "\n",
    "init = tf.global_variables_initializer()\n",
    "saver = tf.train.Saver() # nieukazane w książce"
   ]
  },
  {
   "cell_type": "markdown",
   "metadata": {},
   "source": [
    "Wyuczmy nasz model! Zwróć uwagę, że nie dostarczamy mu wartości docelowych (nie wykorzystujemy tensora `y_batch`). Mamy do czynienia z uczeniem nienadzorowanym."
   ]
  },
  {
   "cell_type": "code",
   "execution_count": 11,
   "metadata": {
    "collapsed": false
   },
   "outputs": [
    {
     "name": "stdout",
     "output_type": "stream",
     "text": [
      "0 Błąd MSE podczas uczenia: 0.0208554\n",
      "1 %Błąd MSE podczas uczenia: 0.0113726\n",
      "29% Błąd MSE podczas uczenia: 0.0102246\n",
      "39% Błąd MSE podczas uczenia: 0.00990046\n",
      "49% Błąd MSE podczas uczenia: 0.0103758\n"
     ]
    }
   ],
   "source": [
    "n_epochs = 5\n",
    "batch_size = 150\n",
    "\n",
    "with tf.Session() as sess:\n",
    "    init.run()\n",
    "    for epoch in range(n_epochs):\n",
    "        n_batches = mnist.train.num_examples // batch_size\n",
    "        for iteration in range(n_batches):\n",
    "            print(\"\\r{}%\".format(100 * iteration // n_batches), end=\"\") # nieukazane w książce\n",
    "            sys.stdout.flush()                                          # nieukazane\n",
    "            X_batch, y_batch = mnist.train.next_batch(batch_size)\n",
    "            sess.run(training_op, feed_dict={X: X_batch})\n",
    "        loss_train = reconstruction_loss.eval(feed_dict={X: X_batch})   # nieukazane\n",
    "        print(\"\\r{}\".format(epoch), \"Błąd MSE podczas uczenia:\", loss_train)           # nieukazane\n",
    "        saver.save(sess, \"./moj_model_wszystkie_warstwy.ckpt\")                  # nieukazane"
   ]
  },
  {
   "cell_type": "markdown",
   "metadata": {},
   "source": [
    "Poniższa funkcja wczytuje model, ocenia go przy użyciu zbioru testowego (mierzy błąd rekonstrukcji), a następnie wyświetla pierwotny rysunek i jego rekonstrukcję:"
   ]
  },
  {
   "cell_type": "code",
   "execution_count": 12,
   "metadata": {
    "collapsed": true
   },
   "outputs": [],
   "source": [
    "def show_reconstructed_digits(X, outputs, model_path = None, n_test_digits = 2):\n",
    "    with tf.Session() as sess:\n",
    "        if model_path:\n",
    "            saver.restore(sess, model_path)\n",
    "        X_test = mnist.test.images[:n_test_digits]\n",
    "        outputs_val = outputs.eval(feed_dict={X: X_test})\n",
    "\n",
    "    fig = plt.figure(figsize=(8, 3 * n_test_digits))\n",
    "    for digit_index in range(n_test_digits):\n",
    "        plt.subplot(n_test_digits, 2, digit_index * 2 + 1)\n",
    "        plot_image(X_test[digit_index])\n",
    "        plt.subplot(n_test_digits, 2, digit_index * 2 + 2)\n",
    "        plot_image(outputs_val[digit_index])"
   ]
  },
  {
   "cell_type": "code",
   "execution_count": 13,
   "metadata": {
    "collapsed": false
   },
   "outputs": [
    {
     "name": "stdout",
     "output_type": "stream",
     "text": [
      "INFO:tensorflow:Restoring parameters from ./moj_model_wszystkie_warstwy.ckpt\n",
      "Zapisywanie rysunku wykres_rekonstrukcja\n"
     ]
    },
    {
     "data": {
      "image/png": "[encoded data removed]",
      "text/plain": [
       "<matplotlib.figure.Figure at 0x25a288836a0>"
      ]
     },
     "metadata": {},
     "output_type": "display_data"
    }
   ],
   "source": [
    "show_reconstructed_digits(X, outputs, \"./moj_model_wszystkie_warstwy.ckpt\")\n",
    "save_fig(\"wykres_rekonstrukcja\")"
   ]
  },
  {
   "cell_type": "markdown",
   "metadata": {},
   "source": [
    "## Wiązanie wag"
   ]
  },
  {
   "cell_type": "markdown",
   "metadata": {},
   "source": [
    "Powszechnym rozwiązaniem jest wiązanie wag kodera i dekodera (`weights_decoder = tf.transpose(weights_encoder)`). Niestety, uniemożliwia to (a przynajmniej znacznie utrudnia) korzystanie z funkcji `tf.layers.dense()`, dlatego musimy własnoręcznie stworzyć autokoder:"
   ]
  },
  {
   "cell_type": "code",
   "execution_count": 14,
   "metadata": {
    "collapsed": true
   },
   "outputs": [],
   "source": [
    "reset_graph()\n",
    "\n",
    "n_inputs = 28 * 28\n",
    "n_hidden1 = 300\n",
    "n_hidden2 = 150  # kodowania\n",
    "n_hidden3 = n_hidden1\n",
    "n_outputs = n_inputs\n",
    "\n",
    "learning_rate = 0.01\n",
    "l2_reg = 0.0005"
   ]
  },
  {
   "cell_type": "code",
   "execution_count": 15,
   "metadata": {
    "collapsed": true
   },
   "outputs": [],
   "source": [
    "activation = tf.nn.elu\n",
    "regularizer = tf.contrib.layers.l2_regularizer(l2_reg)\n",
    "initializer = tf.contrib.layers.variance_scaling_initializer()\n",
    "\n",
    "X = tf.placeholder(tf.float32, shape=[None, n_inputs])\n",
    "\n",
    "weights1_init = initializer([n_inputs, n_hidden1])\n",
    "weights2_init = initializer([n_hidden1, n_hidden2])\n",
    "\n",
    "weights1 = tf.Variable(weights1_init, dtype=tf.float32, name=\"wagi1\")\n",
    "weights2 = tf.Variable(weights2_init, dtype=tf.float32, name=\"wagi2\")\n",
    "weights3 = tf.transpose(weights2, name=\"wagi3\")  # powiązane wagi\n",
    "weights4 = tf.transpose(weights1, name=\"wagi4\")  # powiązane wagi\n",
    "\n",
    "biases1 = tf.Variable(tf.zeros(n_hidden1), name=\"obciazenia1\")\n",
    "biases2 = tf.Variable(tf.zeros(n_hidden2), name=\"obciazenia2\")\n",
    "biases3 = tf.Variable(tf.zeros(n_hidden3), name=\"obciazenia3\")\n",
    "biases4 = tf.Variable(tf.zeros(n_outputs), name=\"obciazenia4\")\n",
    "\n",
    "hidden1 = activation(tf.matmul(X, weights1) + biases1)\n",
    "hidden2 = activation(tf.matmul(hidden1, weights2) + biases2)\n",
    "hidden3 = activation(tf.matmul(hidden2, weights3) + biases3)\n",
    "outputs = tf.matmul(hidden3, weights4) + biases4\n",
    "\n",
    "reconstruction_loss = tf.reduce_mean(tf.square(outputs - X))\n",
    "reg_loss = regularizer(weights1) + regularizer(weights2)\n",
    "loss = reconstruction_loss + reg_loss\n",
    "\n",
    "optimizer = tf.train.AdamOptimizer(learning_rate)\n",
    "training_op = optimizer.minimize(loss)\n",
    "\n",
    "init = tf.global_variables_initializer()"
   ]
  },
  {
   "cell_type": "code",
   "execution_count": 16,
   "metadata": {
    "collapsed": true
   },
   "outputs": [],
   "source": [
    "saver = tf.train.Saver()"
   ]
  },
  {
   "cell_type": "code",
   "execution_count": 17,
   "metadata": {
    "collapsed": false
   },
   "outputs": [
    {
     "name": "stdout",
     "output_type": "stream",
     "text": [
      "0 Błąd MSE podczas uczenia: 0.0150667\n",
      "19% Błąd MSE podczas uczenia: 0.0164884\n",
      "29% Błąd MSE podczas uczenia: 0.0173757\n",
      "3 Błąd MSE podczas uczenia: 0.0168781\n",
      "4 Błąd MSE podczas uczenia: 0.0155875\n"
     ]
    }
   ],
   "source": [
    "n_epochs = 5\n",
    "batch_size = 150\n",
    "\n",
    "with tf.Session() as sess:\n",
    "    init.run()\n",
    "    for epoch in range(n_epochs):\n",
    "        n_batches = mnist.train.num_examples // batch_size\n",
    "        for iteration in range(n_batches):\n",
    "            print(\"\\r{}%\".format(100 * iteration // n_batches), end=\"\")\n",
    "            sys.stdout.flush()\n",
    "            X_batch, y_batch = mnist.train.next_batch(batch_size)\n",
    "            sess.run(training_op, feed_dict={X: X_batch})\n",
    "        loss_train = reconstruction_loss.eval(feed_dict={X: X_batch})\n",
    "        print(\"\\r{}\".format(epoch), \"Błąd MSE podczas uczenia:\", loss_train)\n",
    "        saver.save(sess, \"./moj_model_wiazanie_wag.ckpt\")"
   ]
  },
  {
   "cell_type": "code",
   "execution_count": 18,
   "metadata": {
    "collapsed": false,
    "scrolled": true
   },
   "outputs": [
    {
     "name": "stdout",
     "output_type": "stream",
     "text": [
      "INFO:tensorflow:Restoring parameters from ./moj_model_wiazanie_wag.ckpt\n"
     ]
    },
    {
     "data": {
      "image/png": "[encoded data removed]",
      "text/plain": [
       "<matplotlib.figure.Figure at 0x25a29ca56d8>"
      ]
     },
     "metadata": {},
     "output_type": "display_data"
    }
   ],
   "source": [
    "show_reconstructed_digits(X, outputs, \"./moj_model_wiazanie_wag.ckpt\")"
   ]
  },
  {
   "cell_type": "markdown",
   "metadata": {},
   "source": [
    "## Uczenie autokoderów pojedynczo na wielu grafach"
   ]
  },
  {
   "cell_type": "markdown",
   "metadata": {},
   "source": [
    "Istnieje wiele sposobów uczenia autokoderów pojedynczo. Pierwszym rozwiązaniem jest trenowanie każdego autokodera korzystając z osobnych grafów, a następnie utworzenie autokodera stosowego poprzez zainicjowanie go za pomocą wag i obciążeń uzyskanych dla poszczególnych autokoderów składowych."
   ]
  },
  {
   "cell_type": "markdown",
   "metadata": {},
   "source": [
    "Stwórzmy funkcję, która wyuczy jeden autokoder i zwróci przekształcony zbiór uczący (tzn. wynik warstwy ukrytej) i parametry modelu."
   ]
  },
  {
   "cell_type": "code",
   "execution_count": 19,
   "metadata": {
    "collapsed": true
   },
   "outputs": [],
   "source": [
    "reset_graph()\n",
    "\n",
    "from functools import partial\n",
    "\n",
    "def train_autoencoder(X_train, n_neurons, n_epochs, batch_size,\n",
    "                      learning_rate = 0.01, l2_reg = 0.0005, seed=42,\n",
    "                      hidden_activation=tf.nn.elu,\n",
    "                      output_activation=tf.nn.elu):\n",
    "    graph = tf.Graph()\n",
    "    with graph.as_default():\n",
    "        tf.set_random_seed(seed)\n",
    "\n",
    "        n_inputs = X_train.shape[1]\n",
    "\n",
    "        X = tf.placeholder(tf.float32, shape=[None, n_inputs])\n",
    "        \n",
    "        my_dense_layer = partial(\n",
    "            tf.layers.dense,\n",
    "            kernel_initializer=tf.contrib.layers.variance_scaling_initializer(),\n",
    "            kernel_regularizer=tf.contrib.layers.l2_regularizer(l2_reg))\n",
    "\n",
    "        hidden = my_dense_layer(X, n_neurons, activation=hidden_activation, name=\"ukryta\")\n",
    "        outputs = my_dense_layer(hidden, n_inputs, activation=output_activation, name=\"wyjscia\")\n",
    "\n",
    "        reconstruction_loss = tf.reduce_mean(tf.square(outputs - X))\n",
    "\n",
    "        reg_losses = tf.get_collection(tf.GraphKeys.REGULARIZATION_LOSSES)\n",
    "        loss = tf.add_n([reconstruction_loss] + reg_losses)\n",
    "\n",
    "        optimizer = tf.train.AdamOptimizer(learning_rate)\n",
    "        training_op = optimizer.minimize(loss)\n",
    "\n",
    "        init = tf.global_variables_initializer()\n",
    "\n",
    "    with tf.Session(graph=graph) as sess:\n",
    "        init.run()\n",
    "        for epoch in range(n_epochs):\n",
    "            n_batches = len(X_train) // batch_size\n",
    "            for iteration in range(n_batches):\n",
    "                print(\"\\r{}%\".format(100 * iteration // n_batches), end=\"\")\n",
    "                sys.stdout.flush()\n",
    "                indices = rnd.permutation(len(X_train))[:batch_size]\n",
    "                X_batch = X_train[indices]\n",
    "                sess.run(training_op, feed_dict={X: X_batch})\n",
    "            loss_train = reconstruction_loss.eval(feed_dict={X: X_batch})\n",
    "            print(\"\\r{}\".format(epoch), \"Błąd MSE podczas uczenia:\", loss_train)\n",
    "        params = dict([(var.name, var.eval()) for var in tf.get_collection(tf.GraphKeys.TRAINABLE_VARIABLES)])\n",
    "        hidden_val = hidden.eval(feed_dict={X: X_train})\n",
    "        return hidden_val, params[\"ukryta/kernel:0\"], params[\"ukryta/bias:0\"], params[\"wyjscia/kernel:0\"], params[\"wyjscia/bias:0\"]"
   ]
  },
  {
   "cell_type": "markdown",
   "metadata": {},
   "source": [
    "Wyuczmy teraz dwa autokodery. Pierwszy z nich wytrenujemy za pomocą danych uczących, natomiast do nauki drugiego wykorzystamy wynik warstwy ukrytej z pierwszego autokodera:"
   ]
  },
  {
   "cell_type": "code",
   "execution_count": 20,
   "metadata": {
    "collapsed": false
   },
   "outputs": [
    {
     "name": "stdout",
     "output_type": "stream",
     "text": [
      "0 Błąd MSE podczas uczenia: 0.0185175\n",
      "19% Błąd MSE podczas uczenia: 0.0186825\n",
      "2 Błąd MSE podczas uczenia: 0.0184675\n",
      "39% Błąd MSE podczas uczenia: 0.0192315\n",
      "09% Błąd MSE podczas uczenia: 0.0042361\n",
      "19% Błąd MSE podczas uczenia: 0.00483266\n",
      "2 %Błąd MSE podczas uczenia: 0.00466872\n",
      "3 Błąd MSE podczas uczenia: 0.00440389\n"
     ]
    }
   ],
   "source": [
    "hidden_output, W1, b1, W4, b4 = train_autoencoder(mnist.train.images, n_neurons=300, n_epochs=4, batch_size=150,\n",
    "                                                  output_activation=None)\n",
    "_, W2, b2, W3, b3 = train_autoencoder(hidden_output, n_neurons=150, n_epochs=4, batch_size=150)"
   ]
  },
  {
   "cell_type": "markdown",
   "metadata": {},
   "source": [
    "W końcu możemy stworzyć autokoder stosowy wykorzystując wagi i obciążenia dopiero co wyuczonych autokoderów:"
   ]
  },
  {
   "cell_type": "code",
   "execution_count": 21,
   "metadata": {
    "collapsed": true
   },
   "outputs": [],
   "source": [
    "reset_graph()\n",
    "\n",
    "n_inputs = 28*28\n",
    "\n",
    "X = tf.placeholder(tf.float32, shape=[None, n_inputs])\n",
    "hidden1 = tf.nn.elu(tf.matmul(X, W1) + b1)\n",
    "hidden2 = tf.nn.elu(tf.matmul(hidden1, W2) + b2)\n",
    "hidden3 = tf.nn.elu(tf.matmul(hidden2, W3) + b3)\n",
    "outputs = tf.matmul(hidden3, W4) + b4"
   ]
  },
  {
   "cell_type": "code",
   "execution_count": 22,
   "metadata": {
    "collapsed": false
   },
   "outputs": [
    {
     "data": {
      "image/png": "[encoded data removed]",
      "text/plain": [
       "<matplotlib.figure.Figure at 0x25a2a451400>"
      ]
     },
     "metadata": {},
     "output_type": "display_data"
    }
   ],
   "source": [
    "show_reconstructed_digits(X, outputs)"
   ]
  },
  {
   "cell_type": "markdown",
   "metadata": {},
   "source": [
    "## Uczenie autokoderów pojedynczo na jednym grafie"
   ]
  },
  {
   "cell_type": "markdown",
   "metadata": {},
   "source": [
    "Innym sposobem jest wykorzystanie pojedynczego grafu. W tym celu tworzymy graf dla pełnego autokodera stosowego, ale dodajemy również operacje pozwalające na niezależne trenowanie każdego autokodera stosowego: operacje pierwszej fazy uczą dolną i górną warstwę (pierwszy autokoder), natomiast operacje drugiej fazy przeprowadzają proces uczenia dwóch środkowych warstw (drugiego autokodera)."
   ]
  },
  {
   "cell_type": "code",
   "execution_count": 23,
   "metadata": {
    "collapsed": true
   },
   "outputs": [],
   "source": [
    "reset_graph()\n",
    "\n",
    "n_inputs = 28 * 28\n",
    "n_hidden1 = 300\n",
    "n_hidden2 = 150  # kodowania\n",
    "n_hidden3 = n_hidden1\n",
    "n_outputs = n_inputs\n",
    "\n",
    "learning_rate = 0.01\n",
    "l2_reg = 0.0001\n",
    "\n",
    "activation = tf.nn.elu\n",
    "regularizer = tf.contrib.layers.l2_regularizer(l2_reg)\n",
    "initializer = tf.contrib.layers.variance_scaling_initializer()\n",
    "\n",
    "X = tf.placeholder(tf.float32, shape=[None, n_inputs])\n",
    "\n",
    "weights1_init = initializer([n_inputs, n_hidden1])\n",
    "weights2_init = initializer([n_hidden1, n_hidden2])\n",
    "weights3_init = initializer([n_hidden2, n_hidden3])\n",
    "weights4_init = initializer([n_hidden3, n_outputs])\n",
    "\n",
    "weights1 = tf.Variable(weights1_init, dtype=tf.float32, name=\"wagi1\")\n",
    "weights2 = tf.Variable(weights2_init, dtype=tf.float32, name=\"wagi2\")\n",
    "weights3 = tf.Variable(weights3_init, dtype=tf.float32, name=\"wagi3\")\n",
    "weights4 = tf.Variable(weights4_init, dtype=tf.float32, name=\"wagi4\")\n",
    "\n",
    "biases1 = tf.Variable(tf.zeros(n_hidden1), name=\"obciazenia1\")\n",
    "biases2 = tf.Variable(tf.zeros(n_hidden2), name=\"obciazenia2\")\n",
    "biases3 = tf.Variable(tf.zeros(n_hidden3), name=\"obciazenia3\")\n",
    "biases4 = tf.Variable(tf.zeros(n_outputs), name=\"obciazenia4\")\n",
    "\n",
    "hidden1 = activation(tf.matmul(X, weights1) + biases1)\n",
    "hidden2 = activation(tf.matmul(hidden1, weights2) + biases2)\n",
    "hidden3 = activation(tf.matmul(hidden2, weights3) + biases3)\n",
    "outputs = tf.matmul(hidden3, weights4) + biases4\n",
    "\n",
    "reconstruction_loss = tf.reduce_mean(tf.square(outputs - X))"
   ]
  },
  {
   "cell_type": "code",
   "execution_count": 24,
   "metadata": {
    "collapsed": true
   },
   "outputs": [],
   "source": [
    "optimizer = tf.train.AdamOptimizer(learning_rate)\n",
    "\n",
    "with tf.name_scope(\"faza1\"):\n",
    "    phase1_outputs = tf.matmul(hidden1, weights4) + biases4  # pomija warstwy ukryta2 i ukryta3\n",
    "    phase1_reconstruction_loss = tf.reduce_mean(tf.square(phase1_outputs - X))\n",
    "    phase1_reg_loss = regularizer(weights1) + regularizer(weights4)\n",
    "    phase1_loss = phase1_reconstruction_loss + phase1_reg_loss\n",
    "    phase1_training_op = optimizer.minimize(phase1_loss)\n",
    "\n",
    "with tf.name_scope(\"faza2\"):\n",
    "    phase2_reconstruction_loss = tf.reduce_mean(tf.square(hidden3 - hidden1))\n",
    "    phase2_reg_loss = regularizer(weights2) + regularizer(weights3)\n",
    "    phase2_loss = phase2_reconstruction_loss + phase2_reg_loss\n",
    "    train_vars = [weights2, biases2, weights3, biases3]\n",
    "    phase2_training_op = optimizer.minimize(phase2_loss, var_list=train_vars) # zamraża warstwę ukryta1"
   ]
  },
  {
   "cell_type": "code",
   "execution_count": 25,
   "metadata": {
    "collapsed": true
   },
   "outputs": [],
   "source": [
    "init = tf.global_variables_initializer()\n",
    "saver = tf.train.Saver()"
   ]
  },
  {
   "cell_type": "code",
   "execution_count": 26,
   "metadata": {
    "collapsed": false
   },
   "outputs": [
    {
     "name": "stdout",
     "output_type": "stream",
     "text": [
      "Faza uczenia #1\n",
      "09% Błąd MSE podczas uczenia: 0.00740679\n",
      "19% Błąd MSE podczas uczenia: 0.00782866\n",
      "29% Błąd MSE podczas uczenia: 0.00772802\n",
      "3 Błąd MSE podczas uczenia: 0.00740893\n",
      "Faza uczenia #2\n",
      "0 Błąd MSE podczas uczenia: 0.235318\n",
      "1 Błąd MSE podczas uczenia: 0.00593943\n",
      "29% Błąd MSE podczas uczenia: 0.00294401\n",
      "39% Błąd MSE podczas uczenia: 0.00242355\n",
      "Błąd MSE podczas testowania: 0.00978226\n"
     ]
    }
   ],
   "source": [
    "training_ops = [phase1_training_op, phase2_training_op]\n",
    "reconstruction_losses = [phase1_reconstruction_loss, phase2_reconstruction_loss]\n",
    "n_epochs = [4, 4]\n",
    "batch_sizes = [150, 150]\n",
    "\n",
    "with tf.Session() as sess:\n",
    "    init.run()\n",
    "    for phase in range(2):\n",
    "        print(\"Faza uczenia #{}\".format(phase + 1))\n",
    "        for epoch in range(n_epochs[phase]):\n",
    "            n_batches = mnist.train.num_examples // batch_sizes[phase]\n",
    "            for iteration in range(n_batches):\n",
    "                print(\"\\r{}%\".format(100 * iteration // n_batches), end=\"\")\n",
    "                sys.stdout.flush()\n",
    "                X_batch, y_batch = mnist.train.next_batch(batch_sizes[phase])\n",
    "                sess.run(training_ops[phase], feed_dict={X: X_batch})\n",
    "            loss_train = reconstruction_losses[phase].eval(feed_dict={X: X_batch})\n",
    "            print(\"\\r{}\".format(epoch), \"Błąd MSE podczas uczenia:\", loss_train)\n",
    "            saver.save(sess, \"./moj_model_uczenie_pojedynczo.ckpt\")\n",
    "    loss_test = reconstruction_loss.eval(feed_dict={X: mnist.test.images})\n",
    "    print(\"Błąd MSE podczas testowania:\", loss_test)"
   ]
  },
  {
   "cell_type": "markdown",
   "metadata": {},
   "source": [
    "## Buforowanie wyników zamrożonej warstwy "
   ]
  },
  {
   "cell_type": "code",
   "execution_count": 27,
   "metadata": {
    "collapsed": false,
    "scrolled": true
   },
   "outputs": [
    {
     "name": "stdout",
     "output_type": "stream",
     "text": [
      "Faza uczenia #1\n",
      "09% Błąd MSE podczas uczenia: 0.00753817\n",
      "1 Błąd MSE podczas uczenia: 0.00775457\n",
      "2 Błąd MSE podczas uczenia: 0.00734359\n",
      "39% Błąd MSE podczas uczenia: 0.00783768\n",
      "Faza uczenia #2\n",
      "09% Błąd MSE podczas uczenia: 0.117372\n",
      "19% Błąd MSE podczas uczenia: 0.0045125\n",
      "2 Błąd MSE podczas uczenia: 0.00239339\n",
      "39% Błąd MSE podczas uczenia: 0.00202585\n",
      "Błąd MSE podczas testowania: 0.0097551\n"
     ]
    }
   ],
   "source": [
    "training_ops = [phase1_training_op, phase2_training_op]\n",
    "reconstruction_losses = [phase1_reconstruction_loss, phase2_reconstruction_loss]\n",
    "n_epochs = [4, 4]\n",
    "batch_sizes = [150, 150]\n",
    "\n",
    "with tf.Session() as sess:\n",
    "    init.run()\n",
    "    for phase in range(2):\n",
    "        print(\"Faza uczenia #{}\".format(phase + 1))\n",
    "        if phase == 1:\n",
    "            hidden1_cache = hidden1.eval(feed_dict={X: mnist.train.images})\n",
    "        for epoch in range(n_epochs[phase]):\n",
    "            n_batches = mnist.train.num_examples // batch_sizes[phase]\n",
    "            for iteration in range(n_batches):\n",
    "                print(\"\\r{}%\".format(100 * iteration // n_batches), end=\"\")\n",
    "                sys.stdout.flush()\n",
    "                if phase == 1:\n",
    "                    indices = rnd.permutation(mnist.train.num_examples)\n",
    "                    hidden1_batch = hidden1_cache[indices[:batch_sizes[phase]]]\n",
    "                    feed_dict = {hidden1: hidden1_batch}\n",
    "                    sess.run(training_ops[phase], feed_dict=feed_dict)\n",
    "                else:\n",
    "                    X_batch, y_batch = mnist.train.next_batch(batch_sizes[phase])\n",
    "                    feed_dict = {X: X_batch}\n",
    "                    sess.run(training_ops[phase], feed_dict=feed_dict)\n",
    "            loss_train = reconstruction_losses[phase].eval(feed_dict=feed_dict)\n",
    "            print(\"\\r{}\".format(epoch), \"Błąd MSE podczas uczenia:\", loss_train)\n",
    "            saver.save(sess, \"./moj_model_buforowanie_zamrozonej.ckpt\")\n",
    "    loss_test = reconstruction_loss.eval(feed_dict={X: mnist.test.images})\n",
    "    print(\"Błąd MSE podczas testowania:\", loss_test)"
   ]
  },
  {
   "cell_type": "markdown",
   "metadata": {},
   "source": [
    "## Wizualizowanie rekonstrukcji"
   ]
  },
  {
   "cell_type": "code",
   "execution_count": 28,
   "metadata": {
    "collapsed": false
   },
   "outputs": [
    {
     "name": "stdout",
     "output_type": "stream",
     "text": [
      "INFO:tensorflow:Restoring parameters from ./moj_model_uczenie_pojedynczo.ckpt\n"
     ]
    },
    {
     "data": {
      "image/png": "[encoded data removed]",
      "text/plain": [
       "<matplotlib.figure.Figure at 0x25a25e80b70>"
      ]
     },
     "metadata": {},
     "output_type": "display_data"
    }
   ],
   "source": [
    "n_test_digits = 2\n",
    "X_test = mnist.test.images[:n_test_digits]\n",
    "\n",
    "with tf.Session() as sess:\n",
    "    saver.restore(sess, \"./moj_model_uczenie_pojedynczo.ckpt\") # nieukazane w książce\n",
    "    outputs_val = outputs.eval(feed_dict={X: X_test})\n",
    "\n",
    "def plot_image(image, shape=[28, 28]):\n",
    "    plt.imshow(image.reshape(shape), cmap=\"Greys\", interpolation=\"nearest\")\n",
    "    plt.axis(\"off\")\n",
    "\n",
    "for digit_index in range(n_test_digits):\n",
    "    plt.subplot(n_test_digits, 2, digit_index * 2 + 1)\n",
    "    plot_image(X_test[digit_index])\n",
    "    plt.subplot(n_test_digits, 2, digit_index * 2 + 2)\n",
    "    plot_image(outputs_val[digit_index])"
   ]
  },
  {
   "cell_type": "markdown",
   "metadata": {},
   "source": [
    "## Wizualizowanie wydobytych cech"
   ]
  },
  {
   "cell_type": "code",
   "execution_count": 29,
   "metadata": {
    "collapsed": false
   },
   "outputs": [
    {
     "name": "stdout",
     "output_type": "stream",
     "text": [
      "INFO:tensorflow:Restoring parameters from ./moj_model_uczenie_pojedynczo.ckpt\n",
      "Zapisywanie rysunku wykres_wydobyte_cechy\n"
     ]
    },
    {
     "data": {
      "image/png": "[encoded data removed]",
      "text/plain": [
       "<matplotlib.figure.Figure at 0x25a29d584a8>"
      ]
     },
     "metadata": {},
     "output_type": "display_data"
    }
   ],
   "source": [
    "with tf.Session() as sess:\n",
    "    saver.restore(sess, \"./moj_model_uczenie_pojedynczo.ckpt\") # nieukazane w książce\n",
    "    weights1_val = weights1.eval()\n",
    "\n",
    "for i in range(5):\n",
    "    plt.subplot(1, 5, i + 1)\n",
    "    plot_image(weights1_val.T[i])\n",
    "\n",
    "save_fig(\"wykres_wydobyte_cechy\") # nieukazane\n",
    "plt.show()                          # nieukazane"
   ]
  },
  {
   "cell_type": "markdown",
   "metadata": {},
   "source": [
    "# Nienadzorowane uczenie wstępne"
   ]
  },
  {
   "cell_type": "markdown",
   "metadata": {},
   "source": [
    "Stwórzmy niewielką sieć neuronową służącą do klasyfikowania obrazów MNIST:"
   ]
  },
  {
   "cell_type": "code",
   "execution_count": 30,
   "metadata": {
    "collapsed": true
   },
   "outputs": [],
   "source": [
    "reset_graph()\n",
    "\n",
    "n_inputs = 28 * 28\n",
    "n_hidden1 = 300\n",
    "n_hidden2 = 150\n",
    "n_outputs = 10\n",
    "\n",
    "learning_rate = 0.01\n",
    "l2_reg = 0.0005\n",
    "\n",
    "activation = tf.nn.elu\n",
    "regularizer = tf.contrib.layers.l2_regularizer(l2_reg)\n",
    "initializer = tf.contrib.layers.variance_scaling_initializer()\n",
    "\n",
    "X = tf.placeholder(tf.float32, shape=[None, n_inputs])\n",
    "y = tf.placeholder(tf.int32, shape=[None])\n",
    "\n",
    "weights1_init = initializer([n_inputs, n_hidden1])\n",
    "weights2_init = initializer([n_hidden1, n_hidden2])\n",
    "weights3_init = initializer([n_hidden2, n_outputs])\n",
    "\n",
    "weights1 = tf.Variable(weights1_init, dtype=tf.float32, name=\"wagi1\")\n",
    "weights2 = tf.Variable(weights2_init, dtype=tf.float32, name=\"wagi2\")\n",
    "weights3 = tf.Variable(weights3_init, dtype=tf.float32, name=\"wagi3\")\n",
    "\n",
    "biases1 = tf.Variable(tf.zeros(n_hidden1), name=\"obciazenia1\")\n",
    "biases2 = tf.Variable(tf.zeros(n_hidden2), name=\"obciazenia2\")\n",
    "biases3 = tf.Variable(tf.zeros(n_outputs), name=\"obciazenia3\")\n",
    "\n",
    "hidden1 = activation(tf.matmul(X, weights1) + biases1)\n",
    "hidden2 = activation(tf.matmul(hidden1, weights2) + biases2)\n",
    "logits = tf.matmul(hidden2, weights3) + biases3\n",
    "\n",
    "cross_entropy = tf.nn.sparse_softmax_cross_entropy_with_logits(labels=y, logits=logits)\n",
    "reg_loss = regularizer(weights1) + regularizer(weights2) + regularizer(weights3)\n",
    "loss = cross_entropy + reg_loss\n",
    "optimizer = tf.train.AdamOptimizer(learning_rate)\n",
    "training_op = optimizer.minimize(loss)\n",
    "\n",
    "correct = tf.nn.in_top_k(logits, y, 1)\n",
    "accuracy = tf.reduce_mean(tf.cast(correct, tf.float32))\n",
    "\n",
    "init = tf.global_variables_initializer()\n",
    "pretrain_saver = tf.train.Saver([weights1, weights2, biases1, biases2])\n",
    "saver = tf.train.Saver()"
   ]
  },
  {
   "cell_type": "markdown",
   "metadata": {},
   "source": [
    "Standardowy trening (bez uczenia wstępnego):"
   ]
  },
  {
   "cell_type": "code",
   "execution_count": 31,
   "metadata": {
    "collapsed": false
   },
   "outputs": [
    {
     "name": "stdout",
     "output_type": "stream",
     "text": [
      "09% Dokładność dla zbioru uczącego: 0.973333 Dokładność dla zbioru testowego: 0.9334\n",
      "19% Dokładność dla zbioru uczącego: 0.98 Dokładność dla zbioru testowego: 0.936\n",
      "29% Dokładność dla zbioru uczącego: 0.973333 Dokładność dla zbioru testowego: 0.9382\n",
      "39% Dokładność dla zbioru uczącego: 0.986667 Dokładność dla zbioru testowego: 0.9492\n"
     ]
    }
   ],
   "source": [
    "n_epochs = 4\n",
    "batch_size = 150\n",
    "n_labeled_instances = 20000\n",
    "\n",
    "with tf.Session() as sess:\n",
    "    init.run()\n",
    "    for epoch in range(n_epochs):\n",
    "        n_batches = n_labeled_instances // batch_size\n",
    "        for iteration in range(n_batches):\n",
    "            print(\"\\r{}%\".format(100 * iteration // n_batches), end=\"\")\n",
    "            sys.stdout.flush()\n",
    "            indices = rnd.permutation(n_labeled_instances)[:batch_size]\n",
    "            X_batch, y_batch = mnist.train.images[indices], mnist.train.labels[indices]\n",
    "            sess.run(training_op, feed_dict={X: X_batch, y: y_batch})\n",
    "        accuracy_val = accuracy.eval(feed_dict={X: X_batch, y: y_batch})\n",
    "        print(\"\\r{}\".format(epoch), \"Dokładność dla zbioru uczącego:\", accuracy_val, end=\" \")\n",
    "        saver.save(sess, \"./moj_model_nadzorowany.ckpt\")\n",
    "        accuracy_val = accuracy.eval(feed_dict={X: mnist.test.images, y: mnist.test.labels})\n",
    "        print(\"Dokładność dla zbioru testowego:\", accuracy_val)"
   ]
  },
  {
   "cell_type": "markdown",
   "metadata": {},
   "source": [
    "Teraz ponownie użyjemy dwóch pierwszych warstw z powyższego, wstępnie wyuczonego autokodera:"
   ]
  },
  {
   "cell_type": "code",
   "execution_count": 32,
   "metadata": {
    "collapsed": false
   },
   "outputs": [
    {
     "name": "stdout",
     "output_type": "stream",
     "text": [
      "INFO:tensorflow:Restoring parameters from ./moj_model_buforowanie_zamrozonej.ckpt\n",
      "0 Dokładność dla zbioru uczącego: 0.966667\tDokładność dla zbioru testowego: 0.9308\n",
      "19% Dokładność dla zbioru uczącego: 0.96\tDokładność dla zbioru testowego: 0.9328\n",
      "29% Dokładność dla zbioru uczącego: 0.973333\tDokładność dla zbioru testowego: 0.9414\n",
      "3 Dokładność dla zbioru uczącego: 0.966667\tDokładność dla zbioru testowego: 0.9484\n"
     ]
    }
   ],
   "source": [
    "n_epochs = 4\n",
    "batch_size = 150\n",
    "n_labeled_instances = 20000\n",
    "\n",
    "#training_op = optimizer.minimize(loss, var_list=[weights3, biases3])  # zamraża pierwszą i drugą warstwę (dodatkowe)\n",
    "\n",
    "with tf.Session() as sess:\n",
    "    init.run()\n",
    "    pretrain_saver.restore(sess, \"./moj_model_buforowanie_zamrozonej.ckpt\")\n",
    "    for epoch in range(n_epochs):\n",
    "        n_batches = n_labeled_instances // batch_size\n",
    "        for iteration in range(n_batches):\n",
    "            print(\"\\r{}%\".format(100 * iteration // n_batches), end=\"\")\n",
    "            sys.stdout.flush()\n",
    "            indices = rnd.permutation(n_labeled_instances)[:batch_size]\n",
    "            X_batch, y_batch = mnist.train.images[indices], mnist.train.labels[indices]\n",
    "            sess.run(training_op, feed_dict={X: X_batch, y: y_batch})\n",
    "        accuracy_val = accuracy.eval(feed_dict={X: X_batch, y: y_batch})\n",
    "        print(\"\\r{}\".format(epoch), \"Dokładność dla zbioru uczącego:\", accuracy_val, end=\"\\t\")\n",
    "        saver.save(sess, \"./moj_model_nadzorowany_uczenie_wstepne.ckpt\")\n",
    "        accuracy_val = accuracy.eval(feed_dict={X: mnist.test.images, y: mnist.test.labels})\n",
    "        print(\"Dokładność dla zbioru testowego:\", accuracy_val)"
   ]
  },
  {
   "cell_type": "markdown",
   "metadata": {},
   "source": [
    "# Odszumiający autokoder stosowy"
   ]
  },
  {
   "cell_type": "markdown",
   "metadata": {},
   "source": [
    "Uwaga: w książce jest używana funkcja `tf.contrib.layers.dropout()` zamiast funkcji `tf.layers.dropout()` (która nie istniała w czasie pisania tego rozdziału). Zalecane jest korzystanie z funkcji `tf.layers.dropout()`, ponieważ wszystkie składniki modułu `contrib` mogą być modyfikowane lub usuwane bez zapowiedzi. Funkcja `tf.layers.dropout()` niemal niczym nie różni się od funkcji `tf.contrib.layers.dropout()`, nie licząc kilku niewielkich zmian. Najważniejsze z nich to:\n",
    "* musisz określić współczynnik porzucania (`rate`), a nie prawdopodobieństwo pozostawiania neuronów (`keep_prob`), gdzie `rate` to po prostu `1 - keep_prob`,\n",
    "* parametr `is_training` został przemianowany na `training`."
   ]
  },
  {
   "cell_type": "markdown",
   "metadata": {},
   "source": [
    "Wprowadzamy szum gaussowski:"
   ]
  },
  {
   "cell_type": "code",
   "execution_count": 33,
   "metadata": {
    "collapsed": true
   },
   "outputs": [],
   "source": [
    "reset_graph()\n",
    "\n",
    "n_inputs = 28 * 28\n",
    "n_hidden1 = 300\n",
    "n_hidden2 = 150  # kodowania\n",
    "n_hidden3 = n_hidden1\n",
    "n_outputs = n_inputs\n",
    "\n",
    "learning_rate = 0.01"
   ]
  },
  {
   "cell_type": "code",
   "execution_count": 34,
   "metadata": {
    "collapsed": true
   },
   "outputs": [],
   "source": [
    "noise_level = 1.0\n",
    "\n",
    "X = tf.placeholder(tf.float32, shape=[None, n_inputs])\n",
    "X_noisy = X + noise_level * tf.random_normal(tf.shape(X))\n",
    "\n",
    "hidden1 = tf.layers.dense(X_noisy, n_hidden1, activation=tf.nn.relu,\n",
    "                          name=\"ukryta1\")\n",
    "hidden2 = tf.layers.dense(hidden1, n_hidden2, activation=tf.nn.relu, # nieukazane w książce\n",
    "                          name=\"ukryta2\")                            # nieukazane\n",
    "hidden3 = tf.layers.dense(hidden2, n_hidden3, activation=tf.nn.relu, # nieukazane\n",
    "                          name=\"ukryta3\")                            # nieukazane\n",
    "outputs = tf.layers.dense(hidden3, n_outputs, name=\"wyjscia\")        # nieukazane\n",
    "\n",
    "reconstruction_loss = tf.reduce_mean(tf.square(outputs - X)) # błąd MSE"
   ]
  },
  {
   "cell_type": "code",
   "execution_count": 35,
   "metadata": {
    "collapsed": true
   },
   "outputs": [],
   "source": [
    "optimizer = tf.train.AdamOptimizer(learning_rate)\n",
    "training_op = optimizer.minimize(reconstruction_loss)\n",
    "    \n",
    "init = tf.global_variables_initializer()\n",
    "saver = tf.train.Saver()"
   ]
  },
  {
   "cell_type": "code",
   "execution_count": 36,
   "metadata": {
    "collapsed": false
   },
   "outputs": [
    {
     "name": "stdout",
     "output_type": "stream",
     "text": [
      "09% Błąd MSE podczas uczenia: 0.0438934\n",
      "19% Błąd MSE podczas uczenia: 0.0429818\n",
      "2 Błąd MSE podczas uczenia: 0.0420282\n",
      "39% Błąd MSE podczas uczenia: 0.0407662\n",
      "49% Błąd MSE podczas uczenia: 0.0400326\n",
      "59% Błąd MSE podczas uczenia: 0.0390536\n",
      "6 Błąd MSE podczas uczenia: 0.0401434\n",
      "7 Błąd MSE podczas uczenia: 0.0422726\n",
      "8 %Błąd MSE podczas uczenia: 0.0400669\n",
      "99% Błąd MSE podczas uczenia: 0.041025\n"
     ]
    }
   ],
   "source": [
    "n_epochs = 10\n",
    "batch_size = 150\n",
    "\n",
    "with tf.Session() as sess:\n",
    "    init.run()\n",
    "    for epoch in range(n_epochs):\n",
    "        n_batches = mnist.train.num_examples // batch_size\n",
    "        for iteration in range(n_batches):\n",
    "            print(\"\\r{}%\".format(100 * iteration // n_batches), end=\"\")\n",
    "            sys.stdout.flush()\n",
    "            X_batch, y_batch = mnist.train.next_batch(batch_size)\n",
    "            sess.run(training_op, feed_dict={X: X_batch})\n",
    "        loss_train = reconstruction_loss.eval(feed_dict={X: X_batch})\n",
    "        print(\"\\r{}\".format(epoch), \"Błąd MSE podczas uczenia:\", loss_train)\n",
    "        saver.save(sess, \"./moj_odszumiajacy_model_stosowy_szum_gaussowski.ckpt\")"
   ]
  },
  {
   "cell_type": "markdown",
   "metadata": {},
   "source": [
    "Wprowadzamy porzucanie:"
   ]
  },
  {
   "cell_type": "code",
   "execution_count": 37,
   "metadata": {
    "collapsed": true
   },
   "outputs": [],
   "source": [
    "reset_graph()\n",
    "\n",
    "n_inputs = 28 * 28\n",
    "n_hidden1 = 300\n",
    "n_hidden2 = 150  # kodowania\n",
    "n_hidden3 = n_hidden1\n",
    "n_outputs = n_inputs\n",
    "\n",
    "learning_rate = 0.01"
   ]
  },
  {
   "cell_type": "code",
   "execution_count": 38,
   "metadata": {
    "collapsed": true
   },
   "outputs": [],
   "source": [
    "dropout_rate = 0.3\n",
    "\n",
    "training = tf.placeholder_with_default(False, shape=(), name='uczenie')\n",
    "\n",
    "X = tf.placeholder(tf.float32, shape=[None, n_inputs])\n",
    "X_drop = tf.layers.dropout(X, dropout_rate, training=training)\n",
    "\n",
    "hidden1 = tf.layers.dense(X_drop, n_hidden1, activation=tf.nn.relu,\n",
    "                          name=\"ukryta1\")\n",
    "hidden2 = tf.layers.dense(hidden1, n_hidden2, activation=tf.nn.relu, # nieukazane w książce\n",
    "                          name=\"ukryta2\")                            # nieukazane\n",
    "hidden3 = tf.layers.dense(hidden2, n_hidden3, activation=tf.nn.relu, # nieukazane\n",
    "                          name=\"ukryta3\")                            # nieukazane\n",
    "outputs = tf.layers.dense(hidden3, n_outputs, name=\"wyjscia\")        # nieukazane\n",
    "\n",
    "reconstruction_loss = tf.reduce_mean(tf.square(outputs - X)) # błąd MSE"
   ]
  },
  {
   "cell_type": "code",
   "execution_count": 39,
   "metadata": {
    "collapsed": true
   },
   "outputs": [],
   "source": [
    "optimizer = tf.train.AdamOptimizer(learning_rate)\n",
    "training_op = optimizer.minimize(reconstruction_loss)\n",
    "    \n",
    "init = tf.global_variables_initializer()\n",
    "saver = tf.train.Saver()"
   ]
  },
  {
   "cell_type": "code",
   "execution_count": 40,
   "metadata": {
    "collapsed": false
   },
   "outputs": [
    {
     "name": "stdout",
     "output_type": "stream",
     "text": [
      "0 Błąd MSE podczas uczenia: 0.0296476\n",
      "1 Błąd MSE podczas uczenia: 0.0275545\n",
      "2 Błąd MSE podczas uczenia: 0.0250731\n",
      "3 Błąd MSE podczas uczenia: 0.0254317\n",
      "4 Błąd MSE podczas uczenia: 0.0249076\n",
      "5 Błąd MSE podczas uczenia: 0.0250501\n",
      "6 Błąd MSE podczas uczenia: 0.024483\n",
      "7 Błąd MSE podczas uczenia: 0.0251505\n",
      "8 Błąd MSE podczas uczenia: 0.0243836\n",
      "9 Błąd MSE podczas uczenia: 0.0242349\n"
     ]
    }
   ],
   "source": [
    "n_epochs = 10\n",
    "batch_size = 150\n",
    "\n",
    "with tf.Session() as sess:\n",
    "    init.run()\n",
    "    for epoch in range(n_epochs):\n",
    "        n_batches = mnist.train.num_examples // batch_size\n",
    "        for iteration in range(n_batches):\n",
    "            print(\"\\r{}%\".format(100 * iteration // n_batches), end=\"\")\n",
    "            sys.stdout.flush()\n",
    "            X_batch, y_batch = mnist.train.next_batch(batch_size)\n",
    "            sess.run(training_op, feed_dict={X: X_batch, training: True})\n",
    "        loss_train = reconstruction_loss.eval(feed_dict={X: X_batch})\n",
    "        print(\"\\r{}\".format(epoch), \"Błąd MSE podczas uczenia:\", loss_train)\n",
    "        saver.save(sess, \"./moj_odszumiający_model_stosowy_porzucanie.ckpt\")"
   ]
  },
  {
   "cell_type": "code",
   "execution_count": 41,
   "metadata": {
    "collapsed": false
   },
   "outputs": [
    {
     "name": "stdout",
     "output_type": "stream",
     "text": [
      "INFO:tensorflow:Restoring parameters from ./moj_odszumiający_model_stosowy_porzucanie.ckpt\n"
     ]
    },
    {
     "data": {
      "image/png": "[encoded data removed]",
      "text/plain": [
       "<matplotlib.figure.Figure at 0x25a29bd5cc0>"
      ]
     },
     "metadata": {},
     "output_type": "display_data"
    }
   ],
   "source": [
    "show_reconstructed_digits(X, outputs, \"./moj_odszumiający_model_stosowy_porzucanie.ckpt\")"
   ]
  },
  {
   "cell_type": "markdown",
   "metadata": {},
   "source": [
    "# Autokoder rozrzedzający"
   ]
  },
  {
   "cell_type": "code",
   "execution_count": 42,
   "metadata": {
    "collapsed": false
   },
   "outputs": [
    {
     "name": "stdout",
     "output_type": "stream",
     "text": [
      "Zapisywanie rysunku wykres_rzadkość_koszt\n"
     ]
    },
    {
     "data": {
      "image/png": "[encoded data removed]",
      "text/plain": [
       "<matplotlib.figure.Figure at 0x25a2c6ba3c8>"
      ]
     },
     "metadata": {},
     "output_type": "display_data"
    }
   ],
   "source": [
    "p = 0.1\n",
    "q = np.linspace(0.001, 0.999, 500)\n",
    "kl_div = p * np.log(p / q) + (1 - p) * np.log((1 - p) / (1 - q))\n",
    "mse = (p - q)**2\n",
    "plt.plot([p, p], [0, 0.3], \"k:\")\n",
    "plt.text(0.05, 0.32, \"Rzadkość\\ndocelowa\", fontsize=14)\n",
    "plt.plot(q, kl_div, \"b-\", label=\"Dywergencja KL\")\n",
    "plt.plot(q, mse, \"r--\", label=\"MSE\")\n",
    "plt.legend(loc=\"upper left\")\n",
    "plt.xlabel(\"Rzadkość rzeczywista\")\n",
    "plt.ylabel(\"Koszt\", rotation=0)\n",
    "plt.axis([0, 1, 0, 0.95])\n",
    "save_fig(\"wykres_rzadkość_koszt\")"
   ]
  },
  {
   "cell_type": "code",
   "execution_count": 43,
   "metadata": {
    "collapsed": true
   },
   "outputs": [],
   "source": [
    "reset_graph()\n",
    "\n",
    "n_inputs = 28 * 28\n",
    "n_hidden1 = 1000  # rzadkie kodowania\n",
    "n_outputs = n_inputs"
   ]
  },
  {
   "cell_type": "code",
   "execution_count": 44,
   "metadata": {
    "collapsed": true
   },
   "outputs": [],
   "source": [
    "def kl_divergence(p, q):\n",
    "    # Dywergencja Kullbacka-Leiblera\n",
    "    return p * tf.log(p / q) + (1 - p) * tf.log((1 - p) / (1 - q))\n",
    "\n",
    "learning_rate = 0.01\n",
    "sparsity_target = 0.1\n",
    "sparsity_weight = 0.2\n",
    "\n",
    "X = tf.placeholder(tf.float32, shape=[None, n_inputs])            # nieukazane w książce\n",
    "\n",
    "hidden1 = tf.layers.dense(X, n_hidden1, activation=tf.nn.sigmoid) # nieukazane\n",
    "outputs = tf.layers.dense(hidden1, n_outputs)                     # nieukazane\n",
    "\n",
    "hidden1_mean = tf.reduce_mean(hidden1, axis=0) # średnia grupy\n",
    "sparsity_loss = tf.reduce_sum(kl_divergence(sparsity_target, hidden1_mean))\n",
    "reconstruction_loss = tf.reduce_mean(tf.square(outputs - X)) # błąd MSE\n",
    "loss = reconstruction_loss + sparsity_weight * sparsity_loss\n",
    "\n",
    "optimizer = tf.train.AdamOptimizer(learning_rate)\n",
    "training_op = optimizer.minimize(loss)"
   ]
  },
  {
   "cell_type": "code",
   "execution_count": 45,
   "metadata": {
    "collapsed": true
   },
   "outputs": [],
   "source": [
    "init = tf.global_variables_initializer()\n",
    "saver = tf.train.Saver()"
   ]
  },
  {
   "cell_type": "code",
   "execution_count": 48,
   "metadata": {
    "collapsed": false
   },
   "outputs": [
    {
     "name": "stdout",
     "output_type": "stream",
     "text": [
      "0 Błąd MSE podczas uczenia: 0.123632 \tF. straty rzadkości: 0.420973 \tCałkowita funkcja straty: 0.207826\n",
      "1 Błąd MSE podczas uczenia: 0.0601524 \tF. straty rzadkości: 0.286534 \tCałkowita funkcja straty: 0.117459\n",
      "2 Błąd MSE podczas uczenia: 0.0514993 \tF. straty rzadkości: 0.116399 \tCałkowita funkcja straty: 0.074779\n",
      "3 Błąd MSE podczas uczenia: 0.0479883 \tF. straty rzadkości: 0.0265944 \tCałkowita funkcja straty: 0.0533072\n",
      "4 Błąd MSE podczas uczenia: 0.044873 \tF. straty rzadkości: 0.0652213 \tCałkowita funkcja straty: 0.0579173\n",
      "5 Błąd MSE podczas uczenia: 0.0419816 \tF. straty rzadkości: 0.245253 \tCałkowita funkcja straty: 0.0910321\n",
      "6 Błąd MSE podczas uczenia: 0.0381512 \tF. straty rzadkości: 0.0776636 \tCałkowita funkcja straty: 0.0536839\n",
      "7 Błąd MSE podczas uczenia: 0.0359831 \tF. straty rzadkości: 0.0271819 \tCałkowita funkcja straty: 0.0414194\n",
      "8 Błąd MSE podczas uczenia: 0.033074 \tF. straty rzadkości: 0.0349997 \tCałkowita funkcja straty: 0.040074\n",
      "9 Błąd MSE podczas uczenia: 0.0303832 \tF. straty rzadkości: 0.060318 \tCałkowita funkcja straty: 0.0424468\n",
      "10 Błąd MSE podczas uczenia: 0.0274857 \tF. straty rzadkości: 0.083856 \tCałkowita funkcja straty: 0.0442569\n",
      "11 Błąd MSE podczas uczenia: 0.0241752 \tF. straty rzadkości: 0.114543 \tCałkowita funkcja straty: 0.0470837\n",
      "12 Błąd MSE podczas uczenia: 0.0239963 \tF. straty rzadkości: 0.0627457 \tCałkowita funkcja straty: 0.0365454\n",
      "13 Błąd MSE podczas uczenia: 0.0213496 \tF. straty rzadkości: 0.122718 \tCałkowita funkcja straty: 0.0458932\n",
      "14 Błąd MSE podczas uczenia: 0.0204709 \tF. straty rzadkości: 0.497539 \tCałkowita funkcja straty: 0.119979\n",
      "15 Błąd MSE podczas uczenia: 0.0200671 \tF. straty rzadkości: 0.0608372 \tCałkowita funkcja straty: 0.0322345\n",
      "16 Błąd MSE podczas uczenia: 0.0194386 \tF. straty rzadkości: 0.0705285 \tCałkowita funkcja straty: 0.0335443\n",
      "17 Błąd MSE podczas uczenia: 0.0185644 \tF. straty rzadkości: 0.0433386 \tCałkowita funkcja straty: 0.0272321\n",
      "18 Błąd MSE podczas uczenia: 0.0174635 \tF. straty rzadkości: 0.057312 \tCałkowita funkcja straty: 0.0289259\n",
      "19 Błąd MSE podczas uczenia: 0.0179289 \tF. straty rzadkości: 0.0519056 \tCałkowita funkcja straty: 0.02831\n",
      "20 Błąd MSE podczas uczenia: 0.0167517 \tF. straty rzadkości: 0.340719 \tCałkowita funkcja straty: 0.0848956\n",
      "21 Błąd MSE podczas uczenia: 0.0161274 \tF. straty rzadkości: 0.0765462 \tCałkowita funkcja straty: 0.0314367\n",
      "22 Błąd MSE podczas uczenia: 0.0157209 \tF. straty rzadkości: 0.044398 \tCałkowita funkcja straty: 0.0246005\n",
      "23 Błąd MSE podczas uczenia: 0.0150589 \tF. straty rzadkości: 0.0307761 \tCałkowita funkcja straty: 0.0212141\n",
      "24 Błąd MSE podczas uczenia: 0.0147812 \tF. straty rzadkości: 0.13163 \tCałkowita funkcja straty: 0.0411072\n",
      "25 Błąd MSE podczas uczenia: 0.0147734 \tF. straty rzadkości: 0.0448122 \tCałkowita funkcja straty: 0.0237358\n",
      "26 Błąd MSE podczas uczenia: 0.0145146 \tF. straty rzadkości: 0.0641294 \tCałkowita funkcja straty: 0.0273405\n",
      "27 Błąd MSE podczas uczenia: 0.0157631 \tF. straty rzadkości: 0.151749 \tCałkowita funkcja straty: 0.0461129\n",
      "28 Błąd MSE podczas uczenia: 0.0152346 \tF. straty rzadkości: 0.117644 \tCałkowita funkcja straty: 0.0387634\n",
      "29 Błąd MSE podczas uczenia: 0.0144256 \tF. straty rzadkości: 0.185334 \tCałkowita funkcja straty: 0.0514924\n",
      "30 Błąd MSE podczas uczenia: 0.0135234 \tF. straty rzadkości: 0.118692 \tCałkowita funkcja straty: 0.0372617\n",
      "31 Błąd MSE podczas uczenia: 0.0142372 \tF. straty rzadkości: 0.0693654 \tCałkowita funkcja straty: 0.0281103\n",
      "32 Błąd MSE podczas uczenia: 0.0143449 \tF. straty rzadkości: 0.0472341 \tCałkowita funkcja straty: 0.0237917\n",
      "33 Błąd MSE podczas uczenia: 0.0126962 \tF. straty rzadkości: 0.0802042 \tCałkowita funkcja straty: 0.028737\n",
      "34 Błąd MSE podczas uczenia: 0.0124567 \tF. straty rzadkości: 0.0756641 \tCałkowita funkcja straty: 0.0275895\n",
      "35 Błąd MSE podczas uczenia: 0.0140437 \tF. straty rzadkości: 0.0670619 \tCałkowita funkcja straty: 0.0274561\n",
      "36 Błąd MSE podczas uczenia: 0.0175648 \tF. straty rzadkości: 0.948171 \tCałkowita funkcja straty: 0.207199\n",
      "37 Błąd MSE podczas uczenia: 0.0127507 \tF. straty rzadkości: 0.237867 \tCałkowita funkcja straty: 0.0603241\n",
      "38 Błąd MSE podczas uczenia: 0.0134614 \tF. straty rzadkości: 0.26156 \tCałkowita funkcja straty: 0.0657734\n",
      "39 Błąd MSE podczas uczenia: 0.0129205 \tF. straty rzadkości: 0.0674263 \tCałkowita funkcja straty: 0.0264058\n",
      "40 Błąd MSE podczas uczenia: 0.0145207 \tF. straty rzadkości: 0.171677 \tCałkowita funkcja straty: 0.048856\n",
      "41 Błąd MSE podczas uczenia: 0.0118003 \tF. straty rzadkości: 0.157838 \tCałkowita funkcja straty: 0.0433679\n",
      "42 Błąd MSE podczas uczenia: 0.0121882 \tF. straty rzadkości: 0.128745 \tCałkowita funkcja straty: 0.0379373\n",
      "43 Błąd MSE podczas uczenia: 0.0120711 \tF. straty rzadkości: 0.148485 \tCałkowita funkcja straty: 0.0417681\n",
      "44 Błąd MSE podczas uczenia: 0.0129294 \tF. straty rzadkości: 0.435572 \tCałkowita funkcja straty: 0.100044\n",
      "45 Błąd MSE podczas uczenia: 0.0123022 \tF. straty rzadkości: 0.162735 \tCałkowita funkcja straty: 0.0448491\n",
      "46 Błąd MSE podczas uczenia: 0.0127716 \tF. straty rzadkości: 0.0571393 \tCałkowita funkcja straty: 0.0241995\n",
      "47 Błąd MSE podczas uczenia: 0.0123107 \tF. straty rzadkości: 0.103109 \tCałkowita funkcja straty: 0.0329325\n",
      "48 Błąd MSE podczas uczenia: 0.0120504 \tF. straty rzadkości: 0.129095 \tCałkowita funkcja straty: 0.0378695\n",
      "49 Błąd MSE podczas uczenia: 0.0120111 \tF. straty rzadkości: 0.27498 \tCałkowita funkcja straty: 0.067007\n",
      "50 Błąd MSE podczas uczenia: 0.0116686 \tF. straty rzadkości: 0.0747465 \tCałkowita funkcja straty: 0.0266179\n",
      "51 Błąd MSE podczas uczenia: 0.0135818 \tF. straty rzadkości: 0.418557 \tCałkowita funkcja straty: 0.0972932\n",
      "52 Błąd MSE podczas uczenia: 0.0121955 \tF. straty rzadkości: 0.110143 \tCałkowita funkcja straty: 0.034224\n",
      "53 Błąd MSE podczas uczenia: 0.0117315 \tF. straty rzadkości: 0.0743942 \tCałkowita funkcja straty: 0.0266104\n",
      "54 Błąd MSE podczas uczenia: 0.0121914 \tF. straty rzadkości: 0.211192 \tCałkowita funkcja straty: 0.0544298\n",
      "55 Błąd MSE podczas uczenia: 0.0116309 \tF. straty rzadkości: 0.318977 \tCałkowita funkcja straty: 0.0754262\n",
      "56 Błąd MSE podczas uczenia: 0.0114535 \tF. straty rzadkości: 0.129361 \tCałkowita funkcja straty: 0.0373257\n",
      "57 Błąd MSE podczas uczenia: 0.0113538 \tF. straty rzadkości: 0.137077 \tCałkowita funkcja straty: 0.0387692\n",
      "58 Błąd MSE podczas uczenia: 0.0117854 \tF. straty rzadkości: 0.127001 \tCałkowita funkcja straty: 0.0371855\n",
      "59 Błąd MSE podczas uczenia: 0.0118019 \tF. straty rzadkości: 0.134711 \tCałkowita funkcja straty: 0.038744\n",
      "60 Błąd MSE podczas uczenia: 0.0121694 \tF. straty rzadkości: 0.123477 \tCałkowita funkcja straty: 0.0368648\n",
      "61 Błąd MSE podczas uczenia: 0.0115824 \tF. straty rzadkości: 0.331555 \tCałkowita funkcja straty: 0.0778935\n",
      "62 Błąd MSE podczas uczenia: 0.0303143 \tF. straty rzadkości: 0.910419 \tCałkowita funkcja straty: 0.212398\n",
      "63 Błąd MSE podczas uczenia: 0.0166857 \tF. straty rzadkości: 0.170999 \tCałkowita funkcja straty: 0.0508854\n",
      "64 Błąd MSE podczas uczenia: 0.0176806 \tF. straty rzadkości: 0.389518 \tCałkowita funkcja straty: 0.0955843\n",
      "65 Błąd MSE podczas uczenia: 0.0199219 \tF. straty rzadkości: 0.416064 \tCałkowita funkcja straty: 0.103135\n",
      "66 Błąd MSE podczas uczenia: 0.0165547 \tF. straty rzadkości: 0.260649 \tCałkowita funkcja straty: 0.0686844\n",
      "67 Błąd MSE podczas uczenia: 0.0220076 \tF. straty rzadkości: 0.175556 \tCałkowita funkcja straty: 0.0571188\n",
      "68 Błąd MSE podczas uczenia: 0.0119015 \tF. straty rzadkości: 0.573766 \tCałkowita funkcja straty: 0.126655\n",
      "69 Błąd MSE podczas uczenia: 0.0124514 \tF. straty rzadkości: 0.174307 \tCałkowita funkcja straty: 0.0473128\n",
      "70 Błąd MSE podczas uczenia: 0.0187622 \tF. straty rzadkości: 0.398055 \tCałkowita funkcja straty: 0.0983731\n",
      "71 Błąd MSE podczas uczenia: 0.0192983 \tF. straty rzadkości: 0.178138 \tCałkowita funkcja straty: 0.0549259\n",
      "72 Błąd MSE podczas uczenia: 0.0176523 \tF. straty rzadkości: 0.308235 \tCałkowita funkcja straty: 0.0792993\n",
      "73 Błąd MSE podczas uczenia: 0.0182962 \tF. straty rzadkości: 0.276797 \tCałkowita funkcja straty: 0.0736556\n",
      "74 Błąd MSE podczas uczenia: 0.0160279 \tF. straty rzadkości: 0.767506 \tCałkowita funkcja straty: 0.169529\n",
      "75 Błąd MSE podczas uczenia: 0.0160946 \tF. straty rzadkości: 0.167755 \tCałkowita funkcja straty: 0.0496455\n",
      "76 Błąd MSE podczas uczenia: 0.0128619 \tF. straty rzadkości: 0.242484 \tCałkowita funkcja straty: 0.0613587\n",
      "77 Błąd MSE podczas uczenia: 0.0129274 \tF. straty rzadkości: 0.159311 \tCałkowita funkcja straty: 0.0447896\n",
      "78 Błąd MSE podczas uczenia: 0.0266543 \tF. straty rzadkości: 0.390735 \tCałkowita funkcja straty: 0.104801\n",
      "79 Błąd MSE podczas uczenia: 0.0145752 \tF. straty rzadkości: 0.589644 \tCałkowita funkcja straty: 0.132504\n",
      "80 Błąd MSE podczas uczenia: 0.0170421 \tF. straty rzadkości: 0.443236 \tCałkowita funkcja straty: 0.105689\n",
      "81 Błąd MSE podczas uczenia: 0.0354201 \tF. straty rzadkości: 0.240147 \tCałkowita funkcja straty: 0.0834495\n",
      "82 Błąd MSE podczas uczenia: 0.0285344 \tF. straty rzadkości: 0.356362 \tCałkowita funkcja straty: 0.0998069\n",
      "83 Błąd MSE podczas uczenia: 0.0305083 \tF. straty rzadkości: 0.339647 \tCałkowita funkcja straty: 0.0984378\n",
      "84 Błąd MSE podczas uczenia: 0.0173205 \tF. straty rzadkości: 0.0828123 \tCałkowita funkcja straty: 0.0338829\n",
      "85 Błąd MSE podczas uczenia: 0.0152747 \tF. straty rzadkości: 1.36504 \tCałkowita funkcja straty: 0.288283\n",
      "86 Błąd MSE podczas uczenia: 0.0135319 \tF. straty rzadkości: 0.874983 \tCałkowita funkcja straty: 0.188529\n",
      "87 Błąd MSE podczas uczenia: 0.0198115 \tF. straty rzadkości: 0.235756 \tCałkowita funkcja straty: 0.0669628\n",
      "88 Błąd MSE podczas uczenia: 0.0368254 \tF. straty rzadkości: 0.36143 \tCałkowita funkcja straty: 0.109111\n",
      "89 Błąd MSE podczas uczenia: 0.0236876 \tF. straty rzadkości: 0.814633 \tCałkowita funkcja straty: 0.186614\n",
      "90 Błąd MSE podczas uczenia: 0.0144452 \tF. straty rzadkości: 0.369767 \tCałkowita funkcja straty: 0.0883985\n",
      "91 Błąd MSE podczas uczenia: 0.0157479 \tF. straty rzadkości: 0.283309 \tCałkowita funkcja straty: 0.0724098\n",
      "92 Błąd MSE podczas uczenia: 0.0148457 \tF. straty rzadkości: 0.425321 \tCałkowita funkcja straty: 0.0999099\n",
      "93 Błąd MSE podczas uczenia: 0.0223892 \tF. straty rzadkości: 0.232822 \tCałkowita funkcja straty: 0.0689535\n",
      "94 Błąd MSE podczas uczenia: 0.021053 \tF. straty rzadkości: 1.10101 \tCałkowita funkcja straty: 0.241255\n",
      "95 Błąd MSE podczas uczenia: 0.0167312 \tF. straty rzadkości: 0.098853 \tCałkowita funkcja straty: 0.0365018\n",
      "96 Błąd MSE podczas uczenia: 0.0163818 \tF. straty rzadkości: 0.150639 \tCałkowita funkcja straty: 0.0465096\n",
      "97 Błąd MSE podczas uczenia: 0.0213959 \tF. straty rzadkości: 0.284442 \tCałkowita funkcja straty: 0.0782842\n",
      "98 Błąd MSE podczas uczenia: 0.0147772 \tF. straty rzadkości: 0.114539 \tCałkowita funkcja straty: 0.037685\n",
      "99 Błąd MSE podczas uczenia: 0.01466 \tF. straty rzadkości: 0.611417 \tCałkowita funkcja straty: 0.136943\n"
     ]
    }
   ],
   "source": [
    "n_epochs = 100\n",
    "batch_size = 1000\n",
    "\n",
    "with tf.Session() as sess:\n",
    "    init.run()\n",
    "    for epoch in range(n_epochs):\n",
    "        n_batches = mnist.train.num_examples // batch_size\n",
    "        for iteration in range(n_batches):\n",
    "            print(\"\\r{}%\".format(100 * iteration // n_batches), end=\"\")\n",
    "            sys.stdout.flush()\n",
    "            X_batch, y_batch = mnist.train.next_batch(batch_size)\n",
    "            sess.run(training_op, feed_dict={X: X_batch})\n",
    "        reconstruction_loss_val, sparsity_loss_val, loss_val = sess.run([reconstruction_loss, sparsity_loss, loss], feed_dict={X: X_batch})\n",
    "        print(\"\\r{}\".format(epoch), \"Błąd MSE podczas uczenia:\", reconstruction_loss_val, \"\\tF. straty rzadkości:\", sparsity_loss_val, \"\\tCałkowita funkcja straty:\", loss_val)\n",
    "        saver.save(sess, \"./moj_model_rozrzedzajacy.ckpt\")"
   ]
  },
  {
   "cell_type": "code",
   "execution_count": 49,
   "metadata": {
    "collapsed": false
   },
   "outputs": [
    {
     "name": "stdout",
     "output_type": "stream",
     "text": [
      "INFO:tensorflow:Restoring parameters from ./moj_model_rozrzedzajacy.ckpt\n"
     ]
    },
    {
     "data": {
      "image/png": "[encoded data removed]",
      "text/plain": [
       "<matplotlib.figure.Figure at 0x25a29cc2a58>"
      ]
     },
     "metadata": {},
     "output_type": "display_data"
    }
   ],
   "source": [
    "show_reconstructed_digits(X, outputs, \"./moj_model_rozrzedzajacy.ckpt\")"
   ]
  },
  {
   "cell_type": "markdown",
   "metadata": {},
   "source": [
    "Zwróc uwagę, że warstwa kodowania musi dawać na wyjściu wartości w zakresie od 0 do 1, dlatego właśnie stosujemy sigmoidalną funkcję aktywacji:"
   ]
  },
  {
   "cell_type": "code",
   "execution_count": 50,
   "metadata": {
    "collapsed": true
   },
   "outputs": [],
   "source": [
    "hidden1 = tf.layers.dense(X, n_hidden1, activation=tf.nn.sigmoid)"
   ]
  },
  {
   "cell_type": "markdown",
   "metadata": {},
   "source": [
    "Aby przyśpieszyć proces uczenia, możemy znormalizować dane wejściowe do zakresu wartości od 0 do 1 i zastąpić błąd MSE entropią krzyżową jako funkcją kosztu:"
   ]
  },
  {
   "cell_type": "code",
   "execution_count": 51,
   "metadata": {
    "collapsed": true
   },
   "outputs": [],
   "source": [
    "logits = tf.layers.dense(hidden1, n_outputs)\n",
    "outputs = tf.nn.sigmoid(logits)\n",
    "\n",
    "xentropy = tf.nn.sigmoid_cross_entropy_with_logits(labels=X, logits=logits)\n",
    "reconstruction_loss = tf.reduce_mean(xentropy)"
   ]
  },
  {
   "cell_type": "markdown",
   "metadata": {},
   "source": [
    "# Autokoder wariacyjny"
   ]
  },
  {
   "cell_type": "code",
   "execution_count": 52,
   "metadata": {
    "collapsed": true
   },
   "outputs": [],
   "source": [
    "reset_graph()\n",
    "\n",
    "from functools import partial\n",
    "\n",
    "n_inputs = 28 * 28\n",
    "n_hidden1 = 500\n",
    "n_hidden2 = 500\n",
    "n_hidden3 = 20  # kodowania\n",
    "n_hidden4 = n_hidden2\n",
    "n_hidden5 = n_hidden1\n",
    "n_outputs = n_inputs\n",
    "learning_rate = 0.001\n",
    "\n",
    "initializer = tf.contrib.layers.variance_scaling_initializer()\n",
    "\n",
    "my_dense_layer = partial(\n",
    "    tf.layers.dense,\n",
    "    activation=tf.nn.elu,\n",
    "    kernel_initializer=initializer)\n",
    "\n",
    "X = tf.placeholder(tf.float32, [None, n_inputs])\n",
    "hidden1 = my_dense_layer(X, n_hidden1)\n",
    "hidden2 = my_dense_layer(hidden1, n_hidden2)\n",
    "hidden3_mean = my_dense_layer(hidden2, n_hidden3, activation=None)\n",
    "hidden3_sigma = my_dense_layer(hidden2, n_hidden3, activation=None)\n",
    "noise = tf.random_normal(tf.shape(hidden3_sigma), dtype=tf.float32)\n",
    "hidden3 = hidden3_mean + hidden3_sigma * noise\n",
    "hidden4 = my_dense_layer(hidden3, n_hidden4)\n",
    "hidden5 = my_dense_layer(hidden4, n_hidden5)\n",
    "logits = my_dense_layer(hidden5, n_outputs, activation=None)\n",
    "outputs = tf.sigmoid(logits)\n",
    "\n",
    "xentropy = tf.nn.sigmoid_cross_entropy_with_logits(labels=X, logits=logits)\n",
    "reconstruction_loss = tf.reduce_sum(xentropy)"
   ]
  },
  {
   "cell_type": "code",
   "execution_count": 53,
   "metadata": {
    "collapsed": true
   },
   "outputs": [],
   "source": [
    "eps = 1e-10 # człon wyrównujący pozwalający uniknąć wyliczania log(0), czyli wartości NaN\n",
    "latent_loss = 0.5 * tf.reduce_sum(\n",
    "    tf.square(hidden3_sigma) + tf.square(hidden3_mean)\n",
    "    - 1 - tf.log(eps + tf.square(hidden3_sigma)))"
   ]
  },
  {
   "cell_type": "code",
   "execution_count": 54,
   "metadata": {
    "collapsed": true
   },
   "outputs": [],
   "source": [
    "loss = reconstruction_loss + latent_loss\n",
    "\n",
    "optimizer = tf.train.AdamOptimizer(learning_rate=learning_rate)\n",
    "training_op = optimizer.minimize(loss)\n",
    "\n",
    "init = tf.global_variables_initializer()\n",
    "saver = tf.train.Saver()"
   ]
  },
  {
   "cell_type": "code",
   "execution_count": 55,
   "metadata": {
    "collapsed": false
   },
   "outputs": [
    {
     "name": "stdout",
     "output_type": "stream",
     "text": [
      "0 Całkowita strata podczas uczenia: 30921.2 \tStrata rekonstrukcji: 24138.1 \tStrata ukryta: 6783.14\n",
      "1 Całkowita strata podczas uczenia: 26830.0 \tStrata rekonstrukcji: 23252.3 \tStrata ukryta: 3577.71\n",
      "29% Całkowita strata podczas uczenia: 31506.2 \tStrata rekonstrukcji: 26147.8 \tStrata ukryta: 5358.43\n",
      "39% Całkowita strata podczas uczenia: 34099.1 \tStrata rekonstrukcji: 26747.2 \tStrata ukryta: 7351.91\n",
      "4 Całkowita strata podczas uczenia: 21395.1 \tStrata rekonstrukcji: 18219.9 \tStrata ukryta: 3175.27\n",
      "5 Całkowita strata podczas uczenia: 20163.7 \tStrata rekonstrukcji: 17029.6 \tStrata ukryta: 3134.1\n",
      "6 Całkowita strata podczas uczenia: 19946.8 \tStrata rekonstrukcji: 17121.0 \tStrata ukryta: 2825.76\n",
      "7 Całkowita strata podczas uczenia: 17970.6 \tStrata rekonstrukcji: 14859.6 \tStrata ukryta: 3110.98\n",
      "8 Całkowita strata podczas uczenia: 16951.6 \tStrata rekonstrukcji: 13843.5 \tStrata ukryta: 3108.14\n",
      "9 Całkowita strata podczas uczenia: 16869.0 \tStrata rekonstrukcji: 13557.6 \tStrata ukryta: 3311.44\n",
      "10 Całkowita strata podczas uczenia: 16998.9 \tStrata rekonstrukcji: 13702.0 \tStrata ukryta: 3296.94\n",
      "11 Całkowita strata podczas uczenia: 16096.4 \tStrata rekonstrukcji: 12862.5 \tStrata ukryta: 3233.91\n",
      "12 Całkowita strata podczas uczenia: 15675.5 \tStrata rekonstrukcji: 12541.6 \tStrata ukryta: 3133.83\n",
      "13 Całkowita strata podczas uczenia: 15643.5 \tStrata rekonstrukcji: 12498.0 \tStrata ukryta: 3145.56\n",
      "14 Całkowita strata podczas uczenia: 15520.3 \tStrata rekonstrukcji: 12241.6 \tStrata ukryta: 3278.73\n",
      "15 Całkowita strata podczas uczenia: 23602.7 \tStrata rekonstrukcji: 19104.8 \tStrata ukryta: 4497.9\n",
      "16 Całkowita strata podczas uczenia: 25374.7 \tStrata rekonstrukcji: 20805.3 \tStrata ukryta: 4569.41\n",
      "17 Całkowita strata podczas uczenia: 28804.2 \tStrata rekonstrukcji: 22039.3 \tStrata ukryta: 6764.88\n",
      "18% Całkowita strata podczas uczenia: 25665.1 \tStrata rekonstrukcji: 20601.4 \tStrata ukryta: 5063.64\n",
      "19 Całkowita strata podczas uczenia: 21864.8 \tStrata rekonstrukcji: 18171.6 \tStrata ukryta: 3693.18\n",
      "20 Całkowita strata podczas uczenia: 17491.1 \tStrata rekonstrukcji: 14203.9 \tStrata ukryta: 3287.19\n",
      "21 Całkowita strata podczas uczenia: 17155.9 \tStrata rekonstrukcji: 13705.2 \tStrata ukryta: 3450.7\n",
      "22 Całkowita strata podczas uczenia: 16534.1 \tStrata rekonstrukcji: 13069.5 \tStrata ukryta: 3464.57\n",
      "23 Całkowita strata podczas uczenia: 16358.2 \tStrata rekonstrukcji: 12783.6 \tStrata ukryta: 3574.51\n",
      "24 Całkowita strata podczas uczenia: 15978.7 \tStrata rekonstrukcji: 12589.6 \tStrata ukryta: 3389.07\n",
      "25 Całkowita strata podczas uczenia: 15719.4 \tStrata rekonstrukcji: 12307.4 \tStrata ukryta: 3412.0\n",
      "26 Całkowita strata podczas uczenia: 15547.9 \tStrata rekonstrukcji: 12026.3 \tStrata ukryta: 3521.64\n",
      "27 Całkowita strata podczas uczenia: 15844.2 \tStrata rekonstrukcji: 12482.0 \tStrata ukryta: 3362.14\n",
      "28 Całkowita strata podczas uczenia: 17950.0 \tStrata rekonstrukcji: 14517.1 \tStrata ukryta: 3432.91\n",
      "29% Całkowita strata podczas uczenia: 19688.3 \tStrata rekonstrukcji: 16041.5 \tStrata ukryta: 3646.73\n",
      "30 Całkowita strata podczas uczenia: 24771.1 \tStrata rekonstrukcji: 19933.0 \tStrata ukryta: 4838.06\n",
      "31 Całkowita strata podczas uczenia: 17159.7 \tStrata rekonstrukcji: 13755.2 \tStrata ukryta: 3404.55\n",
      "32 Całkowita strata podczas uczenia: 16232.2 \tStrata rekonstrukcji: 12861.5 \tStrata ukryta: 3370.7\n",
      "33 Całkowita strata podczas uczenia: 16894.2 \tStrata rekonstrukcji: 13213.6 \tStrata ukryta: 3680.61\n",
      "34 Całkowita strata podczas uczenia: 16155.7 \tStrata rekonstrukcji: 12726.5 \tStrata ukryta: 3429.19\n",
      "35 Całkowita strata podczas uczenia: 15866.1 \tStrata rekonstrukcji: 12313.7 \tStrata ukryta: 3552.43\n",
      "36 Całkowita strata podczas uczenia: 15762.6 \tStrata rekonstrukcji: 12056.7 \tStrata ukryta: 3705.91\n",
      "37 Całkowita strata podczas uczenia: 15885.7 \tStrata rekonstrukcji: 12322.5 \tStrata ukryta: 3563.21\n",
      "38 Całkowita strata podczas uczenia: 15475.6 \tStrata rekonstrukcji: 11932.6 \tStrata ukryta: 3543.02\n",
      "39% Całkowita strata podczas uczenia: 15983.6 \tStrata rekonstrukcji: 12205.6 \tStrata ukryta: 3778.0\n",
      "40 Całkowita strata podczas uczenia: 14800.5 \tStrata rekonstrukcji: 11330.4 \tStrata ukryta: 3470.07\n",
      "41 Całkowita strata podczas uczenia: 15769.8 \tStrata rekonstrukcji: 12433.3 \tStrata ukryta: 3336.56\n",
      "42 Całkowita strata podczas uczenia: 15615.5 \tStrata rekonstrukcji: 12043.3 \tStrata ukryta: 3572.17\n",
      "43 Całkowita strata podczas uczenia: 32035.3 \tStrata rekonstrukcji: 22343.3 \tStrata ukryta: 9692.1\n",
      "44 Całkowita strata podczas uczenia: 38586.3 \tStrata rekonstrukcji: 27771.1 \tStrata ukryta: 10815.3\n",
      "45 Całkowita strata podczas uczenia: 26449.6 \tStrata rekonstrukcji: 21127.2 \tStrata ukryta: 5322.42\n",
      "46 Całkowita strata podczas uczenia: 29184.5 \tStrata rekonstrukcji: 21034.4 \tStrata ukryta: 8150.17\n",
      "47 Całkowita strata podczas uczenia: 23025.9 \tStrata rekonstrukcji: 18864.0 \tStrata ukryta: 4161.88\n",
      "48 Całkowita strata podczas uczenia: 18365.4 \tStrata rekonstrukcji: 14996.5 \tStrata ukryta: 3368.91\n",
      "49 Całkowita strata podczas uczenia: 17147.4 \tStrata rekonstrukcji: 13578.3 \tStrata ukryta: 3569.04\n"
     ]
    }
   ],
   "source": [
    "n_epochs = 50\n",
    "batch_size = 150\n",
    "\n",
    "with tf.Session() as sess:\n",
    "    init.run()\n",
    "    for epoch in range(n_epochs):\n",
    "        n_batches = mnist.train.num_examples // batch_size\n",
    "        for iteration in range(n_batches):\n",
    "            print(\"\\r{}%\".format(100 * iteration // n_batches), end=\"\")\n",
    "            sys.stdout.flush()\n",
    "            X_batch, y_batch = mnist.train.next_batch(batch_size)\n",
    "            sess.run(training_op, feed_dict={X: X_batch})\n",
    "        loss_val, reconstruction_loss_val, latent_loss_val = sess.run([loss, reconstruction_loss, latent_loss], feed_dict={X: X_batch})\n",
    "        print(\"\\r{}\".format(epoch), \"Całkowita strata podczas uczenia:\", loss_val, \"\\tStrata rekonstrukcji:\", reconstruction_loss_val, \"\\tStrata ukryta:\", latent_loss_val)\n",
    "        saver.save(sess, \"./moj_model_wariacyjny.ckpt\")"
   ]
  },
  {
   "cell_type": "code",
   "execution_count": null,
   "metadata": {
    "collapsed": true
   },
   "outputs": [],
   "source": [
    "reset_graph()\n",
    "\n",
    "from functools import partial\n",
    "\n",
    "n_inputs = 28 * 28\n",
    "n_hidden1 = 500\n",
    "n_hidden2 = 500\n",
    "n_hidden3 = 20  # kodowania\n",
    "n_hidden4 = n_hidden2\n",
    "n_hidden5 = n_hidden1\n",
    "n_outputs = n_inputs\n",
    "learning_rate = 0.001\n",
    "\n",
    "initializer = tf.contrib.layers.variance_scaling_initializer()\n",
    "my_dense_layer = partial(\n",
    "    tf.layers.dense,\n",
    "    activation=tf.nn.elu,\n",
    "    kernel_initializer=initializer)\n",
    "\n",
    "X = tf.placeholder(tf.float32, [None, n_inputs])\n",
    "hidden1 = my_dense_layer(X, n_hidden1)\n",
    "hidden2 = my_dense_layer(hidden1, n_hidden2)\n",
    "hidden3_mean = my_dense_layer(hidden2, n_hidden3, activation=None)\n",
    "hidden3_gamma = my_dense_layer(hidden2, n_hidden3, activation=None)\n",
    "noise = tf.random_normal(tf.shape(hidden3_gamma), dtype=tf.float32)\n",
    "hidden3 = hidden3_mean + tf.exp(0.5 * hidden3_gamma) * noise\n",
    "hidden4 = my_dense_layer(hidden3, n_hidden4)\n",
    "hidden5 = my_dense_layer(hidden4, n_hidden5)\n",
    "logits = my_dense_layer(hidden5, n_outputs, activation=None)\n",
    "outputs = tf.sigmoid(logits)\n",
    "\n",
    "xentropy = tf.nn.sigmoid_cross_entropy_with_logits(labels=X, logits=logits)\n",
    "reconstruction_loss = tf.reduce_sum(xentropy)\n",
    "latent_loss = 0.5 * tf.reduce_sum(\n",
    "    tf.exp(hidden3_gamma) + tf.square(hidden3_mean) - 1 - hidden3_gamma)\n",
    "loss = reconstruction_loss + latent_loss\n",
    "\n",
    "optimizer = tf.train.AdamOptimizer(learning_rate=learning_rate)\n",
    "training_op = optimizer.minimize(loss)\n",
    "\n",
    "init = tf.global_variables_initializer()\n",
    "saver = tf.train.Saver()"
   ]
  },
  {
   "cell_type": "markdown",
   "metadata": {},
   "source": [
    "## Generowanie cyfr"
   ]
  },
  {
   "cell_type": "markdown",
   "metadata": {},
   "source": [
    "Wyuczmy model i wygenerujmy kilka losowych cyfr:"
   ]
  },
  {
   "cell_type": "code",
   "execution_count": null,
   "metadata": {
    "collapsed": false
   },
   "outputs": [
    {
     "name": "stdout",
     "output_type": "stream",
     "text": [
      "0 Całkowita strata podczas uczenia: 18327.1 \tStrata rekonstrukcji: 14609.7 \tStrata ukryta: 3717.39\n",
      "1 Całkowita strata podczas uczenia: 17083.5 \tStrata rekonstrukcji: 13292.2 \tStrata ukryta: 3791.22\n",
      "2 Całkowita strata podczas uczenia: 16554.0 \tStrata rekonstrukcji: 12817.5 \tStrata ukryta: 3736.45\n",
      "3 Całkowita strata podczas uczenia: 16694.2 \tStrata rekonstrukcji: 12873.4 \tStrata ukryta: 3820.72\n",
      "4 Całkowita strata podczas uczenia: 15828.2 \tStrata rekonstrukcji: 12186.9 \tStrata ukryta: 3641.32\n",
      "59% Całkowita strata podczas uczenia: 16306.7 \tStrata rekonstrukcji: 12531.5 \tStrata ukryta: 3775.27\n",
      "6 Całkowita strata podczas uczenia: 15834.7 \tStrata rekonstrukcji: 11992.1 \tStrata ukryta: 3842.51\n",
      "7 %Całkowita strata podczas uczenia: 15995.3 \tStrata rekonstrukcji: 12217.9 \tStrata ukryta: 3777.4\n",
      "8 Całkowita strata podczas uczenia: 15838.0 \tStrata rekonstrukcji: 12065.3 \tStrata ukryta: 3772.66\n",
      "9 Całkowita strata podczas uczenia: 14754.3 \tStrata rekonstrukcji: 11051.5 \tStrata ukryta: 3702.85\n",
      "10 Całkowita strata podczas uczenia: 16048.6 \tStrata rekonstrukcji: 12185.6 \tStrata ukryta: 3863.04\n",
      "11 Całkowita strata podczas uczenia: 15621.7 \tStrata rekonstrukcji: 11841.8 \tStrata ukryta: 3779.92\n",
      "12 Całkowita strata podczas uczenia: 15235.0 \tStrata rekonstrukcji: 11549.3 \tStrata ukryta: 3685.7\n",
      "13 Całkowita strata podczas uczenia: 15306.9 \tStrata rekonstrukcji: 11642.1 \tStrata ukryta: 3664.76\n",
      "14 Całkowita strata podczas uczenia: 15337.8 \tStrata rekonstrukcji: 11531.0 \tStrata ukryta: 3806.85\n",
      "15 Całkowita strata podczas uczenia: 15311.0 \tStrata rekonstrukcji: 11492.5 \tStrata ukryta: 3818.47\n",
      "16 Całkowita strata podczas uczenia: 15242.5 \tStrata rekonstrukcji: 11522.6 \tStrata ukryta: 3719.82\n",
      "17% Całkowita strata podczas uczenia: 14774.8 \tStrata rekonstrukcji: 11129.9 \tStrata ukryta: 3644.92\n",
      "18 Całkowita strata podczas uczenia: 15196.4 \tStrata rekonstrukcji: 11494.8 \tStrata ukryta: 3701.61\n",
      "19 Całkowita strata podczas uczenia: 15231.8 \tStrata rekonstrukcji: 11577.3 \tStrata ukryta: 3654.45\n",
      "20 Całkowita strata podczas uczenia: 14928.5 \tStrata rekonstrukcji: 11143.9 \tStrata ukryta: 3784.55\n",
      "21 Całkowita strata podczas uczenia: 15444.0 \tStrata rekonstrukcji: 11668.3 \tStrata ukryta: 3775.69\n",
      "22 Całkowita strata podczas uczenia: 15379.5 \tStrata rekonstrukcji: 11628.3 \tStrata ukryta: 3751.18\n",
      "23% Całkowita strata podczas uczenia: 14827.6 \tStrata rekonstrukcji: 11094.7 \tStrata ukryta: 3732.92\n",
      "24 Całkowita strata podczas uczenia: 14950.7 \tStrata rekonstrukcji: 11179.4 \tStrata ukryta: 3771.28\n",
      "25% Całkowita strata podczas uczenia: 15240.2 \tStrata rekonstrukcji: 11464.6 \tStrata ukryta: 3775.65\n",
      "26 Całkowita strata podczas uczenia: 14621.9 \tStrata rekonstrukcji: 10925.7 \tStrata ukryta: 3696.2\n",
      "27 Całkowita strata podczas uczenia: 14987.9 \tStrata rekonstrukcji: 11256.1 \tStrata ukryta: 3731.78\n",
      "28% Całkowita strata podczas uczenia: 15106.9 \tStrata rekonstrukcji: 11296.6 \tStrata ukryta: 3810.28\n",
      "29% Całkowita strata podczas uczenia: 15040.9 \tStrata rekonstrukcji: 11398.9 \tStrata ukryta: 3642.03\n",
      "30 Całkowita strata podczas uczenia: 15057.9 \tStrata rekonstrukcji: 11314.6 \tStrata ukryta: 3743.25\n",
      "31 Całkowita strata podczas uczenia: 15031.6 \tStrata rekonstrukcji: 11258.1 \tStrata ukryta: 3773.53\n",
      "32 Całkowita strata podczas uczenia: 15234.4 \tStrata rekonstrukcji: 11461.2 \tStrata ukryta: 3773.24\n",
      "33% Całkowita strata podczas uczenia: 14798.9 \tStrata rekonstrukcji: 11119.5 \tStrata ukryta: 3679.41\n",
      "34% Całkowita strata podczas uczenia: 14740.9 \tStrata rekonstrukcji: 11046.6 \tStrata ukryta: 3694.39\n",
      "35 Całkowita strata podczas uczenia: 15072.9 \tStrata rekonstrukcji: 11393.9 \tStrata ukryta: 3678.99\n",
      "36 Całkowita strata podczas uczenia: 14504.6 \tStrata rekonstrukcji: 10809.8 \tStrata ukryta: 3694.82\n",
      "37% Całkowita strata podczas uczenia: 14482.9 \tStrata rekonstrukcji: 10799.9 \tStrata ukryta: 3683.02\n",
      "38 Całkowita strata podczas uczenia: 14978.7 \tStrata rekonstrukcji: 11157.1 \tStrata ukryta: 3821.55\n",
      "39 Całkowita strata podczas uczenia: 14224.8 \tStrata rekonstrukcji: 10666.6 \tStrata ukryta: 3558.17\n",
      "40% Całkowita strata podczas uczenia: 15006.8 \tStrata rekonstrukcji: 11277.8 \tStrata ukryta: 3728.95\n",
      "41 Całkowita strata podczas uczenia: 15202.1 \tStrata rekonstrukcji: 11406.0 \tStrata ukryta: 3796.12\n",
      "42 Całkowita strata podczas uczenia: 14745.0 \tStrata rekonstrukcji: 11145.4 \tStrata ukryta: 3599.58\n",
      "43% Całkowita strata podczas uczenia: 14911.8 \tStrata rekonstrukcji: 11206.9 \tStrata ukryta: 3704.87\n"
     ]
    }
   ],
   "source": [
    "import numpy as np\n",
    "\n",
    "n_digits = 60\n",
    "n_epochs = 50\n",
    "batch_size = 150\n",
    "\n",
    "with tf.Session() as sess:\n",
    "    init.run()\n",
    "    for epoch in range(n_epochs):\n",
    "        n_batches = mnist.train.num_examples // batch_size\n",
    "        for iteration in range(n_batches):\n",
    "            print(\"\\r{}%\".format(100 * iteration // n_batches), end=\"\") # nieukazane w książce\n",
    "            sys.stdout.flush()                                          # nieukazane\n",
    "            X_batch, y_batch = mnist.train.next_batch(batch_size)\n",
    "            sess.run(training_op, feed_dict={X: X_batch})\n",
    "        loss_val, reconstruction_loss_val, latent_loss_val = sess.run([loss, reconstruction_loss, latent_loss], feed_dict={X: X_batch}) # not shown\n",
    "        print(\"\\r{}\".format(epoch), \"Całkowita strata podczas uczenia:\", loss_val, \"\\tStrata rekonstrukcji:\", reconstruction_loss_val, \"\\tStrata ukryta:\", latent_loss_val)  # not shown\n",
    "        saver.save(sess, \"./moj_model_wariacyjny.ckpt\")  # nieukazane\n",
    "    \n",
    "    codings_rnd = np.random.normal(size=[n_digits, n_hidden3])\n",
    "    outputs_val = outputs.eval(feed_dict={hidden3: codings_rnd})"
   ]
  },
  {
   "cell_type": "code",
   "execution_count": null,
   "metadata": {
    "collapsed": false
   },
   "outputs": [],
   "source": [
    "plt.figure(figsize=(8,50)) # nieukazane w książce\n",
    "for iteration in range(n_digits):\n",
    "    plt.subplot(n_digits, 10, iteration + 1)\n",
    "    plot_image(outputs_val[iteration])"
   ]
  },
  {
   "cell_type": "code",
   "execution_count": null,
   "metadata": {
    "collapsed": false
   },
   "outputs": [],
   "source": [
    "n_rows = 6\n",
    "n_cols = 10\n",
    "plot_multiple_images(outputs_val.reshape(-1, 28, 28), n_rows, n_cols)\n",
    "save_fig(\"wykres_wygenerowanych_cyfr\")\n",
    "plt.show()"
   ]
  },
  {
   "cell_type": "markdown",
   "metadata": {},
   "source": [
    "Zauważ, że w tym drugim przypadku strata ukryta jest wyliczana w inny sposób:"
   ]
  },
  {
   "cell_type": "code",
   "execution_count": null,
   "metadata": {
    "collapsed": true
   },
   "outputs": [],
   "source": [
    "latent_loss = 0.5 * tf.reduce_sum(\n",
    "    tf.exp(hidden3_gamma) + tf.square(hidden3_mean) - 1 - hidden3_gamma)"
   ]
  },
  {
   "cell_type": "markdown",
   "metadata": {},
   "source": [
    "## Kodowanie i dekodowanie"
   ]
  },
  {
   "cell_type": "markdown",
   "metadata": {},
   "source": [
    "Kodowanie:"
   ]
  },
  {
   "cell_type": "code",
   "execution_count": null,
   "metadata": {
    "collapsed": false
   },
   "outputs": [],
   "source": [
    "n_digits = 3\n",
    "X_test, y_test = mnist.test.next_batch(batch_size)\n",
    "codings = hidden3\n",
    "\n",
    "with tf.Session() as sess:\n",
    "    saver.restore(sess, \"./moj_model_wariacyjny.ckpt\")\n",
    "    codings_val = codings.eval(feed_dict={X: X_test})"
   ]
  },
  {
   "cell_type": "markdown",
   "metadata": {},
   "source": [
    "Dekodowanie:"
   ]
  },
  {
   "cell_type": "code",
   "execution_count": null,
   "metadata": {
    "collapsed": false
   },
   "outputs": [],
   "source": [
    "with tf.Session() as sess:\n",
    "    saver.restore(sess, \"./moj_model_wariacyjny.ckpt\")\n",
    "    outputs_val = outputs.eval(feed_dict={codings: codings_val})"
   ]
  },
  {
   "cell_type": "markdown",
   "metadata": {},
   "source": [
    "Zwizualizujmy rekonstrukcje:"
   ]
  },
  {
   "cell_type": "code",
   "execution_count": null,
   "metadata": {
    "collapsed": false
   },
   "outputs": [],
   "source": [
    "fig = plt.figure(figsize=(8, 2.5 * n_digits))\n",
    "for iteration in range(n_digits):\n",
    "    plt.subplot(n_digits, 2, 1 + 2 * iteration)\n",
    "    plot_image(X_test[iteration])\n",
    "    plt.subplot(n_digits, 2, 2 + 2 * iteration)\n",
    "    plot_image(outputs_val[iteration])"
   ]
  },
  {
   "cell_type": "markdown",
   "metadata": {},
   "source": [
    "## Interpolacja cyfr"
   ]
  },
  {
   "cell_type": "code",
   "execution_count": null,
   "metadata": {
    "collapsed": false,
    "scrolled": true
   },
   "outputs": [],
   "source": [
    "n_iterations = 3\n",
    "n_digits = 6\n",
    "codings_rnd = np.random.normal(size=[n_digits, n_hidden3])\n",
    "\n",
    "with tf.Session() as sess:\n",
    "    saver.restore(sess, \"./moj_model_wariacyjny.ckpt\")\n",
    "    target_codings = np.roll(codings_rnd, -1, axis=0)\n",
    "    for iteration in range(n_iterations + 1):\n",
    "        codings_interpolate = codings_rnd + (target_codings - codings_rnd) * iteration / n_iterations\n",
    "        outputs_val = outputs.eval(feed_dict={codings: codings_interpolate})\n",
    "        plt.figure(figsize=(11, 1.5*n_iterations))\n",
    "        for digit_index in range(n_digits):\n",
    "            plt.subplot(1, n_digits, digit_index + 1)\n",
    "            plot_image(outputs_val[digit_index])\n",
    "        plt.show()"
   ]
  },
  {
   "cell_type": "markdown",
   "metadata": {
    "collapsed": true
   },
   "source": [
    "# Rozwiązania ćwiczeń"
   ]
  },
  {
   "cell_type": "markdown",
   "metadata": {},
   "source": [
    "Wkrótce..."
   ]
  },
  {
   "cell_type": "code",
   "execution_count": null,
   "metadata": {
    "collapsed": true
   },
   "outputs": [],
   "source": []
  }
 ],
 "metadata": {
  "kernelspec": {
   "display_name": "Python 3",
   "language": "python",
   "name": "python3"
  },
  "language_info": {
   "codemirror_mode": {
    "name": "ipython",
    "version": 3
   },
   "file_extension": ".py",
   "mimetype": "text/x-python",
   "name": "python",
   "nbconvert_exporter": "python",
   "pygments_lexer": "ipython3",
   "version": "3.6.0"
  },
  "nav_menu": {
   "height": "381px",
   "width": "453px"
  },
  "toc": {
   "navigate_menu": true,
   "number_sections": true,
   "sideBar": true,
   "threshold": 6,
   "toc_cell": false,
   "toc_section_display": "block",
   "toc_window_display": false
  }
 },
 "nbformat": 4,
 "nbformat_minor": 1
}
