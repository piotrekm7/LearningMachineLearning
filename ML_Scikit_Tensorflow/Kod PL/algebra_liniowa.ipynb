{
 "cells": [
  {
   "cell_type": "markdown",
   "metadata": {},
   "source": [
    "**Algebra liniowa**\n",
    "\n",
    "*Algebra liniowa stanowi dział matematyki obejmujący [przestrzenie wektorowe](https://pl.wikipedia.org/wiki/Przestrze%C5%84_liniowa) i przekształcenia liniowe pomiędzy przestrzeniami wektorowymi, takie jak obracanie kształtu, zmianę jego skali, operacje translacji (tj. przesuwania) itd.*\n",
    "\n",
    "*Uczenie maszynowe w znacznym stopniu wykorzystuje pojęcia z zakresu algebry liniowej, dlatego niezbędna jest znajomość definicji wektorów i macierzy, jakie operacje można na nich wykonywać oraz w jaki sposób okazują się one przydatne.*"
   ]
  },
  {
   "cell_type": "markdown",
   "metadata": {},
   "source": [
    "Zanim rozpoczniemy, upewnijmy się, że ten notatnik będzie działał w środowiskach Python 2 i Python 3:"
   ]
  },
  {
   "cell_type": "code",
   "execution_count": 1,
   "metadata": {
    "collapsed": true
   },
   "outputs": [],
   "source": [
    "from __future__ import division, print_function, unicode_literals"
   ]
  },
  {
   "cell_type": "markdown",
   "metadata": {},
   "source": [
    "# Wektory\n",
    "## Definicja\n",
    "Wektor jest wielkością definiowaną przez wartość (moduł) i kierunek. Na przykład prędkość rakiety stanowi trójwymiarowy wektor: jego wartością jest szybkość rakiety, a kierunek - do góry (oby). Możemy przedstawiać wektor w postaci tablicy liczb zwanych *skalarami*. Każdy skalar określa moduł wektora dla oddzielnego wymiaru.\n",
    "\n",
    "Załóżmy, na przykład, że rakieta leci niemal prosto do góry: jej szybkość pionowa wynosi 5 000 m/s, ale kieruje się także nieznacznie na wschód z szybkością 10 m/s i na północ z szybkością 50 m/s. Prędkość rakiety możemy przedstawić w postaci następującego wektora:\n",
    "\n",
    "**prędkość** $= \\begin{pmatrix}\n",
    "10 \\\\\n",
    "50 \\\\\n",
    "5000 \\\\\n",
    "\\end{pmatrix}$\n",
    "\n",
    "Uwaga: zgodnie z konwencją wektory są zazwyczaj przedstawiane w formie kolumn. Ponadto ich nazwy rozpoczynają się z małej lotery w celu odróżnienia ich od macierzy (których omówieniem zajmiemy się w dalszej części notatnika) i z pogrubieniem (jeśli istnieje taka możliwość), co służy ich odróżnieniu od zwykłych wartości skalarnych, np. ${metry\\_na\\_sekundę} = 5026$.\n",
    "\n",
    "Zbiór N liczb może również symbolizować współrzędne punktu w N-wymiarowej przestrzeni, zatem dość często spotykamy wektory będące pojedynczymi punktami, a nie strzałkami. Wektor jednoelementowy może mieć postać strzałki lub punktu na osi, wektor dwuelementowy możemy przestawić jako strzałkę lub punkt na płaszczyźnie, wektor trójelementowy stanowi punkt lub strzałkę w przestrzeni, natomiast wektor N-elementowy wyrażamy jako punkt lub strzałkę w N-wymiarowej przestrzeni... większość ludzi ma spore problemy z wyobrażeniem sobie tego ostatniego.\n",
    "\n",
    "\n",
    "##  Funkcje\n",
    "Wektory pełnią wiele funkcji w dziedzinie uczenia maszynowego; przede wszystkim służą do reprezentowania obserwacji i prognoz. Powiedzmy, że stworzyliśmy system uczenia maszynowego klasyfikujące filmy w trzech kategoriach (dobre, spam, przynęty) na podstawie posiadanych przez nas informacji na ich temat. Każdy filmik byłby opisywany przez wektor określający naszą wiedzę na jego temat, np:\n",
    "\n",
    "**filmik** $= \\begin{pmatrix}\n",
    "10.5 \\\\\n",
    "5.2 \\\\\n",
    "3.25 \\\\\n",
    "7.0\n",
    "\\end{pmatrix}$\n",
    "\n",
    "Wektor ten mógłby oznaczać film trwający 10,5 minuty, ale tylko 5,2% widzów wytrwałoby dłużej niż minutę podczas jego oglądania, średnio uzyskuje 3,25 odsłon dziennie i został siedmiokrotnie oznaczony jako spam. Jak widać, każda oś może oznaczać coś zupełnie innego.\n",
    "\n",
    "Na podstawie tego wektora model uczenia maszynowego mógłby oszacować, że na 80% filmik ten może być spamem, dać 18% prawdpodobieństwa, że jest przynętą, a tylko mieć 2% pewności, że stanowi on dobry filmik. Wynik ten mógłby być reprezentowany w postaci poniższego wektora:\n",
    "\n",
    "**prawd. przynależności do klas** $= \\begin{pmatrix}\n",
    "0.80 \\\\\n",
    "0.18 \\\\\n",
    "0.02\n",
    "\\end{pmatrix}$"
   ]
  },
  {
   "cell_type": "markdown",
   "metadata": {},
   "source": [
    "## Wektory w środowisku Python\n",
    "W środowisku Python wektor może być przedstawiany na wiele sposobów, z których najprostszym jest standardowa lista wartości liczbowych:"
   ]
  },
  {
   "cell_type": "code",
   "execution_count": 2,
   "metadata": {
    "collapsed": false
   },
   "outputs": [
    {
     "data": {
      "text/plain": [
       "[10.5, 5.2, 3.25, 7.0]"
      ]
     },
     "execution_count": 2,
     "metadata": {},
     "output_type": "execute_result"
    }
   ],
   "source": [
    "[10.5, 5.2, 3.25, 7.0]"
   ]
  },
  {
   "cell_type": "markdown",
   "metadata": {},
   "source": [
    "Będziemy wykonywać wiele obliczeń naukowych, dlatego znacznie wygodniej będzie nam korzystać z obiektu `ndarray` stanowiącego część modułu NumPy - zawiera on także wiele przydatnych i zoptymalizowanych implementacji podstawowych operacji na wektorach (więcej informacji na temat tego modułu znajdziesz w [samouczku NumPy](narzędzia_numpy.ipynb)). Na przykład:"
   ]
  },
  {
   "cell_type": "code",
   "execution_count": 3,
   "metadata": {
    "collapsed": false
   },
   "outputs": [
    {
     "data": {
      "text/plain": [
       "array([ 10.5 ,   5.2 ,   3.25,   7.  ])"
      ]
     },
     "execution_count": 3,
     "metadata": {},
     "output_type": "execute_result"
    }
   ],
   "source": [
    "import numpy as np\n",
    "video = np.array([10.5, 5.2, 3.25, 7.0])\n",
    "video"
   ]
  },
  {
   "cell_type": "markdown",
   "metadata": {},
   "source": [
    "Rozmiar wektora uzyskamy za pomocą atrybutu `size`:"
   ]
  },
  {
   "cell_type": "code",
   "execution_count": 4,
   "metadata": {
    "collapsed": false
   },
   "outputs": [
    {
     "data": {
      "text/plain": [
       "4"
      ]
     },
     "execution_count": 4,
     "metadata": {},
     "output_type": "execute_result"
    }
   ],
   "source": [
    "video.size"
   ]
  },
  {
   "cell_type": "markdown",
   "metadata": {},
   "source": [
    "Element $i^{ty}$ wektora $\\textbf{v}$ zapisujemy jako $\\textbf{v}_i$.\n",
    "\n",
    "Zwróć uwagę, że w matematyce indeksy zazwyczaj zaczynają się od liczby 1, natomiast w programowaniu - od zera. Zatem jeśli chcemy uzyskać w sposób programistyczny dostęp do elementu $\\textbf{video}_3$, napisalibyśmy:"
   ]
  },
  {
   "cell_type": "code",
   "execution_count": 5,
   "metadata": {
    "collapsed": false
   },
   "outputs": [
    {
     "data": {
      "text/plain": [
       "3.25"
      ]
     },
     "execution_count": 5,
     "metadata": {},
     "output_type": "execute_result"
    }
   ],
   "source": [
    "video[2]  # Trzeci element"
   ]
  },
  {
   "cell_type": "markdown",
   "metadata": {},
   "source": [
    "## Wykresy wektorów\n",
    "Do rysowania wykresów wektorów skorzystamy z modułu matplotlib, zacznijmy więc o jego importowania (szczegóły dotyczące modułu matplotlib znajdziesz w [samouczku matplotlib](narzędzia_matplotlib.ipynb)):"
   ]
  },
  {
   "cell_type": "code",
   "execution_count": 6,
   "metadata": {
    "collapsed": true
   },
   "outputs": [],
   "source": [
    "%matplotlib inline\n",
    "import matplotlib.pyplot as plt"
   ]
  },
  {
   "cell_type": "markdown",
   "metadata": {},
   "source": [
    "### Dwuwymiarowe wektory\n",
    "Stwórzmy dwa bardzo proste wektory dwuwymiarowe:"
   ]
  },
  {
   "cell_type": "code",
   "execution_count": 7,
   "metadata": {
    "collapsed": true
   },
   "outputs": [],
   "source": [
    "u = np.array([2, 5])\n",
    "v = np.array([3, 1])"
   ]
  },
  {
   "cell_type": "markdown",
   "metadata": {},
   "source": [
    "Obydwa wektory są dwuelementowe, zatem z łatwością możemy je przedstawić na dwuwymiarowym wykresie, na przykład jako punkty:"
   ]
  },
  {
   "cell_type": "code",
   "execution_count": 8,
   "metadata": {
    "collapsed": false
   },
   "outputs": [
    {
     "data": {
      "image/png": "[encoded data removed]",
      "text/plain": [
       "<matplotlib.figure.Figure at 0x14036982b70>"
      ]
     },
     "metadata": {},
     "output_type": "display_data"
    }
   ],
   "source": [
    "x_coords, y_coords = zip(u, v)\n",
    "plt.scatter(x_coords, y_coords, color=[\"r\",\"b\"])\n",
    "plt.axis([0, 9, 0, 6])\n",
    "plt.grid()\n",
    "plt.show()"
   ]
  },
  {
   "cell_type": "markdown",
   "metadata": {},
   "source": [
    "Możemy je również wyświetlić w postaci strzałek. Stwórzmy niewielką funkcję wyświetlającą eleganckie strzałki:"
   ]
  },
  {
   "cell_type": "code",
   "execution_count": 9,
   "metadata": {
    "collapsed": true
   },
   "outputs": [],
   "source": [
    "def plot_vector2d(vector2d, origin=[0, 0], **options):\n",
    "    return plt.arrow(origin[0], origin[1], vector2d[0], vector2d[1],\n",
    "              head_width=0.2, head_length=0.3, length_includes_head=True,\n",
    "              **options)"
   ]
  },
  {
   "cell_type": "markdown",
   "metadata": {},
   "source": [
    "Narysujmy teraz wektory **u** i **v** jako strzałki:"
   ]
  },
  {
   "cell_type": "code",
   "execution_count": 10,
   "metadata": {
    "collapsed": false
   },
   "outputs": [
    {
     "data": {
      "image/png": "[encoded data removed]",
      "text/plain": [
       "<matplotlib.figure.Figure at 0x140369bae48>"
      ]
     },
     "metadata": {},
     "output_type": "display_data"
    }
   ],
   "source": [
    "plot_vector2d(u, color=\"r\")\n",
    "plot_vector2d(v, color=\"b\")\n",
    "plt.axis([0, 9, 0, 6])\n",
    "plt.grid()\n",
    "plt.show()"
   ]
  },
  {
   "cell_type": "markdown",
   "metadata": {},
   "source": [
    "### Trójwymiarowe wektory\n",
    "Proces rysowania wektorów trójwymiarowych również nie jest zbyt skomplikowany. Stwórzmy najpierw dwa trójwymiarowe wektory:"
   ]
  },
  {
   "cell_type": "code",
   "execution_count": 11,
   "metadata": {
    "collapsed": true
   },
   "outputs": [],
   "source": [
    "a = np.array([1, 2, 8])\n",
    "b = np.array([5, 6, 3])"
   ]
  },
  {
   "cell_type": "markdown",
   "metadata": {},
   "source": [
    "Wygenerujmy ich wykres za pomocą klasy `Axes3D`:"
   ]
  },
  {
   "cell_type": "code",
   "execution_count": 12,
   "metadata": {
    "collapsed": false
   },
   "outputs": [
    {
     "data": {
      "image/png": "[encoded data removed]",
      "text/plain": [
       "<matplotlib.figure.Figure at 0x14036af7320>"
      ]
     },
     "metadata": {},
     "output_type": "display_data"
    }
   ],
   "source": [
    "from mpl_toolkits.mplot3d import Axes3D\n",
    "\n",
    "subplot3d = plt.subplot(111, projection='3d')\n",
    "x_coords, y_coords, z_coords = zip(a,b)\n",
    "subplot3d.scatter(x_coords, y_coords, z_coords)\n",
    "subplot3d.set_zlim3d([0, 9])\n",
    "plt.show()"
   ]
  },
  {
   "cell_type": "markdown",
   "metadata": {},
   "source": [
    "Trudno powiedzieć, w którym miejscu przestrzeni każdy z tych wektorów się znajduje, dlatego dodamy do nich linie pionowe. Napiszmy niewielką funkcję dodającą taką linię do każdego trójwymiarowego wektora:"
   ]
  },
  {
   "cell_type": "code",
   "execution_count": 13,
   "metadata": {
    "collapsed": false
   },
   "outputs": [
    {
     "data": {
      "image/png": "[encoded data removed]",
      "text/plain": [
       "<matplotlib.figure.Figure at 0x14036bf82e8>"
      ]
     },
     "metadata": {},
     "output_type": "display_data"
    }
   ],
   "source": [
    "def plot_vectors3d(ax, vectors3d, z0, **options):\n",
    "    for v in vectors3d:\n",
    "        x, y, z = v\n",
    "        ax.plot([x,x], [y,y], [z0, z], color=\"gray\", linestyle='dotted', marker=\".\")\n",
    "    x_coords, y_coords, z_coords = zip(*vectors3d)\n",
    "    ax.scatter(x_coords, y_coords, z_coords, **options)\n",
    "\n",
    "subplot3d = plt.subplot(111, projection='3d')\n",
    "subplot3d.set_zlim([0, 9])\n",
    "plot_vectors3d(subplot3d, [a,b], 0, color=(\"r\",\"b\"))\n",
    "plt.show()"
   ]
  },
  {
   "cell_type": "markdown",
   "metadata": {},
   "source": [
    "## Norma\n",
    "Norma wektora $\\textbf{u}$, zapisywana jako $\\left \\Vert \\textbf{u} \\right \\|$, stanowi miarę długośc (tzn. modułu) wektora $\\textbf{u}$. Istnieje wiele różnych norm, najczęściej jednak stosowaną (i opisaną w tym notatniku) jest norma euklidesowa, definiowana jako:\n",
    "\n",
    "$\\left \\Vert \\textbf{u} \\right \\| = \\sqrt{\\sum_{i}{\\textbf{u}_i}^2}$\n",
    "\n",
    "Możemy ją z łatwością zaimplementować w środowisku Python, pamiętając że $\\sqrt x = x^{\\frac{1}{2}}$"
   ]
  },
  {
   "cell_type": "code",
   "execution_count": 14,
   "metadata": {
    "collapsed": false
   },
   "outputs": [
    {
     "name": "stdout",
     "output_type": "stream",
     "text": [
      "|| [2 5] || =\n"
     ]
    },
    {
     "data": {
      "text/plain": [
       "5.3851648071345037"
      ]
     },
     "execution_count": 14,
     "metadata": {},
     "output_type": "execute_result"
    }
   ],
   "source": [
    "def vector_norm(vector):\n",
    "    squares = [element**2 for element in vector]\n",
    "    return sum(squares)**0.5\n",
    "\n",
    "print(\"||\", u, \"|| =\")\n",
    "vector_norm(u)"
   ]
  },
  {
   "cell_type": "markdown",
   "metadata": {},
   "source": [
    "Jednak znacznie skuteczniejsze jest korzystanie z funkcji `norm` dostępnej w module `linalg` (ang. **Lin**ear **Alg**ebra - algebra liniowa):"
   ]
  },
  {
   "cell_type": "code",
   "execution_count": 15,
   "metadata": {
    "collapsed": false
   },
   "outputs": [
    {
     "data": {
      "text/plain": [
       "5.3851648071345037"
      ]
     },
     "execution_count": 15,
     "metadata": {},
     "output_type": "execute_result"
    }
   ],
   "source": [
    "import numpy.linalg as LA\n",
    "LA.norm(u)"
   ]
  },
  {
   "cell_type": "markdown",
   "metadata": {},
   "source": [
    "Narysujmy niewielki wykres potwierdzający, że długość wektora $\\textbf{v}$ rzeczywiście wynosi $\\approx5.4$:"
   ]
  },
  {
   "cell_type": "code",
   "execution_count": 16,
   "metadata": {
    "collapsed": false
   },
   "outputs": [
    {
     "data": {
      "image/png": "[encoded data removed]",
      "text/plain": [
       "<matplotlib.figure.Figure at 0x14036d1f828>"
      ]
     },
     "metadata": {},
     "output_type": "display_data"
    }
   ],
   "source": [
    "radius = LA.norm(u)\n",
    "plt.gca().add_artist(plt.Circle((0,0), radius, color=\"#DDDDDD\"))\n",
    "plot_vector2d(u, color=\"red\")\n",
    "plt.axis([0, 8.7, 0, 6])\n",
    "plt.grid()\n",
    "plt.show()"
   ]
  },
  {
   "cell_type": "markdown",
   "metadata": {},
   "source": [
    "Wszystko się zgadza!"
   ]
  },
  {
   "cell_type": "markdown",
   "metadata": {},
   "source": [
    "## Dodawanie\n",
    "Możemy dodawać wektory o takim samym rozmiarze. Dodawane są ich *współrzędne*:"
   ]
  },
  {
   "cell_type": "code",
   "execution_count": 17,
   "metadata": {
    "collapsed": false
   },
   "outputs": [
    {
     "name": "stdout",
     "output_type": "stream",
     "text": [
      "  [2 5]\n",
      "+ [3 1]\n",
      "----------\n"
     ]
    },
    {
     "data": {
      "text/plain": [
       "array([5, 6])"
      ]
     },
     "execution_count": 17,
     "metadata": {},
     "output_type": "execute_result"
    }
   ],
   "source": [
    "print(\" \", u)\n",
    "print(\"+\", v)\n",
    "print(\"-\"*10)\n",
    "u + v"
   ]
  },
  {
   "cell_type": "markdown",
   "metadata": {},
   "source": [
    "Zobaczmy, jak wygląda dodawanie wektorów na układzie współrzędnych:"
   ]
  },
  {
   "cell_type": "code",
   "execution_count": 18,
   "metadata": {
    "collapsed": false,
    "scrolled": true
   },
   "outputs": [
    {
     "data": {
      "image/png": "[encoded data removed]",
      "text/plain": [
       "<matplotlib.figure.Figure at 0x14036d3e198>"
      ]
     },
     "metadata": {},
     "output_type": "display_data"
    }
   ],
   "source": [
    "plot_vector2d(u, color=\"r\")\n",
    "plot_vector2d(v, color=\"b\")\n",
    "plot_vector2d(v, origin=u, color=\"b\", linestyle=\"dotted\")\n",
    "plot_vector2d(u, origin=v, color=\"r\", linestyle=\"dotted\")\n",
    "plot_vector2d(u+v, color=\"g\")\n",
    "plt.axis([0, 9, 0, 7])\n",
    "plt.text(0.7, 3, \"u\", color=\"r\", fontsize=18)\n",
    "plt.text(4, 3, \"u\", color=\"r\", fontsize=18)\n",
    "plt.text(1.8, 0.2, \"v\", color=\"b\", fontsize=18)\n",
    "plt.text(3.1, 5.6, \"v\", color=\"b\", fontsize=18)\n",
    "plt.text(2.4, 2.5, \"u+v\", color=\"g\", fontsize=18)\n",
    "plt.grid()\n",
    "plt.show()"
   ]
  },
  {
   "cell_type": "markdown",
   "metadata": {},
   "source": [
    "Dodawanie wektorów jest **przemienne**, co oznacza, że $\\textbf{u} + \\textbf{v} = \\textbf{v} + \\textbf{u}$. Widzimy to na powyższym wykresie: podążanie za wektorem $\\textbf{u}$ *a następnie* za wektorem $\\textbf{v}$ prowadzi do tego samego punktu, jak w przypadku podążania najpierw za wektorem $\\textbf{v}$ *a następnie* za wektorem $\\textbf{u}$.\n",
    "\n",
    "Dodawanie wektorów jest również **łączne**, czyli $\\textbf{u} + (\\textbf{v} + \\textbf{w}) = (\\textbf{u} + \\textbf{v}) + \\textbf{w}$."
   ]
  },
  {
   "cell_type": "markdown",
   "metadata": {},
   "source": [
    "Jeżeli masz zdefiniowany jakiś kształt za pomocą punktów (wektorów) i dodasz do tych wszystkich punktów wektor $\\textbf{v}$, to cały kształt zostanie przesunięty o ten wektor $\\textbf{v}$. Jest to tak zwana [translacja geometryczna](https://www.medianauka.pl/translacja):"
   ]
  },
  {
   "cell_type": "code",
   "execution_count": 19,
   "metadata": {
    "collapsed": false
   },
   "outputs": [
    {
     "data": {
      "image/png": "[encoded data removed]",
      "text/plain": [
       "<matplotlib.figure.Figure at 0x14036e83be0>"
      ]
     },
     "metadata": {},
     "output_type": "display_data"
    }
   ],
   "source": [
    "t1 = np.array([2, 0.25])\n",
    "t2 = np.array([2.5, 3.5])\n",
    "t3 = np.array([1, 2])\n",
    "\n",
    "x_coords, y_coords = zip(t1, t2, t3, t1)\n",
    "plt.plot(x_coords, y_coords, \"c--\", x_coords, y_coords, \"co\")\n",
    "\n",
    "plot_vector2d(v, t1, color=\"r\", linestyle=\":\")\n",
    "plot_vector2d(v, t2, color=\"r\", linestyle=\":\")\n",
    "plot_vector2d(v, t3, color=\"r\", linestyle=\":\")\n",
    "\n",
    "t1b = t1 + v\n",
    "t2b = t2 + v\n",
    "t3b = t3 + v\n",
    "\n",
    "x_coords_b, y_coords_b = zip(t1b, t2b, t3b, t1b)\n",
    "plt.plot(x_coords_b, y_coords_b, \"b-\", x_coords_b, y_coords_b, \"bo\")\n",
    "\n",
    "plt.text(4, 4.2, \"v\", color=\"r\", fontsize=18)\n",
    "plt.text(3, 2.3, \"v\", color=\"r\", fontsize=18)\n",
    "plt.text(3.5, 0.4, \"v\", color=\"r\", fontsize=18)\n",
    "\n",
    "plt.axis([0, 6, 0, 5])\n",
    "plt.grid()\n",
    "plt.show()"
   ]
  },
  {
   "cell_type": "markdown",
   "metadata": {},
   "source": [
    "Natomiast odejmowanie wektora przypomina dodawanie wektora o przeciwnym zwrocie."
   ]
  },
  {
   "cell_type": "markdown",
   "metadata": {},
   "source": [
    "## Mnożenie przez skalar\n",
    "Wektory możemy mnożyć przez wartości skalarne. Wszystkie elementy wektora są mnożone przez ten skalar, na przykład:"
   ]
  },
  {
   "cell_type": "code",
   "execution_count": 20,
   "metadata": {
    "collapsed": false
   },
   "outputs": [
    {
     "name": "stdout",
     "output_type": "stream",
     "text": [
      "1.5 * [2 5] =\n"
     ]
    },
    {
     "data": {
      "text/plain": [
       "array([ 3. ,  7.5])"
      ]
     },
     "execution_count": 20,
     "metadata": {},
     "output_type": "execute_result"
    }
   ],
   "source": [
    "print(\"1.5 *\", u, \"=\")\n",
    "\n",
    "1.5 * u"
   ]
  },
  {
   "cell_type": "markdown",
   "metadata": {},
   "source": [
    "W ujęciu graficznym mnożenie przez wartość skalarną powodue zmianę skali figury geometrycznej, stąd nazwa *skalar*. Odległość od początku układu współrzędnych (punktu, w którym wszystkie współrzędne są równe 0) zostaje również przemnożona przez ten skalar. Na przykład przeskalujmy nasz trójkąt przez wartość `k = 2.5`:"
   ]
  },
  {
   "cell_type": "code",
   "execution_count": 21,
   "metadata": {
    "collapsed": false
   },
   "outputs": [
    {
     "data": {
      "image/png": "[encoded data removed]",
      "text/plain": [
       "<matplotlib.figure.Figure at 0x14036f0c208>"
      ]
     },
     "metadata": {},
     "output_type": "display_data"
    }
   ],
   "source": [
    "k = 2.5\n",
    "t1c = k * t1\n",
    "t2c = k * t2\n",
    "t3c = k * t3\n",
    "\n",
    "plt.plot(x_coords, y_coords, \"c--\", x_coords, y_coords, \"co\")\n",
    "\n",
    "plot_vector2d(t1, color=\"r\")\n",
    "plot_vector2d(t2, color=\"r\")\n",
    "plot_vector2d(t3, color=\"r\")\n",
    "\n",
    "x_coords_c, y_coords_c = zip(t1c, t2c, t3c, t1c)\n",
    "plt.plot(x_coords_c, y_coords_c, \"b-\", x_coords_c, y_coords_c, \"bo\")\n",
    "\n",
    "plot_vector2d(k * t1, color=\"b\", linestyle=\":\")\n",
    "plot_vector2d(k * t2, color=\"b\", linestyle=\":\")\n",
    "plot_vector2d(k * t3, color=\"b\", linestyle=\":\")\n",
    "\n",
    "plt.axis([0, 9, 0, 9])\n",
    "plt.grid()\n",
    "plt.show()"
   ]
  },
  {
   "cell_type": "markdown",
   "metadata": {},
   "source": [
    "Jak można się było domyślić, dzielenie wektora przez skalar oznacza pomnożenie tego wektora przez odwrotność wartości skalarnej:\n",
    "\n",
    "$\\dfrac{\\textbf{u}}{\\lambda} = \\dfrac{1}{\\lambda} \\times \\textbf{u}$"
   ]
  },
  {
   "cell_type": "markdown",
   "metadata": {},
   "source": [
    "Mnożenie przez skalar jest **przemienne**: $\\lambda \\times \\textbf{u} = \\textbf{u} \\times \\lambda$.\n",
    "\n",
    "Jest on również **łączne**: $\\lambda_1 \\times (\\lambda_2 \\times \\textbf{u}) = (\\lambda_1 \\times \\lambda_2) \\times \\textbf{u}$.\n",
    "\n",
    "Okazuje się ono również **rozdzielne** względem dodawania wektorów: $\\lambda \\times (\\textbf{u} + \\textbf{v}) = \\lambda \\times \\textbf{u} + \\lambda \\times \\textbf{v}$."
   ]
  },
  {
   "cell_type": "markdown",
   "metadata": {},
   "source": [
    "## Wektory zerowe, jednostkowe i znormalizowane\n",
    "* **Wektor zerowy** jest wypełniony zerami.\n",
    "* Norma **wektora jednostkowego** jest równa 1.\n",
    "* **Wektor znormalizowany** wektora niezerowego $\\textbf{u}$, zapisywany jako $\\hat{\\textbf{u}}$, jest wektorem jednostkowym skierowanym w tę samą stronę, co wektor $\\textbf{u}$. Jest on równy: $\\hat{\\textbf{u}} = \\dfrac{\\textbf{u}}{\\left \\Vert \\textbf{u} \\right \\|}$\n",
    "\n"
   ]
  },
  {
   "cell_type": "code",
   "execution_count": 22,
   "metadata": {
    "collapsed": false
   },
   "outputs": [
    {
     "data": {
      "image/png": "[encoded data removed]",
      "text/plain": [
       "<matplotlib.figure.Figure at 0x14036fdd978>"
      ]
     },
     "metadata": {},
     "output_type": "display_data"
    }
   ],
   "source": [
    "plt.gca().add_artist(plt.Circle((0,0),1,color='c'))\n",
    "plt.plot(0, 0, \"ko\")\n",
    "plot_vector2d(v / LA.norm(v), color=\"k\")\n",
    "plot_vector2d(v, color=\"b\", linestyle=\":\")\n",
    "plt.text(0.3, 0.3, \"$\\hat{u}$\", color=\"k\", fontsize=18)\n",
    "plt.text(1.5, 0.7, \"$u$\", color=\"b\", fontsize=18)\n",
    "plt.axis([-1.5, 5.5, -1.5, 3.5])\n",
    "plt.grid()\n",
    "plt.show()"
   ]
  },
  {
   "cell_type": "markdown",
   "metadata": {},
   "source": [
    "## Iloczyn skalarny\n",
    "### Definicja\n",
    "Iloczyn skalarny (zwany także *iloczynem wewnętrznym* w kontekście przestrzeni euklidesowej) dwóch wektorów $\\textbf{u}$ i $\\textbf{v}$ jest bardzo przydatną operacją wykorzystywaną dość często w algebrze liniowej. Zapisujemy go w postaci $\\textbf{u} \\cdot \\textbf{v}$ lub, czasami, $⟨\\textbf{u}|\\textbf{v}⟩$ albo $(\\textbf{u}|\\textbf{v})$ i definiujemy go następująco:\n",
    "\n",
    "$\\textbf{u} \\cdot \\textbf{v} = \\left \\Vert \\textbf{u} \\right \\| \\times \\left \\Vert \\textbf{v} \\right \\| \\times cos(\\theta)$\n",
    "\n",
    "gdzie $\\theta$ stanowi kąt pomiędzy wektorami $\\textbf{u}$ i $\\textbf{v}$.\n",
    "\n",
    "Istnieje jeszcze inny sposób obliczania iloczynu skalarnego:\n",
    "\n",
    "$\\textbf{u} \\cdot \\textbf{v} = \\sum_i{\\textbf{u}_i \\times \\textbf{v}_i}$\n",
    "\n",
    "### W środowisku Python\n",
    "Iloczyn skalarny jest bardzo prosty do zaimplementowania:"
   ]
  },
  {
   "cell_type": "code",
   "execution_count": 23,
   "metadata": {
    "collapsed": false
   },
   "outputs": [
    {
     "data": {
      "text/plain": [
       "11"
      ]
     },
     "execution_count": 23,
     "metadata": {},
     "output_type": "execute_result"
    }
   ],
   "source": [
    "def dot_product(v1, v2):\n",
    "    return sum(v1i * v2i for v1i, v2i in zip(v1, v2))\n",
    "\n",
    "dot_product(u, v)"
   ]
  },
  {
   "cell_type": "markdown",
   "metadata": {},
   "source": [
    "Jednak *znacznie* wydajniejsza implementacja jest dostępna w module NumPy za pomocą funkcji `dot`:"
   ]
  },
  {
   "cell_type": "code",
   "execution_count": 24,
   "metadata": {
    "collapsed": false
   },
   "outputs": [
    {
     "data": {
      "text/plain": [
       "11"
      ]
     },
     "execution_count": 24,
     "metadata": {},
     "output_type": "execute_result"
    }
   ],
   "source": [
    "np.dot(u,v)"
   ]
  },
  {
   "cell_type": "markdown",
   "metadata": {},
   "source": [
    "Powyższej funkcji jest równoważna metoda `dot` obiektu `ndarray`:"
   ]
  },
  {
   "cell_type": "code",
   "execution_count": 25,
   "metadata": {
    "collapsed": false
   },
   "outputs": [
    {
     "data": {
      "text/plain": [
       "11"
      ]
     },
     "execution_count": 25,
     "metadata": {},
     "output_type": "execute_result"
    }
   ],
   "source": [
    "u.dot(v)"
   ]
  },
  {
   "cell_type": "markdown",
   "metadata": {},
   "source": [
    "**Ostrzeżenie**: operator `*` wykonuje mnożenie *po współrzędnych*, *NIE* iloczyn skalarny:"
   ]
  },
  {
   "cell_type": "code",
   "execution_count": 26,
   "metadata": {
    "collapsed": false
   },
   "outputs": [
    {
     "name": "stdout",
     "output_type": "stream",
     "text": [
      "   [2 5]\n",
      "*  [3 1] (to NIE jest iloczyn skalarny)\n",
      "----------\n"
     ]
    },
    {
     "data": {
      "text/plain": [
       "array([6, 5])"
      ]
     },
     "execution_count": 26,
     "metadata": {},
     "output_type": "execute_result"
    }
   ],
   "source": [
    "print(\"  \",u)\n",
    "print(\"* \",v, \"(to NIE jest iloczyn skalarny)\")\n",
    "print(\"-\"*10)\n",
    "\n",
    "u * v"
   ]
  },
  {
   "cell_type": "markdown",
   "metadata": {},
   "source": [
    "### Podstawowe własności\n",
    "* Iloczyn skalarny jest **przemienny**: $\\textbf{u} \\cdot \\textbf{v} = \\textbf{v} \\cdot \\textbf{u}$.\n",
    "* Iloczyn skalarny jest definiowany wyłącznie pomiędzy dwoma wektorami, a nie pomiędzy wektorem a wartością skalarną. Oznacza to, że nie możemy łączyć iloczynów skalarnych: na przykład wyrażenie $\\textbf{u} \\cdot \\textbf{v} \\cdot \\textbf{w}$ nie jest zdefiniowane, ponieważ wynik działania $\\textbf{u} \\cdot \\textbf{v}$ jest skalarem, a $\\textbf{w}$ jest wektorem.\n",
    "* Oznacza to również, że iloczyn skalarny **NIE jest łączny**: $(\\textbf{u} \\cdot \\textbf{v}) \\cdot \\textbf{w} ≠ \\textbf{u} \\cdot (\\textbf{v} \\cdot \\textbf{w})$, gdyż operacje po obydwu stronach równania nie są zdefiniowane.\n",
    "* Jednak iloczyn skalarny **jest łączny względem mnożenia przez skalar**: $\\lambda \\times (\\textbf{u} \\cdot \\textbf{v}) = (\\lambda \\times \\textbf{u}) \\cdot \\textbf{v} = \\textbf{u} \\cdot (\\lambda \\times \\textbf{v})$\n",
    "* Iloczyn skalarny jest również **rozdzielny** względem dodawania wektorów: $\\textbf{u} \\cdot (\\textbf{v} + \\textbf{w}) = \\textbf{u} \\cdot \\textbf{v} + \\textbf{u} \\cdot \\textbf{w}$."
   ]
  },
  {
   "cell_type": "markdown",
   "metadata": {},
   "source": [
    "### Obliczanie kąta pomiędzy wektorami\n",
    "Jednym z wielu zastosowań iloczynu skalarnego jest obliczanie kąta pomiędzy dwoma niezerowymi wektorami. Za pomocą definicji iloczynu skalarnego możemy wyznaczyć następujący wzór:\n",
    "\n",
    "$\\theta = \\arccos{\\left ( \\dfrac{\\textbf{u} \\cdot \\textbf{v}}{\\left \\Vert \\textbf{u} \\right \\| \\times \\left \\Vert \\textbf{v} \\right \\|} \\right ) }$\n",
    "\n",
    "Zwróć uwagę, że jeśli $\\textbf{u} \\cdot \\textbf{v} = 0$, to $\\theta = \\dfrac{π}{2}$. Innymi słowy, jeśli iloczyn skalarny dwóch niezerowych wektorów jest równy 0, to znaczy, że są one prostopadłe względem siebie.\n",
    "\n",
    "Skorzystajmy z tego wzoru do obliczenia kąta pomiędzy wektorami $\\textbf{u}$ i $\\textbf{v}$ (w radianach):"
   ]
  },
  {
   "cell_type": "code",
   "execution_count": 27,
   "metadata": {
    "collapsed": false
   },
   "outputs": [
    {
     "name": "stdout",
     "output_type": "stream",
     "text": [
      "Kąt = 0.868539395286 radianów\n",
      "      = 49.7636416907 stopni\n"
     ]
    }
   ],
   "source": [
    "def vector_angle(u, v):\n",
    "    cos_theta = u.dot(v) / LA.norm(u) / LA.norm(v)\n",
    "    return np.arccos(np.clip(cos_theta, -1, 1))\n",
    "\n",
    "theta = vector_angle(u, v)\n",
    "print(\"Kąt =\", theta, \"radianów\")\n",
    "print(\"      =\", theta * 180 / np.pi, \"stopni\")"
   ]
  },
  {
   "cell_type": "markdown",
   "metadata": {},
   "source": [
    "Uwaga: z powodu niewielkich błędów zmiennoprzecinkowych wartość `cos_theta` może nieznacznie wykraczać poza przedział $[-1, 1]$, przez co operacja `arccos` mogłaby kończyć się niepowodzeniem. Z tego powodu obcięliśmy wartość we wspomnianym zakresie za pomocą funkcji `clip`."
   ]
  },
  {
   "cell_type": "markdown",
   "metadata": {},
   "source": [
    "### Rzutowanie punktu na oś\n",
    "Iloczyn skalarny jest również używany do rzutowania punktów na oś. Rzutowanie wektora $\\textbf{v}$ na oś $\\textbf{u}$ jest przeprowadzane za pomocą następującego równania:\n",
    "\n",
    "$\\textbf{proj}_{\\textbf{u}}{\\textbf{v}} = \\dfrac{\\textbf{u} \\cdot \\textbf{v}}{\\left \\Vert \\textbf{u} \\right \\| ^2} \\times \\textbf{u}$\n",
    "\n",
    "Co jest równoważne wzorowi:\n",
    "\n",
    "$\\textbf{proj}_{\\textbf{u}}{\\textbf{v}} = (\\textbf{v} \\cdot \\hat{\\textbf{u}}) \\times \\hat{\\textbf{u}}$\n"
   ]
  },
  {
   "cell_type": "code",
   "execution_count": 28,
   "metadata": {
    "collapsed": false
   },
   "outputs": [
    {
     "data": {
      "image/png": "[encoded data removed]",
      "text/plain": [
       "<matplotlib.figure.Figure at 0x14036d64588>"
      ]
     },
     "metadata": {},
     "output_type": "display_data"
    }
   ],
   "source": [
    "u_normalized = u / LA.norm(u)\n",
    "proj = v.dot(u_normalized) * u_normalized\n",
    "\n",
    "plot_vector2d(u, color=\"r\")\n",
    "plot_vector2d(v, color=\"b\")\n",
    "\n",
    "plot_vector2d(proj, color=\"k\", linestyle=\":\")\n",
    "plt.plot(proj[0], proj[1], \"ko\")\n",
    "\n",
    "plt.plot([proj[0], v[0]], [proj[1], v[1]], \"b:\")\n",
    "\n",
    "plt.text(1, 2, \"$rzut_u v$\", color=\"k\", fontsize=18)\n",
    "plt.text(1.8, 0.2, \"$v$\", color=\"b\", fontsize=18)\n",
    "plt.text(0.8, 3, \"$u$\", color=\"r\", fontsize=18)\n",
    "\n",
    "plt.axis([0, 8, 0, 5.5])\n",
    "plt.grid()\n",
    "plt.show()"
   ]
  },
  {
   "cell_type": "markdown",
   "metadata": {},
   "source": [
    "# Macierze\n",
    "Macierzą nazywamy prostokątną tablicę przechowującą skalary (tj. dowolną wartość: całkowitą, rzeczywistą lub zespoloną) zorganizowaną w rzędy i kolumny, na przykład:\n",
    "\n",
    "\\begin{bmatrix} 10 & 20 & 30 \\\\ 40 & 50 & 60 \\end{bmatrix}\n",
    "\n",
    "Możemy również traktować macierz jako listę wektorów: powyższa macierz zawiera 2 poziome wektory trójwymiarowe lub 3 pionowe wektory dwuwymiarowe.\n",
    "\n",
    "Macierze stanowią bardzo wygodny i wydajny sposób jednoczesnego wykonywania operacji na wielu wektorach. Przekonamy się także, że świetnie nadają się one do przeprowadzania przekształceń liniowych, takich jak obroty, translacje czy skalowanie."
   ]
  },
  {
   "cell_type": "markdown",
   "metadata": {},
   "source": [
    "## Macierze w środowisku Python\n",
    "Macierz może być przedstawiana na różne sposoby w środowisku Python. Najprostszym z nich jest po prostu lista zawierająca listy:"
   ]
  },
  {
   "cell_type": "code",
   "execution_count": 29,
   "metadata": {
    "collapsed": false
   },
   "outputs": [
    {
     "data": {
      "text/plain": [
       "[[10, 20, 30], [40, 50, 60]]"
      ]
     },
     "execution_count": 29,
     "metadata": {},
     "output_type": "execute_result"
    }
   ],
   "source": [
    "[\n",
    "    [10, 20, 30],\n",
    "    [40, 50, 60]\n",
    "]"
   ]
  },
  {
   "cell_type": "markdown",
   "metadata": {},
   "source": [
    "Znacznie skuteczniejsze okazuje się używanie biblioteki NumPy zawierającej zoptymalizowane implementacje wielu operacji macierzowych:"
   ]
  },
  {
   "cell_type": "code",
   "execution_count": 30,
   "metadata": {
    "collapsed": false
   },
   "outputs": [
    {
     "data": {
      "text/plain": [
       "array([[10, 20, 30],\n",
       "       [40, 50, 60]])"
      ]
     },
     "execution_count": 30,
     "metadata": {},
     "output_type": "execute_result"
    }
   ],
   "source": [
    "A = np.array([\n",
    "    [10,20,30],\n",
    "    [40,50,60]\n",
    "])\n",
    "A"
   ]
  },
  {
   "cell_type": "markdown",
   "metadata": {},
   "source": [
    "Zgodnie z konwencją nazwy macierzy są zazwyczaj zapisywane dużą literą, np. $A$.\n",
    "\n",
    "Przyjmijmy w pozostałej części samouczka, że będziemy używać macierzy mających postać tablic NumPy (typ `ndarray`)."
   ]
  },
  {
   "cell_type": "markdown",
   "metadata": {},
   "source": [
    "## Rozmiar\n",
    "Rozmiar macierzy definiujemy za pomocą liczby rzędów i kolumn. Zapisujemy to jako $rows \\times columns$. Na przykład macierz $A$ z powyższego przykładu ma rozmiar $2 \\times 3$: 2 rzędy, 3 kolumny. Uwaga: macierz $3 \\times 2$ zawiera 3 rzędy i dwie kolumny.\n",
    "\n",
    "Rozmiar macierzy w module NumPy uzyskujemy następująco:"
   ]
  },
  {
   "cell_type": "code",
   "execution_count": 31,
   "metadata": {
    "collapsed": false
   },
   "outputs": [
    {
     "data": {
      "text/plain": [
       "(2, 3)"
      ]
     },
     "execution_count": 31,
     "metadata": {},
     "output_type": "execute_result"
    }
   ],
   "source": [
    "A.shape"
   ]
  },
  {
   "cell_type": "markdown",
   "metadata": {},
   "source": [
    "**Ostrzeżenie**: atrybut `size` określa liczbę elementów w obiekcie `ndarray`, a nie rozmiar macierzy:"
   ]
  },
  {
   "cell_type": "code",
   "execution_count": 32,
   "metadata": {
    "collapsed": false
   },
   "outputs": [
    {
     "data": {
      "text/plain": [
       "6"
      ]
     },
     "execution_count": 32,
     "metadata": {},
     "output_type": "execute_result"
    }
   ],
   "source": [
    "A.size"
   ]
  },
  {
   "cell_type": "markdown",
   "metadata": {},
   "source": [
    "## Indeksowanie elementów\n",
    "Wartość umieszczona w $i^{tym}$ rzędzie i $j^{tej}$ kolumnie macierzy $X$ jest czasami zapisywana jako $X_{i,j}$ lub $X_{ij}$, nie istnieje jednak standardowa notacja, dlatego niektórzy wolą jawnie nazywać poszczególne elementy, na przykład: \"*niech $X = (x_{i,j})_{1 ≤ i ≤ m, 1 ≤ j ≤ n}$*\". Oznacza to, że macierz $X$ jest równa:\n",
    "\n",
    "$X = \\begin{bmatrix}\n",
    "  x_{1,1} & x_{1,2} & x_{1,3} & \\cdots & x_{1,n}\\\\\n",
    "  x_{2,1} & x_{2,2} & x_{2,3} & \\cdots & x_{2,n}\\\\\n",
    "  x_{3,1} & x_{3,2} & x_{3,3} & \\cdots & x_{3,n}\\\\\n",
    "  \\vdots & \\vdots & \\vdots & \\ddots & \\vdots \\\\\n",
    "  x_{m,1} & x_{m,2} & x_{m,3} & \\cdots & x_{m,n}\\\\\n",
    "\\end{bmatrix}$\n",
    "\n",
    "Jednak w tym notatniku będę stosował notację $X_{i,j}$, gdyż całkiem nieźle pasuje ona do notacji modułu NumPy. Zwróć uwagę, że w ujęciu matematycznym indeksy zazwyczaj rozpoczynają się od liczby 1, natomiast w kontekście programistycznym częściej spotykana jest liczba 0. Zatem w celu uzyskania dostępu do elementu $A_{2,3}$ w sposób programistyczny, musimy skorzystać z następującego zapisu:"
   ]
  },
  {
   "cell_type": "code",
   "execution_count": 33,
   "metadata": {
    "collapsed": false
   },
   "outputs": [
    {
     "data": {
      "text/plain": [
       "60"
      ]
     },
     "execution_count": 33,
     "metadata": {},
     "output_type": "execute_result"
    }
   ],
   "source": [
    "A[1,2]  # drugi rząd, trzecia kolumna"
   ]
  },
  {
   "cell_type": "markdown",
   "metadata": {},
   "source": [
    "Wektor w $i^{tym}$ rzędzie bywa zapisywany jako $M_i$ lub $M_{i,*}$, ale również w tym przypadku nie istnieje jednolita konwencja, dlatego często jawnie określane są nazwy własne takich wektorów, na przykład: \"*niech **x**$_{i}$ będzie $i^{tym}$ wektorem rzędowym macierzy $X$*\". Z powodu wyjaśnionego powyżej będziemy korzystać z zapisu $M_{i,*}$. Przykładowo w celu uzyskania dostępu do wektora $A_{2,*}$ (tj. wektora znajdującego się w drugim rzędzie macierzy $A$):"
   ]
  },
  {
   "cell_type": "code",
   "execution_count": 34,
   "metadata": {
    "collapsed": false
   },
   "outputs": [
    {
     "data": {
      "text/plain": [
       "array([40, 50, 60])"
      ]
     },
     "execution_count": 34,
     "metadata": {},
     "output_type": "execute_result"
    }
   ],
   "source": [
    "A[1, :]  # wektor w drugim rzędzie (jako jednowymiarowa tablica)"
   ]
  },
  {
   "cell_type": "markdown",
   "metadata": {},
   "source": [
    "W analogiczny sposób $j^{ty}$ wektor kolumnowy bywa czasami zapisywany jako $M^j$ lub $M_{*,j}$, przy czym, tradycyjnie, również tutaj nie ustalony standard nazewnictwa. Skorzystamy z notacji $M_{*,j}$. Na przykład aby uzyskać dostęp do wektora $A_{*,3}$ (tj. trzeciego wektora kolumnowego w macierzy $A$):"
   ]
  },
  {
   "cell_type": "code",
   "execution_count": 35,
   "metadata": {
    "collapsed": false
   },
   "outputs": [
    {
     "data": {
      "text/plain": [
       "array([30, 60])"
      ]
     },
     "execution_count": 35,
     "metadata": {},
     "output_type": "execute_result"
    }
   ],
   "source": [
    "A[:, 2]  # trzeci wektor kolumnowy (jako jednowymiarowa tablica)"
   ]
  },
  {
   "cell_type": "markdown",
   "metadata": {},
   "source": [
    "Zwróć uwagę, że w wyniku uzyskujemy w rzeczywistości jednowymiarową tablicę NumPy: nie istnieje coś takiego, jak *pionowa* lub *pozioma* tablica. Jeśli chcesz, żeby wektor rzędowy był rzeczywiście przedstawiany jako macierz jednorzędowa (tzn. dwuwymiarowa tablica NumPy), a wektor kolumnowy jako macierz jednokolumnowa, to musisz użyć symbolu wycinka zamiast liczby stałoprzecinkowej podczas uzyskiwania dostępu do rzędu lub kolumny, na przykład:"
   ]
  },
  {
   "cell_type": "code",
   "execution_count": 36,
   "metadata": {
    "collapsed": false
   },
   "outputs": [
    {
     "data": {
      "text/plain": [
       "array([[40, 50, 60]])"
      ]
     },
     "execution_count": 36,
     "metadata": {},
     "output_type": "execute_result"
    }
   ],
   "source": [
    "A[1:2, :]  # drugi i trzeci (wykluczony) rząd: zwraca drugi rząd jako macierz jednorzędową"
   ]
  },
  {
   "cell_type": "code",
   "execution_count": 37,
   "metadata": {
    "collapsed": false
   },
   "outputs": [
    {
     "data": {
      "text/plain": [
       "array([[30],\n",
       "       [60]])"
      ]
     },
     "execution_count": 37,
     "metadata": {},
     "output_type": "execute_result"
    }
   ],
   "source": [
    "A[:, 2:3]  # trzecia i czwarta (wykluczona) kolumna: zwraca trzecią kolumnę jako jednokolumnową macierz"
   ]
  },
  {
   "cell_type": "markdown",
   "metadata": {},
   "source": [
    "## Macierze kwadratowe, trójkątne, diagonalne i jednostkowe \n",
    "**Macierzą kwadratową** nazywamy macierz mającą taką samą liczbę rzędów i kolumn, na przykład $3 \\times 3$:\n",
    "\n",
    "\\begin{bmatrix}\n",
    "  4 & 9 & 2 \\\\\n",
    "  3 & 5 & 7 \\\\\n",
    "  8 & 1 & 6\n",
    "\\end{bmatrix}"
   ]
  },
  {
   "cell_type": "markdown",
   "metadata": {},
   "source": [
    "Specyficzną odmianą macierzy kwadratowej jest **górna macierz trójkątna**, gdzie wszystkie elementy *poniżej* głównej przekątnej (od lewego górnego do prawego dolnego elementu) są zerowe, na przykład:\n",
    "\n",
    "\\begin{bmatrix}\n",
    "  4 & 9 & 2 \\\\\n",
    "  0 & 5 & 7 \\\\\n",
    "  0 & 0 & 6\n",
    "\\end{bmatrix}"
   ]
  },
  {
   "cell_type": "markdown",
   "metadata": {},
   "source": [
    "W podobny sposób **dolna macierz trójkątna** jest macierzą kwadratową, w której wszystkie elementy *powyżej* głównej przekątnej są równe 0, na przykład:\n",
    "\n",
    "\\begin{bmatrix}\n",
    "  4 & 0 & 0 \\\\\n",
    "  3 & 5 & 0 \\\\\n",
    "  8 & 1 & 6\n",
    "\\end{bmatrix}"
   ]
  },
  {
   "cell_type": "markdown",
   "metadata": {},
   "source": [
    "**Macierz trójkątna** to po prostu jedna z dwóch wymienionych wyżej macierzy (górna lub dolna)."
   ]
  },
  {
   "cell_type": "markdown",
   "metadata": {},
   "source": [
    "Macierz będąca zarówno górną, jak i dolną macierzą trójkątną jest nazywana **macierzą diagonalną**, na przykład:\n",
    "\n",
    "\\begin{bmatrix}\n",
    "  4 & 0 & 0 \\\\\n",
    "  0 & 5 & 0 \\\\\n",
    "  0 & 0 & 6\n",
    "\\end{bmatrix}\n",
    "\n",
    "Możemy stworzyć macierz diagonalną za pomocą funkcji `diag`:"
   ]
  },
  {
   "cell_type": "code",
   "execution_count": 38,
   "metadata": {
    "collapsed": false
   },
   "outputs": [
    {
     "data": {
      "text/plain": [
       "array([[4, 0, 0],\n",
       "       [0, 5, 0],\n",
       "       [0, 0, 6]])"
      ]
     },
     "execution_count": 38,
     "metadata": {},
     "output_type": "execute_result"
    }
   ],
   "source": [
    "np.diag([4, 5, 6])"
   ]
  },
  {
   "cell_type": "markdown",
   "metadata": {},
   "source": [
    "Jeśli przekażemy macierz do funkcji `diag`, z radością zostaną wypisane elementy znajdujące się w głównej przekątnej:"
   ]
  },
  {
   "cell_type": "code",
   "execution_count": 39,
   "metadata": {
    "collapsed": false
   },
   "outputs": [
    {
     "data": {
      "text/plain": [
       "array([1, 5, 9])"
      ]
     },
     "execution_count": 39,
     "metadata": {},
     "output_type": "execute_result"
    }
   ],
   "source": [
    "D = np.array([\n",
    "        [1, 2, 3],\n",
    "        [4, 5, 6],\n",
    "        [7, 8, 9],\n",
    "    ])\n",
    "np.diag(D)"
   ]
  },
  {
   "cell_type": "markdown",
   "metadata": {},
   "source": [
    "Z kolei **macierz jednostkowa** o rozmiarze $n$, zapisywana jako $I_n$, stanowi macierz diagonalną o rozmiarze $n \\times n$, której główna przekątna jest wypełniona jedynkami; przykładem może być macierz $I_3$:\n",
    "\n",
    "\\begin{bmatrix}\n",
    "  1 & 0 & 0 \\\\\n",
    "  0 & 1 & 0 \\\\\n",
    "  0 & 0 & 1\n",
    "\\end{bmatrix}\n",
    "\n",
    "Funkcja `eye` zwraca macierz jednostkową o wyznaczonym przez nas rozmiarze:"
   ]
  },
  {
   "cell_type": "code",
   "execution_count": 40,
   "metadata": {
    "collapsed": false
   },
   "outputs": [
    {
     "data": {
      "text/plain": [
       "array([[ 1.,  0.,  0.],\n",
       "       [ 0.,  1.,  0.],\n",
       "       [ 0.,  0.,  1.]])"
      ]
     },
     "execution_count": 40,
     "metadata": {},
     "output_type": "execute_result"
    }
   ],
   "source": [
    "np.eye(3)"
   ]
  },
  {
   "cell_type": "markdown",
   "metadata": {},
   "source": [
    "Macierz jednostkowa często jest oznaczana symbolem $I$ (zamiast $I_n$), gdy jej rozmiar jasno wynika z kontekstu. Nazywamy ją również macierzą *tożsamościową*, ponieważ przemnożenie innej macierzy przez nie powoduje żadnych zmian w tej drugiej macierzy, o czym przekonamy się już niebawem."
   ]
  },
  {
   "cell_type": "markdown",
   "metadata": {},
   "source": [
    "## Dodawanie macierzy\n",
    "Jeśli dwie macierze $Q$ i $R$ mają taki sam rozmiar $m \\times n$, możemy je dodawać. Operacja dodawania jest wykonywana *po współrzędnych*: w wyniku otrzymujemy macierz $m \\times n$ matrix $S$, gdzie każdy element stanowi sumę elementów znajdujących się w obydwu macierzach na tej samej pozycji: $S_{i,j} = Q_{i,j} + R_{i,j}$\n",
    "\n",
    "$S =\n",
    "\\begin{bmatrix}\n",
    "  Q_{11} + R_{11} & Q_{12} + R_{12} & Q_{13} + R_{13} & \\cdots & Q_{1n} + R_{1n} \\\\\n",
    "  Q_{21} + R_{21} & Q_{22} + R_{22} & Q_{23} + R_{23} & \\cdots & Q_{2n} + R_{2n}  \\\\\n",
    "  Q_{31} + R_{31} & Q_{32} + R_{32} & Q_{33} + R_{33} & \\cdots & Q_{3n} + R_{3n}  \\\\\n",
    "  \\vdots & \\vdots & \\vdots & \\ddots & \\vdots \\\\\n",
    "  Q_{m1} + R_{m1} & Q_{m2} + R_{m2} & Q_{m3} + R_{m3} & \\cdots & Q_{mn} + R_{mn}  \\\\\n",
    "\\end{bmatrix}$\n",
    "\n",
    "Stwórzmy, na przykład, macierz $B$ o rozmiarze $2 \\times 3$ i obliczmy sumę $A + B$:"
   ]
  },
  {
   "cell_type": "code",
   "execution_count": 41,
   "metadata": {
    "collapsed": false
   },
   "outputs": [
    {
     "data": {
      "text/plain": [
       "array([[1, 2, 3],\n",
       "       [4, 5, 6]])"
      ]
     },
     "execution_count": 41,
     "metadata": {},
     "output_type": "execute_result"
    }
   ],
   "source": [
    "B = np.array([[1,2,3], [4, 5, 6]])\n",
    "B"
   ]
  },
  {
   "cell_type": "code",
   "execution_count": 42,
   "metadata": {
    "collapsed": false
   },
   "outputs": [
    {
     "data": {
      "text/plain": [
       "array([[10, 20, 30],\n",
       "       [40, 50, 60]])"
      ]
     },
     "execution_count": 42,
     "metadata": {},
     "output_type": "execute_result"
    }
   ],
   "source": [
    "A"
   ]
  },
  {
   "cell_type": "code",
   "execution_count": 43,
   "metadata": {
    "collapsed": false
   },
   "outputs": [
    {
     "data": {
      "text/plain": [
       "array([[11, 22, 33],\n",
       "       [44, 55, 66]])"
      ]
     },
     "execution_count": 43,
     "metadata": {},
     "output_type": "execute_result"
    }
   ],
   "source": [
    "A + B"
   ]
  },
  {
   "cell_type": "markdown",
   "metadata": {},
   "source": [
    "**Dodawanie jest *przemienne***, co oznacza, że $A + B = B + A$:"
   ]
  },
  {
   "cell_type": "code",
   "execution_count": 44,
   "metadata": {
    "collapsed": false
   },
   "outputs": [
    {
     "data": {
      "text/plain": [
       "array([[11, 22, 33],\n",
       "       [44, 55, 66]])"
      ]
     },
     "execution_count": 44,
     "metadata": {},
     "output_type": "execute_result"
    }
   ],
   "source": [
    "B + A"
   ]
  },
  {
   "cell_type": "markdown",
   "metadata": {},
   "source": [
    "**Jest ono również *łączne***, czyli $A + (B + C) = (A + B) + C$:"
   ]
  },
  {
   "cell_type": "code",
   "execution_count": 45,
   "metadata": {
    "collapsed": false
   },
   "outputs": [
    {
     "data": {
      "text/plain": [
       "array([[111, 222, 333],\n",
       "       [444, 555, 666]])"
      ]
     },
     "execution_count": 45,
     "metadata": {},
     "output_type": "execute_result"
    }
   ],
   "source": [
    "C = np.array([[100,200,300], [400, 500, 600]])\n",
    "\n",
    "A + (B + C)"
   ]
  },
  {
   "cell_type": "code",
   "execution_count": 46,
   "metadata": {
    "collapsed": false
   },
   "outputs": [
    {
     "data": {
      "text/plain": [
       "array([[111, 222, 333],\n",
       "       [444, 555, 666]])"
      ]
     },
     "execution_count": 46,
     "metadata": {},
     "output_type": "execute_result"
    }
   ],
   "source": [
    "(A + B) + C"
   ]
  },
  {
   "cell_type": "markdown",
   "metadata": {},
   "source": [
    "## Mnożenie przez skalar\n",
    "Macierz $M$ może być pomnożona przez skalar $\\lambda$. Wynik zapisujemy wyrażeniem $\\lambda M$ oznaczającym macierz o takim samym rozmiarze, jak $M$, w której wszystkie elementy zostały przemnożone przez wartość $\\lambda$:\n",
    "\n",
    "$\\lambda M =\n",
    "\\begin{bmatrix}\n",
    "  \\lambda \\times M_{11} & \\lambda \\times M_{12} & \\lambda \\times M_{13} & \\cdots & \\lambda \\times M_{1n} \\\\\n",
    "  \\lambda \\times M_{21} & \\lambda \\times M_{22} & \\lambda \\times M_{23} & \\cdots & \\lambda \\times M_{2n} \\\\\n",
    "  \\lambda \\times M_{31} & \\lambda \\times M_{32} & \\lambda \\times M_{33} & \\cdots & \\lambda \\times M_{3n} \\\\\n",
    "  \\vdots & \\vdots & \\vdots & \\ddots & \\vdots \\\\\n",
    "  \\lambda \\times M_{m1} & \\lambda \\times M_{m2} & \\lambda \\times M_{m3} & \\cdots & \\lambda \\times M_{mn} \\\\\n",
    "\\end{bmatrix}$\n",
    "\n",
    "Możemy to zapisać zwięźlej:\n",
    "\n",
    "$(\\lambda M)_{i,j} = \\lambda (M)_{i,j}$\n",
    "\n",
    "W module NumPy wystarczy użyć operatora `*`, aby pomnożyć macierz przez skalar. Przykładowo:"
   ]
  },
  {
   "cell_type": "code",
   "execution_count": 47,
   "metadata": {
    "collapsed": false
   },
   "outputs": [
    {
     "data": {
      "text/plain": [
       "array([[ 20,  40,  60],\n",
       "       [ 80, 100, 120]])"
      ]
     },
     "execution_count": 47,
     "metadata": {},
     "output_type": "execute_result"
    }
   ],
   "source": [
    "2 * A"
   ]
  },
  {
   "cell_type": "markdown",
   "metadata": {},
   "source": [
    "Skalar może również znajdować się po prawej stronie macierzy i otrzymamy ten sam wynik: $M \\lambda = \\lambda M$. Na przykład:"
   ]
  },
  {
   "cell_type": "code",
   "execution_count": 48,
   "metadata": {
    "collapsed": false
   },
   "outputs": [
    {
     "data": {
      "text/plain": [
       "array([[ 20,  40,  60],\n",
       "       [ 80, 100, 120]])"
      ]
     },
     "execution_count": 48,
     "metadata": {},
     "output_type": "execute_result"
    }
   ],
   "source": [
    "A * 2"
   ]
  },
  {
   "cell_type": "markdown",
   "metadata": {},
   "source": [
    "Z tego wynika, że mnożenie macierzy przez skalar jest **przemienne**.\n",
    "\n",
    "Jest ono również **łączne**, co oznacza, że $\\alpha (\\beta M) = (\\alpha \\times \\beta) M$, gdzie $\\alpha$ i $\\beta$ są wartościami skalarnymi. Przykład poniżej:"
   ]
  },
  {
   "cell_type": "code",
   "execution_count": 49,
   "metadata": {
    "collapsed": false
   },
   "outputs": [
    {
     "data": {
      "text/plain": [
       "array([[ 60, 120, 180],\n",
       "       [240, 300, 360]])"
      ]
     },
     "execution_count": 49,
     "metadata": {},
     "output_type": "execute_result"
    }
   ],
   "source": [
    "2 * (3 * A)"
   ]
  },
  {
   "cell_type": "code",
   "execution_count": 50,
   "metadata": {
    "collapsed": false
   },
   "outputs": [
    {
     "data": {
      "text/plain": [
       "array([[ 60, 120, 180],\n",
       "       [240, 300, 360]])"
      ]
     },
     "execution_count": 50,
     "metadata": {},
     "output_type": "execute_result"
    }
   ],
   "source": [
    "(2 * 3) * A"
   ]
  },
  {
   "cell_type": "markdown",
   "metadata": {},
   "source": [
    "Jest ono także **rozdzielne wobec dodawania** macierzy, czyli $\\lambda (Q + R) = \\lambda Q + \\lambda R$:"
   ]
  },
  {
   "cell_type": "code",
   "execution_count": 51,
   "metadata": {
    "collapsed": false
   },
   "outputs": [
    {
     "data": {
      "text/plain": [
       "array([[ 22,  44,  66],\n",
       "       [ 88, 110, 132]])"
      ]
     },
     "execution_count": 51,
     "metadata": {},
     "output_type": "execute_result"
    }
   ],
   "source": [
    "2 * (A + B)"
   ]
  },
  {
   "cell_type": "code",
   "execution_count": 52,
   "metadata": {
    "collapsed": false
   },
   "outputs": [
    {
     "data": {
      "text/plain": [
       "array([[ 22,  44,  66],\n",
       "       [ 88, 110, 132]])"
      ]
     },
     "execution_count": 52,
     "metadata": {},
     "output_type": "execute_result"
    }
   ],
   "source": [
    "2 * A + 2 * B"
   ]
  },
  {
   "cell_type": "markdown",
   "metadata": {},
   "source": [
    "## Iloczyn macierzowy\n",
    "Jak na razie operacje przeprowadzane na macierzach były dość intuicyjne. Sytuacja nieco komplikuje się w przypadku mnożenia macierzy.\n",
    "\n",
    "Możemy pomnożyć macierz $Q$ o rozmiarze $m \\times n$ przez macierz $R$ o rozmiarze $n \\times q$. Zapisujemy to po prostu jako $QR$, bez żadnych operatorów. Wynikowa macierz $P$ ma rozmiar $m \\times q$, a każdy jej element stanowi sumę iloczynów:\n",
    "\n",
    "$P_{i,j} = \\sum_{k=1}^n{Q_{i,k} \\times R_{k,j}}$\n",
    "\n",
    "Element znajdujący się na pozycji $i,j$ w macierzy wynikowej stanowi sumę iloczynów elementów znajdujących się w rzędzie $i$ macierzy $Q$ i elementów znajdujących się w kolumnie $j$ macierzy $R$.\n",
    "\n",
    "$P =\n",
    "\\begin{bmatrix}\n",
    "Q_{11} R_{11} + Q_{12} R_{21} + \\cdots + Q_{1n} R_{n1} &\n",
    "  Q_{11} R_{12} + Q_{12} R_{22} + \\cdots + Q_{1n} R_{n2} &\n",
    "    \\cdots &\n",
    "      Q_{11} R_{1q} + Q_{12} R_{2q} + \\cdots + Q_{1n} R_{nq} \\\\\n",
    "Q_{21} R_{11} + Q_{22} R_{21} + \\cdots + Q_{2n} R_{n1} &\n",
    "  Q_{21} R_{12} + Q_{22} R_{22} + \\cdots + Q_{2n} R_{n2} &\n",
    "    \\cdots &\n",
    "      Q_{21} R_{1q} + Q_{22} R_{2q} + \\cdots + Q_{2n} R_{nq} \\\\\n",
    "  \\vdots & \\vdots & \\ddots & \\vdots \\\\\n",
    "Q_{m1} R_{11} + Q_{m2} R_{21} + \\cdots + Q_{mn} R_{n1} &\n",
    "  Q_{m1} R_{12} + Q_{m2} R_{22} + \\cdots + Q_{mn} R_{n2} &\n",
    "    \\cdots &\n",
    "      Q_{m1} R_{1q} + Q_{m2} R_{2q} + \\cdots + Q_{mn} R_{nq}\n",
    "\\end{bmatrix}$\n",
    "\n",
    "Możesz zauważyć, że każdy element $P_{i,j}$ stanowi iloczyn skalarny wektora rzędowego $Q_{i,*}$ i wektora kolumnowego $R_{*,j}$:\n",
    "\n",
    "$P_{i,j} = Q_{i,*} \\cdot R_{*,j}$\n",
    "\n",
    "Zatem możemy zapisać macierz $P$ w zwięźlejszy sposób:\n",
    "\n",
    "$P =\n",
    "\\begin{bmatrix}\n",
    "Q_{1,*} \\cdot R_{*,1} & Q_{1,*} \\cdot R_{*,2} & \\cdots & Q_{1,*} \\cdot R_{*,q} \\\\\n",
    "Q_{2,*} \\cdot R_{*,1} & Q_{2,*} \\cdot R_{*,2} & \\cdots & Q_{2,*} \\cdot R_{*,q} \\\\\n",
    "\\vdots & \\vdots & \\ddots & \\vdots \\\\\n",
    "Q_{m,*} \\cdot R_{*,1} & Q_{m,*} \\cdot R_{*,2} & \\cdots & Q_{m,*} \\cdot R_{*,q}\n",
    "\\end{bmatrix}$\n"
   ]
  },
  {
   "cell_type": "markdown",
   "metadata": {},
   "source": [
    "Pomnóżmy dwie macierze w środowisku NumPy za pomocą metody `dot` obiektu `ndarray`:\n",
    "\n",
    "$E = AD = \\begin{bmatrix}\n",
    "  10 & 20 & 30 \\\\\n",
    "  40 & 50 & 60\n",
    "\\end{bmatrix} \n",
    "\\begin{bmatrix}\n",
    "  2 & 3 & 5 & 7 \\\\\n",
    "  11 & 13 & 17 & 19 \\\\\n",
    "  23 & 29 & 31 & 37\n",
    "\\end{bmatrix} = \n",
    "\\begin{bmatrix}\n",
    "  930 & 1160 & 1320 & 1560 \\\\\n",
    "  2010 & 2510 & 2910 & 3450\n",
    "\\end{bmatrix}$"
   ]
  },
  {
   "cell_type": "code",
   "execution_count": 53,
   "metadata": {
    "collapsed": false
   },
   "outputs": [
    {
     "data": {
      "text/plain": [
       "array([[ 930, 1160, 1320, 1560],\n",
       "       [2010, 2510, 2910, 3450]])"
      ]
     },
     "execution_count": 53,
     "metadata": {},
     "output_type": "execute_result"
    }
   ],
   "source": [
    "D = np.array([\n",
    "        [ 2,  3,  5,  7],\n",
    "        [11, 13, 17, 19],\n",
    "        [23, 29, 31, 37]\n",
    "    ])\n",
    "E = A.dot(D)\n",
    "E"
   ]
  },
  {
   "cell_type": "markdown",
   "metadata": {},
   "source": [
    "Upewnijmy się, że wynik ten jest prawidłowy, przyglądając się po kolei każdemu elementowi. Weźmy, na przykład, element $E_{2,3}$: musimy pomnożyć elementy znajdujące się w drugim rzędzie macierzy $A$ przez elementy znajdujące się w trzeciej kolumnie macierzy $D$, po czym je zsumować otrzymane iloczyny:"
   ]
  },
  {
   "cell_type": "code",
   "execution_count": 54,
   "metadata": {
    "collapsed": false
   },
   "outputs": [
    {
     "data": {
      "text/plain": [
       "2910"
      ]
     },
     "execution_count": 54,
     "metadata": {},
     "output_type": "execute_result"
    }
   ],
   "source": [
    "40*5 + 50*17 + 60*31"
   ]
  },
  {
   "cell_type": "code",
   "execution_count": 55,
   "metadata": {
    "collapsed": false
   },
   "outputs": [
    {
     "data": {
      "text/plain": [
       "2910"
      ]
     },
     "execution_count": 55,
     "metadata": {},
     "output_type": "execute_result"
    }
   ],
   "source": [
    "E[1,2]  # drugi rząd, trzecia kolumna"
   ]
  },
  {
   "cell_type": "markdown",
   "metadata": {},
   "source": [
    "Wszystko w porządku! Możesz sprawdzić pozostałe elementy dopóki nie oswoisz się z tym algorytmem.\n",
    "\n",
    "Przemnożyliśmy macierz $2 \\times 3$ przez macierz $3 \\times 4$, dzięki czemu otrzymujemy macierz $2 \\times 4$. Liczba kolumn pierwszej macierzy musi być taka sama jak liczba wierszy tworzących drugą macierz.Jeśli spróbujemy pomnożyć $D$ przez $A$, pojawi się komunikat o błędzie, gdyż macierz D ma cztery kolumny, a macierz A - dwa rzędy:"
   ]
  },
  {
   "cell_type": "code",
   "execution_count": 56,
   "metadata": {
    "collapsed": false
   },
   "outputs": [
    {
     "name": "stdout",
     "output_type": "stream",
     "text": [
      "Błąd wartości: shapes (3,4) and (2,3) not aligned: 4 (dim 1) != 2 (dim 0)\n"
     ]
    }
   ],
   "source": [
    "try:\n",
    "    D.dot(A)\n",
    "except ValueError as e:\n",
    "    print(\"Błąd wartości:\", e)"
   ]
  },
  {
   "cell_type": "markdown",
   "metadata": {},
   "source": [
    "Wynika z tego prosty wniosek, że **mnożenie macierzowe *NIE* jest przemienne**: zasadniczo $QR ≠ RQ$.\n",
    "\n",
    "W rzeczywistości *obydwie* operacje $QR$ i $RQ$ są zdefiniowane jedynie wtedy, gdy macierz $Q$ ma rozmiar $m \\times n$, a macierz $R$ - $n \\times m$. Spójrzmy na przykład, w którym obydwie operacje *są* zdefiniowane; pokażemy jednocześnie, że (zazwyczaj) *NIE* są one sobie równe:"
   ]
  },
  {
   "cell_type": "code",
   "execution_count": 57,
   "metadata": {
    "collapsed": false
   },
   "outputs": [
    {
     "data": {
      "text/plain": [
       "array([[400, 130],\n",
       "       [940, 310]])"
      ]
     },
     "execution_count": 57,
     "metadata": {},
     "output_type": "execute_result"
    }
   ],
   "source": [
    "F = np.array([\n",
    "        [5,2],\n",
    "        [4,1],\n",
    "        [9,3]\n",
    "    ])\n",
    "A.dot(F)"
   ]
  },
  {
   "cell_type": "code",
   "execution_count": 58,
   "metadata": {
    "collapsed": false
   },
   "outputs": [
    {
     "data": {
      "text/plain": [
       "array([[130, 200, 270],\n",
       "       [ 80, 130, 180],\n",
       "       [210, 330, 450]])"
      ]
     },
     "execution_count": 58,
     "metadata": {},
     "output_type": "execute_result"
    }
   ],
   "source": [
    "F.dot(A)"
   ]
  },
  {
   "cell_type": "markdown",
   "metadata": {},
   "source": [
    "Z drugiej strony **mnożenie macierzowe *jest* łączne**, co oznacza, że $Q(RS) = (QR)S$. Zilustrujemy to na przykładzie nowej macierzy $G$ o rozmiarze $4 \\times 5$:"
   ]
  },
  {
   "cell_type": "code",
   "execution_count": 59,
   "metadata": {
    "collapsed": false
   },
   "outputs": [
    {
     "data": {
      "text/plain": [
       "array([[21640, 28390, 27320, 31140, 13570],\n",
       "       [47290, 62080, 60020, 68580, 29500]])"
      ]
     },
     "execution_count": 59,
     "metadata": {},
     "output_type": "execute_result"
    }
   ],
   "source": [
    "G = np.array([\n",
    "        [8,  7,  4,  2,  5],\n",
    "        [2,  5,  1,  0,  5],\n",
    "        [9, 11, 17, 21,  0],\n",
    "        [0,  1,  0,  1,  2]])\n",
    "A.dot(D).dot(G)     # (AB)G"
   ]
  },
  {
   "cell_type": "code",
   "execution_count": 60,
   "metadata": {
    "collapsed": false
   },
   "outputs": [
    {
     "data": {
      "text/plain": [
       "array([[21640, 28390, 27320, 31140, 13570],\n",
       "       [47290, 62080, 60020, 68580, 29500]])"
      ]
     },
     "execution_count": 60,
     "metadata": {},
     "output_type": "execute_result"
    }
   ],
   "source": [
    "A.dot(D.dot(G))     # A(BG)"
   ]
  },
  {
   "cell_type": "markdown",
   "metadata": {},
   "source": [
    "Operacja ta jest również ***rozłączna* względem dodawania** macierzy, czyli $(Q + R)S = QS + RS$. Na przykład:"
   ]
  },
  {
   "cell_type": "code",
   "execution_count": 61,
   "metadata": {
    "collapsed": false
   },
   "outputs": [
    {
     "data": {
      "text/plain": [
       "array([[1023, 1276, 1452, 1716],\n",
       "       [2211, 2761, 3201, 3795]])"
      ]
     },
     "execution_count": 61,
     "metadata": {},
     "output_type": "execute_result"
    }
   ],
   "source": [
    "(A + B).dot(D)"
   ]
  },
  {
   "cell_type": "code",
   "execution_count": 62,
   "metadata": {
    "collapsed": false
   },
   "outputs": [
    {
     "data": {
      "text/plain": [
       "array([[1023, 1276, 1452, 1716],\n",
       "       [2211, 2761, 3201, 3795]])"
      ]
     },
     "execution_count": 62,
     "metadata": {},
     "output_type": "execute_result"
    }
   ],
   "source": [
    "A.dot(D) + B.dot(D)"
   ]
  },
  {
   "cell_type": "markdown",
   "metadata": {},
   "source": [
    "Iloczyn macierzy $M$ przez macierz jednostkową (o odpowiednim rozmiarze) daje w wyniku taką samą macierz $M$. W bardziej formalnym ujęciu, jeśli macierz $M$ ma rozmiar $m \\times n$ to:\n",
    "\n",
    "$M I_n = I_m M = M$\n",
    "\n",
    "Możemy to zapisać zwięźlej (gdyż rozmiar macierzy jednostkowej jest jednoznacznie definiowany w zależności od kontekstu):\n",
    "\n",
    "$MI = IM = M$\n",
    "\n",
    "Na przykład:"
   ]
  },
  {
   "cell_type": "code",
   "execution_count": 63,
   "metadata": {
    "collapsed": false
   },
   "outputs": [
    {
     "data": {
      "text/plain": [
       "array([[ 10.,  20.,  30.],\n",
       "       [ 40.,  50.,  60.]])"
      ]
     },
     "execution_count": 63,
     "metadata": {},
     "output_type": "execute_result"
    }
   ],
   "source": [
    "A.dot(np.eye(3))"
   ]
  },
  {
   "cell_type": "code",
   "execution_count": 64,
   "metadata": {
    "collapsed": false
   },
   "outputs": [
    {
     "data": {
      "text/plain": [
       "array([[ 10.,  20.,  30.],\n",
       "       [ 40.,  50.,  60.]])"
      ]
     },
     "execution_count": 64,
     "metadata": {},
     "output_type": "execute_result"
    }
   ],
   "source": [
    "np.eye(2).dot(A)"
   ]
  },
  {
   "cell_type": "markdown",
   "metadata": {},
   "source": [
    "**Ostrzeżenie**: Operator `*` w module NumPy przeprowadza operację mnożenia po współrzędnych, a *NIE* iloczyn macierzowy:"
   ]
  },
  {
   "cell_type": "code",
   "execution_count": 65,
   "metadata": {
    "collapsed": false,
    "scrolled": true
   },
   "outputs": [
    {
     "data": {
      "text/plain": [
       "array([[ 10,  40,  90],\n",
       "       [160, 250, 360]])"
      ]
     },
     "execution_count": 65,
     "metadata": {},
     "output_type": "execute_result"
    }
   ],
   "source": [
    "A * B   # to NIE jest iloczyn macierzowy"
   ]
  },
  {
   "cell_type": "markdown",
   "metadata": {},
   "source": [
    "**Operator wrostkowy @**\n",
    "\n",
    "W środowisku Python 3.5 [wprowadzono](https://docs.python.org/3/whatsnew/3.5.html#pep-465-a-dedicated-infix-operator-for-matrix-multiplication) operator wrostkowy `@` dla mnożenia macierzy, a jego obsługa została dodana w module NumPy 1.10. Jeśli korzystasz z wersji Python 3.5+ i NumPy 1.10+, możesz użyć zapisu `A @ D` zamiast `A.dot(D)`, co znacznie zwiększy czytelność kodu (ale zmniejszy jego przenośność). Operator ten działa również dla iloczynów wektorowych."
   ]
  },
  {
   "cell_type": "code",
   "execution_count": 66,
   "metadata": {
    "collapsed": false
   },
   "outputs": [
    {
     "name": "stdout",
     "output_type": "stream",
     "text": [
      "Wersja środowiska Python: 3.6.0\n",
      "Wersja modułu Numpy: 1.12.1\n"
     ]
    }
   ],
   "source": [
    "import sys\n",
    "print(\"Wersja środowiska Python: {}.{}.{}\".format(*sys.version_info))\n",
    "print(\"Wersja modułu Numpy:\", np.version.version)\n",
    "\n",
    "# Usuń symbol komentarza z poniższego wiersza, jeżeli korzystasz z wersji ≥3.5 środowiska Python\n",
    "# i ≥1.10 biblioteki NumPy:\n",
    "\n",
    "#A @ D"
   ]
  },
  {
   "cell_type": "markdown",
   "metadata": {},
   "source": [
    "Uwaga: operacja `Q @ R` jest w rzeczywistości równoważna operacji `Q.__matmul__(R)`, która w module NumPy przyjmuje postać funkcji `np.matmul(Q, R)`, a nie `Q.dot(R)`. Główna różnica polega na tym, że operacja `matmul`, w przeciwieństwie do operacji `dot`, nie obsługuje mnożenia przez skalary, zatem możemy zapisać `Q.dot(3)`, co jest równoważne operacji `Q * 3`, natomiast nie możemy skorzystać z zapisu `Q @ 3` ([szczegółowe wyjaśnienie](http://stackoverflow.com/a/34142617/38626))."
   ]
  },
  {
   "cell_type": "markdown",
   "metadata": {},
   "source": [
    "## Macierz transponowana\n",
    "Transpozycją macierzy $M$ nazywamy macierz zapisywaną jako $M^T$, w której $i^{ty}$ rząd jest równy $i^{tej}$ kolumnie macierzy $M$:\n",
    "\n",
    "$ A^T =\n",
    "\\begin{bmatrix}\n",
    "  10 & 20 & 30 \\\\\n",
    "  40 & 50 & 60\n",
    "\\end{bmatrix}^T =\n",
    "\\begin{bmatrix}\n",
    "  10 & 40 \\\\\n",
    "  20 & 50 \\\\\n",
    "  30 & 60\n",
    "\\end{bmatrix}$\n",
    "\n",
    "Innymi słowy ($A^T)_{i,j}$ = $A_{j,i}$\n",
    "\n",
    "Oczywiście, jeśli macierz $M$ ma rozmiar $m \\times n$, to jej transpozycja $M^T$ przyjmuje postać $n \\times m$.\n",
    "\n",
    "Uwaga: istnieje również kilka innych notacji, takich jak np. $M^t$, $M′$ czy ${^t}M$.\n",
    "\n",
    "W module NumPy uzykujemy macierz transponowaną za pomocą atrybutu `T`:"
   ]
  },
  {
   "cell_type": "code",
   "execution_count": 67,
   "metadata": {
    "collapsed": false
   },
   "outputs": [
    {
     "data": {
      "text/plain": [
       "array([[10, 20, 30],\n",
       "       [40, 50, 60]])"
      ]
     },
     "execution_count": 67,
     "metadata": {},
     "output_type": "execute_result"
    }
   ],
   "source": [
    "A"
   ]
  },
  {
   "cell_type": "code",
   "execution_count": 68,
   "metadata": {
    "collapsed": false
   },
   "outputs": [
    {
     "data": {
      "text/plain": [
       "array([[10, 40],\n",
       "       [20, 50],\n",
       "       [30, 60]])"
      ]
     },
     "execution_count": 68,
     "metadata": {},
     "output_type": "execute_result"
    }
   ],
   "source": [
    "A.T"
   ]
  },
  {
   "cell_type": "markdown",
   "metadata": {},
   "source": [
    "Jak można się spodziewać, transpozycja macierzy transponowanej przywraca pierwotną macierz:"
   ]
  },
  {
   "cell_type": "code",
   "execution_count": 69,
   "metadata": {
    "collapsed": false
   },
   "outputs": [
    {
     "data": {
      "text/plain": [
       "array([[10, 20, 30],\n",
       "       [40, 50, 60]])"
      ]
     },
     "execution_count": 69,
     "metadata": {},
     "output_type": "execute_result"
    }
   ],
   "source": [
    "A.T.T"
   ]
  },
  {
   "cell_type": "markdown",
   "metadata": {},
   "source": [
    "Transponowanie jest rozłączne względem dodawania macierz, czyli $(Q + R)^T = Q^T + R^T$. Na przykład:"
   ]
  },
  {
   "cell_type": "code",
   "execution_count": 70,
   "metadata": {
    "collapsed": false
   },
   "outputs": [
    {
     "data": {
      "text/plain": [
       "array([[11, 44],\n",
       "       [22, 55],\n",
       "       [33, 66]])"
      ]
     },
     "execution_count": 70,
     "metadata": {},
     "output_type": "execute_result"
    }
   ],
   "source": [
    "(A + B).T"
   ]
  },
  {
   "cell_type": "code",
   "execution_count": 71,
   "metadata": {
    "collapsed": false
   },
   "outputs": [
    {
     "data": {
      "text/plain": [
       "array([[11, 44],\n",
       "       [22, 55],\n",
       "       [33, 66]])"
      ]
     },
     "execution_count": 71,
     "metadata": {},
     "output_type": "execute_result"
    }
   ],
   "source": [
    "A.T + B.T"
   ]
  },
  {
   "cell_type": "markdown",
   "metadata": {},
   "source": [
    "Co więcej, $(Q \\cdot R)^T = R^T \\cdot Q^T$. Zwróć uwagę na odwrócony szyk. Przykładowo:"
   ]
  },
  {
   "cell_type": "code",
   "execution_count": 72,
   "metadata": {
    "collapsed": false
   },
   "outputs": [
    {
     "data": {
      "text/plain": [
       "array([[ 930, 2010],\n",
       "       [1160, 2510],\n",
       "       [1320, 2910],\n",
       "       [1560, 3450]])"
      ]
     },
     "execution_count": 72,
     "metadata": {},
     "output_type": "execute_result"
    }
   ],
   "source": [
    "(A.dot(D)).T"
   ]
  },
  {
   "cell_type": "code",
   "execution_count": 73,
   "metadata": {
    "collapsed": false
   },
   "outputs": [
    {
     "data": {
      "text/plain": [
       "array([[ 930, 2010],\n",
       "       [1160, 2510],\n",
       "       [1320, 2910],\n",
       "       [1560, 3450]])"
      ]
     },
     "execution_count": 73,
     "metadata": {},
     "output_type": "execute_result"
    }
   ],
   "source": [
    "D.T.dot(A.T)"
   ]
  },
  {
   "cell_type": "markdown",
   "metadata": {},
   "source": [
    "**Macierz symetryczna** $M$ to taka macierz, która jest równa jej tranzpozycji: $M^T = M$. Zgodnie z tą definicją musi to być macierz kwadratowa, której elementy są symetryczne względem głównej przekątnej, na przykład:\n",
    "\n",
    "\\begin{bmatrix}\n",
    "  17 & 22 & 27 & 49 \\\\\n",
    "  22 & 29 & 36 & 0 \\\\\n",
    "  27 & 36 & 45 & 2 \\\\\n",
    "  49 & 0 & 2 & 99\n",
    "\\end{bmatrix}\n",
    "\n",
    "Iloczyn macierzy przez jej transpozycję zawsze daje macierz symetryczną, na przykład:"
   ]
  },
  {
   "cell_type": "code",
   "execution_count": 74,
   "metadata": {
    "collapsed": false
   },
   "outputs": [
    {
     "data": {
      "text/plain": [
       "array([[  87,  279,  547],\n",
       "       [ 279,  940, 1860],\n",
       "       [ 547, 1860, 3700]])"
      ]
     },
     "execution_count": 74,
     "metadata": {},
     "output_type": "execute_result"
    }
   ],
   "source": [
    "D.dot(D.T)"
   ]
  },
  {
   "cell_type": "markdown",
   "metadata": {
    "collapsed": true
   },
   "source": [
    "## Przekształcanie tablic jednowymiarowych do postaci dwuwymiarowej w module NumPy \n",
    "Jak już wiemy, w module NumPy (w przeciwieństwie do, na przykład, środowiska Matlab), jednowymiarowość jest rzeczywiście jednowymiarowością: nie występują tu jednowymiarowe tablice pionowe ani poziome. Nie powinno nas zatem dziwić, że niczego nie zdziałamy transponując jednowymiarową tablicę:"
   ]
  },
  {
   "cell_type": "code",
   "execution_count": 75,
   "metadata": {
    "collapsed": false
   },
   "outputs": [
    {
     "data": {
      "text/plain": [
       "array([2, 5])"
      ]
     },
     "execution_count": 75,
     "metadata": {},
     "output_type": "execute_result"
    }
   ],
   "source": [
    "u"
   ]
  },
  {
   "cell_type": "code",
   "execution_count": 76,
   "metadata": {
    "collapsed": false
   },
   "outputs": [
    {
     "data": {
      "text/plain": [
       "array([2, 5])"
      ]
     },
     "execution_count": 76,
     "metadata": {},
     "output_type": "execute_result"
    }
   ],
   "source": [
    "u.T"
   ]
  },
  {
   "cell_type": "markdown",
   "metadata": {},
   "source": [
    "Przed transponowaniem tablicy $\\textbf{u}$ musimy ją przekształcić do postaci wektora rzędowego. Istnieje kilka sposobów dokonania tego:"
   ]
  },
  {
   "cell_type": "code",
   "execution_count": 77,
   "metadata": {
    "collapsed": false
   },
   "outputs": [
    {
     "data": {
      "text/plain": [
       "array([[2, 5]])"
      ]
     },
     "execution_count": 77,
     "metadata": {},
     "output_type": "execute_result"
    }
   ],
   "source": [
    "u_row = np.array([u])\n",
    "u_row"
   ]
  },
  {
   "cell_type": "markdown",
   "metadata": {},
   "source": [
    "Zwróć uwagę na dodatkowe nawiasy kwadratowe: mamy do czynienia z dwuwymiarową tablicą zawierającą tylko jeden rząd (tj. macierz 1x2). Innymi słowy naprawdę mamy tutaj do czynienia z **wektorem rzędowym**."
   ]
  },
  {
   "cell_type": "code",
   "execution_count": 78,
   "metadata": {
    "collapsed": false
   },
   "outputs": [
    {
     "data": {
      "text/plain": [
       "array([[2, 5]])"
      ]
     },
     "execution_count": 78,
     "metadata": {},
     "output_type": "execute_result"
    }
   ],
   "source": [
    "u[np.newaxis, :]"
   ]
  },
  {
   "cell_type": "markdown",
   "metadata": {},
   "source": [
    "Jest to dość zrozumiałe: chcemy uzyskać kolejną oś pionową przy jednoczesnym pozostawieniu istniejących danych w osi poziomej. "
   ]
  },
  {
   "cell_type": "code",
   "execution_count": 79,
   "metadata": {
    "collapsed": false
   },
   "outputs": [
    {
     "data": {
      "text/plain": [
       "array([[2, 5]])"
      ]
     },
     "execution_count": 79,
     "metadata": {},
     "output_type": "execute_result"
    }
   ],
   "source": [
    "u[np.newaxis]"
   ]
  },
  {
   "cell_type": "markdown",
   "metadata": {},
   "source": [
    "To samo, co wyżej, ale nieco mniej jawne."
   ]
  },
  {
   "cell_type": "code",
   "execution_count": 80,
   "metadata": {
    "collapsed": false
   },
   "outputs": [
    {
     "data": {
      "text/plain": [
       "array([[2, 5]])"
      ]
     },
     "execution_count": 80,
     "metadata": {},
     "output_type": "execute_result"
    }
   ],
   "source": [
    "u[None]"
   ]
  },
  {
   "cell_type": "markdown",
   "metadata": {},
   "source": [
    "To zaś najkrótsza wersja, prawdopodobnie jednak chcesz jej unikać, gdyż jest niejasna. Rozwiązanie to działa dlatego, że `np.newaxis` ma w rzeczywistości wartość `None`, zatem te dwie techniki są sobie równoważne.\n",
    "\n",
    "No dobrze, teraz transponujmy nasz wektor rzędowy:"
   ]
  },
  {
   "cell_type": "code",
   "execution_count": 81,
   "metadata": {
    "collapsed": false
   },
   "outputs": [
    {
     "data": {
      "text/plain": [
       "array([[2],\n",
       "       [5]])"
      ]
     },
     "execution_count": 81,
     "metadata": {},
     "output_type": "execute_result"
    }
   ],
   "source": [
    "u_row.T"
   ]
  },
  {
   "cell_type": "markdown",
   "metadata": {},
   "source": [
    "Świetnie! Uzyskaliśmy elegancki **wektor kolumnowy**.\n",
    "\n",
    "Nie musimy najpierw tworzyć wektora rzędowego, a później go transponować; możliwe jest przekształcenie jednowymiarowej tablicy bezpośrednio do postaci wektora kolumnowego:"
   ]
  },
  {
   "cell_type": "code",
   "execution_count": 82,
   "metadata": {
    "collapsed": false
   },
   "outputs": [
    {
     "data": {
      "text/plain": [
       "array([[2],\n",
       "       [5]])"
      ]
     },
     "execution_count": 82,
     "metadata": {},
     "output_type": "execute_result"
    }
   ],
   "source": [
    "u[:, np.newaxis]"
   ]
  },
  {
   "cell_type": "markdown",
   "metadata": {},
   "source": [
    "## Wykres macierzy\n",
    "Wiemy już, że wektory mogą być reprezentowane jako punkty lub strzałki w N-wymiarowej przestrzeni. Czy istnieje dobra reprezentacja graficzna macierzy? Skoro uznajemy macierze za listy wektorów, to jej wykresem jest określona liczba punktów lub strzałek. Stwórzmy, na przykład, macierz `P` o rozmiarze $2 \\times 4$ i wygenerujmy jej wykres w postaci punktów:"
   ]
  },
  {
   "cell_type": "code",
   "execution_count": 83,
   "metadata": {
    "collapsed": false
   },
   "outputs": [
    {
     "data": {
      "image/png": "[encoded data removed]",
      "text/plain": [
       "<matplotlib.figure.Figure at 0x14036b892e8>"
      ]
     },
     "metadata": {},
     "output_type": "display_data"
    }
   ],
   "source": [
    "P = np.array([\n",
    "        [3.0, 4.0, 1.0, 4.6],\n",
    "        [0.2, 3.5, 2.0, 0.5]\n",
    "    ])\n",
    "x_coords_P, y_coords_P = P\n",
    "plt.scatter(x_coords_P, y_coords_P)\n",
    "plt.axis([0, 5, 0, 4])\n",
    "plt.show()"
   ]
  },
  {
   "cell_type": "markdown",
   "metadata": {},
   "source": [
    "Oczywiście, moglibyśmy również przechowywać te same cztery wektory w postaci wektorów rzędowych, a nie kolumnowych, dzięki czemu otrzymalibyśmy macierz o rozmiarze $4 \\times 2$ (czyli w istocie transpozycję macierzy $P$). Jest to tylko i wyłącznie nasz wybór.\n",
    "\n",
    "Wektory są ułożone w określonym porządku, dlatego możemy patrzeć na macierz jako na ścieżkę i zwizualizować ją w postaci połączonych kropek:"
   ]
  },
  {
   "cell_type": "code",
   "execution_count": 84,
   "metadata": {
    "collapsed": false
   },
   "outputs": [
    {
     "data": {
      "image/png": "[encoded data removed]",
      "text/plain": [
       "<matplotlib.figure.Figure at 0x14036bdf828>"
      ]
     },
     "metadata": {},
     "output_type": "display_data"
    }
   ],
   "source": [
    "plt.plot(x_coords_P, y_coords_P, \"bo\")\n",
    "plt.plot(x_coords_P, y_coords_P, \"b--\")\n",
    "plt.axis([0, 5, 0, 4])\n",
    "plt.grid()\n",
    "plt.show()"
   ]
  },
  {
   "cell_type": "markdown",
   "metadata": {},
   "source": [
    "Ewentualnie możemy przedstawić ją w postaci wielokąta: klasa `Polygon` będąca częścią modułu matplotlib spodziewa się tablicy NumPy o rozmiarze $n \\times 2$, a nie tablicy $2 \\times n$, zatem wystarczy jedynie przeprowadzić operację $P^T$:"
   ]
  },
  {
   "cell_type": "code",
   "execution_count": 85,
   "metadata": {
    "collapsed": false
   },
   "outputs": [
    {
     "data": {
      "image/png": "[encoded data removed]",
      "text/plain": [
       "<matplotlib.figure.Figure at 0x14036a167b8>"
      ]
     },
     "metadata": {},
     "output_type": "display_data"
    }
   ],
   "source": [
    "from matplotlib.patches import Polygon\n",
    "plt.gca().add_artist(Polygon(P.T))\n",
    "plt.axis([0, 5, 0, 4])\n",
    "plt.grid()\n",
    "plt.show()"
   ]
  },
  {
   "cell_type": "markdown",
   "metadata": {},
   "source": [
    "## Zastosowania geometryczne operacji macierzowych\n",
    "Widzieliśmy już wcześniej, że dodawanie wektorów skutkuje procesem translacji geometrycznej, mnożenie wektorów przez skalar zmnienia skalę (powiększa lub pomniejsza, gdzie środek stanowi początek układu współrzędnych), natomiast iloczyn wektorowy skutkuje rzutowaniem wektora na inny wektor, co powoduje przeskalowanie i pomiar wynikowej współrzędnej.\n",
    "\n",
    "Również operacje macierzowe mają bardzo użyteczne zastosowania geometryczne."
   ]
  },
  {
   "cell_type": "markdown",
   "metadata": {},
   "source": [
    "### Dodawanie = wiele translacji geometrycznych\n",
    "Dodawanie dwóch macierzy jest równoznaczne sumowaniu wszystkich ich wektorów. Przykładowo stwórzmy macierz $H$ o rozmiarze i dodajmy ją do macierzy $P$, po czym zwizualizujmy rezultat:"
   ]
  },
  {
   "cell_type": "code",
   "execution_count": 86,
   "metadata": {
    "collapsed": false
   },
   "outputs": [
    {
     "data": {
      "image/png": "[encoded data removed]",
      "text/plain": [
       "<matplotlib.figure.Figure at 0x140370a86a0>"
      ]
     },
     "metadata": {},
     "output_type": "display_data"
    }
   ],
   "source": [
    "H = np.array([\n",
    "        [ 0.5, -0.2, 0.2, -0.1],\n",
    "        [ 0.4,  0.4, 1.5, 0.6]\n",
    "    ])\n",
    "P_moved = P + H\n",
    "\n",
    "plt.gca().add_artist(Polygon(P.T, alpha=0.2))\n",
    "plt.gca().add_artist(Polygon(P_moved.T, alpha=0.3, color=\"r\"))\n",
    "for vector, origin in zip(H.T, P.T):\n",
    "    plot_vector2d(vector, origin=origin)\n",
    "\n",
    "plt.text(2.2, 1.8, \"$P$\", color=\"b\", fontsize=18)\n",
    "plt.text(2.0, 3.2, \"$P+H$\", color=\"r\", fontsize=18)\n",
    "plt.text(2.5, 0.5, \"$H_{*,1}$\", color=\"k\", fontsize=18)\n",
    "plt.text(4.1, 3.5, \"$H_{*,2}$\", color=\"k\", fontsize=18)\n",
    "plt.text(0.4, 2.6, \"$H_{*,3}$\", color=\"k\", fontsize=18)\n",
    "plt.text(4.4, 0.2, \"$H_{*,4}$\", color=\"k\", fontsize=18)\n",
    "\n",
    "plt.axis([0, 5, 0, 4])\n",
    "plt.grid()\n",
    "plt.show()"
   ]
  },
  {
   "cell_type": "markdown",
   "metadata": {},
   "source": [
    "Gdybyśmy dodali macierz wypełnioną identycznymi wektorami, to otrzymalibyśmy prostą translację geometryczną:"
   ]
  },
  {
   "cell_type": "code",
   "execution_count": 87,
   "metadata": {
    "collapsed": false
   },
   "outputs": [
    {
     "data": {
      "image/png": "[encoded data removed]",
      "text/plain": [
       "<matplotlib.figure.Figure at 0x14036dda358>"
      ]
     },
     "metadata": {},
     "output_type": "display_data"
    }
   ],
   "source": [
    "H2 = np.array([\n",
    "        [-0.5, -0.5, -0.5, -0.5],\n",
    "        [ 0.4,  0.4,  0.4,  0.4]\n",
    "    ])\n",
    "P_translated = P + H2\n",
    "\n",
    "plt.gca().add_artist(Polygon(P.T, alpha=0.2))\n",
    "plt.gca().add_artist(Polygon(P_translated.T, alpha=0.3, color=\"r\"))\n",
    "for vector, origin in zip(H2.T, P.T):\n",
    "    plot_vector2d(vector, origin=origin)\n",
    "\n",
    "plt.axis([0, 5, 0, 4])\n",
    "plt.grid()\n",
    "plt.show()"
   ]
  },
  {
   "cell_type": "markdown",
   "metadata": {},
   "source": [
    "Mimo że macierze mogą być do siebie dodawane tylko wtedy, gdy mają takie same rozmiary, moduł NumPy pozwala dodawać również wektor rzędowy lub kolumnowy do macierzy: jest to tak zwane *nadawanie* (lub *transmitowanie*) - dokładniejsze wyjaśnienie tego mechanizmu znajdziesz w [samouczku NumPy](narzędzia_numpy.ipynb). Powyższy wynik moglibyśmy uzyskać za pomocą następującej operacji:"
   ]
  },
  {
   "cell_type": "code",
   "execution_count": 88,
   "metadata": {
    "collapsed": false
   },
   "outputs": [
    {
     "data": {
      "text/plain": [
       "array([[ 2.5,  3.5,  0.5,  4.1],\n",
       "       [ 0.6,  3.9,  2.4,  0.9]])"
      ]
     },
     "execution_count": 88,
     "metadata": {},
     "output_type": "execute_result"
    }
   ],
   "source": [
    "P + [[-0.5], [0.4]]  # to samo, co P + H2, dzięki funkcji nadawania dostępnej w module NumPy"
   ]
  },
  {
   "cell_type": "markdown",
   "metadata": {},
   "source": [
    "### Mnożenie przez skalar\n",
    "Mnożenie macierzy przez wartość skalarną oznacza przemnożenie wszystkich zawartych w tej macierzy wektorów przez ten skalar, zatem nie powinno nas dziwić, że rezultatem geometrycznym tej operacji jest przeskalowanie całej figury. Przeskalujmy, na przykład, nasz wielokąt o współczynnik 60% (zmniejszamy go, środek skalowania znajduje się w początku układu współrzędnych):"
   ]
  },
  {
   "cell_type": "code",
   "execution_count": 89,
   "metadata": {
    "collapsed": false
   },
   "outputs": [
    {
     "data": {
      "image/png": "[encoded data removed]",
      "text/plain": [
       "<matplotlib.figure.Figure at 0x140370aef28>"
      ]
     },
     "metadata": {},
     "output_type": "display_data"
    }
   ],
   "source": [
    "def plot_transformation(P_before, P_after, text_before, text_after, axis = [0, 5, 0, 4], arrows=False):\n",
    "    if arrows:\n",
    "        for vector_before, vector_after in zip(P_before.T, P_after.T):\n",
    "            plot_vector2d(vector_before, color=\"blue\", linestyle=\"--\")\n",
    "            plot_vector2d(vector_after, color=\"red\", linestyle=\"-\")\n",
    "    plt.gca().add_artist(Polygon(P_before.T, alpha=0.2))\n",
    "    plt.gca().add_artist(Polygon(P_after.T, alpha=0.3, color=\"r\"))\n",
    "    plt.text(P_before[0].mean(), P_before[1].mean(), text_before, fontsize=18, color=\"blue\")\n",
    "    plt.text(P_after[0].mean(), P_after[1].mean(), text_after, fontsize=18, color=\"red\")\n",
    "    plt.axis(axis)\n",
    "    plt.grid()\n",
    "\n",
    "P_rescaled = 0.60 * P\n",
    "plot_transformation(P, P_rescaled, \"$P$\", \"$0.6 P$\", arrows=True)\n",
    "plt.show()"
   ]
  },
  {
   "cell_type": "markdown",
   "metadata": {},
   "source": [
    "### Mnożenie macierzowe - rzutowanie na oś\n",
    "Mnożenie macierzowe jest operacją trudniejszą do zwizualizowania, jednocześnie stanowi nasze najpotężniejsze narzędzie.\n",
    "\n",
    "Zacznijmy od czegoś prostego: zdefiniujmy macierz $U = \\begin{bmatrix} 1 & 0 \\end{bmatrix}$ rozmiarze $1 \\times 2$. Jak widać, jest to jedynie jednostkowy wektor rzędowy."
   ]
  },
  {
   "cell_type": "code",
   "execution_count": 90,
   "metadata": {
    "collapsed": true
   },
   "outputs": [],
   "source": [
    "U = np.array([[1, 0]])"
   ]
  },
  {
   "cell_type": "markdown",
   "metadata": {},
   "source": [
    "Zobaczmy, co uzyskamy za pomocą iloczynu wektorowego $U \\cdot P$:"
   ]
  },
  {
   "cell_type": "code",
   "execution_count": 91,
   "metadata": {
    "collapsed": false
   },
   "outputs": [
    {
     "data": {
      "text/plain": [
       "array([[ 3. ,  4. ,  1. ,  4.6]])"
      ]
     },
     "execution_count": 91,
     "metadata": {},
     "output_type": "execute_result"
    }
   ],
   "source": [
    "U.dot(P)"
   ]
  },
  {
   "cell_type": "markdown",
   "metadata": {},
   "source": [
    "Są to współrzędne poziome wektorów znajdujących się w macierzy $P$. Innymi słowy, po prostu rzutujemy macierz $P$ na oś odciętych:"
   ]
  },
  {
   "cell_type": "code",
   "execution_count": 92,
   "metadata": {
    "collapsed": false
   },
   "outputs": [
    {
     "data": {
      "image/png": "[encoded data removed]",
      "text/plain": [
       "<matplotlib.figure.Figure at 0x14036cad390>"
      ]
     },
     "metadata": {},
     "output_type": "display_data"
    }
   ],
   "source": [
    "def plot_projection(U, P):\n",
    "    U_P = U.dot(P)\n",
    "    \n",
    "    axis_end = 100 * U\n",
    "    plot_vector2d(axis_end[0], color=\"black\")\n",
    "\n",
    "    plt.gca().add_artist(Polygon(P.T, alpha=0.2))\n",
    "    for vector, proj_coordinate in zip(P.T, U_P.T):\n",
    "        proj_point = proj_coordinate * U\n",
    "        plt.plot(proj_point[0][0], proj_point[0][1], \"ro\")\n",
    "        plt.plot([vector[0], proj_point[0][0]], [vector[1], proj_point[0][1]], \"r--\")\n",
    "\n",
    "    plt.axis([0, 5, 0, 4])\n",
    "    plt.grid()\n",
    "    plt.show()\n",
    "\n",
    "plot_projection(U, P)"
   ]
  },
  {
   "cell_type": "markdown",
   "metadata": {},
   "source": [
    "Możemy w rzeczywistości rzutować wynik na dowolną oś zastępując $U$ dowolnym innym wektorem jednostkowym. Na przykład, rzutujmy tę macierz na oś ułożoną pod kątem 30° w stosunku do osi odciętych:"
   ]
  },
  {
   "cell_type": "code",
   "execution_count": 93,
   "metadata": {
    "collapsed": false
   },
   "outputs": [
    {
     "data": {
      "image/png": "[encoded data removed]",
      "text/plain": [
       "<matplotlib.figure.Figure at 0x14036a07c18>"
      ]
     },
     "metadata": {},
     "output_type": "display_data"
    }
   ],
   "source": [
    "angle30 = 30 * np.pi / 180  # kąt w radianach\n",
    "U_30 = np.array([[np.cos(angle30), np.sin(angle30)]])\n",
    "\n",
    "plot_projection(U_30, P)"
   ]
  },
  {
   "cell_type": "markdown",
   "metadata": {},
   "source": [
    "Dobrze! Pamiętaj, że iloczyn wektorowy wektora jednostkowego i macierzy zasadniczo powoduje rzutowanie tej macierzy na daną oś, a my otrzymujemy współrzędne wyznaczonych przez tę operację punktów na tej osi."
   ]
  },
  {
   "cell_type": "markdown",
   "metadata": {},
   "source": [
    "### Mnożenie macierzowe – rotacja\n",
    "Stwórzmy teraz macierz $V$ o rozmiarze $2 \\times 2$ zawierającą dwa wektory jednostkowe tworzące kąty 30° i 120° z osią odciętych:\n",
    "\n",
    "$V = \\begin{bmatrix} \\cos(30°) & \\sin(30°) \\\\ \\cos(120°) & \\sin(120°) \\end{bmatrix}$"
   ]
  },
  {
   "cell_type": "code",
   "execution_count": 94,
   "metadata": {
    "collapsed": false
   },
   "outputs": [
    {
     "data": {
      "text/plain": [
       "array([[ 0.8660254,  0.5      ],\n",
       "       [-0.5      ,  0.8660254]])"
      ]
     },
     "execution_count": 94,
     "metadata": {},
     "output_type": "execute_result"
    }
   ],
   "source": [
    "angle120 = 120 * np.pi / 180\n",
    "V = np.array([\n",
    "        [np.cos(angle30), np.sin(angle30)],\n",
    "        [np.cos(angle120), np.sin(angle120)]\n",
    "    ])\n",
    "V"
   ]
  },
  {
   "cell_type": "markdown",
   "metadata": {},
   "source": [
    "Sprawdźmy iloczyn $VP$:"
   ]
  },
  {
   "cell_type": "code",
   "execution_count": 95,
   "metadata": {
    "collapsed": false
   },
   "outputs": [
    {
     "data": {
      "text/plain": [
       "array([[ 2.69807621,  5.21410162,  1.8660254 ,  4.23371686],\n",
       "       [-1.32679492,  1.03108891,  1.23205081, -1.8669873 ]])"
      ]
     },
     "execution_count": 95,
     "metadata": {},
     "output_type": "execute_result"
    }
   ],
   "source": [
    "V.dot(P)"
   ]
  },
  {
   "cell_type": "markdown",
   "metadata": {},
   "source": [
    "Pierwszy rząd jest równy iloczynowi $V_{1,*} P$, czyli współrzędnym rzutowania macierzy $P$ na oś 30°, co już widzieliśmy wcześniej. W drugim rzędzie widzimy wynik operacji $V_{2,*} P$, odpowiadający współrzędnym rzutowania tejże macierzy na oś 120°. Zatem mówiąc krótko uzyskaliśmy współrzędne macierzy $P$ po obróceniu osi odciętych i rzędnych o 30° (albo po obróceniu wielokąta o -30° względem początku układu współrzędnych)! Zobaczmy, jak to wygląda na wykresie:"
   ]
  },
  {
   "cell_type": "code",
   "execution_count": 96,
   "metadata": {
    "collapsed": false
   },
   "outputs": [
    {
     "data": {
      "image/png": "[encoded data removed]",
      "text/plain": [
       "<matplotlib.figure.Figure at 0x140370d2518>"
      ]
     },
     "metadata": {},
     "output_type": "display_data"
    }
   ],
   "source": [
    "P_rotated = V.dot(P)\n",
    "plot_transformation(P, P_rotated, \"$P$\", \"$VP$\", [-2, 6, -2, 4], arrows=True)\n",
    "plt.show()"
   ]
  },
  {
   "cell_type": "markdown",
   "metadata": {},
   "source": [
    "Macierz $V$ nazywamy **macierzą obrotu**."
   ]
  },
  {
   "cell_type": "markdown",
   "metadata": {},
   "source": [
    "### Iloczyn macierzowy – inne przekształcenia liniowe\n",
    "W bardziej ogólnym ujęciu każde przekształcenie liniowe $f$ odwzorowujące n-wymiarowe wektory na m-wymiarowe wektory możemy przedstawiać za pomocą macierzy. Załóżmy, na przykład, że mamy do czynienia z trójwymiarowym wektorem $\\textbf{u}$:\n",
    "\n",
    "$\\textbf{u} = \\begin{pmatrix} x \\\\ y \\\\ z \\end{pmatrix}$\n",
    "\n",
    "a przekształcenie $f$ definiujemy jako:\n",
    "\n",
    "$f(\\textbf{u}) = \\begin{pmatrix}\n",
    "ax + by + cz \\\\\n",
    "dx + ey + fz\n",
    "\\end{pmatrix}$\n",
    "\n",
    "Transformacja ta odwzorowuje trójwymiarowe wektory do postaci dwuwymiarowej w sposób liniowy (tzn. otrzymywane współrzędne stanowią jedynie sumy iloczynów pierwotnych koordynatów). Możemy zapisać to przekształcenie jako macierz $F$:\n",
    "\n",
    "$F = \\begin{bmatrix}\n",
    "a & b & c \\\\\n",
    "d & e & f\n",
    "\\end{bmatrix}$\n",
    "\n",
    "Teraz w celu obliczenia $f(\\textbf{u})$ wystarczy przeprowadzić mnożenie macierzowe:\n",
    "\n",
    "$f(\\textbf{u}) = F \\textbf{u}$\n",
    "\n",
    "Jeśli mamy macierz $G = \\begin{bmatrix}\\textbf{u}_1 & \\textbf{u}_2 & \\cdots & \\textbf{u}_q \\end{bmatrix}$, gdzie każdy element $\\textbf{u}_i$ stanowi trójwymiarowy wektor kolumnowy, to operacja $FG$ spowoduje liniowe przekształcenie wszystkich wektorów  $\\textbf{u}_i$ w sposób zdefiniowany w macierzy $F$:\n",
    "\n",
    "$FG = \\begin{bmatrix}f(\\textbf{u}_1) & f(\\textbf{u}_2) & \\cdots & f(\\textbf{u}_q) \\end{bmatrix}$\n",
    "\n",
    "Podsumowując, macierz znajdująca się po lewej stronie iloczynu wektorowego określa stosowane przekształcenie liniowe wobec wektorów znajdujących się po prawej stronie. Wiemy już, że w ten sposób możemy przeprowadzać operacje rzutowania i obracania, ale możemy w ten sposób wyznaczać dowolną inną transformację liniową. Na przykład, poniżej prezentuję przekształcenie znane jako *powinowactwo osiowe*:"
   ]
  },
  {
   "cell_type": "code",
   "execution_count": 97,
   "metadata": {
    "collapsed": false,
    "scrolled": true
   },
   "outputs": [
    {
     "data": {
      "image/png": "[encoded data removed]",
      "text/plain": [
       "<matplotlib.figure.Figure at 0x14036e18668>"
      ]
     },
     "metadata": {},
     "output_type": "display_data"
    }
   ],
   "source": [
    "F_shear = np.array([\n",
    "        [1, 1.5],\n",
    "        [0, 1]\n",
    "    ])\n",
    "plot_transformation(P, F_shear.dot(P), \"$P$\", \"$F_{p. osiowe} P$\",\n",
    "                    axis=[0, 10, 0, 7])\n",
    "plt.show()"
   ]
  },
  {
   "cell_type": "markdown",
   "metadata": {},
   "source": [
    "Sprawdźmy, jak to przekształcenie wpływa na **kwadrat jednostkowy**: "
   ]
  },
  {
   "cell_type": "code",
   "execution_count": 98,
   "metadata": {
    "collapsed": false
   },
   "outputs": [
    {
     "data": {
      "image/png": "[encoded data removed]",
      "text/plain": [
       "<matplotlib.figure.Figure at 0x1403831b1d0>"
      ]
     },
     "metadata": {},
     "output_type": "display_data"
    }
   ],
   "source": [
    "Square = np.array([\n",
    "        [0, 0, 1, 1],\n",
    "        [0, 1, 1, 0]\n",
    "    ])\n",
    "plot_transformation(Square, F_shear.dot(Square), \"$Kwadrat$\", \"$F_{p. osiowe} Kwadrat$\",\n",
    "                    axis=[0, 2.6, 0, 1.8])\n",
    "plt.show()"
   ]
  },
  {
   "cell_type": "markdown",
   "metadata": {},
   "source": [
    "Sprawdźmy teraz **powinowactwo ściskowe** (ang. squeeze mapping):"
   ]
  },
  {
   "cell_type": "code",
   "execution_count": 99,
   "metadata": {
    "collapsed": false
   },
   "outputs": [
    {
     "data": {
      "image/png": "[encoded data removed]",
      "text/plain": [
       "<matplotlib.figure.Figure at 0x14036b8e710>"
      ]
     },
     "metadata": {},
     "output_type": "display_data"
    }
   ],
   "source": [
    "F_squeeze = np.array([\n",
    "        [1.4, 0],\n",
    "        [0, 1/1.4]\n",
    "    ])\n",
    "plot_transformation(P, F_squeeze.dot(P), \"$P$\", \"$F_{p. ściskowe} P$\",\n",
    "                    axis=[0, 7, 0, 5])\n",
    "plt.show()"
   ]
  },
  {
   "cell_type": "markdown",
   "metadata": {},
   "source": [
    "I jego wpływ na kwadrat jednostkowy:"
   ]
  },
  {
   "cell_type": "code",
   "execution_count": 100,
   "metadata": {
    "collapsed": false
   },
   "outputs": [
    {
     "data": {
      "image/png": "[encoded data removed]",
      "text/plain": [
       "<matplotlib.figure.Figure at 0x14036fd3b38>"
      ]
     },
     "metadata": {},
     "output_type": "display_data"
    }
   ],
   "source": [
    "plot_transformation(Square, F_squeeze.dot(Square), \"$Kwadrat$\", \"$F_{p. ściskowe} Kwadrat$\",\n",
    "                    axis=[0, 1.8, 0, 1.2])\n",
    "plt.show()"
   ]
  },
  {
   "cell_type": "markdown",
   "metadata": {},
   "source": [
    "Ostatnie przekształcenie: odbicie względem osi odciętych:"
   ]
  },
  {
   "cell_type": "code",
   "execution_count": 101,
   "metadata": {
    "collapsed": false
   },
   "outputs": [
    {
     "data": {
      "image/png": "[encoded data removed]",
      "text/plain": [
       "<matplotlib.figure.Figure at 0x14036ce16d8>"
      ]
     },
     "metadata": {},
     "output_type": "display_data"
    }
   ],
   "source": [
    "F_reflect = np.array([\n",
    "        [1, 0],\n",
    "        [0, -1]\n",
    "    ])\n",
    "plot_transformation(P, F_reflect.dot(P), \"$P$\", \"$F_{odbicie} P$\",\n",
    "                    axis=[-2, 9, -4.5, 4.5])\n",
    "plt.show()"
   ]
  },
  {
   "cell_type": "markdown",
   "metadata": {},
   "source": [
    "## Macierz odwrotna\n",
    "Rozumiemy już, w jaki w sposób macierz może reprezentować dowolne przekształcenie liniowe, może więc pojawić się w naszych głowach pytanie: czy istnieje macierz transformacji odwracająca efekt danej macierzy transformacji $F$? Odpowiedź brzmi: tak... czasami! Jeśli taka macierz istnieje, jest ona nazywana **macierzą odwrotną** i zapisujemy ją jako $F^{-1}$.\n",
    "\n",
    "Na przykład, wszystkie ukazane powyżej przekształcają mają swoje transformacje odwrotne. Zaprezentuję to dla powiniwactwa osiowego:"
   ]
  },
  {
   "cell_type": "code",
   "execution_count": 102,
   "metadata": {
    "collapsed": false
   },
   "outputs": [
    {
     "data": {
      "image/png": "[encoded data removed]",
      "text/plain": [
       "<matplotlib.figure.Figure at 0x14036d8e940>"
      ]
     },
     "metadata": {},
     "output_type": "display_data"
    }
   ],
   "source": [
    "F_inv_shear = np.array([\n",
    "    [1, -1.5],\n",
    "    [0, 1]\n",
    "])\n",
    "P_sheared = F_shear.dot(P)\n",
    "P_unsheared = F_inv_shear.dot(P_sheared)\n",
    "plot_transformation(P_sheared, P_unsheared, \"$P_{pow. os.}$\", \"$P_{odwrotna}$\",\n",
    "                    axis=[0, 10, 0, 7])\n",
    "plt.plot(P[0], P[1], \"b--\")\n",
    "plt.show()"
   ]
  },
  {
   "cell_type": "markdown",
   "metadata": {},
   "source": [
    "Podobnie jak wcześniej wykonaliśmy powinowactwo osiowe wobec wielokąta $P$, następnie jednak przeprowadziliśmy drugą transformację wobec otrzymanej figury i *uwaga, uwaga* w ten sposób powróciliśmy do pierwotnego kształtu $P$ (upewniamy się o tym oznaczając pierwotny zarys wielokąta $P$ linią przerywaną). Drugie przekształcenie stanowi odwrotność pierwszego.\n",
    "\n",
    "Zdefiniowaliśmy tutaj macierz odwrotną $F_{pow. os.}^{-1}$ własnoręcznie, ale moduł NumPy zawiera funkcję `inv` wykonującą tę czynność za nas, moglibyśmy zatem napisać:"
   ]
  },
  {
   "cell_type": "code",
   "execution_count": 103,
   "metadata": {
    "collapsed": false
   },
   "outputs": [
    {
     "data": {
      "text/plain": [
       "array([[ 1. , -1.5],\n",
       "       [ 0. ,  1. ]])"
      ]
     },
     "execution_count": 103,
     "metadata": {},
     "output_type": "execute_result"
    }
   ],
   "source": [
    "F_inv_shear = LA.inv(F_shear)\n",
    "F_inv_shear"
   ]
  },
  {
   "cell_type": "markdown",
   "metadata": {},
   "source": [
    "Możemy odwracać wyłącznie macierze kwadratowe. Jeśli się nad tym zastanowić, ograniczenie to ma sens: gdybyśmy przeprowadzali transformację redukującą liczbę wymiarów, to część informacji zostałaby utracona i nie mielibyśmy możliwości jej odzyskania. Załóżmy, na przykład, że wykorzystujemy macierz o rozmiarze $2 \\times 3$ do rzutowania trójwymiarowego na płaszczyznę. Wyglądałoby to następująco:"
   ]
  },
  {
   "cell_type": "code",
   "execution_count": 104,
   "metadata": {
    "collapsed": false
   },
   "outputs": [
    {
     "data": {
      "image/png": "[encoded data removed]",
      "text/plain": [
       "<matplotlib.figure.Figure at 0x14038230518>"
      ]
     },
     "metadata": {},
     "output_type": "display_data"
    }
   ],
   "source": [
    "plt.plot([0, 0, 1, 1, 0, 0.1, 0.1, 0, 0.1, 1.1, 1.0, 1.1, 1.1, 1.0, 1.1, 0.1],\n",
    "         [0, 1, 1, 0, 0, 0.1, 1.1, 1.0, 1.1, 1.1, 1.0, 1.1, 0.1, 0, 0.1, 0.1],\n",
    "         \"r-\")\n",
    "plt.axis([-0.5, 2.1, -0.5, 1.5])\n",
    "plt.show()"
   ]
  },
  {
   "cell_type": "markdown",
   "metadata": {},
   "source": [
    "Patrząc na ten wykres, nie możemy jednoznacznie stwierdzić, czy patrzymy na rzut sześcianu lub wąskiego, prostopadłościennego obiektu. W wyniku rzutowania część informacji została utracona.\n",
    "\n",
    "Nawet kwadratowe macierze transformacji mogą nie przechowywać wszystkich informacji. Przyjrzyjmy się poniższej macierzy:"
   ]
  },
  {
   "cell_type": "code",
   "execution_count": 105,
   "metadata": {
    "collapsed": false
   },
   "outputs": [
    {
     "data": {
      "image/png": "[encoded data removed]",
      "text/plain": [
       "<matplotlib.figure.Figure at 0x14036ec8cc0>"
      ]
     },
     "metadata": {},
     "output_type": "display_data"
    }
   ],
   "source": [
    "F_project = np.array([\n",
    "        [1, 0],\n",
    "        [0, 0]\n",
    "    ])\n",
    "plot_transformation(P, F_project.dot(P), \"$P$\", \"$F_{rzut} \\cdot P$\",\n",
    "                    axis=[0, 6, -1, 4])\n",
    "plt.show()"
   ]
  },
  {
   "cell_type": "markdown",
   "metadata": {},
   "source": [
    "Ta macierz transformacji przeprowadza rzutowanie na oś odciętych. Nasz wielokąt zostaje całkowicie \"spłaszczony\", przez co tracimy wszystkie informacje i nie jesteśmy w stanie odtworzyć pierwotnego wielokąta za pomocą przekształcenia liniowego. Innymi słowy, nie istnieje odwrotność macierzy $F_{project}$. Nie możemy uzyskać w tym przypadku macierzy odwrotnej, dlatego nazywamy ją **macierzą osobliwą** (lub zdegenerowaną). Na próbę stworzenia jej macierzy odwrotnej moduł NumPy zareaguje w następujący sposób:"
   ]
  },
  {
   "cell_type": "code",
   "execution_count": 106,
   "metadata": {
    "collapsed": false
   },
   "outputs": [
    {
     "name": "stdout",
     "output_type": "stream",
     "text": [
      "Błąd algorytmu liniowego: Singular matrix\n"
     ]
    }
   ],
   "source": [
    "try:\n",
    "    LA.inv(F_project)\n",
    "except LA.LinAlgError as e:\n",
    "    print(\"Błąd algorytmu liniowego:\", e)"
   ]
  },
  {
   "cell_type": "markdown",
   "metadata": {},
   "source": [
    "A tu mamy jeszcze jeden przykład macierzy osobliwej. Tym razem rzutujemy nasz wielokąt na oś ułożoną pod kątem 30° w stosunku do osi odciętych:"
   ]
  },
  {
   "cell_type": "code",
   "execution_count": 107,
   "metadata": {
    "collapsed": false
   },
   "outputs": [
    {
     "data": {
      "image/png": "[encoded data removed]",
      "text/plain": [
       "<matplotlib.figure.Figure at 0x140370936a0>"
      ]
     },
     "metadata": {},
     "output_type": "display_data"
    }
   ],
   "source": [
    "angle30 = 30 * np.pi / 180\n",
    "F_project_30 = np.array([\n",
    "               [np.cos(angle30)**2, np.sin(2*angle30)/2],\n",
    "               [np.sin(2*angle30)/2, np.sin(angle30)**2]\n",
    "         ])\n",
    "plot_transformation(P, F_project_30.dot(P), \"$P$\", \"$F_{rzut\\_30} \\cdot P$\",\n",
    "                    axis=[0, 6, -1, 4])\n",
    "plt.show()"
   ]
  },
  {
   "cell_type": "markdown",
   "metadata": {},
   "source": [
    "Tym razem jednak z powodu błędów zaokrągleń zmiennoprzecinkowych modułowi NumPy udaje się obliczyć macierz odwrotną (zwróć jednak uwagę na duże wartości poszczególnych elementów):"
   ]
  },
  {
   "cell_type": "code",
   "execution_count": 108,
   "metadata": {
    "collapsed": false
   },
   "outputs": [
    {
     "data": {
      "text/plain": [
       "array([[  1.20095990e+16,  -2.08012357e+16],\n",
       "       [ -2.08012357e+16,   3.60287970e+16]])"
      ]
     },
     "execution_count": 108,
     "metadata": {},
     "output_type": "execute_result"
    }
   ],
   "source": [
    "LA.inv(F_project_30)"
   ]
  },
  {
   "cell_type": "markdown",
   "metadata": {},
   "source": [
    "Jak się można było spodziewać, iloczyn skalarny macierzy i jej odwrotności generuje macierz jednostkową:\n",
    "\n",
    "$M \\cdot M^{-1} = M^{-1} \\cdot M = I$\n",
    "\n",
    "Jest to logiczne, ponieważ przeprowadzenie transformacji liniowej, a następnie wykonanie jej odwrócenie nie powoduje ostatecznie żadnych zmian."
   ]
  },
  {
   "cell_type": "code",
   "execution_count": 109,
   "metadata": {
    "collapsed": false
   },
   "outputs": [
    {
     "data": {
      "text/plain": [
       "array([[ 1.,  0.],\n",
       "       [ 0.,  1.]])"
      ]
     },
     "execution_count": 109,
     "metadata": {},
     "output_type": "execute_result"
    }
   ],
   "source": [
    "F_shear.dot(LA.inv(F_shear))"
   ]
  },
  {
   "cell_type": "markdown",
   "metadata": {},
   "source": [
    "Możemy to wyrazić również jako inwersję macierzy odwrotnej $M$, co daje nam pierwotną macierz $M$:\n",
    "\n",
    "$((M)^{-1})^{-1} = M$"
   ]
  },
  {
   "cell_type": "code",
   "execution_count": 110,
   "metadata": {
    "collapsed": false
   },
   "outputs": [
    {
     "data": {
      "text/plain": [
       "array([[ 1. ,  1.5],\n",
       "       [ 0. ,  1. ]])"
      ]
     },
     "execution_count": 110,
     "metadata": {},
     "output_type": "execute_result"
    }
   ],
   "source": [
    "LA.inv(LA.inv(F_shear))"
   ]
  },
  {
   "cell_type": "markdown",
   "metadata": {},
   "source": [
    "Poza tym odwrotność skalowania przez współczynnik $\\lambda$ oznacza, oczywiście, skalowanie przez współczynnik $\\frac{1}{\\lambda}$:\n",
    "\n",
    "$ (\\lambda \\times M)^{-1} = \\frac{1}{\\lambda} \\times M^{-1}$\n",
    "\n",
    "Gdy zrozumiesz geometryczną interpretacją macierzy jako przekształceń liniowych, większość z tych własności staje się dość intuicyjna.\n",
    "\n",
    "Macierz będąca jednocześnie swoją odwrotnością to tak zwana macierz **inwolutywna**. Najprostsze przykłady stanowią macierz odbiciowa lub macierz obrotu o 180°, istnieją jednak bardziej złożone macierze inwolutywne; wyobraź sobie na przykład przekształcenie, które najpierw rzutuje na oś odciętych, następnie tworzy odbicie lustrzane wzdłuż osi rzędnych, po czym obraca wynik o 90° zgodnie z ruchem wskazówek zegara. Weź serwetkę i spróbuj wykonać tę czynność dwa razy: wrócisz do pozycji wyjściowej. Poniżej przedstawiam wspomnianą macierz inwolutywną:"
   ]
  },
  {
   "cell_type": "code",
   "execution_count": 111,
   "metadata": {
    "collapsed": false
   },
   "outputs": [
    {
     "data": {
      "image/png": "[encoded data removed]",
      "text/plain": [
       "<matplotlib.figure.Figure at 0x14036af01d0>"
      ]
     },
     "metadata": {},
     "output_type": "display_data"
    }
   ],
   "source": [
    "F_involution  = np.array([\n",
    "        [0, -2],\n",
    "        [-1/2, 0]\n",
    "    ])\n",
    "plot_transformation(P, F_involution.dot(P), \"$P$\", \"$F_{inwolucja} \\cdot P$\",\n",
    "                    axis=[-8, 5, -4, 4])\n",
    "plt.show()"
   ]
  },
  {
   "cell_type": "markdown",
   "metadata": {},
   "source": [
    "Jeszcze jednym rodzajem macierzy kwadratowej $H$, której odwrotność stanowi jej transpozycję, jest **macierz ortogonalna**:\n",
    "\n",
    "$H^{-1} = H^T$\n",
    "\n",
    "Zatem:\n",
    "\n",
    "$H \\cdot H^T = H^T \\cdot H = I$\n",
    "\n",
    "W ujęciu geometrycznym odpowiada ona przekształceniu zachowującemu odległości, czyli np. obrotom, odbiciom czy połączeniom tych transformacji, ale nie skalowaniu, powinowactwu osiowemu czy ściskowemu. Sprawdźmy, czy macierz $F_{odbicie}$ jest w istocie ortogonalna:"
   ]
  },
  {
   "cell_type": "code",
   "execution_count": 112,
   "metadata": {
    "collapsed": false
   },
   "outputs": [
    {
     "data": {
      "text/plain": [
       "array([[1, 0],\n",
       "       [0, 1]])"
      ]
     },
     "execution_count": 112,
     "metadata": {},
     "output_type": "execute_result"
    }
   ],
   "source": [
    "F_reflect.dot(F_reflect.T)"
   ]
  },
  {
   "cell_type": "markdown",
   "metadata": {},
   "source": [
    "## Wyznacznik\n",
    "Wyznacznikiem macierzy kwadratowej $M$, zapisywanym jako $\\det(M)$ lub $\\det M$ albo $|M|$, nazywamy wartość wyliczaną z jej elementów $(M_{i,j})$ za pomocą różnych równoznacznych metod. Jedną z najprostszych metod jest podejście rekurencyjne:\n",
    "\n",
    "$|M| = M_{1,1}\\times|M^{(1,1)}| - M_{2,1}\\times|M^{(2,1)}| + M_{3,1}\\times|M^{(3,1)}| - M_{4,1}\\times|M^{(4,1)}| + \\cdots ± M_{n,1}\\times|M^{(n,1)}|$\n",
    "\n",
    "* gdzie $M^{(i,j)}$ jest macierzą $M$ bez rzędu $i$ i kolumny $j$.\n",
    "\n",
    "Na przykład, obliczmy wyznacznik następującej macierzy o rozmiarze $3 \\times 3$:\n",
    "\n",
    "$M = \\begin{bmatrix}\n",
    "  1 & 2 & 3 \\\\\n",
    "  4 & 5 & 6 \\\\\n",
    "  7 & 8 & 0\n",
    "\\end{bmatrix}$\n",
    "\n",
    "Za pomocą powyższej metody uzyskujemy:\n",
    "\n",
    "$|M| = 1 \\times \\left | \\begin{bmatrix} 5 & 6 \\\\ 8 & 0 \\end{bmatrix} \\right |\n",
    "     - 2 \\times \\left | \\begin{bmatrix} 4 & 6 \\\\ 7 & 0 \\end{bmatrix} \\right |\n",
    "     + 3 \\times \\left | \\begin{bmatrix} 4 & 5 \\\\ 7 & 8 \\end{bmatrix} \\right |$\n",
    "\n",
    "Teraz musimy obliczyć wyznacznik każdej z tych macierzy o rozmiarze $2 \\times 2$ (wyznaczniki te są nazywane **minorami**):\n",
    "\n",
    "$\\left | \\begin{bmatrix} 5 & 6 \\\\ 8 & 0 \\end{bmatrix} \\right | = 5 \\times 0 - 6 \\times 8 = -48$\n",
    "\n",
    "$\\left | \\begin{bmatrix} 4 & 6 \\\\ 7 & 0 \\end{bmatrix} \\right | = 4 \\times 0 - 6 \\times 7 = -42$\n",
    "\n",
    "$\\left | \\begin{bmatrix} 4 & 5 \\\\ 7 & 8 \\end{bmatrix} \\right | = 4 \\times 8 - 5 \\times 7 = -3$\n",
    "\n",
    "A teraz czas obliczyć ostateczny wynik:\n",
    "\n",
    "$|M| = 1 \\times (-48) - 2 \\times (-42) + 3 \\times (-3) = 27$"
   ]
  },
  {
   "cell_type": "markdown",
   "metadata": {},
   "source": [
    "Aby obliczyć wyznacznik macierzy, możesz skorzystać z funkcji `det` dostępnej w module `numpy.linalg`:"
   ]
  },
  {
   "cell_type": "code",
   "execution_count": 113,
   "metadata": {
    "collapsed": false
   },
   "outputs": [
    {
     "data": {
      "text/plain": [
       "27.0"
      ]
     },
     "execution_count": 113,
     "metadata": {},
     "output_type": "execute_result"
    }
   ],
   "source": [
    "M = np.array([\n",
    "        [1, 2, 3],\n",
    "        [4, 5, 6],\n",
    "        [7, 8, 0]\n",
    "    ])\n",
    "LA.det(M)"
   ]
  },
  {
   "cell_type": "markdown",
   "metadata": {},
   "source": [
    "Jednym z głównych zastosowań wyznaczników jest *wyznaczanie* odwracalności macierzy: jeżeli wartość wyznacznika jest równa 0, to macierzy *nie można* odwrócić (jest macierzą osobliwą), w przeciwnym wypadku *można* uzyskać jej macierz odwrotną.\n",
    "\n",
    "Obliczmy, na przykład, wyznaczniki zdefiniowanych wcześniej macierzy $F_{rzut}$, $F_{rzut\\_30}$ and $F_{pow. os.}$:"
   ]
  },
  {
   "cell_type": "code",
   "execution_count": 114,
   "metadata": {
    "collapsed": false
   },
   "outputs": [
    {
     "data": {
      "text/plain": [
       "0.0"
      ]
     },
     "execution_count": 114,
     "metadata": {},
     "output_type": "execute_result"
    }
   ],
   "source": [
    "LA.det(F_project)"
   ]
  },
  {
   "cell_type": "markdown",
   "metadata": {},
   "source": [
    "Zgadza się, macierz $F_{rzut}$ jest osobliwa, ale o tym już wiemy."
   ]
  },
  {
   "cell_type": "code",
   "execution_count": 115,
   "metadata": {
    "collapsed": false
   },
   "outputs": [
    {
     "data": {
      "text/plain": [
       "2.0816681711721642e-17"
      ]
     },
     "execution_count": 115,
     "metadata": {},
     "output_type": "execute_result"
    }
   ],
   "source": [
    "LA.det(F_project_30)"
   ]
  },
  {
   "cell_type": "markdown",
   "metadata": {},
   "source": [
    "Wyznacznik ten jest podejrzanie bliski zeru: w rzeczywistości jego wartość powinna wynosić 0, ale wpływ tu mają drobne błędy zmiennoprzecinkowe. Macierz ta jest w istocie osobliwa."
   ]
  },
  {
   "cell_type": "code",
   "execution_count": 116,
   "metadata": {
    "collapsed": false
   },
   "outputs": [
    {
     "data": {
      "text/plain": [
       "1.0"
      ]
     },
     "execution_count": 116,
     "metadata": {},
     "output_type": "execute_result"
    }
   ],
   "source": [
    "LA.det(F_shear)"
   ]
  },
  {
   "cell_type": "markdown",
   "metadata": {},
   "source": [
    "Doskonale! Jak już się wcześniej przekonaliśmy, macierz ta *może* zostać odwrócona. Wow, matematyka naprawdę działa!"
   ]
  },
  {
   "cell_type": "markdown",
   "metadata": {},
   "source": [
    "Możemy również wykorzystać wyznacznik do pomiaru wpływu przekształcenia liniowego na obszary powierzchniowe: na przykład macierze rzutowania $F_{rzut}$ and $F_{rzut\\_30}$ zupełnie \"spłaszczają\" wielokąt $P$ aż do wyzerowania jego powierzchni. Dlatego właśnie wyznaczniki tych macierzy mają wartość 0. Powinowactwo osiowe zmodyfikowało kształt wielokąta, ale nie wpłynęło na jego obszar powierzchni, dlatego wyznacznik tej macierzy jest równy 1. Możesz również spróbować obliczyć wyznacznik macierzy obrotu i także tutaj powinnaś/powinieneś otrzymać wartość 1. A co w przypadku macierzy skalowania? Sprawdźmy:"
   ]
  },
  {
   "cell_type": "code",
   "execution_count": 117,
   "metadata": {
    "collapsed": false
   },
   "outputs": [
    {
     "data": {
      "image/png": "[encoded data removed]",
      "text/plain": [
       "<matplotlib.figure.Figure at 0x14036d53978>"
      ]
     },
     "metadata": {},
     "output_type": "display_data"
    }
   ],
   "source": [
    "F_scale = np.array([\n",
    "        [0.5, 0],\n",
    "        [0, 0.5]\n",
    "    ])\n",
    "plot_transformation(P, F_scale.dot(P), \"$P$\", \"$F_{skala} \\cdot P$\",\n",
    "                    axis=[0, 6, -1, 4])\n",
    "plt.show()"
   ]
  },
  {
   "cell_type": "markdown",
   "metadata": {},
   "source": [
    "Przeskalowaliśmy wielokąt o współczynnik 1/2 zarówno względem osi odciętych, jak i rzędnych, zatem powierzchnia wielokąta wynikowego stanowi 1/4 pierwotnej figury. Obliczmy wyznacznik macierzy skalowania i zobaczmy, co otrzymamy:"
   ]
  },
  {
   "cell_type": "code",
   "execution_count": 118,
   "metadata": {
    "collapsed": false
   },
   "outputs": [
    {
     "data": {
      "text/plain": [
       "0.25"
      ]
     },
     "execution_count": 118,
     "metadata": {},
     "output_type": "execute_result"
    }
   ],
   "source": [
    "LA.det(F_scale)"
   ]
  },
  {
   "cell_type": "markdown",
   "metadata": {},
   "source": [
    "Zgadza sie!\n",
    "\n",
    "Wyznacznik może również mieć ujemną wartość, gdy przekształcenie skutkuje \"przekręconą\" wersją pierwotnego wielokąta (np. lewa rękawiczka staje się prawą). Na przykład wyznacznik macierzy `F_odbicie` ma wartość -1, ponieważ powierzchnia figury nie ulega zmianie, ale sama figura zostaje odwrócona:"
   ]
  },
  {
   "cell_type": "code",
   "execution_count": 119,
   "metadata": {
    "collapsed": false
   },
   "outputs": [
    {
     "data": {
      "text/plain": [
       "-1.0"
      ]
     },
     "execution_count": 119,
     "metadata": {},
     "output_type": "execute_result"
    }
   ],
   "source": [
    "LA.det(F_reflect)"
   ]
  },
  {
   "cell_type": "markdown",
   "metadata": {},
   "source": [
    "## Łączenie przekształceń liniowych\n",
    "Możemy powiązać kilka przekształceń liniowych poprzez obliczenie wielu iloczynów skalarnych pod rząd. Gdybyśmy, na przykład, chcieli najpierw wykonać powinowactwo ściskowe, a po nim osiowe, wystarczy napisać:"
   ]
  },
  {
   "cell_type": "code",
   "execution_count": 120,
   "metadata": {
    "collapsed": true
   },
   "outputs": [],
   "source": [
    "P_squeezed_then_sheared = F_shear.dot(F_squeeze.dot(P))"
   ]
  },
  {
   "cell_type": "markdown",
   "metadata": {},
   "source": [
    "Iloczyn skalarny jest łączny, dlatego możemy również zapisać:"
   ]
  },
  {
   "cell_type": "code",
   "execution_count": 121,
   "metadata": {
    "collapsed": true
   },
   "outputs": [],
   "source": [
    "P_squeezed_then_sheared = (F_shear.dot(F_squeeze)).dot(P)"
   ]
  },
  {
   "cell_type": "markdown",
   "metadata": {},
   "source": [
    "Zwróć uwagę, że kolejność przekształceń stanowi odwrotność kolejności iloczynu skalarnego.\n",
    "\n",
    "Jeśli zamierzamy przeprowadzać wielokrotnie takie połączone przekształcenia liniowe, moglibyśmy również naszą macierz złożoną zachować w następujący sposób:"
   ]
  },
  {
   "cell_type": "code",
   "execution_count": 122,
   "metadata": {
    "collapsed": true
   },
   "outputs": [],
   "source": [
    "F_squeeze_then_shear = F_shear.dot(F_squeeze)\n",
    "P_squeezed_then_sheared = F_squeeze_then_shear.dot(P)"
   ]
  },
  {
   "cell_type": "markdown",
   "metadata": {},
   "source": [
    "Od teraz obydwa przekształcenia będą przeprowadzane za pomocą tylko jednego iloczynu skalarnego, co prowadzi do znacznego wzrostu wydajności."
   ]
  },
  {
   "cell_type": "markdown",
   "metadata": {},
   "source": [
    "A gdybyśmy chcieli wykonać odwrotne przekształcenie naszej podwójnej transformacji? Jest dość oczywiste, że jeśli najpierw ścisnęliśmy, a później wprowadziliśmy powinowactwo osiowe, to należałoby wykonać odwrotne operacje w odwrotnej kolejności. W ujęciu matematycznym, mając dwie odwracalne (czyli nieosobliwe) macierze $Q$ i $R$:\n",
    "\n",
    "$(Q \\cdot R)^{-1} = R^{-1} \\cdot Q^{-1}$\n",
    "\n",
    "A w module NumPy wyglądałoby to tak:"
   ]
  },
  {
   "cell_type": "code",
   "execution_count": 123,
   "metadata": {
    "collapsed": false
   },
   "outputs": [
    {
     "data": {
      "text/plain": [
       "array([[ True,  True],\n",
       "       [ True,  True]], dtype=bool)"
      ]
     },
     "execution_count": 123,
     "metadata": {},
     "output_type": "execute_result"
    }
   ],
   "source": [
    "LA.inv(F_shear.dot(F_squeeze)) == LA.inv(F_squeeze).dot(LA.inv(F_shear))"
   ]
  },
  {
   "cell_type": "markdown",
   "metadata": {},
   "source": [
    "## Rozkład według wartości osobliwych\n",
    "Okazuje się, że dowolna macierz $M$ o rozmiarze $m \\times n$ może być rozłożona na iloczyn skalarny trzech prostych macierzy: \n",
    "* macierz obrotu $U$ (macierz ortogonalną o rozmiarach $m \\times m$)\n",
    "* macierz skalowania i rzutowania $\\Sigma$ (macierz diagonalna o rozmiarza $m \\times n$)\n",
    "* i jeszcze jedną macierz obrotu $V^T$ (macierz ortogonalna o rozmiarze $n \\times n$)\n",
    "\n",
    "$M = U \\cdot \\Sigma \\cdot V^{T}$\n",
    "\n",
    "Rozłóżmy, na przykład macierz powinowactwa osiowego:"
   ]
  },
  {
   "cell_type": "code",
   "execution_count": 124,
   "metadata": {
    "collapsed": false
   },
   "outputs": [
    {
     "data": {
      "text/plain": [
       "array([[ 0.89442719, -0.4472136 ],\n",
       "       [ 0.4472136 ,  0.89442719]])"
      ]
     },
     "execution_count": 124,
     "metadata": {},
     "output_type": "execute_result"
    }
   ],
   "source": [
    "U, S_diag, V_T = LA.svd(F_shear) # uwaga: w środowisku python 3 możesz przemianować S_diag na Σ_diag\n",
    "U"
   ]
  },
  {
   "cell_type": "code",
   "execution_count": 125,
   "metadata": {
    "collapsed": false
   },
   "outputs": [
    {
     "data": {
      "text/plain": [
       "array([ 2. ,  0.5])"
      ]
     },
     "execution_count": 125,
     "metadata": {},
     "output_type": "execute_result"
    }
   ],
   "source": [
    "S_diag"
   ]
  },
  {
   "cell_type": "markdown",
   "metadata": {},
   "source": [
    "Zwróć uwagę, że otrzymujemy jedynie jednowymiarową tablicę zawierającą wartości przekątnej z macierzy Σ. Aby uzyskać właściwą macierz Σ, skorzystamy z funkcji `diag`:"
   ]
  },
  {
   "cell_type": "code",
   "execution_count": 126,
   "metadata": {
    "collapsed": false
   },
   "outputs": [
    {
     "data": {
      "text/plain": [
       "array([[ 2. ,  0. ],\n",
       "       [ 0. ,  0.5]])"
      ]
     },
     "execution_count": 126,
     "metadata": {},
     "output_type": "execute_result"
    }
   ],
   "source": [
    "S = np.diag(S_diag)\n",
    "S"
   ]
  },
  {
   "cell_type": "markdown",
   "metadata": {},
   "source": [
    "Sprawdźmy teraz, czy iloczyn $U \\cdot \\Sigma \\cdot V^T$ jest rzeczywiście równy macierzy `F_pow. os.`:"
   ]
  },
  {
   "cell_type": "code",
   "execution_count": 127,
   "metadata": {
    "collapsed": false
   },
   "outputs": [
    {
     "data": {
      "text/plain": [
       "array([[ 1. ,  1.5],\n",
       "       [ 0. ,  1. ]])"
      ]
     },
     "execution_count": 127,
     "metadata": {},
     "output_type": "execute_result"
    }
   ],
   "source": [
    "U.dot(np.diag(S_diag)).dot(V_T)"
   ]
  },
  {
   "cell_type": "code",
   "execution_count": 128,
   "metadata": {
    "collapsed": false
   },
   "outputs": [
    {
     "data": {
      "text/plain": [
       "array([[ 1. ,  1.5],\n",
       "       [ 0. ,  1. ]])"
      ]
     },
     "execution_count": 128,
     "metadata": {},
     "output_type": "execute_result"
    }
   ],
   "source": [
    "F_shear"
   ]
  },
  {
   "cell_type": "markdown",
   "metadata": {},
   "source": [
    "Zadziałało jak marzenie. Przeprowadźmy po kolei przekształcenia składowe (w odwrotnej kolejności) na kwadracie jednostkowym, aby zrozumieć, co tu się właściwie dzieje. Najpierw wykonajmy pierwszą rotację: $V^T$:"
   ]
  },
  {
   "cell_type": "code",
   "execution_count": 129,
   "metadata": {
    "collapsed": false
   },
   "outputs": [
    {
     "data": {
      "image/png": "[encoded data removed]",
      "text/plain": [
       "<matplotlib.figure.Figure at 0x140370d29e8>"
      ]
     },
     "metadata": {},
     "output_type": "display_data"
    }
   ],
   "source": [
    "plot_transformation(Square, V_T.dot(Square), \"$Kwadrat$\", \"$V^T \\cdot Kwadrat$\",\n",
    "                    axis=[-0.5, 3.5 , -1.5, 1.5])\n",
    "plt.show()"
   ]
  },
  {
   "cell_type": "markdown",
   "metadata": {},
   "source": [
    "Teraz przeskalujmy tę figurę względem osi rzędnych i odciętych za pomocą macierzy $\\Sigma$:"
   ]
  },
  {
   "cell_type": "code",
   "execution_count": 130,
   "metadata": {
    "collapsed": false
   },
   "outputs": [
    {
     "data": {
      "image/png": "[encoded data removed]",
      "text/plain": [
       "<matplotlib.figure.Figure at 0x14036fab400>"
      ]
     },
     "metadata": {},
     "output_type": "display_data"
    }
   ],
   "source": [
    "plot_transformation(V_T.dot(Square), S.dot(V_T).dot(Square), \"$V^T \\cdot Kwadrat$\", \"$\\Sigma \\cdot V^T \\cdot Kwadrat$\",\n",
    "                    axis=[-0.5, 3.5 , -1.5, 1.5])\n",
    "plt.show()"
   ]
  },
  {
   "cell_type": "markdown",
   "metadata": {},
   "source": [
    "Teraz wykonujemy drugi obrót $U$:"
   ]
  },
  {
   "cell_type": "code",
   "execution_count": 131,
   "metadata": {
    "collapsed": false
   },
   "outputs": [
    {
     "data": {
      "image/png": "[encoded data removed]",
      "text/plain": [
       "<matplotlib.figure.Figure at 0x14036cf5198>"
      ]
     },
     "metadata": {},
     "output_type": "display_data"
    }
   ],
   "source": [
    "plot_transformation(S.dot(V_T).dot(Square), U.dot(S).dot(V_T).dot(Square),\"$\\Sigma \\cdot V^T \\cdot Kwadrat$\", \"$U \\cdot \\Sigma \\cdot V^T \\cdot Kwadrat$\",\n",
    "                    axis=[-0.5, 3.5 , -1.5, 1.5])\n",
    "plt.show()"
   ]
  },
  {
   "cell_type": "markdown",
   "metadata": {},
   "source": [
    "Jak widać, w rezultacie rzeczywiście otrzymujemy powinowactwo osiowe pierwotnego kwadratu jednostkowego."
   ]
  },
  {
   "cell_type": "markdown",
   "metadata": {},
   "source": [
    "## Wektory własne i wartości własne\n",
    "**Wektorem własnym** (zwanym także **wektorem charakterystycznym**) macierzy kwadratowej $M$ nazywamy wektor niezerowy niezmieniający swojego kierunku po przekształceniu liniowym zdefiniowanym przez macierz $M$. Zgodnie z bardziej formalną definicją jest to dowolny wektor $v$, który\n",
    "\n",
    "$M \\cdot v = \\lambda \\times v$\n",
    "\n",
    "gdzie $\\lambda$ jest wielkością skalarną zwaną **wartością własną**, powiązaną z wektorm $v$.\n",
    "\n",
    "Na przykład każdy wektor poziomy pozostaje taki po zastosowaniu powinowactwa osiowego (co widać na powyższym wykresie), zatem jest on wektorem własnym przekształcenia $M$. Wektor pionowy zostaje nieco przechylony w prawo, zatem wektory pionowe *NIE SĄ* wektorami własnymi macierzy $M$.\n",
    "\n",
    "Jeśli przyjrzymy się powinowactwu ściskowemu, zauważymy, że zarówno wektor poziomy, jak i pionowy nie zmieniają kierunku (chociaż ich moduł zostaje powiększony), zatem w tym przypadku wszystkie wektory poziome i pionowe są wektorami własnymi macierzy $F_{pow. ścisk.}$.\n",
    "\n",
    "Jednak macierze obrotu w ogóle nie zawierają wektorów własnych (za wyjątkiem obrotu o 0° lub 180° - w takiej sytuacji wszystkie wektory niezerowe są wektorami własnymi).\n",
    "\n",
    "Funkcja `eig` modułu NumPy zwraa listę jednostkowych wektorów własnych i odpowiadające im wartości własne dla dowolnej macierzy kwadratowej. Przyjrzyjmy się wektorom własnym i wartościom włsnym macierzy powinowactwa ściskowego $F_{pow. ścisk.}$:"
   ]
  },
  {
   "cell_type": "code",
   "execution_count": 132,
   "metadata": {
    "collapsed": false
   },
   "outputs": [
    {
     "data": {
      "text/plain": [
       "array([ 1.4       ,  0.71428571])"
      ]
     },
     "execution_count": 132,
     "metadata": {},
     "output_type": "execute_result"
    }
   ],
   "source": [
    "eigenvalues, eigenvectors = LA.eig(F_squeeze)\n",
    "eigenvalues # [λ0, λ1, …]"
   ]
  },
  {
   "cell_type": "code",
   "execution_count": 133,
   "metadata": {
    "collapsed": false
   },
   "outputs": [
    {
     "data": {
      "text/plain": [
       "array([[ 1.,  0.],\n",
       "       [ 0.,  1.]])"
      ]
     },
     "execution_count": 133,
     "metadata": {},
     "output_type": "execute_result"
    }
   ],
   "source": [
    "eigenvectors # [v0, v1, …]"
   ]
  },
  {
   "cell_type": "markdown",
   "metadata": {},
   "source": [
    "Rzeczywiście, wektory poziome są rozciągnięte o współczynnik 1,4, natomiast wektory pionowe są z zmniejszone o 1/1,4=0,714… Jak na razie całkiem nieźle. Sprawdźmy macierz powinowactwa osiowego $F_{pow. os.}$:"
   ]
  },
  {
   "cell_type": "code",
   "execution_count": 134,
   "metadata": {
    "collapsed": false
   },
   "outputs": [
    {
     "data": {
      "text/plain": [
       "array([ 1.,  1.])"
      ]
     },
     "execution_count": 134,
     "metadata": {},
     "output_type": "execute_result"
    }
   ],
   "source": [
    "eigenvalues2, eigenvectors2 = LA.eig(F_shear)\n",
    "eigenvalues2 # [λ0, λ1, …]"
   ]
  },
  {
   "cell_type": "code",
   "execution_count": 135,
   "metadata": {
    "collapsed": false
   },
   "outputs": [
    {
     "data": {
      "text/plain": [
       "array([[  1.00000000e+00,  -1.00000000e+00],\n",
       "       [  0.00000000e+00,   1.48029737e-16]])"
      ]
     },
     "execution_count": 135,
     "metadata": {},
     "output_type": "execute_result"
    }
   ],
   "source": [
    "eigenvectors2 # [v0, v1, …]"
   ]
  },
  {
   "cell_type": "markdown",
   "metadata": {},
   "source": [
    "Chwileczkę, co!? Spodziewaliśmy się tylko jednego jednostkowego wektora własnego, a nie dwóch. Drugi wektor jest niemal równy  $\\begin{pmatrix}-1 \\\\ 0 \\end{pmatrix}$, czyli znajduje się niemal w tej samej linii, co pierwszy wektor $\\begin{pmatrix}1 \\\\ 0 \\end{pmatrix}$. Wynika to z błędów zmiennoprzecinkowych. Możemy spokojnie ignorować wektory, które są (niemal) współliniowe (tzn. znajdują się w jednej linii)."
   ]
  },
  {
   "cell_type": "markdown",
   "metadata": {},
   "source": [
    "## Ślad\n",
    "Śladem macierzy kwadratowej $M$, (zapisywanym jako $tr(M)$) nazywamy sumę wartości znajdujących się w jej głównej przekątnej. Na przykład:"
   ]
  },
  {
   "cell_type": "code",
   "execution_count": 136,
   "metadata": {
    "collapsed": false
   },
   "outputs": [
    {
     "data": {
      "text/plain": [
       "123"
      ]
     },
     "execution_count": 136,
     "metadata": {},
     "output_type": "execute_result"
    }
   ],
   "source": [
    "D = np.array([\n",
    "        [100, 200, 300],\n",
    "        [ 10,  20,  30],\n",
    "        [  1,   2,   3],\n",
    "    ])\n",
    "np.trace(D)"
   ]
  },
  {
   "cell_type": "markdown",
   "metadata": {},
   "source": [
    "Ślad nie ma (przeważnie) prostej interpretacji geometrycznej, jednak cechuje kilka własności, dzięki którym okazuje się przydatny w wielu dziedzinach: \n",
    "* $tr(A + B) = tr(A) + tr(B)$\n",
    "* $tr(A \\cdot B) = tr(B \\cdot A)$\n",
    "* $tr(A \\cdot B \\cdot \\cdots \\cdot Y \\cdot Z) = tr(Z \\cdot A \\cdot B \\cdot \\cdots \\cdot Y)$\n",
    "* $tr(A^T \\cdot B) = tr(A \\cdot B^T) = tr(B^T \\cdot A) = tr(B \\cdot A^T) = \\sum_{i,j}X_{i,j} \\times Y_{i,j}$\n",
    "* …\n",
    "\n",
    "Jednak ślad ma jedną bardzo istotną interpretację geomretryczną w przypadku macierzy rzutowania (takich jak np. omówiona wcześniej macierz $F_{rzut}$): odpowiada on liczbie wymiarów po rzutowaniu. Przykładowo:"
   ]
  },
  {
   "cell_type": "code",
   "execution_count": 137,
   "metadata": {
    "collapsed": false
   },
   "outputs": [
    {
     "data": {
      "text/plain": [
       "1"
      ]
     },
     "execution_count": 137,
     "metadata": {},
     "output_type": "execute_result"
    }
   ],
   "source": [
    "np.trace(F_project)"
   ]
  },
  {
   "cell_type": "markdown",
   "metadata": {},
   "source": [
    "# Co dalej?\n",
    "Na tym zakończymy wprowadzenie do algebry liniowej. Zawarte tu podstawy stanowią większość wiedzy potrzebnej w dziedzinie uczenia maszynowego, jeśli jednak chcesz bardziej zgłębić tajniki wektorów i macierzy, masz wiele możliwości: [literaturę](http://visual.icse.us.edu.pl/LA/literatura.html), wykłady w serwisie [Khan Academy](https://pl.khanacademy.org/math/linear-algebra) czy nawet strony [Wikipedii](https://en.wikipedia.org/wiki/Linear_algebra). "
   ]
  },
  {
   "cell_type": "code",
   "execution_count": null,
   "metadata": {
    "collapsed": true
   },
   "outputs": [],
   "source": []
  }
 ],
 "metadata": {
  "kernelspec": {
   "display_name": "Python 3",
   "language": "python",
   "name": "python3"
  },
  "language_info": {
   "codemirror_mode": {
    "name": "ipython",
    "version": 3
   },
   "file_extension": ".py",
   "mimetype": "text/x-python",
   "name": "python",
   "nbconvert_exporter": "python",
   "pygments_lexer": "ipython3",
   "version": "3.6.0"
  },
  "toc": {
   "toc_cell": false,
   "toc_number_sections": true,
   "toc_threshold": 6,
   "toc_window_display": false
  }
 },
 "nbformat": 4,
 "nbformat_minor": 1
}
