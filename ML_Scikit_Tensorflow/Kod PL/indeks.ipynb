{
 "cells": [
  {
   "cell_type": "markdown",
   "metadata": {},
   "source": [
    "# Notatniki uczenia maszynowego\n",
    "\n",
    "*Witaj w notatnika uczenia maszynowego!*\n",
    "\n",
    "[Wymogi wstępne](#Wymogi-wstępne) (patrz niżej)\n",
    "\n",
    "## Notatniki\n",
    "1. [Krajobraz uczenia maszynowego](01_krajobraz_uczenia_maszynowego.ipynb)\n",
    "2. [Nasz pierwszy projekt uczenia maszynowego](02_nasz_pierwszy_projekt_uczenia_maszynowego.ipynb)\n",
    "3. [Klasyfikacja](03_klasyfikacja.ipynb)\n",
    "4. [Uczenie modeli liniowych](04_uczenie_modeli_liniowych.ipynb)\n",
    "5. [Maszyny wektorów nośnych](05_maszyny_wektorów_nośnych.ipynb)\n",
    "6. [Drzewa decyzyjne](06_drzewa_decyzyjne.ipynb)\n",
    "7. [Uczenie zespołowe i losowe lasy](07_uczenie_zespołowe_i_losowe_lasy.ipynb)\n",
    "8. [Redukcja wymiarowości](08_redukcja_wymiarowości.ipynb)\n",
    "9. [Instalacja i korzystanie z modułu TensorFlow](09_instalacja_i_korzystanie_z_modułu_tensorflow.ipynb)\n",
    "10. [Wprowadzenie do sztucznych sieci neuronowych](10_wprowadzenie_do_sztucznych_sieci_neuronowych.ipynb)\n",
    "11. [Uczenie głębokie](11_uczenie_głębokie.ipynb)\n",
    "12. [Rozdzielanie operacji TensorFlow pomiędzy urządzenia i serwery](12_rozdzielanie_operacji_TensorFlow_pomiędzy_urządzenia_i_serwery.ipynb)\n",
    "13. [Splotowe sieci neuronowe](13_splotowe_sieci_neuronowe.ipynb)\n",
    "14. [Rekurencyjne sieci neuronowe](14_rekurencyjne_sieci_neuronowe.ipynb)\n",
    "15. [Autokodery](15_autokodery.ipynb)\n",
    "16. [Uczenie przez wzmacnianie](16_uczenie_przez_wzmacnianie.ipynb)\n",
    "\n",
    "## Samouczki głównych modułów naukowych\n",
    "* [NumPy](narzędzia_numpy.ipynb)\n",
    "* [Matplotlib](narzędzia_matplotlib.ipynb)\n",
    "* [Pandas](narzędzia_pandas.ipynb)\n",
    "\n",
    "## Samouczki matematyczne\n",
    "* [Algebra liniowa](algebra_liniowa.ipynb)\n",
    "* Analiza matematyczna (wkrótce)\n",
    "\n",
    "## Materiały dodatkowe\n",
    "* [Sieci kapsułowe](sieci_kapsułowe.ipynb)\n",
    "\n",
    "## Różne\n",
    "* [Równania](równania.ipynb) (lista równań występujących w książce)\n"
   ]
  },
  {
   "cell_type": "markdown",
   "metadata": {
    "collapsed": true
   },
   "source": [
    "## Wymogi wstępne\n",
    "### Do rozumienia\n",
    "* **Python** – nie musisz być profesjonalnym programistą w języku Python, ale musisz znać podstawy. Jeśli ich nie znasz, dobrym miejscem do zdobycia wiedzy jest [oficjalny samouczek](https://docs.python.org/3/tutorial/).\n",
    "* **Biblioteki naukowe** – będziemy korzystać z kilku popularnych bibliotek środowiska Python, w szczególności z bibliotek NumPy, matplotlib i pandas. Jeśli ich nie znasz, warto było rozpocząć przeglądanie materiałów od samouczków poświęconym tym modułom (dotyczy to zwłaszcza biblioteki NumPy).\n",
    "* **Matematyka** – Będziemt również korzystać z notacji używanej w algebrze liniowej, analizie matematycznej, statystyce i teori prawdopodobieństwa. Nie stosuję tu skomplikowanej terminologii, dlatego osoby mające kiedyś kontakt z tymi przedmiotami nie powinny mieć problemu, jeśli jednak nie miałaś/miałeś do czynienia z tymi dziedzinami lub musisz poświęcić chwilę na ich przypomnienie, zajrzyj do notatnika stanowiącego wprowadzenie do tego tematu.\n",
    "\n",
    "### Do uruchamiania przykładów\n",
    "* **Jupyter** – Niniejsze notatniki bazują na środowisku Jupyter. Jeśli zamierzasz zapoznawać się z informacjami bez potrzeby uruchamiania kodu, to nie musisz wiedzieć nic więcej; zapraszam do lektury! Jeżeli jednak zamierzasz eksperymentować z przykładami umieszczonymi w notatnikach, to musisz:\n",
    "    * postępować zgodnie z [instrukcjami instalacji](CZYTAJ.md),\n",
    "    * nauczyć się obsługi środowiska Jupyter. Rozpocznij od opcji User Interface Tour dostępnej w menu Help.\n",
    "\n",
    "### Do aktywacji rozszerzeń\n",
    "* Jeżeli jest to sesja interaktywna (patrz wyżej), możesz chcieć włączyć kilka rozszerzeń aplikacji Jupyter, które znajdziesz na stronie [Extension Configuration](../nbextensions/). Szczególnie przydatne okazuje się rozszerzenie \"*Table of Contents (2)*\".\n"
   ]
  },
  {
   "cell_type": "code",
   "execution_count": null,
   "metadata": {
    "collapsed": true
   },
   "outputs": [],
   "source": []
  }
 ],
 "metadata": {
  "kernelspec": {
   "display_name": "Python 3",
   "language": "python",
   "name": "python3"
  },
  "language_info": {
   "codemirror_mode": {
    "name": "ipython",
    "version": 3
   },
   "file_extension": ".py",
   "mimetype": "text/x-python",
   "name": "python",
   "nbconvert_exporter": "python",
   "pygments_lexer": "ipython3",
   "version": "3.6.0"
  },
  "nav_menu": {},
  "toc": {
   "navigate_menu": true,
   "number_sections": true,
   "sideBar": true,
   "threshold": 6,
   "toc_cell": false,
   "toc_section_display": "block",
   "toc_window_display": false
  }
 },
 "nbformat": 4,
 "nbformat_minor": 1
}
